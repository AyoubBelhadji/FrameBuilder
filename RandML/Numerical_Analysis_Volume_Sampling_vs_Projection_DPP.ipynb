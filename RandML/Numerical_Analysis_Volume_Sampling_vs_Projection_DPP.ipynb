{
 "cells": [
  {
   "cell_type": "markdown",
   "metadata": {},
   "source": [
    "# Volume Sampling vs projection DPP for low rank approximation\n",
    "## Introduction\n",
    "#### In this notebook we compare the volume sampling and projection DPP for low rank approximation.\n",
    "We recall the result proved in the article [DRVW]:\\\\\n",
    "Let S be a random subset of k columns of X chosen with probability: $$P(S) = \\frac{1}{Z_{k}} det(X_{.,S}^{T}X_{.,S})$$ with $$Z_{k} = \\sum\\limits_{S \\subset [N], |S| = k} det(X_{.,S}^{T}X_{.,S})$$\n",
    "Then\n",
    "$$\\begin{equation}\n",
    "E(\\| X - \\pi_{X_{.,S}}(X) \\|_{Fr}^{2}) \\leq (k+1)\\| X - \\pi_{k}(X) \\|_{Fr}^{2}\n",
    "\\end{equation}$$\n",
    "\n",
    "\n",
    "We can prove that the volume sampling distribution is a mixture of projection DPPs distributions..., in particular one projection DPP distribution stands out for the problem of low rank approximation: ....\\\\\n",
    "For the moment, there is no analytical expression for $$\\begin{equation}\n",
    "E(\\| X - \\pi_{X_{.,S}}(X) \\|_{Fr}^{2}) \n",
    "\\end{equation}$$ under the distribution of projection DPP.\\\\\n",
    "However, we can calculate this quantity using simulation on some matrices representing cloud points with some specific geometric constraints.\n",
    "\n",
    "Let $$X \\in R^{n \\times m}$$ a matrix representing a cloud of points.\n",
    "We can write the SVD of $$X = UDV^{T}$$  \n",
    "In this notebook we investigate the influence of some structures enforced to V and D on the expected error expressed above for different algorithms: Volume Sampling, Projection DPP and the deterministic algorithm.  \n",
    "As for the Volume Sampling distribution, we can express the expected approximation error using only the elements of D. We can test this theoretical property in the next Numerical Study below. However, there is no closed formula (for the moment) for the expected approximation error under Projection DPP distribution. We will see in the Numerical Study section, that this value cannot depends only on the elements of D. "
   ]
  },
  {
   "cell_type": "markdown",
   "metadata": {},
   "source": [
    "#### References\n",
    "[DRVW] Deshpande, Amit and Rademacher, Luis and Vempala, Santosh and Wang, Grant - Matrix Approximation and Projective Clustering via Volume Sampling 2006\n",
    "\n",
    "[BoDr] Boutsidis, Christos and Drineas, Petros  - Deterministic and randomized column selection algorithms for matrices 2014\n",
    "\n",
    "[] INDERJIT S. DHILLON , ROBERT W. HEATH JR., MA ́TYA ́S A. SUSTIK, AND\n",
    "JOEL A. TROPP - GENERALIZED FINITE ALGORITHMS FOR CONSTRUCTING HERMITIAN MATRICES\n",
    "WITH PRESCRIBED DIAGONAL AND SPECTRUM 2005"
   ]
  },
  {
   "cell_type": "markdown",
   "metadata": {},
   "source": [
    "## I- Generating a cloud of points with geometric constraints\n",
    "In this simulation we will enforce some structure on the matrix V for two values of the matrix D. While the matrix U will be choosen randomly.  \n",
    "We want to investigate the influence of the profile of the norms of the V_k rows: the k-leverage scores. For this purpose we use an algorithm proposed in the article []: this algorithm outputs a ( dxk)  matrix Q with orthonormal columns and a prescribed profile of the norms of the rows. If we consider the Gram matrix H= QQ^{T}, this boils down to enforce the diagonal of H while keeping its spectrum containing k ones and d-k zeros.  \n",
    "The algorithm proceed as following:\n",
    "* Initialization of the matrix Q by the rectangular identity\n",
    "* Apply a Givens Rotation (of dimension d) to the matrix Q: this step will enforce the norm of a row every iteration\n",
    "* Outputs the resulting matrix when all the rows norms are enforced.\n"
   ]
  },
  {
   "cell_type": "code",
   "execution_count": 2,
   "metadata": {},
   "outputs": [
    {
     "ename": "ValueError",
     "evalue": "attempted relative import beyond top-level package",
     "output_type": "error",
     "traceback": [
      "\u001b[0;31m---------------------------------------------------------------------------\u001b[0m",
      "\u001b[0;31mValueError\u001b[0m                                Traceback (most recent call last)",
      "\u001b[0;32m<ipython-input-2-3c60bd845c94>\u001b[0m in \u001b[0;36m<module>\u001b[0;34m()\u001b[0m\n\u001b[1;32m      7\u001b[0m \u001b[0;32mimport\u001b[0m \u001b[0mmatplotlib\u001b[0m\u001b[0;34m.\u001b[0m\u001b[0mpatches\u001b[0m \u001b[0;32mas\u001b[0m \u001b[0mmpatches\u001b[0m\u001b[0;34m\u001b[0m\u001b[0m\n\u001b[1;32m      8\u001b[0m \u001b[0;32mfrom\u001b[0m \u001b[0mIPython\u001b[0m\u001b[0;34m.\u001b[0m\u001b[0mdisplay\u001b[0m \u001b[0;32mimport\u001b[0m \u001b[0mdisplay\u001b[0m\u001b[0;34m,\u001b[0m \u001b[0mHTML\u001b[0m\u001b[0;34m\u001b[0m\u001b[0m\n\u001b[0;32m----> 9\u001b[0;31m \u001b[0;32mfrom\u001b[0m \u001b[0;34m.\u001b[0m\u001b[0;34m.\u001b[0m\u001b[0mFrameBuilder\u001b[0m\u001b[0;34m.\u001b[0m\u001b[0mgivensbuilder\u001b[0m \u001b[0;32mimport\u001b[0m \u001b[0;34m*\u001b[0m\u001b[0;34m\u001b[0m\u001b[0m\n\u001b[0m",
      "\u001b[0;31mValueError\u001b[0m: attempted relative import beyond top-level package"
     ]
    }
   ],
   "source": [
    "import numpy as np\n",
    "import pandas as pd\n",
    "from itertools import combinations\n",
    "from scipy.stats import binom\n",
    "import scipy.special\n",
    "import matplotlib.pyplot as plt\n",
    "import matplotlib.patches as mpatches\n",
    "from IPython.display import display, HTML\n",
    "from ..FrameBuilder.givensbuilder import *"
   ]
  },
  {
   "cell_type": "markdown",
   "metadata": {},
   "source": [
    "### I-1- Givens Rotations generators\n",
    "These functions generate a Givens rotation "
   ]
  },
  {
   "cell_type": "code",
   "execution_count": 2,
   "metadata": {
    "collapsed": true
   },
   "outputs": [],
   "source": [
    "def t_func(q_i,q_j,q_ij,l_i,l_j): \n",
    "    # t in section 3.1 Dhillon (2005) \n",
    "    delta = np.power(q_ij,2)-(q_i-l_i)*(q_j-l_i)\n",
    "    if delta<0:\n",
    "        print(delta)\n",
    "        print(\"error sqrt\")\n",
    "    t = q_ij - np.sqrt(delta) \n",
    "    t = t/(q_j-l_i)\n",
    "    return t\n",
    "     \n",
    "def G_func(i,j,q_i,q_j,q_ij,l_i,l_j,N): \n",
    "    # Gitens Rotation \n",
    "    G=np.eye(N) \n",
    "    t = t_func(q_i,q_j,q_ij,l_i,l_j)\n",
    "    c = 1/(np.sqrt(np.power(t,2)+1))\n",
    "    s = t*c\n",
    "    G[i,i]=c\n",
    "    G[i,j]=s \n",
    "    G[j,i]= -s\n",
    "    G[j,j]= c\n",
    "    return G"
   ]
  },
  {
   "cell_type": "markdown",
   "metadata": {
    "collapsed": true
   },
   "source": [
    "The following function is an implementation of the algorithm [] figuring in the article [] to generate an orthogonal matrix with a prescribed profile of leverage scores.\n",
    "In fact this is a simplification of the algorithm ....."
   ]
  },
  {
   "cell_type": "code",
   "execution_count": 3,
   "metadata": {
    "collapsed": true
   },
   "outputs": [],
   "source": [
    "class Data_Set_Generator:\n",
    "    def __init__(self, N, d, nu, Sigma):\n",
    "        self.N = N\n",
    "        self.d = d\n",
    "        self.nu = nu\n",
    "        self.Sigma = Sigma\n",
    "        self.mean = np.zeros(d)\n",
    "        \n",
    "    def multivariate_t_rvs(self):\n",
    "        x = np.random.chisquare(self.nu, self.N)/self.nu\n",
    "        z = np.random.multivariate_normal(self.mean,self.Sigma,(self.N,))\n",
    "        return self.mean + z/np.sqrt(x)[:,None] "
   ]
  },
  {
   "cell_type": "code",
   "execution_count": 4,
   "metadata": {
    "collapsed": true
   },
   "outputs": [],
   "source": [
    "def generate_orthonormal_matrix_with_leverage_scores(N,d,lv_scores_vector,versions_number,mode):\n",
    "    #Transforming an idendity matrix to an orthogonal matrix with prescribed lengths\n",
    "    Q = np.zeros((N,d))\n",
    "    previous_Q = np.zeros((versions_number+1,N,d))\n",
    "    versionning_period = (int)(N/versions_number)\n",
    "    if mode == 'identity':\n",
    "        for _ in range(0,d):\n",
    "            Q[_,_] = 1\n",
    "    if mode == 'spread':\n",
    "        nu = 1\n",
    "        Sigma = np.diag(np.ones(d))\n",
    "        mean = np.zeros(d)\n",
    "        x = np.random.chisquare(nu, N)/nu\n",
    "        z = np.random.multivariate_normal(mean,Sigma,(N,))\n",
    "        dataset = mean + z/np.sqrt(x)[:,None] \n",
    "        [Q,_,_] = np.linalg.svd(dataset,full_matrices=False)\n",
    "        print(np.shape(Q))\n",
    "    I_sorting =  list(reversed(np.argsort(lv_scores_vector)))\n",
    "    \n",
    "    lv_scores_vector = np.asarray(list(reversed(np.sort(lv_scores_vector))))\n",
    "    initial_lv_scores_vector = np.diag(np.dot(Q,Q.T))\n",
    "    I_initial_sorting = list(reversed(np.argsort(initial_lv_scores_vector)))\n",
    "    initial_lv_scores_vector = np.asarray(list(reversed(np.sort(np.diag(np.dot(Q,Q.T))))))\n",
    "    #initial_lv_scores_vector = \n",
    "\n",
    "    Q[I_initial_sorting,:] = Q\n",
    "    print(lv_scores_vector)\n",
    "    print(initial_lv_scores_vector)\n",
    "    delta_lv_scores_vector = lv_scores_vector - initial_lv_scores_vector\n",
    "    print(delta_lv_scores_vector)\n",
    "    min_index = next((i for i, x in enumerate(delta_lv_scores_vector) if x>0), None)\n",
    "    i = min_index-1\n",
    "    j = min_index\n",
    "    print(i)\n",
    "    print(j)\n",
    "    #if mode == 'identity':\n",
    "    #    i = d-1\n",
    "    #    j = d\n",
    "    #if mode == 'spread':\n",
    "    #    i = d-2\n",
    "    #    j = d-1\n",
    "    v_counter =0\n",
    "    for t in range(N-1):\n",
    "        #print(i)\n",
    "        #print(j)\n",
    "        delta_i = np.abs(lv_scores_vector[i] - np.power(np.linalg.norm(Q[i,:]),2))\n",
    "        delta_j = np.abs(lv_scores_vector[j] - np.power(np.linalg.norm(Q[j,:]),2))\n",
    "        q_i = np.power(np.linalg.norm(Q[i,:]),2)\n",
    "        q_j = np.power(np.linalg.norm(Q[j,:]),2)\n",
    "        q_ij = np.dot(Q[i,:],Q[j,:].T)\n",
    "        l_i = lv_scores_vector[i]\n",
    "        l_j = lv_scores_vector[j]\n",
    "        G = np.eye(N)\n",
    "        if t%versionning_period ==0:\n",
    "            previous_Q[v_counter,:,:] = Q\n",
    "            v_counter = v_counter +1\n",
    "        if delta_i <= delta_j:\n",
    "            l_k = q_i + q_j -l_i\n",
    "            G = G_func(i,j,q_i,q_j,q_ij,l_i,l_k,N)\n",
    "            Q = np.dot(G,Q)\n",
    "            i = i-1\n",
    "        else:\n",
    "            l_k = q_i + q_j -l_j\n",
    "            G = G_func(i,j,q_j,q_i,q_ij,l_j,l_k,N)\n",
    "            Q = np.dot(G,Q)\n",
    "            j = j+1\n",
    "    previous_Q[versions_number,:,:] = Q\n",
    "    return Q,previous_Q"
   ]
  },
  {
   "cell_type": "markdown",
   "metadata": {},
   "source": [
    "The following function allows to estimate the leverage scores for an orthogonal matrix Q: the function calculates the diagonoal of the matrix $$Q Q^{T}$$"
   ]
  },
  {
   "cell_type": "code",
   "execution_count": 5,
   "metadata": {
    "collapsed": true
   },
   "outputs": [],
   "source": [
    "def estimate_leverage_scores_from_orthogonal_matrix(Q):\n",
    "    [N,_] = np.shape(Q)\n",
    "    lv_scores_vector = np.zeros((N,1))\n",
    "    lv_scores_vector = np.diag(np.dot(Q,np.transpose(Q)))\n",
    "    lv_scores_vector = np.asarray(list(reversed(np.sort(lv_scores_vector))))\n",
    "    return lv_scores_vector\n",
    "def estimate_sum_first_k_leverage_scores(Q,k):\n",
    "    lv_scores_vector = estimate_leverage_scores_from_orthogonal_matrix(Q)\n",
    "    res = np.sum(lv_scores_vector[0:k])\n",
    "    return res"
   ]
  },
  {
   "cell_type": "markdown",
   "metadata": {
    "collapsed": true
   },
   "source": [
    "## I-2- Extending the orthogonal matrices"
   ]
  },
  {
   "cell_type": "markdown",
   "metadata": {},
   "source": [
    "For the task of low rank approximation, we have seen that only the information contained in the first right k eigenvectors of the matrix X are relevant. In the previous step we build only the first right k eigenvectors but we still need to complete these orthogonal matrices with d-k columns. We proceed as following:\n",
    "Generate a random vector (Nx1) using independent standard gaussian variables,\n",
    "Project this vector in the orthogonal of the span of Q\n",
    "Normalize the obtained vector after the projection\n",
    "Extend the matrix Q\n",
    "Note that this procedure is not the unique way to extend the matrix Q to an orthogonal (Nxd) matrix."
   ]
  },
  {
   "cell_type": "code",
   "execution_count": 6,
   "metadata": {
    "collapsed": true
   },
   "outputs": [],
   "source": [
    "def extend_orthogonal_matrix(Q,d_target):\n",
    "    [N,d] = np.shape(Q)\n",
    "    Q_target = np.zeros((N,d))\n",
    "    Q_target = Q\n",
    "    delta = d_target - d\n",
    "    for t in range(delta):\n",
    "        Q_test = np.random.normal(0, 1, N)\n",
    "        for _ in range(d):\n",
    "            Q_test = Q_test - np.dot(Q_test,Q[:,_])*Q[:,_]\n",
    "        Q_test = Q_test/np.linalg.norm(Q_test)\n",
    "        Q_test = Q_test.reshape(N,1)\n",
    "        Q_target = np.append(Q_target,Q_test,1)\n",
    "    return Q_target\n",
    "\n",
    "#extended_Q = extend_orthogonal_matrix(Q,r)"
   ]
  },
  {
   "cell_type": "markdown",
   "metadata": {},
   "source": [
    "## I-3 - Constructing a dataset for every extended orthogonal matrix \n",
    "The previous step allow us to build (N x d) orthogonal matrices such that the extracted (N x k) matrix have a prescribed profile of leverage scores.\n",
    "Now we construct a cloud of point by assigning a covariance matrix D and a matrix V"
   ]
  },
  {
   "cell_type": "code",
   "execution_count": 7,
   "metadata": {
    "collapsed": true
   },
   "outputs": [],
   "source": [
    "def contruct_dataset_from_orthogonal_matrix(multi_Q,N,target_d,cov,mean,versions_number):\n",
    "    multi_X = np.zeros((versions_number+1,N,real_dim))\n",
    "    for t in range(versions_number+1):\n",
    "        test_X = np.random.multivariate_normal(mean, cov, N)\n",
    "        [U,_,_] = np.linalg.svd(test_X, full_matrices=False)\n",
    "        Q_test = extend_orthogonal_matrix(multi_Q[t,:,:],target_d)\n",
    "        multi_X[t,:,:] = np.dot(np.dot(Q_test,cov),U.T).T\n",
    "    return multi_X\n",
    "\n"
   ]
  },
  {
   "cell_type": "markdown",
   "metadata": {},
   "source": [
    "## II- Volume sampling vs Projection DPP for low rank approximation\n",
    "These functions allow to quantify the approximation error:\n",
    "* approximation_error_function_fro calculate the ratio of the approximation error of a subset of columns to the optimal approximatione error given by the first k left eigenvectors of the matrix X\n",
    "* expected_approximation_error_for_sampling_scheme calculate the expected value of the ratio of the approximatione error under some sampling distribution"
   ]
  },
  {
   "cell_type": "code",
   "execution_count": 8,
   "metadata": {
    "collapsed": true
   },
   "outputs": [],
   "source": [
    "def approximation_error_function_fro(Sigma,k,X,X_S):\n",
    "    ## Sigma is the spectrum of the matrix X: we need to calculate the optimal approximation error given by the PCA\n",
    "    ## k is the rank of the approximation\n",
    "    ## X is the initial matrix\n",
    "    ## X_S is the subset of columns of the matrix X for witch we calculate the approximation error ratio\n",
    "    d = list(Sigma.shape)[0] # the dimension of the matrix X\n",
    "    Sigma = np.multiply(Sigma,Sigma)  # Sigma power 2 -> we are intersted in the approximation error square\n",
    "    sigma_S_temp = np.linalg.inv(np.dot(X_S.T,X_S))  # just a temporary matrix to construct the projection matrix\n",
    "    projection_S = np.dot(np.dot(X_S,sigma_S_temp),X_S.T) # the projection matrix P_S\n",
    "    res_X = X - np.dot(projection_S,X) # The projection of the matrix X in the orthogonal of S\n",
    "    approximation_error_ratio = np.power(np.linalg.norm(res_X,'fro'),2)/np.sum(Sigma[k:d])\n",
    "    # Calculate the apparoximation error ratio\n",
    "    return approximation_error_ratio"
   ]
  },
  {
   "cell_type": "code",
   "execution_count": 9,
   "metadata": {
    "collapsed": true
   },
   "outputs": [],
   "source": [
    "def approximation_error_function_spectral(Sigma,k,X,X_S):\n",
    "    ## Sigma is the spectrum of the matrix X: we need to calculate the optimal approximation error given by the PCA\n",
    "    ## k is the rank of the approximation\n",
    "    ## X is the initial matrix\n",
    "    ## X_S is the subset of columns of the matrix X for witch we calculate the approximation error ratio\n",
    "    d = list(Sigma.shape)[0] # the dimension of the matrix X\n",
    "    Sigma = np.multiply(Sigma,Sigma)  # Sigma power 2 -> we are intersted in the approximation error square\n",
    "    sigma_S_temp = np.linalg.inv(np.dot(X_S.T,X_S))  # just a temporary matrix to construct the projection matrix\n",
    "    projection_S = np.dot(np.dot(X_S,sigma_S_temp),X_S.T) # the projection matrix P_S\n",
    "    res_X = X - np.dot(projection_S,X) # The projection of the matrix X in the orthogonal of S\n",
    "    approximation_error_ratio = np.power(np.linalg.norm(res_X,ord = 2),2)/np.sum(Sigma[k:k+1])\n",
    "    # Calculate the apparoximation error ratio\n",
    "    return approximation_error_ratio"
   ]
  },
  {
   "cell_type": "code",
   "execution_count": 10,
   "metadata": {
    "collapsed": true
   },
   "outputs": [],
   "source": [
    "def upper_bound_error_function_for_projection_DPP(k,X,X_S):\n",
    "    ## Sigma is the spectrum of the matrix X: we need to calculate the optimal approximation error given by the PCA\n",
    "    ## k is the rank of the approximation\n",
    "    ## X is the initial matrix\n",
    "    ## X_S is the subset of columns of the matrix X for witch we calculate the approximation error ratio\n",
    "    _,sigma_S_temp,_ = np.linalg.svd(X_S, full_matrices=False)  # just a temporary matrix to construct the projection matrix\n",
    "    trunc_product = np.power(np.prod(sigma_S_temp[0:k-1]),2)\n",
    "    if np.power(np.prod(sigma_S_temp[0:k]),2) == 0:\n",
    "        trunc_product = 0\n",
    "    # Calculate the apparoximation error ratio\n",
    "    return trunc_product"
   ]
  },
  {
   "cell_type": "code",
   "execution_count": 11,
   "metadata": {
    "collapsed": true
   },
   "outputs": [],
   "source": [
    "def tight_upper_bound_error_function_fro(k,X,X_S,V_k,V_k_S):\n",
    "    ## Sigma is the spectrum of the matrix X: we need to calculate the optimal approximation error given by the PCA\n",
    "    ## k is the rank of the approximation\n",
    "    ## X is the initial matrix\n",
    "    ## X_S is the subset of columns of the matrix X for witch we calculate the approximation error ratio\n",
    "    _,Sigma,_ = np.linalg.svd(X, full_matrices=False)\n",
    "    d = list(Sigma.shape)[0]\n",
    "    Sigma = np.multiply(Sigma,Sigma)\n",
    "    if np.linalg.matrix_rank(V_k_S,0.000001) == k:\n",
    "        temp_T = np.dot(np.linalg.inv(V_k_S),V_k)\n",
    "        temp_matrix = X - np.dot(X_S,temp_T)\n",
    "    \n",
    "        return np.power(np.linalg.norm(temp_matrix,'fro'),2)/np.sum(Sigma[k:d])\n",
    "    else:\n",
    "        return 0"
   ]
  },
  {
   "cell_type": "code",
   "execution_count": 132,
   "metadata": {
    "collapsed": true
   },
   "outputs": [],
   "source": [
    "def get_the_matrix_sum_T_S(k,d,V_k,V_d_k):\n",
    "    ## Sigma is the spectrum of the matrix X: we need to calculate the optimal approximation error given by the PCA\n",
    "    ## k is the rank of the approximation\n",
    "    ## X is the initial matrix\n",
    "    ## X_S is the subset of columns of the matrix X for witch we calculate the approximation error ratio\n",
    "    #Sigma = np.multiply(Sigma,Sigma)\n",
    "    #matrices_array = [ np.dot(V_d_k[:,list(comb)],np.dot(np.dot(np.linalg.inv(V_k[:,list(comb)]),np.linalg.inv(V_k[:,list(comb)]))),np.transpose(V_d_k[:,list(comb)])) for comb in combinations(range(d),k) if np.linalg.matrix_rank(V_k[:,list(comb)],0.000001) == k]\n",
    "    T = np.zeros((d-k,d-k))\n",
    "    for comb in combinations(range(d),k):\n",
    "        if np.linalg.matrix_rank(V_k[:,list(comb)],0.0000000001) == k: \n",
    "            V_k_S_inv = np.linalg.inv(V_k[:,list(comb)])\n",
    "            V_d_k_S = V_d_k[:,list(comb)]\n",
    "            V_k_S_inv_2 = np.transpose(np.dot(V_k_S_inv,np.transpose(V_k_S_inv)))\n",
    "            #T = np.dot(np.dot(np.dot(V_d_k_S,np.dot(V_k_S_inv,np.transpose(V_k_S_inv)))),np.transpose(V_d_k_S)) + T\n",
    "            T = np.power(np.linalg.det(V_k[:,list(comb)]),2)*np.dot(V_d_k_S,np.dot(V_k_S_inv_2,np.transpose(V_d_k_S))) +T\n",
    "    return T"
   ]
  },
  {
   "cell_type": "code",
   "execution_count": 12,
   "metadata": {
    "collapsed": true
   },
   "outputs": [],
   "source": [
    "def tight_approximation_error_fro_for_sampling_scheme(X,U,k,N):\n",
    "    ## X is the matrix X :)\n",
    "    ## U is the matrix used in the sampling: we sample propotional to the volume of UU^{T}_{S,S}: \n",
    "    ## we are not sampling but we need the weigth to estimate the expected error\n",
    "    ## k is the rank of the approximation\n",
    "    ## N is the number of columns (to be changed to avoid confusion with the number of points)\n",
    "    _,Sigma,V = np.linalg.svd(X, full_matrices=False)\n",
    "    V_k = V[0:k,:]\n",
    "    ## Estimating the spectrum of X -> needed in approximation_error_function_fro\n",
    "    volumes_array = [np.abs(np.linalg.det(np.dot(U[:,list(comb)].T,U[:,list(comb)]))) for comb in combinations(range(N),k)]\n",
    "    ## Construct the array of weights: the volumes of UU^{T}_{S,S}\n",
    "    volumes_array_sum = np.sum(volumes_array)\n",
    "    ## The normalization constant\n",
    "    volumes_array = volumes_array/volumes_array_sum\n",
    "    ## The weigths normalized\n",
    "    approximation_error_array = [tight_upper_bound_error_function_fro(k,X,X[:,list(comb)],V_k,V_k[:,list(comb)]) for comb in combinations(range(N),k)]\n",
    "    ## Calculating the approximation error for every k-tuple\n",
    "    expected_value = np.dot(approximation_error_array,volumes_array)\n",
    "    ## The expected value of the approximatione error is just the dot product of the two arrays above\n",
    "    return expected_value"
   ]
  },
  {
   "cell_type": "code",
   "execution_count": 13,
   "metadata": {
    "collapsed": true
   },
   "outputs": [],
   "source": [
    "def expected_approximation_error_fro_for_sampling_scheme(X,U,k,N):\n",
    "    ## X is the matrix X :)\n",
    "    ## U is the matrix used in the sampling: we sample propotional to the volume of UU^{T}_{S,S}: \n",
    "    ## we are not sampling but we need the weigth to estimate the expected error\n",
    "    ## k is the rank of the approximation\n",
    "    ## N is the number of columns (to be changed to avoid confusion with the number of points)\n",
    "    _,Sigma,_ = np.linalg.svd(X, full_matrices=False)\n",
    "    ## Estimating the spectrum of X -> needed in approximation_error_function_fro\n",
    "    volumes_array = [np.abs(np.linalg.det(np.dot(U[:,list(comb)].T,U[:,list(comb)]))) for comb in combinations(range(N),k)]\n",
    "    ## Construct the array of weights: the volumes of UU^{T}_{S,S}\n",
    "    volumes_array_sum = np.sum(volumes_array)\n",
    "    ## The normalization constant\n",
    "    volumes_array = volumes_array/volumes_array_sum\n",
    "    ## The weigths normalized\n",
    "    approximation_error_array = [approximation_error_function_fro(Sigma,k,X,X[:,list(comb)]) for comb in combinations(range(N),k)]\n",
    "    ## Calculating the approximation error for every k-tuple\n",
    "    expected_value = np.dot(approximation_error_array,volumes_array)\n",
    "    ## The expected value of the approximatione error is just the dot product of the two arrays above\n",
    "    return expected_value"
   ]
  },
  {
   "cell_type": "code",
   "execution_count": 14,
   "metadata": {
    "collapsed": true
   },
   "outputs": [],
   "source": [
    "def expected_approximation_error_spectral_for_sampling_scheme(X,U,k,N):\n",
    "    ## X is the matrix X :)\n",
    "    ## U is the matrix used in the sampling: we sample propotional to the volume of UU^{T}_{S,S}: \n",
    "    ## we are not sampling but we need the weigth to estimate the expected error\n",
    "    ## k is the rank of the approximation\n",
    "    ## N is the number of columns (to be changed to avoid confusion with the number of points)\n",
    "    _,Sigma,_ = np.linalg.svd(X, full_matrices=False)\n",
    "    ## Estimating the spectrum of X -> needed in approximation_error_function_fro\n",
    "    volumes_array = [np.abs(np.linalg.det(np.dot(U[:,list(comb)].T,U[:,list(comb)]))) for comb in combinations(range(N),k)]\n",
    "    ## Construct the array of weights: the volumes of UU^{T}_{S,S}\n",
    "    volumes_array_sum = np.sum(volumes_array)\n",
    "    ## The normalization constant\n",
    "    volumes_array = volumes_array/volumes_array_sum\n",
    "    ## The weigths normalized\n",
    "    approximation_error_array = [approximation_error_function_spectral(Sigma,k,X,X[:,list(comb)]) for comb in combinations(range(N),k)]\n",
    "    ## Calculating the approximation error for every k-tuple\n",
    "    expected_value = np.dot(approximation_error_array,volumes_array)\n",
    "    ## The expected value of the approximatione error is just the dot product of the two arrays above\n",
    "    return expected_value"
   ]
  },
  {
   "cell_type": "code",
   "execution_count": 15,
   "metadata": {
    "collapsed": true
   },
   "outputs": [],
   "source": [
    "def expected_upper_bound_for_projection_DPP(X,U,k,N):\n",
    "    ## X is the matrix X :)\n",
    "    ## U is the matrix used in the sampling: we sample propotional to the volume of UU^{T}_{S,S}: \n",
    "    ## we are not sampling but we need the weigth to estimate the expected error\n",
    "    ## k is the rank of the approximation\n",
    "    ## N is the number of columns (to be changed to avoid confusion with the number of points)\n",
    "\n",
    "    approximation_error_array = [upper_bound_error_function_for_projection_DPP(k,X,U[:,list(comb)]) for comb in combinations(range(N),k)]\n",
    "    ## Calculating the approximation error for every k-tuple\n",
    "    \n",
    "    ## The expected value of the approximatione error is just the dot product of the two arrays above\n",
    "    #return expected_value\n",
    "    return np.sum(approximation_error_array)"
   ]
  },
  {
   "cell_type": "markdown",
   "metadata": {
    "collapsed": true
   },
   "source": [
    "## III - Numerical analysis"
   ]
  },
  {
   "cell_type": "markdown",
   "metadata": {},
   "source": [
    "In this section we use the functions developed previously to investigate the influence of two parameters: the spectrum of X and the k-leverage scores.  \n",
    "For this purpose, we assemble these functionalities in a class allowing fast numerical experiments."
   ]
  },
  {
   "cell_type": "code",
   "execution_count": 159,
   "metadata": {
    "collapsed": true
   },
   "outputs": [],
   "source": [
    "class Numrerical_Analysis_DPP: \n",
    "    def __init__(self,N,real_dim,r,k,versions_number,mean,cov,lv_scores):\n",
    "        self.N = N\n",
    "        self.real_dim = real_dim\n",
    "        self.r = r\n",
    "        self.k = k\n",
    "        self.versions_number = versions_number\n",
    "        self.mean = mean\n",
    "        self.cov = cov\n",
    "        self.lv_scores = lv_scores\n",
    "        self.Q = np.zeros((real_dim,k))\n",
    "        self.multi_Q = np.zeros((self.versions_number+1,real_dim,k))\n",
    "        self.X = np.zeros((N,real_dim))\n",
    "        self.multi_X = np.zeros((self.versions_number+1,N,real_dim))\n",
    "        [self.Q,self.multi_Q] = generate_orthonormal_matrix_with_leverage_scores(real_dim,k,lv_scores,versions_number,'identity')\n",
    "        self.multi_X = contruct_dataset_from_orthogonal_matrix(self.multi_Q,self.N,self.real_dim,self.cov,self.mean,self.versions_number)\n",
    "    def contruct_dataset_from_orthogonal_matrix_4(self,multi_Q,N,target_d,cov,mean,versions_number):\n",
    "        test_multi_X = np.zeros((self.versions_number+1,N,real_dim))\n",
    "        for t in range(self.versions_number+1):\n",
    "            test_X = np.random.multivariate_normal(mean, cov, N)\n",
    "            [U,_,_] = np.linalg.svd(test_X, full_matrices=False)\n",
    "            Q_test = extend_orthogonal_matrix(self.multi_Q[t,:,:],target_d)\n",
    "            test_multi_X[t,:,:] = np.dot(np.dot(Q_test,cov),U.T).T\n",
    "        return test_multi_X\n",
    "    def get_expected_error_fro_for_volume_sampling(self):\n",
    "        ## Calculate the expected error ratio for the Volume Sampling distribution for every dataset\n",
    "        res_list = np.zeros(self.versions_number+1)\n",
    "        for t in range(self.versions_number+1):\n",
    "            test_X = self.multi_X[t,:,:]\n",
    "            res_list[t] = expected_approximation_error_fro_for_sampling_scheme(test_X,test_X,self.k,self.real_dim)\n",
    "        return res_list\n",
    "    def get_tight_upper_bound_error_fro_for_projection_DPP(self):\n",
    "        res_list = np.zeros(self.versions_number+1)\n",
    "        for t in range(self.versions_number+1):\n",
    "            test_X = self.multi_X[t,:,:]\n",
    "            test_U = self.multi_Q[t,:,:].T\n",
    "            res_list[t] = tight_approximation_error_fro_for_sampling_scheme(test_X,test_U,self.k,self.real_dim)\n",
    "        return res_list\n",
    "    def get_max_diag_sum_T_matrices(self):\n",
    "        res_list = np.zeros((self.versions_number+1))\n",
    "        for t in range(self.versions_number+1):\n",
    "            test_X = self.multi_X[t,:,:]\n",
    "            _,_,test_V = np.linalg.svd(test_X, full_matrices=False)\n",
    "            test_V_k = test_V[0:self.k,:]\n",
    "            test_V_d_k = test_V[self.k:self.real_dim,:]\n",
    "            res_list[t] = 1+np.max(np.diag(get_the_matrix_sum_T_S(self.k,self.real_dim,test_V_k,test_V_d_k)))\n",
    "        return res_list\n",
    "    def get_max_spectrum_sum_T_matrices(self):\n",
    "        res_list = np.zeros((self.versions_number+1))\n",
    "        for t in range(self.versions_number+1):\n",
    "            test_X = self.multi_X[t,:,:]\n",
    "            _,_,test_V = np.linalg.svd(test_X, full_matrices=False)\n",
    "            test_V_k = test_V[0:self.k,:]\n",
    "            test_V_d_k = test_V[self.k:self.real_dim,:]\n",
    "            res_list[t] = 1+np.max(np.diag(get_the_matrix_sum_T_S(self.k,self.real_dim,test_V_k,test_V_d_k)))\n",
    "        return res_list\n",
    "    def get_expected_error_fro_for_projection_DPP(self):\n",
    "        ## Calculate the expected error ratio for the Projection DPP distribution for every dataset\n",
    "        res_list = np.zeros(self.versions_number+1)\n",
    "        for t in range(self.versions_number+1):\n",
    "            test_X = self.multi_X[t,:,:]\n",
    "            test_U = self.multi_Q[t,:,:].T\n",
    "            res_list[t] = expected_approximation_error_fro_for_sampling_scheme(test_X,test_U,self.k,self.real_dim)\n",
    "        return res_list   \n",
    "    def get_expected_error_spectral_for_volume_sampling(self):\n",
    "        ## Calculate the expected error ratio for the Volume Sampling distribution for every dataset\n",
    "        res_list = np.zeros(self.versions_number+1)\n",
    "        for t in range(self.versions_number+1):\n",
    "            test_X = self.multi_X[t,:,:]\n",
    "            res_list[t] = expected_approximation_error_spectral_for_sampling_scheme(test_X,test_X,self.k,self.real_dim)\n",
    "        return res_list\n",
    "    def get_expected_error_spectral_for_projection_DPP(self):\n",
    "        ## Calculate the expected error ratio for the Projection DPP distribution for every dataset\n",
    "        res_list = np.zeros(self.versions_number+1)\n",
    "        for t in range(self.versions_number+1):\n",
    "            test_X = self.multi_X[t,:,:]\n",
    "            test_U = self.multi_Q[t,:,:].T\n",
    "            res_list[t] = expected_approximation_error_spectral_for_sampling_scheme(test_X,test_U,self.k,self.real_dim)\n",
    "        return res_list  \n",
    "    def get_upper_bound_error_for_projection_DPP(self):\n",
    "        ## Calculate the expected error ratio for the Projection DPP distribution for every dataset\n",
    "        #res_list = np.zeros(self.versions_number+1)\n",
    "        res_list = []\n",
    "        for t in range(self.versions_number+1):\n",
    "            test_X = self.multi_X[t,:,:]\n",
    "            test_U = self.multi_Q[t,:,:].T\n",
    "            #res_list[t] = expected_upper_bound_for_projection_DPP(test_X,test_U,self.k,self.real_dim)\n",
    "            res_list.append( expected_upper_bound_for_projection_DPP(test_X,test_U,self.k,self.real_dim))\n",
    "        return res_list  \n",
    "    def get_error_fro_for_deterministic_selection(self):\n",
    "        ## Calculate the error ratio for the k-tuple selected by the deterministic algorithm for every dataset\n",
    "        res_list = np.zeros(self.versions_number+1)\n",
    "        for t in range(self.versions_number+1):\n",
    "            test_X = self.multi_X[t,:,:]\n",
    "            test_U = self.multi_Q[t,:,:].T\n",
    "            lv_scores_vector = np.diag(np.dot(np.transpose(test_U),test_U))\n",
    "            test_I_k = list(np.argsort(lv_scores_vector)[self.real_dim-self.k:self.real_dim])\n",
    "            _,test_Sigma,_ = np.linalg.svd(test_X, full_matrices=False)\n",
    "            res_list[t] = approximation_error_function_fro(test_Sigma,self.k,test_X,test_X[:,test_I_k])\n",
    "            #res_list.append(test_I_k)\n",
    "        return res_list   \n",
    "    def get_error_spectral_for_deterministic_selection(self):\n",
    "        ## Calculate the error ratio for the k-tuple selected by the deterministic algorithm for every dataset\n",
    "        res_list = np.zeros(self.versions_number+1)\n",
    "        for t in range(self.versions_number+1):\n",
    "            test_X = self.multi_X[t,:,:]\n",
    "            test_U = self.multi_Q[t,:,:].T\n",
    "            lv_scores_vector = np.diag(np.dot(np.transpose(test_U),test_U))\n",
    "            test_I_k = list(np.argsort(lv_scores_vector)[self.real_dim-self.k:self.real_dim])\n",
    "            _,test_Sigma,_ = np.linalg.svd(test_X, full_matrices=False)\n",
    "            res_list[t] = approximation_error_function_spectral(test_Sigma,self.k,test_X,test_X[:,test_I_k])\n",
    "            #res_list.append(test_I_k)\n",
    "        return res_list \n",
    "    def get_sum_k_leverage_scores(self):\n",
    "        ## A function that calculate the k-sum: the sum of the first k k-leverage scores. It is a measure of the concentration of V_k\n",
    "        ## This is done for every dataset\n",
    "        res_list = np.zeros(self.versions_number+1)\n",
    "        for t in range(self.versions_number+1):\n",
    "            res_list[t] = estimate_sum_first_k_leverage_scores(self.multi_Q[t,:,:],self.k)\n",
    "        return res_list\n",
    "    def get_deterministic_upper_bound(self):\n",
    "        ## A function that calculate the theoretical upper bound for the deterministic algorithm for every dataset\n",
    "        res_list = np.zeros(self.versions_number+1)\n",
    "        for t in range(self.versions_number+1):\n",
    "            res_list[t] = 1/(1+estimate_sum_first_k_leverage_scores(self.multi_Q[t,:,:],self.k)-self.k)\n",
    "        return res_list\n",
    "    def get_alpha_sum_k_leverage_scores(self,alpha):\n",
    "        ## A function that calculate the theoretical upper bound for the deterministic algorithm for every dataset\n",
    "        res_list = np.zeros(self.versions_number+1)\n",
    "        #k_l = self.get_sum_k_leverage_scores()\n",
    "        for t in range(self.versions_number+1):\n",
    "            k_l = estimate_leverage_scores_from_orthogonal_matrix(self.multi_Q[t,:,:])[0:k]\n",
    "            func_k = np.power(np.linspace(1, k, num=k),alpha)\n",
    "            res_list[t] = np.dot(func_k,k_l)\n",
    "        return res_list"
   ]
  },
  {
   "cell_type": "markdown",
   "metadata": {},
   "source": [
    "### III- 0 Parameters of the simultations"
   ]
  },
  {
   "cell_type": "code",
   "execution_count": 170,
   "metadata": {
    "collapsed": true
   },
   "outputs": [],
   "source": [
    "## The dimensions of the design matrix X\n",
    "N = 100       # The number of observations in the dataset\n",
    "real_dim = 20 # The dimension of the dataset\n",
    "## The low rank paramters\n",
    "k = 4         # The rank of the low rank approximation \n",
    "## The covariance matrix parameters\n",
    "r = 6         # Just a parameter to control the number of non trivial singular values in the covariance matrix\n",
    "mean = np.zeros((real_dim))    # The mean vector useful to generate U (X = UDV^T)\n",
    "cov_test = 0.1*np.ones((real_dim-r))  # The \"trivial\" singular values in the covariance matrix (there are real_dim-r)\n",
    "## The paramters of the matrix V\n",
    "versions_number = 5 # The number of orthogonal matrices (and therefor datasets) (-1) generated by the algorithm above\n",
    "lv_scores_vector = k/real_dim*np.ones(real_dim)  # The vector of leverage scores (the last one)"
   ]
  },
  {
   "cell_type": "markdown",
   "metadata": {},
   "source": [
    "### III-1 The influence of the spectrum"
   ]
  },
  {
   "cell_type": "markdown",
   "metadata": {},
   "source": [
    "In this subsection we compare the Volume Sampling distribution to the projection DPP distribution and the deterministic algorithm of []  for different profiles of the spectrum with k-leverage scores profile fixed. In other words, if we note $$X = UDV^{T}$$ We keep V_{k} constant and we investigate the effect of D."
   ]
  },
  {
   "cell_type": "markdown",
   "metadata": {},
   "source": [
    "#### III-1-1 The case of a non-projection spectrum\n",
    "We mean by a projection spectrum matrix, a matrix with equal the first k singular values.\n",
    "We observe that the two distributions are very similar.... \\todo{reword}"
   ]
  },
  {
   "cell_type": "code",
   "execution_count": 179,
   "metadata": {
    "scrolled": true
   },
   "outputs": [
    {
     "name": "stdout",
     "output_type": "stream",
     "text": [
      "[ 0.2  0.2  0.2  0.2  0.2  0.2  0.2  0.2  0.2  0.2  0.2  0.2  0.2  0.2  0.2\n",
      "  0.2  0.2  0.2  0.2  0.2]\n",
      "[ 1.  1.  1.  1.  0.  0.  0.  0.  0.  0.  0.  0.  0.  0.  0.  0.  0.  0.\n",
      "  0.  0.]\n",
      "[-0.8 -0.8 -0.8 -0.8  0.2  0.2  0.2  0.2  0.2  0.2  0.2  0.2  0.2  0.2  0.2\n",
      "  0.2  0.2  0.2  0.2  0.2]\n",
      "3\n",
      "4\n"
     ]
    }
   ],
   "source": [
    "cov_1 = np.diag(np.concatenate(([100,100,100,100,5,5],cov_test)))\n",
    "NAL_1 = Numrerical_Analysis_DPP(N,real_dim,r,k,versions_number,mean,cov_1,lv_scores_vector)\n",
    "\n",
    "\n",
    "projection_DPP_res_fro_1 = NAL_1.get_expected_error_fro_for_projection_DPP()\n",
    "volume_sampling_res_fro_1 = NAL_1.get_expected_error_fro_for_volume_sampling()\n",
    "deterministic_selection_res_fro_1 = NAL_1.get_error_fro_for_deterministic_selection()\n",
    "projection_DPP_res_spectral_1 = NAL_1.get_expected_error_spectral_for_projection_DPP()\n",
    "volume_sampling_res_spectral_1 = NAL_1.get_expected_error_spectral_for_volume_sampling()\n",
    "deterministic_selection_res_spectral_1 = NAL_1.get_error_spectral_for_deterministic_selection()\n",
    "\n",
    "upper_tight_bound_projection_DPP_res_fro_1 = NAL_1.get_tight_upper_bound_error_fro_for_projection_DPP()\n",
    "\n",
    "alpha_sum_res_1 = NAL_1.get_alpha_sum_k_leverage_scores(1)\n",
    "\n",
    "\n",
    "sum_U_res_1 = NAL_1.get_sum_k_leverage_scores()\n",
    "deterministic_upper_bound_res_1 = NAL_1.get_deterministic_upper_bound()\n",
    "\n",
    "expected_upper_bound_res_1 = NAL_1.get_upper_bound_error_for_projection_DPP()\n",
    "multi_Q_1 = NAL_1.multi_Q[1,:,:].T\n"
   ]
  },
  {
   "cell_type": "code",
   "execution_count": 180,
   "metadata": {},
   "outputs": [
    {
     "name": "stdout",
     "output_type": "stream",
     "text": [
      "68\n"
     ]
    }
   ],
   "source": [
    "\n",
    "print(k*(real_dim-k+1))\n",
    "sum_T_matrices =  NAL_1.get_sum_T_matrices()"
   ]
  },
  {
   "cell_type": "code",
   "execution_count": 162,
   "metadata": {},
   "outputs": [
    {
     "data": {
      "text/plain": [
       "1.7359363541812884"
      ]
     },
     "execution_count": 162,
     "metadata": {},
     "output_type": "execute_result"
    }
   ],
   "source": [
    "sum_T_matrices[2]"
   ]
  },
  {
   "cell_type": "code",
   "execution_count": 183,
   "metadata": {
    "collapsed": true
   },
   "outputs": [],
   "source": [
    "pd_1 = pd.DataFrame(\n",
    "    {'k-sum (ratio)': sum_U_res_1/k,\n",
    "     'alpha k-sum': alpha_sum_res_1,\n",
    "     'Expected Upper Bound for Projection DPP': expected_upper_bound_res_1,\n",
    "     'Volume Sampling(Fro)': volume_sampling_res_fro_1,\n",
    "     'Projection DPP(Fro)': projection_DPP_res_fro_1,\n",
    "     'Very sharp approximation of Projection DPP(Fro)': upper_tight_bound_projection_DPP_res_fro_1,\n",
    "     '1+Largest eigenvalue of sum_T': sum_T_matrices,\n",
    "     'Deterministic Algorithm(Fro)': deterministic_selection_res_fro_1,\n",
    "     'Volume Sampling(Spectral)': volume_sampling_res_spectral_1,\n",
    "     'Projection DPP(Spectral)': projection_DPP_res_spectral_1,\n",
    "     'Deterministic Algorithm(Spectral)': deterministic_selection_res_spectral_1,\n",
    "     'Deterministic Upper Bound': deterministic_upper_bound_res_1\n",
    "    })\n",
    "pd_1 = pd_1[['k-sum (ratio)', 'alpha k-sum','Expected Upper Bound for Projection DPP','Volume Sampling(Fro)','Projection DPP(Fro)','Very sharp approximation of Projection DPP(Fro)','1+Largest eigenvalue of sum_T','Deterministic Algorithm(Fro)','Volume Sampling(Spectral)','Projection DPP(Spectral)','Deterministic Algorithm(Spectral)','Deterministic Upper Bound']]"
   ]
  },
  {
   "cell_type": "code",
   "execution_count": 184,
   "metadata": {},
   "outputs": [
    {
     "data": {
      "text/html": [
       "<div>\n",
       "<style>\n",
       "    .dataframe thead tr:only-child th {\n",
       "        text-align: right;\n",
       "    }\n",
       "\n",
       "    .dataframe thead th {\n",
       "        text-align: left;\n",
       "    }\n",
       "\n",
       "    .dataframe tbody tr th {\n",
       "        vertical-align: top;\n",
       "    }\n",
       "</style>\n",
       "<table border=\"1\" class=\"dataframe\">\n",
       "  <thead>\n",
       "    <tr style=\"text-align: right;\">\n",
       "      <th></th>\n",
       "      <th>k-sum (ratio)</th>\n",
       "      <th>alpha k-sum</th>\n",
       "      <th>Expected Upper Bound for Projection DPP</th>\n",
       "      <th>Volume Sampling(Fro)</th>\n",
       "      <th>Projection DPP(Fro)</th>\n",
       "      <th>Very sharp approximation of Projection DPP(Fro)</th>\n",
       "      <th>1+Largest eigenvalue of sum_T</th>\n",
       "      <th>Deterministic Algorithm(Fro)</th>\n",
       "      <th>Volume Sampling(Spectral)</th>\n",
       "      <th>Projection DPP(Spectral)</th>\n",
       "      <th>Deterministic Algorithm(Spectral)</th>\n",
       "      <th>Deterministic Upper Bound</th>\n",
       "    </tr>\n",
       "  </thead>\n",
       "  <tbody>\n",
       "    <tr>\n",
       "      <th>0</th>\n",
       "      <td>1.00</td>\n",
       "      <td>10.0</td>\n",
       "      <td>1.000</td>\n",
       "      <td>4.926202</td>\n",
       "      <td>1.000000</td>\n",
       "      <td>1.000000</td>\n",
       "      <td>1.000000</td>\n",
       "      <td>1.000000</td>\n",
       "      <td>8.803169</td>\n",
       "      <td>1.000000</td>\n",
       "      <td>1.000000</td>\n",
       "      <td>1.000000</td>\n",
       "    </tr>\n",
       "    <tr>\n",
       "      <th>1</th>\n",
       "      <td>0.80</td>\n",
       "      <td>6.8</td>\n",
       "      <td>5.000</td>\n",
       "      <td>4.923115</td>\n",
       "      <td>1.136374</td>\n",
       "      <td>1.136871</td>\n",
       "      <td>1.663247</td>\n",
       "      <td>1.473758</td>\n",
       "      <td>6.653100</td>\n",
       "      <td>1.068493</td>\n",
       "      <td>1.286192</td>\n",
       "      <td>5.000000</td>\n",
       "    </tr>\n",
       "    <tr>\n",
       "      <th>2</th>\n",
       "      <td>0.65</td>\n",
       "      <td>5.0</td>\n",
       "      <td>16.880</td>\n",
       "      <td>4.921685</td>\n",
       "      <td>1.551058</td>\n",
       "      <td>1.554745</td>\n",
       "      <td>1.825671</td>\n",
       "      <td>1.294846</td>\n",
       "      <td>6.336934</td>\n",
       "      <td>1.625205</td>\n",
       "      <td>1.322935</td>\n",
       "      <td>-2.500000</td>\n",
       "    </tr>\n",
       "    <tr>\n",
       "      <th>3</th>\n",
       "      <td>0.50</td>\n",
       "      <td>3.6</td>\n",
       "      <td>26.936</td>\n",
       "      <td>4.925579</td>\n",
       "      <td>1.699969</td>\n",
       "      <td>1.703821</td>\n",
       "      <td>2.226536</td>\n",
       "      <td>1.836078</td>\n",
       "      <td>7.423669</td>\n",
       "      <td>1.861901</td>\n",
       "      <td>2.355279</td>\n",
       "      <td>-1.000000</td>\n",
       "    </tr>\n",
       "    <tr>\n",
       "      <th>4</th>\n",
       "      <td>0.35</td>\n",
       "      <td>2.6</td>\n",
       "      <td>36.256</td>\n",
       "      <td>4.926191</td>\n",
       "      <td>1.841557</td>\n",
       "      <td>1.847162</td>\n",
       "      <td>2.555151</td>\n",
       "      <td>1.112807</td>\n",
       "      <td>8.353569</td>\n",
       "      <td>2.341118</td>\n",
       "      <td>1.195264</td>\n",
       "      <td>-0.625000</td>\n",
       "    </tr>\n",
       "    <tr>\n",
       "      <th>5</th>\n",
       "      <td>0.20</td>\n",
       "      <td>2.0</td>\n",
       "      <td>44.296</td>\n",
       "      <td>4.926193</td>\n",
       "      <td>1.993425</td>\n",
       "      <td>2.000000</td>\n",
       "      <td>2.455843</td>\n",
       "      <td>1.417632</td>\n",
       "      <td>8.202907</td>\n",
       "      <td>2.472186</td>\n",
       "      <td>1.734757</td>\n",
       "      <td>-0.454545</td>\n",
       "    </tr>\n",
       "  </tbody>\n",
       "</table>\n",
       "</div>"
      ],
      "text/plain": [
       "   k-sum (ratio)  alpha k-sum  Expected Upper Bound for Projection DPP  \\\n",
       "0           1.00         10.0                                    1.000   \n",
       "1           0.80          6.8                                    5.000   \n",
       "2           0.65          5.0                                   16.880   \n",
       "3           0.50          3.6                                   26.936   \n",
       "4           0.35          2.6                                   36.256   \n",
       "5           0.20          2.0                                   44.296   \n",
       "\n",
       "   Volume Sampling(Fro)  Projection DPP(Fro)  \\\n",
       "0              4.926202             1.000000   \n",
       "1              4.923115             1.136374   \n",
       "2              4.921685             1.551058   \n",
       "3              4.925579             1.699969   \n",
       "4              4.926191             1.841557   \n",
       "5              4.926193             1.993425   \n",
       "\n",
       "   Very sharp approximation of Projection DPP(Fro)  \\\n",
       "0                                         1.000000   \n",
       "1                                         1.136871   \n",
       "2                                         1.554745   \n",
       "3                                         1.703821   \n",
       "4                                         1.847162   \n",
       "5                                         2.000000   \n",
       "\n",
       "   1+Largest eigenvalue of sum_T  Deterministic Algorithm(Fro)  \\\n",
       "0                       1.000000                      1.000000   \n",
       "1                       1.663247                      1.473758   \n",
       "2                       1.825671                      1.294846   \n",
       "3                       2.226536                      1.836078   \n",
       "4                       2.555151                      1.112807   \n",
       "5                       2.455843                      1.417632   \n",
       "\n",
       "   Volume Sampling(Spectral)  Projection DPP(Spectral)  \\\n",
       "0                   8.803169                  1.000000   \n",
       "1                   6.653100                  1.068493   \n",
       "2                   6.336934                  1.625205   \n",
       "3                   7.423669                  1.861901   \n",
       "4                   8.353569                  2.341118   \n",
       "5                   8.202907                  2.472186   \n",
       "\n",
       "   Deterministic Algorithm(Spectral)  Deterministic Upper Bound  \n",
       "0                           1.000000                   1.000000  \n",
       "1                           1.286192                   5.000000  \n",
       "2                           1.322935                  -2.500000  \n",
       "3                           2.355279                  -1.000000  \n",
       "4                           1.195264                  -0.625000  \n",
       "5                           1.734757                  -0.454545  "
      ]
     },
     "execution_count": 184,
     "metadata": {},
     "output_type": "execute_result"
    }
   ],
   "source": [
    "pd_1"
   ]
  },
  {
   "cell_type": "markdown",
   "metadata": {},
   "source": [
    "#### Observations:\n",
    "* The expected error is always smaller under the Projection DPP distribution compared to the Volume Sampling distribution.\n",
    "* The expected error for the Volume Sampling distribution is constant for a contant D\n",
    "* However the expected error for the Projection DPP distribution depends on the k-sum\n",
    "* For X_0 and X_1, the profile of the k-leverage scores are highly concentrated (k-sum > k-1) thus epsilon is smaller than 1, in this regime the determinstic algorithm have the lower approximation error and it performs better than expected (the theoretical bound is 1/(1-epsilon).\n",
    "* However, for the other datasets, the (k-sum < k-1) thus epsilon >1 and the deterministic algorithm have no guarantee in this regime: we observe that the approximation error for the deterministic algorithm can be very high in this regime."
   ]
  },
  {
   "cell_type": "markdown",
   "metadata": {},
   "source": [
    "#### Recall:\n",
    "We recall here some geometrical properties of the matrices $$X_i$$\n",
    "$$X_i = UD_{j}V_{i}$$\n",
    "Where for every i, the first k columns of $$V_{i}$$ are the $$Q_{i}$$ while the other columns are gernerated randomly"
   ]
  },
  {
   "cell_type": "code",
   "execution_count": 22,
   "metadata": {
    "collapsed": true
   },
   "outputs": [],
   "source": [
    "previous_Q = NAL_1.multi_Q\n",
    "lv_0 = estimate_leverage_scores_from_orthogonal_matrix(previous_Q[0,:,:])\n",
    "lv_1 = estimate_leverage_scores_from_orthogonal_matrix(previous_Q[1,:,:])\n",
    "lv_2 = estimate_leverage_scores_from_orthogonal_matrix(previous_Q[2,:,:])\n",
    "lv_3 = estimate_leverage_scores_from_orthogonal_matrix(previous_Q[3,:,:])\n",
    "lv_4 = estimate_leverage_scores_from_orthogonal_matrix(previous_Q[4,:,:])\n",
    "lv_5 = estimate_leverage_scores_from_orthogonal_matrix(previous_Q[5,:,:])\n",
    "index_list = list(range(real_dim))"
   ]
  },
  {
   "cell_type": "markdown",
   "metadata": {},
   "source": [
    "In this example the objective is Q and the initialization is Q_0 (the rectangular identity)\n",
    "We have with respect to the Schur-order (or the majorization):\n",
    "$$Q = Q_5 \\prec_{S} Q_4 \\prec_{S} Q_3 \\prec_{S} Q_2 \\prec_{S} Q_1 \\prec_{S} Q_0 $$"
   ]
  },
  {
   "cell_type": "code",
   "execution_count": 23,
   "metadata": {},
   "outputs": [
    {
     "data": {
      "image/png": "[encoded data removed]",
      "text/plain": [
       "<matplotlib.figure.Figure at 0x1a0c8c3fd0>"
      ]
     },
     "metadata": {},
     "output_type": "display_data"
    }
   ],
   "source": [
    "plt.plot(index_list[0:10], lv_0[0:10], 'c--',index_list[0:10], lv_1[0:10], 'k--', index_list[0:10], lv_2[0:10], 'r--', index_list[0:10], lv_3[0:10], 'b--',index_list[0:10], lv_4[0:10], 'g--',index_list[0:10], lv_5[0:10], 'y--')\n",
    "plt.xlabel('index')\n",
    "plt.ylabel('leverage score')\n",
    "cyan_patch = mpatches.Patch(color='cyan', label='Q_0')\n",
    "black_patch = mpatches.Patch(color='black', label='Q_1')\n",
    "red_patch = mpatches.Patch(color='red', label='Q_2')\n",
    "blue_patch = mpatches.Patch(color='blue', label='Q_3')\n",
    "green_patch = mpatches.Patch(color='green', label='Q_4')\n",
    "yellow_patch = mpatches.Patch(color='yellow', label='Q = Q_5')\n",
    "plt.legend(handles=[cyan_patch,black_patch,red_patch,blue_patch,green_patch,yellow_patch])\n",
    "\n",
    "plt.show()"
   ]
  },
  {
   "cell_type": "markdown",
   "metadata": {},
   "source": [
    "#### III-1-2 The case of a projection spectrum\n",
    "We mean by a projection spectrum matrix, a matrix with equal the first k singular values.\n",
    "We observe that the two distributions are very similar.... \\todo{reword}"
   ]
  },
  {
   "cell_type": "code",
   "execution_count": 24,
   "metadata": {},
   "outputs": [
    {
     "name": "stdout",
     "output_type": "stream",
     "text": [
      "[ 0.3  0.3  0.3  0.3  0.3  0.3  0.3  0.3  0.3  0.3  0.3  0.3  0.3  0.3  0.3\n",
      "  0.3  0.3  0.3  0.3  0.3]\n",
      "[ 1.  1.  1.  1.  1.  1.  0.  0.  0.  0.  0.  0.  0.  0.  0.  0.  0.  0.\n",
      "  0.  0.]\n",
      "[-0.7 -0.7 -0.7 -0.7 -0.7 -0.7  0.3  0.3  0.3  0.3  0.3  0.3  0.3  0.3  0.3\n",
      "  0.3  0.3  0.3  0.3  0.3]\n",
      "5\n",
      "6\n"
     ]
    },
    {
     "ename": "ValueError",
     "evalue": "mean and cov must have same length",
     "output_type": "error",
     "traceback": [
      "\u001b[0;31m---------------------------------------------------------------------------\u001b[0m",
      "\u001b[0;31mValueError\u001b[0m                                Traceback (most recent call last)",
      "\u001b[0;32m<ipython-input-24-02c52d928687>\u001b[0m in \u001b[0;36m<module>\u001b[0;34m()\u001b[0m\n\u001b[1;32m      1\u001b[0m \u001b[0mcov_2\u001b[0m \u001b[0;34m=\u001b[0m \u001b[0mnp\u001b[0m\u001b[0;34m.\u001b[0m\u001b[0mdiag\u001b[0m\u001b[0;34m(\u001b[0m\u001b[0mnp\u001b[0m\u001b[0;34m.\u001b[0m\u001b[0mconcatenate\u001b[0m\u001b[0;34m(\u001b[0m\u001b[0;34m(\u001b[0m\u001b[0;34m[\u001b[0m\u001b[0;36m1000\u001b[0m\u001b[0;34m,\u001b[0m\u001b[0;36m1000\u001b[0m\u001b[0;34m,\u001b[0m\u001b[0;36m1000\u001b[0m\u001b[0;34m,\u001b[0m\u001b[0;36m1\u001b[0m\u001b[0;34m,\u001b[0m\u001b[0;36m0.1\u001b[0m\u001b[0;34m]\u001b[0m\u001b[0;34m,\u001b[0m\u001b[0mcov_test\u001b[0m\u001b[0;34m)\u001b[0m\u001b[0;34m)\u001b[0m\u001b[0;34m)\u001b[0m\u001b[0;34m\u001b[0m\u001b[0m\n\u001b[0;32m----> 2\u001b[0;31m \u001b[0mNAL_2\u001b[0m \u001b[0;34m=\u001b[0m \u001b[0mNumrerical_Analysis_DPP\u001b[0m\u001b[0;34m(\u001b[0m\u001b[0mN\u001b[0m\u001b[0;34m,\u001b[0m\u001b[0mreal_dim\u001b[0m\u001b[0;34m,\u001b[0m\u001b[0mr\u001b[0m\u001b[0;34m,\u001b[0m\u001b[0mk\u001b[0m\u001b[0;34m,\u001b[0m\u001b[0mversions_number\u001b[0m\u001b[0;34m,\u001b[0m\u001b[0mmean\u001b[0m\u001b[0;34m,\u001b[0m\u001b[0mcov_2\u001b[0m\u001b[0;34m,\u001b[0m\u001b[0mlv_scores_vector\u001b[0m\u001b[0;34m)\u001b[0m\u001b[0;34m\u001b[0m\u001b[0m\n\u001b[0m\u001b[1;32m      3\u001b[0m \u001b[0mprojection_DPP_res_2\u001b[0m \u001b[0;34m=\u001b[0m \u001b[0mNAL_2\u001b[0m\u001b[0;34m.\u001b[0m\u001b[0mget_expected_error_for_projection_DPP\u001b[0m\u001b[0;34m(\u001b[0m\u001b[0;34m)\u001b[0m\u001b[0;34m\u001b[0m\u001b[0m\n\u001b[1;32m      4\u001b[0m \u001b[0mvolume_sampling_res_2\u001b[0m \u001b[0;34m=\u001b[0m \u001b[0mNAL_2\u001b[0m\u001b[0;34m.\u001b[0m\u001b[0mget_expected_error_for_volume_sampling\u001b[0m\u001b[0;34m(\u001b[0m\u001b[0;34m)\u001b[0m\u001b[0;34m\u001b[0m\u001b[0m\n\u001b[1;32m      5\u001b[0m \u001b[0mdeterministic_selection_res_2\u001b[0m \u001b[0;34m=\u001b[0m \u001b[0mNAL_1\u001b[0m\u001b[0;34m.\u001b[0m\u001b[0mget_error_for_deterministic_selection\u001b[0m\u001b[0;34m(\u001b[0m\u001b[0;34m)\u001b[0m\u001b[0;34m\u001b[0m\u001b[0m\n",
      "\u001b[0;32m<ipython-input-16-bdfa29c7ce79>\u001b[0m in \u001b[0;36m__init__\u001b[0;34m(self, N, real_dim, r, k, versions_number, mean, cov, lv_scores)\u001b[0m\n\u001b[1;32m     14\u001b[0m         \u001b[0mself\u001b[0m\u001b[0;34m.\u001b[0m\u001b[0mmulti_X\u001b[0m \u001b[0;34m=\u001b[0m \u001b[0mnp\u001b[0m\u001b[0;34m.\u001b[0m\u001b[0mzeros\u001b[0m\u001b[0;34m(\u001b[0m\u001b[0;34m(\u001b[0m\u001b[0mself\u001b[0m\u001b[0;34m.\u001b[0m\u001b[0mversions_number\u001b[0m\u001b[0;34m+\u001b[0m\u001b[0;36m1\u001b[0m\u001b[0;34m,\u001b[0m\u001b[0mN\u001b[0m\u001b[0;34m,\u001b[0m\u001b[0mreal_dim\u001b[0m\u001b[0;34m)\u001b[0m\u001b[0;34m)\u001b[0m\u001b[0;34m\u001b[0m\u001b[0m\n\u001b[1;32m     15\u001b[0m         \u001b[0;34m[\u001b[0m\u001b[0mself\u001b[0m\u001b[0;34m.\u001b[0m\u001b[0mQ\u001b[0m\u001b[0;34m,\u001b[0m\u001b[0mself\u001b[0m\u001b[0;34m.\u001b[0m\u001b[0mmulti_Q\u001b[0m\u001b[0;34m]\u001b[0m \u001b[0;34m=\u001b[0m \u001b[0mgenerate_orthonormal_matrix_with_leverage_scores\u001b[0m\u001b[0;34m(\u001b[0m\u001b[0mreal_dim\u001b[0m\u001b[0;34m,\u001b[0m\u001b[0mk\u001b[0m\u001b[0;34m,\u001b[0m\u001b[0mlv_scores\u001b[0m\u001b[0;34m,\u001b[0m\u001b[0mversions_number\u001b[0m\u001b[0;34m,\u001b[0m\u001b[0;34m'identity'\u001b[0m\u001b[0;34m)\u001b[0m\u001b[0;34m\u001b[0m\u001b[0m\n\u001b[0;32m---> 16\u001b[0;31m         \u001b[0mself\u001b[0m\u001b[0;34m.\u001b[0m\u001b[0mmulti_X\u001b[0m \u001b[0;34m=\u001b[0m \u001b[0mcontruct_dataset_from_orthogonal_matrix\u001b[0m\u001b[0;34m(\u001b[0m\u001b[0mself\u001b[0m\u001b[0;34m.\u001b[0m\u001b[0mmulti_Q\u001b[0m\u001b[0;34m,\u001b[0m\u001b[0mself\u001b[0m\u001b[0;34m.\u001b[0m\u001b[0mN\u001b[0m\u001b[0;34m,\u001b[0m\u001b[0mself\u001b[0m\u001b[0;34m.\u001b[0m\u001b[0mreal_dim\u001b[0m\u001b[0;34m,\u001b[0m\u001b[0mself\u001b[0m\u001b[0;34m.\u001b[0m\u001b[0mcov\u001b[0m\u001b[0;34m,\u001b[0m\u001b[0mself\u001b[0m\u001b[0;34m.\u001b[0m\u001b[0mmean\u001b[0m\u001b[0;34m,\u001b[0m\u001b[0mself\u001b[0m\u001b[0;34m.\u001b[0m\u001b[0mversions_number\u001b[0m\u001b[0;34m)\u001b[0m\u001b[0;34m\u001b[0m\u001b[0m\n\u001b[0m\u001b[1;32m     17\u001b[0m     \u001b[0;32mdef\u001b[0m \u001b[0mcontruct_dataset_from_orthogonal_matrix_4\u001b[0m\u001b[0;34m(\u001b[0m\u001b[0mself\u001b[0m\u001b[0;34m,\u001b[0m\u001b[0mmulti_Q\u001b[0m\u001b[0;34m,\u001b[0m\u001b[0mN\u001b[0m\u001b[0;34m,\u001b[0m\u001b[0mtarget_d\u001b[0m\u001b[0;34m,\u001b[0m\u001b[0mcov\u001b[0m\u001b[0;34m,\u001b[0m\u001b[0mmean\u001b[0m\u001b[0;34m,\u001b[0m\u001b[0mversions_number\u001b[0m\u001b[0;34m)\u001b[0m\u001b[0;34m:\u001b[0m\u001b[0;34m\u001b[0m\u001b[0m\n\u001b[1;32m     18\u001b[0m         \u001b[0mtest_multi_X\u001b[0m \u001b[0;34m=\u001b[0m \u001b[0mnp\u001b[0m\u001b[0;34m.\u001b[0m\u001b[0mzeros\u001b[0m\u001b[0;34m(\u001b[0m\u001b[0;34m(\u001b[0m\u001b[0mself\u001b[0m\u001b[0;34m.\u001b[0m\u001b[0mversions_number\u001b[0m\u001b[0;34m+\u001b[0m\u001b[0;36m1\u001b[0m\u001b[0;34m,\u001b[0m\u001b[0mN\u001b[0m\u001b[0;34m,\u001b[0m\u001b[0mreal_dim\u001b[0m\u001b[0;34m)\u001b[0m\u001b[0;34m)\u001b[0m\u001b[0;34m\u001b[0m\u001b[0m\n",
      "\u001b[0;32m<ipython-input-7-c037df829359>\u001b[0m in \u001b[0;36mcontruct_dataset_from_orthogonal_matrix\u001b[0;34m(multi_Q, N, target_d, cov, mean, versions_number)\u001b[0m\n\u001b[1;32m      2\u001b[0m     \u001b[0mmulti_X\u001b[0m \u001b[0;34m=\u001b[0m \u001b[0mnp\u001b[0m\u001b[0;34m.\u001b[0m\u001b[0mzeros\u001b[0m\u001b[0;34m(\u001b[0m\u001b[0;34m(\u001b[0m\u001b[0mversions_number\u001b[0m\u001b[0;34m+\u001b[0m\u001b[0;36m1\u001b[0m\u001b[0;34m,\u001b[0m\u001b[0mN\u001b[0m\u001b[0;34m,\u001b[0m\u001b[0mreal_dim\u001b[0m\u001b[0;34m)\u001b[0m\u001b[0;34m)\u001b[0m\u001b[0;34m\u001b[0m\u001b[0m\n\u001b[1;32m      3\u001b[0m     \u001b[0;32mfor\u001b[0m \u001b[0mt\u001b[0m \u001b[0;32min\u001b[0m \u001b[0mrange\u001b[0m\u001b[0;34m(\u001b[0m\u001b[0mversions_number\u001b[0m\u001b[0;34m+\u001b[0m\u001b[0;36m1\u001b[0m\u001b[0;34m)\u001b[0m\u001b[0;34m:\u001b[0m\u001b[0;34m\u001b[0m\u001b[0m\n\u001b[0;32m----> 4\u001b[0;31m         \u001b[0mtest_X\u001b[0m \u001b[0;34m=\u001b[0m \u001b[0mnp\u001b[0m\u001b[0;34m.\u001b[0m\u001b[0mrandom\u001b[0m\u001b[0;34m.\u001b[0m\u001b[0mmultivariate_normal\u001b[0m\u001b[0;34m(\u001b[0m\u001b[0mmean\u001b[0m\u001b[0;34m,\u001b[0m \u001b[0mcov\u001b[0m\u001b[0;34m,\u001b[0m \u001b[0mN\u001b[0m\u001b[0;34m)\u001b[0m\u001b[0;34m\u001b[0m\u001b[0m\n\u001b[0m\u001b[1;32m      5\u001b[0m         \u001b[0;34m[\u001b[0m\u001b[0mU\u001b[0m\u001b[0;34m,\u001b[0m\u001b[0m_\u001b[0m\u001b[0;34m,\u001b[0m\u001b[0m_\u001b[0m\u001b[0;34m]\u001b[0m \u001b[0;34m=\u001b[0m \u001b[0mnp\u001b[0m\u001b[0;34m.\u001b[0m\u001b[0mlinalg\u001b[0m\u001b[0;34m.\u001b[0m\u001b[0msvd\u001b[0m\u001b[0;34m(\u001b[0m\u001b[0mtest_X\u001b[0m\u001b[0;34m,\u001b[0m \u001b[0mfull_matrices\u001b[0m\u001b[0;34m=\u001b[0m\u001b[0;32mFalse\u001b[0m\u001b[0;34m)\u001b[0m\u001b[0;34m\u001b[0m\u001b[0m\n\u001b[1;32m      6\u001b[0m         \u001b[0mQ_test\u001b[0m \u001b[0;34m=\u001b[0m \u001b[0mextend_orthogonal_matrix\u001b[0m\u001b[0;34m(\u001b[0m\u001b[0mmulti_Q\u001b[0m\u001b[0;34m[\u001b[0m\u001b[0mt\u001b[0m\u001b[0;34m,\u001b[0m\u001b[0;34m:\u001b[0m\u001b[0;34m,\u001b[0m\u001b[0;34m:\u001b[0m\u001b[0;34m]\u001b[0m\u001b[0;34m,\u001b[0m\u001b[0mtarget_d\u001b[0m\u001b[0;34m)\u001b[0m\u001b[0;34m\u001b[0m\u001b[0m\n",
      "\u001b[0;32mmtrand.pyx\u001b[0m in \u001b[0;36mmtrand.RandomState.multivariate_normal\u001b[0;34m()\u001b[0m\n",
      "\u001b[0;31mValueError\u001b[0m: mean and cov must have same length"
     ]
    }
   ],
   "source": [
    "cov_2 = np.diag(np.concatenate(([1000,1000,1000,1,0.1],cov_test)))\n",
    "NAL_2 = Numrerical_Analysis_DPP(N,real_dim,r,k,versions_number,mean,cov_2,lv_scores_vector)\n",
    "projection_DPP_res_2 = NAL_2.get_expected_error_for_projection_DPP()\n",
    "volume_sampling_res_2 = NAL_2.get_expected_error_for_volume_sampling()\n",
    "deterministic_selection_res_2 = NAL_1.get_error_for_deterministic_selection()\n",
    "sum_U_res_2 = NAL_2.get_sum_k_leverage_scores()\n",
    "deterministic_upper_bound_res_2 = NAL_2.get_deterministic_upper_bound()\n",
    "\n",
    "results = [[\"Dataset\",\"Using Volume Sampling\",\"Using Projection DPP\",\"k-sum\",\"1/(1-epsilon)\",\"Using Deterministic Algorithm\"],[\"X_0\",volume_sampling_res_2[0],projection_DPP_res_2[0],sum_U_res_2[0],deterministic_upper_bound_res_2[0],deterministic_selection_res_2[0]],[\"X_1\",volume_sampling_res_2[1],projection_DPP_res_2[1],sum_U_res_2[1],deterministic_upper_bound_res_2[1],deterministic_selection_res_2[1]],\n",
    "          [\"X_2\",volume_sampling_res_2[2],projection_DPP_res_2[2],sum_U_res_2[2],deterministic_upper_bound_res_2[2],deterministic_selection_res_2[2]],[\"X_3\",volume_sampling_res_2[3],projection_DPP_res_2[3],sum_U_res_2[3],deterministic_upper_bound_res_2[3],deterministic_selection_res_2[3]],[\"X_4\",volume_sampling_res_2[4],projection_DPP_res_2[4],sum_U_res_2[4],deterministic_upper_bound_res_2[4],deterministic_selection_res_2[4]],[\"X_5\",volume_sampling_res_2[5],projection_DPP_res_2[5],sum_U_res_2[5],deterministic_upper_bound_res_2[5],deterministic_selection_res_2[5]]] \n",
    "display(HTML(\n",
    "    '<center><b>The expected approximation error (divided by the optimal error) according to a sampling scheme for different distribution</b><br><table><tr>{}</tr></table>'.format(\n",
    "        '</tr><tr>'.join(\n",
    "            '<td>{}</td>'.format('</td><td>'.join(str(_) for _ in row)) for row in results)\n",
    "        )\n",
    " ))"
   ]
  },
  {
   "cell_type": "markdown",
   "metadata": {
    "collapsed": true
   },
   "source": [
    "### III-2 The influence of the \"spread\" of V\n",
    "In this section we investigate the influence of the \"spread\" (to be defined formally) of the cloud of points. We can change this \"spread\" by changing the initialization of the generator of orthogonal matrices: we replace the rectangular identity by \"other\" orthogonal matrices.  \n",
    "Technically, this boils down to change the generator mode in the constructor call from \"nonspread\" to \"spread\"."
   ]
  },
  {
   "cell_type": "code",
   "execution_count": null,
   "metadata": {
    "collapsed": true
   },
   "outputs": [],
   "source": []
  },
  {
   "cell_type": "code",
   "execution_count": null,
   "metadata": {
    "collapsed": true
   },
   "outputs": [],
   "source": [
    "np.power(np.linspace(1, k, num=k),2)"
   ]
  },
  {
   "cell_type": "code",
   "execution_count": null,
   "metadata": {
    "collapsed": true
   },
   "outputs": [],
   "source": []
  },
  {
   "cell_type": "code",
   "execution_count": 25,
   "metadata": {
    "collapsed": true
   },
   "outputs": [],
   "source": [
    "matrices_array = [ np.zeros((4,4)) for comb in combinations(range(5),4)]\n",
    "\n"
   ]
  },
  {
   "cell_type": "code",
   "execution_count": 26,
   "metadata": {
    "collapsed": true
   },
   "outputs": [],
   "source": [
    "matrix_sum = np.sum(matrices_array)"
   ]
  },
  {
   "cell_type": "code",
   "execution_count": 27,
   "metadata": {},
   "outputs": [
    {
     "data": {
      "text/plain": [
       "0.0"
      ]
     },
     "execution_count": 27,
     "metadata": {},
     "output_type": "execute_result"
    }
   ],
   "source": [
    "matrix_sum"
   ]
  },
  {
   "cell_type": "code",
   "execution_count": 28,
   "metadata": {},
   "outputs": [
    {
     "data": {
      "text/plain": [
       "[array([[ 0.,  0.,  0.,  0.],\n",
       "        [ 0.,  0.,  0.,  0.],\n",
       "        [ 0.,  0.,  0.,  0.],\n",
       "        [ 0.,  0.,  0.,  0.]]), array([[ 0.,  0.,  0.,  0.],\n",
       "        [ 0.,  0.,  0.,  0.],\n",
       "        [ 0.,  0.,  0.,  0.],\n",
       "        [ 0.,  0.,  0.,  0.]]), array([[ 0.,  0.,  0.,  0.],\n",
       "        [ 0.,  0.,  0.,  0.],\n",
       "        [ 0.,  0.,  0.,  0.],\n",
       "        [ 0.,  0.,  0.,  0.]]), array([[ 0.,  0.,  0.,  0.],\n",
       "        [ 0.,  0.,  0.,  0.],\n",
       "        [ 0.,  0.,  0.,  0.],\n",
       "        [ 0.,  0.,  0.,  0.]]), array([[ 0.,  0.,  0.,  0.],\n",
       "        [ 0.,  0.,  0.,  0.],\n",
       "        [ 0.,  0.,  0.,  0.],\n",
       "        [ 0.,  0.,  0.,  0.]])]"
      ]
     },
     "execution_count": 28,
     "metadata": {},
     "output_type": "execute_result"
    }
   ],
   "source": [
    "matrices_array"
   ]
  },
  {
   "cell_type": "code",
   "execution_count": null,
   "metadata": {
    "collapsed": true
   },
   "outputs": [],
   "source": []
  }
 ],
 "metadata": {
  "kernelspec": {
   "display_name": "Python 3",
   "language": "python",
   "name": "python3"
  },
  "language_info": {
   "codemirror_mode": {
    "name": "ipython",
    "version": 3
   },
   "file_extension": ".py",
   "mimetype": "text/x-python",
   "name": "python",
   "nbconvert_exporter": "python",
   "pygments_lexer": "ipython3",
   "version": "3.6.3"
  }
 },
 "nbformat": 4,
 "nbformat_minor": 2
}
