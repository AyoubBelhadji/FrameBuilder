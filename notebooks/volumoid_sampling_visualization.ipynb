{
 "cells": [
  {
   "cell_type": "code",
   "execution_count": 1,
   "metadata": {
    "collapsed": true
   },
   "outputs": [],
   "source": [
    "import numpy as np\n",
    "from itertools import combinations\n",
    "from scipy.stats import binom\n",
    "import scipy.special\n",
    "import matplotlib.pyplot as plt"
   ]
  },
  {
   "cell_type": "code",
   "execution_count": 2,
   "metadata": {
    "collapsed": true
   },
   "outputs": [],
   "source": [
    "def approximation_error_function(V,Sigma,k,X_S):\n",
    "    d = list(Sigma.shape)[0]\n",
    "    Sigma = np.multiply(Sigma,Sigma)\n",
    "    sub_V,_,_ = np.linalg.svd(X_S, full_matrices=False)\n",
    "    H_hat = np.dot(V.T,sub_V)\n",
    "    r_vector = np.ones(d) - np.multiply(np.linalg.norm(H_hat,axis = 1),np.linalg.norm(H_hat,axis = 1))\n",
    "    approximation_error_ratio= np.sqrt(np.sum(np.multiply(Sigma,r_vector))/np.sum(Sigma[k:d]))\n",
    "    return approximation_error_ratio"
   ]
  },
  {
   "cell_type": "code",
   "execution_count": 3,
   "metadata": {
    "collapsed": false
   },
   "outputs": [],
   "source": [
    "def approximation_error_function_2(X,V,Sigma,k,X_S):\n",
    "    d = list(Sigma.shape)[0]\n",
    "    Sigma = np.multiply(Sigma,Sigma)\n",
    "    sub_V,_,_ = np.linalg.svd(X_S, full_matrices=False)\n",
    "    H_hat = np.dot(sub_V,sub_V.T)\n",
    "    approximation_error_ratio = np.sqrt(np.linalg.norm(np.dot(np.identity(d)-H_hat,X),'fro'))\n",
    "    #H_hat = np.dot(V.T,H_hat)\n",
    "    #sub_V_2 = X_S*(X_S.T*X_S)^(-1)*X_S.T\n",
    "    #r_vector_2 = \n",
    "    #r_vector = np.ones(d) - np.multiply(np.linalg.norm(H_hat,axis = 1),np.linalg.norm(H_hat,axis = 1))\n",
    "    #approximation_error_ratio=  np.sqrt(np.sum(np.multiply(Sigma,r_vector))/np.sum(Sigma[k:d]))\n",
    "    return approximation_error_ratio"
   ]
  },
  {
   "cell_type": "code",
   "execution_count": 4,
   "metadata": {
    "collapsed": true
   },
   "outputs": [],
   "source": [
    "def probability_approximation_error_for_projection_DPP(X,U_,d,k,N):\n",
    "    V,Sigma,_ = np.linalg.svd(X, full_matrices=False)\n",
    "    volumes_array = [np.abs(np.linalg.det(np.dot(U_[:,list(comb)].T,U_[:,list(comb)]))) for comb in combinations(range(N),k)]\n",
    "    approximation_error_array = [approximation_error_function(V,Sigma,k,X[:,list(comb)]) for comb in combinations(range(N),k)]\n",
    "\n",
    "    return volumes_array,approximation_error_array"
   ]
  },
  {
   "cell_type": "code",
   "execution_count": 24,
   "metadata": {
    "collapsed": false
   },
   "outputs": [],
   "source": [
    "#N = 100\n",
    "#d = 5\n",
    "#k = 2\n",
    "\n",
    "#mean = [0, 0, 0, 0, 0]\n",
    "#cov = np.diag([1,1,1,0.1,0.1])\n",
    "#r_X = np.random.multivariate_normal(mean, cov, N).T\n",
    "\n",
    "N = 100\n",
    "d = 90\n",
    "k = 1\n",
    "alpha = 0.4\n",
    "mean_X = np.zeros([N])\n",
    "cov_X = alpha*np.ones((N, N))\n",
    "cov_X = cov_X + (1-alpha)*np.eye(N)\n",
    "r_X = np.random.multivariate_normal(mean_X, cov_X, d)\n",
    "\n",
    "\n",
    "\n",
    "\n",
    "\n",
    "\n",
    "[V,S,U] = np.linalg.svd(r_X, full_matrices=False)"
   ]
  },
  {
   "cell_type": "code",
   "execution_count": 25,
   "metadata": {
    "collapsed": false
   },
   "outputs": [
    {
     "data": {
      "image/png": "[encoded data removed]",
      "text/plain": [
       "<matplotlib.figure.Figure at 0x109d946d8>"
      ]
     },
     "metadata": {},
     "output_type": "display_data"
    },
    {
     "data": {
      "image/png": "[encoded data removed]",
      "text/plain": [
       "<matplotlib.figure.Figure at 0x109c93588>"
      ]
     },
     "metadata": {},
     "output_type": "display_data"
    }
   ],
   "source": [
    "volumes_array_1,approximation_error_array_1 = probability_approximation_error_for_projection_DPP(r_X,r_X,d,k,N)\n",
    "volumes_array_2,approximation_error_array_2 = probability_approximation_error_for_projection_DPP(r_X,U[0:1, :],d,k,N)\n",
    "#volumes_array_3,approximation_error_array_3 = probability_approximation_error_for_projection_DPP(r_X,U[3:5, :],d,k,N)\n",
    "#volumes_array_4,approximation_error_array_4 = probability_approximation_error_for_projection_DPP(r_X,U,d,k,N)\n",
    "\n",
    "fig = plt.figure()\n",
    "fig.suptitle('Volume Sampling k-DPP', fontsize=20)\n",
    "plt.xlabel('log Error_ratio', fontsize=18)\n",
    "plt.ylabel('log Vol X_S', fontsize=16)\n",
    "vol_X_scatter = plt.scatter( np.log(approximation_error_array_1),np.log(volumes_array_1),s =3)\n",
    "plt.show()\n",
    "#fig = plt.figure()\n",
    "#fig.suptitle('Leverage Volume k-DPP', fontsize=20)\n",
    "#plt.xlabel('log Error_ratio', fontsize=18)\n",
    "#plt.ylabel('log Vol U_S', fontsize=16)\n",
    "#vol_U_scatter = plt.scatter( np.log(approximation_error_array_4),np.log(volumes_array_4),s =3)\n",
    "#plt.show()\n",
    "fig = plt.figure()\n",
    "fig.suptitle('0_2 Leverage Volume projection-DPP', fontsize=20)\n",
    "plt.xlabel('log Error_ratio', fontsize=18)\n",
    "plt.ylabel('log Vol U_S_0_2', fontsize=16)\n",
    "projection_DPP_0_2_scatter = plt.scatter( np.log(approximation_error_array_2),np.log(volumes_array_2),s =3)\n",
    "plt.show()\n",
    "#fig = plt.figure()\n",
    "#fig.suptitle('3_5 Leverage Volume projection-DPP', fontsize=20)\n",
    "#plt.xlabel('log Error_ratio', fontsize=18)\n",
    "#plt.ylabel('log Vol U_S_3_5', fontsize=16)\n",
    "#projection_DPP_3_5_scatter = plt.scatter( np.log(approximation_error_array_3),np.log(volumes_array_3),s =3)\n",
    "\n",
    "#plt.show()"
   ]
  },
  {
   "cell_type": "code",
   "execution_count": 23,
   "metadata": {
    "collapsed": false
   },
   "outputs": [
    {
     "data": {
      "text/plain": [
       "(90, 100)"
      ]
     },
     "execution_count": 23,
     "metadata": {},
     "output_type": "execute_result"
    }
   ],
   "source": [
    "np.shape(r_X)"
   ]
  },
  {
   "cell_type": "code",
   "execution_count": null,
   "metadata": {
    "collapsed": true
   },
   "outputs": [],
   "source": []
  }
 ],
 "metadata": {
  "kernelspec": {
   "display_name": "Python [default]",
   "language": "python",
   "name": "python3"
  },
  "language_info": {
   "codemirror_mode": {
    "name": "ipython",
    "version": 3
   },
   "file_extension": ".py",
   "mimetype": "text/x-python",
   "name": "python",
   "nbconvert_exporter": "python",
   "pygments_lexer": "ipython3",
   "version": "3.5.2"
  }
 },
 "nbformat": 4,
 "nbformat_minor": 2
}
