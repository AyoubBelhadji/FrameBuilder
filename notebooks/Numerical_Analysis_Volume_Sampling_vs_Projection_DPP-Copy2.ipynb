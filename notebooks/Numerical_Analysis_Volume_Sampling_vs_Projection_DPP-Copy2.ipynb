{
 "cells": [
  {
   "cell_type": "markdown",
   "metadata": {},
   "source": [
    "# Volume Sampling vs projection DPP for low rank approximation\n",
    "## Introduction\n",
    "#### In this notebook we compare the volume sampling and projection DPP for low rank approximation.\n",
    "We recall the result proved in the article [DRVW]:\\\\\n",
    "Let S be a random subset of k columns of X chosen with probability: $$P(S) = \\frac{1}{Z_{k}} det(X_{.,S}^{T}X_{.,S})$$ with $$Z_{k} = \\sum\\limits_{S \\subset [N], |S| = k} det(X_{.,S}^{T}X_{.,S})$$\n",
    "Then\n",
    "$$\\begin{equation}\n",
    "E(\\| X - \\pi_{X_{.,S}}(X) \\|_{Fr}^{2}) \\leq (k+1)\\| X - \\pi_{k}(X) \\|_{Fr}^{2}\n",
    "\\end{equation}$$\n",
    "\n",
    "\n",
    "We can prove that the volume sampling distribution is a mixture of projection DPPs distributions..., in particular one projection DPP distribution stands out for the problem of low rank approximation: ....\\\\\n",
    "For the moment, there is no analytical expression for $$\\begin{equation}\n",
    "E(\\| X - \\pi_{X_{.,S}}(X) \\|_{Fr}^{2}) \n",
    "\\end{equation}$$ under the distribution of projection DPP.\\\\\n",
    "However, we can calculate this quantity using simulation on some matrices representing cloud points with some specific geometric constraints.\n",
    "\n",
    "Let $$X \\in R^{n \\times m}$$ a matrix representing a cloud of points.\n",
    "We can write the SVD of $$X = UDV^{T}$$  \n",
    "In this notebook we investigate the influence of some structures enforced to V and D on the expected error expressed above for different algorithms: Volume Sampling, Projection DPP and the deterministic algorithm.  \n",
    "As for the Volume Sampling distribution, we can express the expected approximation error using only the elements of D. We can test this theoretical property in the next Numerical Study below. However, there is no closed formula (for the moment) for the expected approximation error under Projection DPP distribution. We will see in the Numerical Study section, that this value cannot depends only on the elements of D. "
   ]
  },
  {
   "cell_type": "markdown",
   "metadata": {},
   "source": [
    "#### References\n",
    "[DRVW] Deshpande, Amit and Rademacher, Luis and Vempala, Santosh and Wang, Grant - Matrix Approximation and Projective Clustering via Volume Sampling 2006\n",
    "\n",
    "[BoDr] Boutsidis, Christos and Drineas, Petros  - Deterministic and randomized column selection algorithms for matrices 2014\n",
    "\n",
    "[] INDERJIT S. DHILLON , ROBERT W. HEATH JR., MA ́TYA ́S A. SUSTIK, AND\n",
    "JOEL A. TROPP - GENERALIZED FINITE ALGORITHMS FOR CONSTRUCTING HERMITIAN MATRICES\n",
    "WITH PRESCRIBED DIAGONAL AND SPECTRUM 2005"
   ]
  },
  {
   "cell_type": "markdown",
   "metadata": {},
   "source": [
    "## I- Generating a cloud of points with geometric constraints\n",
    "In this simulation we will enforce some structure on the matrix V for two values of the matrix D. While the matrix U will be choosen randomly.  \n",
    "We want to investigate the influence of the profile of the norms of the V_k rows: the k-leverage scores. For this purpose we use an algorithm proposed in the article []: this algorithm outputs a ( dxk)  matrix Q with orthonormal columns and a prescribed profile of the norms of the rows. If we consider the Gram matrix H= QQ^{T}, this boils down to enforce the diagonal of H while keeping its spectrum containing k ones and d-k zeros.  \n",
    "The algorithm proceed as following:\n",
    "* Initialization of the matrix Q by the rectangular identity\n",
    "* Apply a Givens Rotation (of dimension d) to the matrix Q: this step will enforce the norm of a row every iteration\n",
    "* Outputs the resulting matrix when all the rows norms are enforced.\n"
   ]
  },
  {
   "cell_type": "code",
   "execution_count": 8,
   "metadata": {
    "collapsed": true
   },
   "outputs": [],
   "source": [
    "import numpy as np\n",
    "import pandas as pd\n",
    "from itertools import combinations\n",
    "from scipy.stats import binom\n",
    "import scipy.special\n",
    "import matplotlib.pyplot as plt\n",
    "import matplotlib.patches as mpatches\n",
    "from IPython.display import display, HTML\n",
    "import sys\n",
    "sys.path.append(\"../\")\n",
    "from FrameBuilder.eigenstepsbuilder import *\n",
    "from decimal import *\n",
    "from copy import deepcopy\n",
    "import matplotlib.lines as mlines\n",
    "import matplotlib.transforms as mtransforms\n"
   ]
  },
  {
   "cell_type": "markdown",
   "metadata": {
    "collapsed": true
   },
   "source": [
    "The following function is an implementation of the algorithm [] figuring in the article [] to generate an orthogonal matrix with a prescribed profile of leverage scores.\n",
    "In fact this is a simplification of the algorithm ....."
   ]
  },
  {
   "cell_type": "code",
   "execution_count": 2,
   "metadata": {
    "collapsed": true
   },
   "outputs": [],
   "source": [
    "def generate_leverage_scores_vector_with_dirichlet_2(d,k,nn_cardinal):\n",
    "    getcontext().prec = 3\n",
    "    mu_vector = np.float16(np.zeros((d,)))\n",
    "    mu_vector_2 = np.float16(np.zeros((d,)))\n",
    "    not_bounded = 1\n",
    "    while(not_bounded == 1):\n",
    "        mu_vector[0:nn_cardinal] = (k*np.random.dirichlet([1]*nn_cardinal, 1))[0]\n",
    "        mu_vector = np.flip(np.sort(mu_vector),axis = 0)\n",
    "        if max(mu_vector)<=1:\n",
    "            not_bounded = 0\n",
    "    for i in range(nn_cardinal):\n",
    "        mu_vector_2[i] = round(mu_vector[i],4)\n",
    "    mu_vector_2 = k*mu_vector_2/np.sum(mu_vector_2)\n",
    "    #print(mu_vector_2)\n",
    "    return list(mu_vector_2)\n"
   ]
  },
  {
   "cell_type": "code",
   "execution_count": 3,
   "metadata": {
    "collapsed": true
   },
   "outputs": [],
   "source": [
    "def generate_leverage_scores_vector_with_dirichlet(d,k,nn_cardinal):\n",
    "    getcontext().prec = 3\n",
    "    mu_vector = np.float16(np.zeros((d,)))\n",
    "    mu_vector_2 = np.float16(np.zeros((d,)))\n",
    "    not_bounded = 1\n",
    "    while(not_bounded == 1):\n",
    "        mu_vector[0:nn_cardinal] = (k*np.random.dirichlet([1]*nn_cardinal, 1))[0]\n",
    "        mu_vector = np.flip(np.sort(mu_vector),axis = 0)\n",
    "        if max(mu_vector)<=1:\n",
    "            not_bounded = 0\n",
    "    for i in range(nn_cardinal):\n",
    "        mu_vector_2[i] = round(mu_vector[i],3)\n",
    "    numbers = [ int(1000*x) for x in mu_vector_2 ] \n",
    "    #print(numbers)\n",
    "    #print(np.sum(numbers))\n",
    "    numbers[nn_cardinal-1] = 1000*k-np.sum(numbers[0:nn_cardinal-1])\n",
    "    numbers_to_float = 1/1000*np.asarray([float(x) for x in numbers])\n",
    "    #print(np.sum(numbers_to_float))\n",
    "    mu_vector_2 = k*numbers_to_float/np.sum(numbers_to_float)\n",
    "    #print(\"this the real random generator\")\n",
    "    #print(mu_vector_2)\n",
    "    return list(mu_vector_2)"
   ]
  },
  {
   "cell_type": "code",
   "execution_count": 4,
   "metadata": {
    "collapsed": true
   },
   "outputs": [],
   "source": [
    "def generate_orthonormal_matrix_with_leverage_scores_ES(N,d,lv_scores_vector,versions_number,nn_cardinal_list):\n",
    "\n",
    "    lambda_vector = np.zeros((N))\n",
    "    lambda_vector[0:d] = np.ones((d))\n",
    "\n",
    "    #mu_vector = np.linspace(1, 0.1, num=N)\n",
    "    #sum_mu_vector = np.sum(mu_vector)\n",
    "    #mu_vector = d/sum_mu_vector*mu_vector\n",
    "    Q = np.zeros((N,d))\n",
    "    previous_Q = np.zeros((versions_number,N,d))\n",
    "    #mu_vector = d/N*np.ones((N,1))\n",
    "    E = np.zeros((N,N)) #(d,N)\n",
    "    counter = 0\n",
    "    for j in nn_cardinal_list:\n",
    "        #print(\"counter\")\n",
    "        #print(counter)\n",
    "        failure_test = 1\n",
    "        while failure_test ==1:\n",
    "            mu_vector = generate_leverage_scores_vector_with_dirichlet(N,d,j)\n",
    "            #print(np.sum(mu_vector))\n",
    "            #print(mu_vector)\n",
    "            E_test = get_eigensteps_random(mu_vector,lambda_vector,N,d)\n",
    "            E_ = np.zeros((d,N+1))\n",
    "            for i in range(d):\n",
    "                E_[i,1:N+1] = E_test[i,:] \n",
    "            F_test = get_F(d,N,np.asmatrix(E_),mu_vector)\n",
    "            if np.isnan(F_test).any() == False:\n",
    "                failure_test = 0\n",
    "        previous_Q[counter,:,:] = np.transpose(F_test)\n",
    "        Q = np.transpose(F_test)\n",
    "        counter = counter +1\n",
    "    return Q,previous_Q"
   ]
  },
  {
   "cell_type": "code",
   "execution_count": 5,
   "metadata": {},
   "outputs": [
    {
     "data": {
      "text/plain": [
       "[18, 17, 16, 15, 14, 13, 12, 11, 10, 9, 8, 7, 6, 5, 4, 3, 2, 1, 0]"
      ]
     },
     "execution_count": 5,
     "metadata": {},
     "output_type": "execute_result"
    }
   ],
   "source": [
    "list(range(20-2,-1,-1))"
   ]
  },
  {
   "cell_type": "code",
   "execution_count": null,
   "metadata": {
    "collapsed": true
   },
   "outputs": [],
   "source": []
  },
  {
   "cell_type": "code",
   "execution_count": null,
   "metadata": {
    "collapsed": true
   },
   "outputs": [],
   "source": []
  },
  {
   "cell_type": "code",
   "execution_count": 6,
   "metadata": {
    "collapsed": true
   },
   "outputs": [],
   "source": [
    "static_list = list(range(11,21))\n"
   ]
  },
  {
   "cell_type": "code",
   "execution_count": 9,
   "metadata": {},
   "outputs": [],
   "source": [
    "random_cardinal_list = list(np.random.choice(static_list, 3))\n",
    "Q,previous_Q = generate_orthonormal_matrix_with_leverage_scores_ES(20,3,[],3,random_cardinal_list)"
   ]
  },
  {
   "cell_type": "code",
   "execution_count": 10,
   "metadata": {
    "collapsed": true
   },
   "outputs": [],
   "source": [
    "## The dimensions of the design matrix X\n",
    "N = 100       # The number of observations in the dataset\n",
    "real_dim = 20 # The dimension of the dataset\n",
    "## The low rank paramters\n",
    "k = 3         # The rank of the low rank approximation \n",
    "## The covariance matrix parameters\n",
    "r = 6         # Just a parameter to control the number of non trivial singular values in the covariance matrix\n",
    "mean = np.zeros((real_dim))    # The mean vector useful to generate U (X = UDV^T)\n",
    "cov_test = 0.1*np.ones((real_dim-r))  # The \"trivial\" singular values in the covariance matrix (there are real_dim-r)\n",
    "cov = np.diag(np.concatenate(([100,100,100,0.1,0.1,0.1],cov_test)))\n",
    "\n",
    "## The paramters of the matrix V\n",
    "versions_number = 3 # The number of orthogonal matrices (and therefor datasets) (-1) generated by the algorithm above\n",
    "lv_scores_vector = k/real_dim*np.ones(real_dim)  # The vector of leverage scores (the last one)"
   ]
  },
  {
   "cell_type": "markdown",
   "metadata": {},
   "source": [
    "The following function allows to estimate the leverage scores for an orthogonal matrix Q: the function calculates the diagonoal of the matrix $$Q Q^{T}$$"
   ]
  },
  {
   "cell_type": "code",
   "execution_count": 11,
   "metadata": {
    "collapsed": true
   },
   "outputs": [],
   "source": [
    "def estimate_leverage_scores_from_orthogonal_matrix(Q):\n",
    "    [N,_] = np.shape(Q)\n",
    "    lv_scores_vector = np.zeros((N,1))\n",
    "    lv_scores_vector = np.diag(np.dot(Q,np.transpose(Q)))\n",
    "    lv_scores_vector = np.asarray(list(reversed(np.sort(lv_scores_vector))))\n",
    "    return lv_scores_vector\n",
    "def estimate_sum_first_k_leverage_scores(Q,k):\n",
    "    lv_scores_vector = estimate_leverage_scores_from_orthogonal_matrix(Q)\n",
    "    res = np.sum(lv_scores_vector[0:k])\n",
    "    return res"
   ]
  },
  {
   "cell_type": "code",
   "execution_count": 12,
   "metadata": {
    "collapsed": true
   },
   "outputs": [],
   "source": [
    "def get_p_eff_leverage_scores(Q,k):\n",
    "    lv_scores_vector = estimate_leverage_scores_from_orthogonal_matrix(Q)\n",
    "    p = 0\n",
    "    lv_scores_sum_until_p = 0\n",
    "    while lv_scores_sum_until_p < k-1/2:\n",
    "        lv_scores_sum_until_p = lv_scores_sum_until_p+lv_scores_vector[p]\n",
    "        p = p +1\n",
    "    return p"
   ]
  },
  {
   "cell_type": "markdown",
   "metadata": {
    "collapsed": true
   },
   "source": [
    "## I-2- Extending the orthogonal matrices"
   ]
  },
  {
   "cell_type": "markdown",
   "metadata": {},
   "source": [
    "For the task of low rank approximation, we have seen that only the information contained in the first right k eigenvectors of the matrix X are relevant. In the previous step we build only the first right k eigenvectors but we still need to complete these orthogonal matrices with d-k columns. We proceed as following:\n",
    "Generate a random vector (Nx1) using independent standard gaussian variables,\n",
    "Project this vector in the orthogonal of the span of Q\n",
    "Normalize the obtained vector after the projection\n",
    "Extend the matrix Q\n",
    "Note that this procedure is not the unique way to extend the matrix Q to an orthogonal (Nxd) matrix."
   ]
  },
  {
   "cell_type": "code",
   "execution_count": 13,
   "metadata": {
    "collapsed": true
   },
   "outputs": [],
   "source": [
    "def extend_orthogonal_matrix(Q,d_target):\n",
    "    [N,d] = np.shape(Q)\n",
    "    determinant_test = 0\n",
    "    failure_counter = 0\n",
    "    #print(\"is nan for initial Q\")\n",
    "    #print(np.isnan(Q).any())\n",
    "    while np.abs(determinant_test-1.0)>0.5:\n",
    "        Q_target = np.zeros((N,d))\n",
    "        Q_target = deepcopy(Q)\n",
    "        delta = d_target - d\n",
    "        for t in range(delta):\n",
    "            Q_test = np.random.normal(0, 1, N)\n",
    "            for _ in range(d+t):\n",
    "                Q_test = Q_test - np.dot(Q_test,Q_target[:,_])*Q_target[:,_]\n",
    "            Q_test = Q_test/np.linalg.norm(Q_test)\n",
    "            Q_test = Q_test.reshape(N,1)\n",
    "            Q_target = np.append(Q_target,Q_test,1)\n",
    "        determinant_test = np.linalg.det(np.dot(Q_target,Q_target.T))\n",
    "        #print(\"is nan for final Q\")\n",
    "        #print(np.isnan(Q_target).any())\n",
    "        _,Sigma,_ = np.linalg.svd(Q_target, full_matrices=False)\n",
    "        #print(Sigma)\n",
    "        #print(str(np.linalg.det(np.dot(Q_target,Q_target.T))))\n",
    "        #print(failure_counter)\n",
    "        failure_counter = failure_counter +1\n",
    "    return Q_target\n",
    "\n",
    "#extended_Q = extend_orthogonal_matrix(Q,r)"
   ]
  },
  {
   "cell_type": "markdown",
   "metadata": {},
   "source": [
    "## I-3 - Constructing a dataset for every extended orthogonal matrix \n",
    "The previous step allow us to build (N x d) orthogonal matrices such that the extracted (N x k) matrix have a prescribed profile of leverage scores.\n",
    "Now we construct a cloud of point by assigning a covariance matrix D and a matrix V"
   ]
  },
  {
   "cell_type": "code",
   "execution_count": 14,
   "metadata": {
    "collapsed": true
   },
   "outputs": [],
   "source": [
    "def contruct_dataset_from_orthogonal_matrix(multi_Q,N,target_d,cov,mean,versions_number):\n",
    "    multi_X = np.zeros((versions_number,N,real_dim))\n",
    "    for t in range(versions_number):\n",
    "        test_X = np.random.multivariate_normal(mean, cov, N)\n",
    "        [U,_,_] = np.linalg.svd(test_X, full_matrices=False)\n",
    "        Q_test = extend_orthogonal_matrix(multi_Q[t,:,:],target_d)\n",
    "        multi_X[t,:,:] = np.dot(np.dot(Q_test,cov),U.T).T\n",
    "        _,Sigma,_ = np.linalg.svd(multi_X[t,:,:], full_matrices=False)\n",
    "        #print(Sigma)\n",
    "    return multi_X\n",
    "\n"
   ]
  },
  {
   "cell_type": "markdown",
   "metadata": {},
   "source": [
    "## II- Volume sampling vs Projection DPP for low rank approximation\n",
    "These functions allow to quantify the approximation error:\n",
    "* approximation_error_function_fro calculate the ratio of the approximation error of a subset of columns to the optimal approximatione error given by the first k left eigenvectors of the matrix X\n",
    "* expected_approximation_error_for_sampling_scheme calculate the expected value of the ratio of the approximatione error under some sampling distribution"
   ]
  },
  {
   "cell_type": "code",
   "execution_count": 15,
   "metadata": {
    "collapsed": true
   },
   "outputs": [],
   "source": [
    "def approximation_error_function_fro(Sigma,k,X,X_S):\n",
    "    ## Sigma is the spectrum of the matrix X: we need to calculate the optimal approximation error given by the PCA\n",
    "    ## k is the rank of the approximation\n",
    "    ## X is the initial matrix\n",
    "    ## X_S is the subset of columns of the matrix X for witch we calculate the approximation error ratio\n",
    "    d = list(Sigma.shape)[0] # the dimension of the matrix X\n",
    "    Sigma = np.multiply(Sigma,Sigma)  # Sigma power 2 -> we are intersted in the approximation error square\n",
    "    sigma_S_temp = np.linalg.inv(np.dot(X_S.T,X_S))  # just a temporary matrix to construct the projection matrix\n",
    "    projection_S = np.dot(np.dot(X_S,sigma_S_temp),X_S.T) # the projection matrix P_S\n",
    "    res_X = X - np.dot(projection_S,X) # The projection of the matrix X in the orthogonal of S\n",
    "    approximation_error_ratio = np.power(np.linalg.norm(res_X,'fro'),2)/np.sum(Sigma[k:d])\n",
    "    # Calculate the apparoximation error ratio\n",
    "    return approximation_error_ratio"
   ]
  },
  {
   "cell_type": "code",
   "execution_count": 16,
   "metadata": {
    "collapsed": true
   },
   "outputs": [],
   "source": [
    "def approximation_error_function_spectral(Sigma,k,X,X_S):\n",
    "    ## Sigma is the spectrum of the matrix X: we need to calculate the optimal approximation error given by the PCA\n",
    "    ## k is the rank of the approximation\n",
    "    ## X is the initial matrix\n",
    "    ## X_S is the subset of columns of the matrix X for witch we calculate the approximation error ratio\n",
    "    d = list(Sigma.shape)[0] # the dimension of the matrix X\n",
    "    Sigma = np.multiply(Sigma,Sigma)  # Sigma power 2 -> we are intersted in the approximation error square\n",
    "    sigma_S_temp = np.linalg.inv(np.dot(X_S.T,X_S))  # just a temporary matrix to construct the projection matrix\n",
    "    projection_S = np.dot(np.dot(X_S,sigma_S_temp),X_S.T) # the projection matrix P_S\n",
    "    res_X = X - np.dot(projection_S,X) # The projection of the matrix X in the orthogonal of S\n",
    "    approximation_error_ratio = np.power(np.linalg.norm(res_X,ord = 2),2)/np.sum(Sigma[k:k+1])\n",
    "    # Calculate the apparoximation error ratio\n",
    "    return approximation_error_ratio"
   ]
  },
  {
   "cell_type": "code",
   "execution_count": 17,
   "metadata": {
    "collapsed": true
   },
   "outputs": [],
   "source": [
    "def upper_bound_error_function_for_projection_DPP(k,X,X_S):\n",
    "    ## Sigma is the spectrum of the matrix X: we need to calculate the optimal approximation error given by the PCA\n",
    "    ## k is the rank of the approximation\n",
    "    ## X is the initial matrix\n",
    "    ## X_S is the subset of columns of the matrix X for witch we calculate the approximation error ratio\n",
    "    _,sigma_S_temp,_ = np.linalg.svd(X_S, full_matrices=False)  # just a temporary matrix to construct the projection matrix\n",
    "    trunc_product = np.power(np.prod(sigma_S_temp[0:k-1]),2)\n",
    "    if np.power(np.prod(sigma_S_temp[0:k]),2) == 0:\n",
    "        trunc_product = 0\n",
    "    # Calculate the apparoximation error ratio\n",
    "    return trunc_product"
   ]
  },
  {
   "cell_type": "code",
   "execution_count": 18,
   "metadata": {
    "collapsed": true
   },
   "outputs": [],
   "source": [
    "def tight_upper_bound_error_function_fro(k,X,X_S,V_k,V_k_S):\n",
    "    ## Sigma is the spectrum of the matrix X: we need to calculate the optimal approximation error given by the PCA\n",
    "    ## k is the rank of the approximation\n",
    "    ## X is the initial matrix\n",
    "    ## X_S is the subset of columns of the matrix X for witch we calculate the approximation error ratio\n",
    "    _,Sigma,_ = np.linalg.svd(X, full_matrices=False)\n",
    "    d = list(Sigma.shape)[0]\n",
    "    Sigma = np.multiply(Sigma,Sigma)\n",
    "    if np.linalg.matrix_rank(V_k_S,0.0001) == k:\n",
    "        temp_T = np.dot(np.linalg.inv(V_k_S),V_k)\n",
    "        temp_matrix = X - np.dot(X_S,temp_T)\n",
    "    \n",
    "        return np.power(np.linalg.norm(temp_matrix,'fro'),2)/np.sum(Sigma[k:d])\n",
    "    else:\n",
    "        return 0"
   ]
  },
  {
   "cell_type": "code",
   "execution_count": 19,
   "metadata": {
    "collapsed": true
   },
   "outputs": [],
   "source": [
    "def get_the_matrix_sum_T_S(k,d,V_k,V_d_k):\n",
    "    ## Sigma is the spectrum of the matrix X: we need to calculate the optimal approximation error given by the PCA\n",
    "    ## k is the rank of the approximation\n",
    "    ## X is the initial matrix\n",
    "    ## X_S is the subset of columns of the matrix X for witch we calculate the approximation error ratio\n",
    "    #Sigma = np.multiply(Sigma,Sigma)\n",
    "    #matrices_array = [ np.dot(V_d_k[:,list(comb)],np.dot(np.dot(np.linalg.inv(V_k[:,list(comb)]),np.linalg.inv(V_k[:,list(comb)]))),np.transpose(V_d_k[:,list(comb)])) for comb in combinations(range(d),k) if np.linalg.matrix_rank(V_k[:,list(comb)],0.000001) == k]\n",
    "    T = np.zeros((d-k,d-k))\n",
    "    for comb in combinations(range(d),k):\n",
    "        if np.linalg.matrix_rank(V_k[:,list(comb)],0.0000000001) == k: \n",
    "            V_k_S_inv = np.linalg.inv(V_k[:,list(comb)])\n",
    "            V_d_k_S = V_d_k[:,list(comb)]\n",
    "            V_k_S_inv_2 = np.transpose(np.dot(V_k_S_inv,np.transpose(V_k_S_inv)))\n",
    "            #T = np.dot(np.dot(np.dot(V_d_k_S,np.dot(V_k_S_inv,np.transpose(V_k_S_inv)))),np.transpose(V_d_k_S)) + T\n",
    "            T = np.power(np.linalg.det(V_k[:,list(comb)]),2)*np.dot(V_d_k_S,np.dot(V_k_S_inv_2,np.transpose(V_d_k_S))) +T\n",
    "    return T"
   ]
  },
  {
   "cell_type": "code",
   "execution_count": 20,
   "metadata": {
    "collapsed": true
   },
   "outputs": [],
   "source": [
    "def tight_approximation_error_fro_for_sampling_scheme(X,U,k,N):\n",
    "    ## X is the matrix X :)\n",
    "    ## U is the matrix used in the sampling: we sample propotional to the volume of UU^{T}_{S,S}: \n",
    "    ## we are not sampling but we need the weigth to estimate the expected error\n",
    "    ## k is the rank of the approximation\n",
    "    ## N is the number of columns (to be changed to avoid confusion with the number of points)\n",
    "    _,Sigma,V = np.linalg.svd(X, full_matrices=False)\n",
    "    V_k = V[0:k,:]\n",
    "    ## Estimating the spectrum of X -> needed in approximation_error_function_fro\n",
    "    volumes_array = [np.abs(np.linalg.det(np.dot(U[:,list(comb)].T,U[:,list(comb)]))) for comb in combinations(range(N),k)]\n",
    "    ## Construct the array of weights: the volumes of UU^{T}_{S,S}\n",
    "    volumes_array_sum = np.sum(volumes_array)\n",
    "    ## The normalization constant\n",
    "    volumes_array = volumes_array/volumes_array_sum\n",
    "    ## The weigths normalized\n",
    "    approximation_error_array = [tight_upper_bound_error_function_fro(k,X,X[:,list(comb)],V_k,V_k[:,list(comb)]) for comb in combinations(range(N),k)]\n",
    "    ## Calculating the approximation error for every k-tuple\n",
    "    expected_value = np.dot(approximation_error_array,volumes_array)\n",
    "    ## The expected value of the approximatione error is just the dot product of the two arrays above\n",
    "    return expected_value"
   ]
  },
  {
   "cell_type": "code",
   "execution_count": 21,
   "metadata": {
    "collapsed": true
   },
   "outputs": [],
   "source": [
    "def expected_approximation_error_fro_for_sampling_scheme(X,U,k,N):\n",
    "    ## X is the matrix X :)\n",
    "    ## U is the matrix used in the sampling: we sample propotional to the volume of UU^{T}_{S,S}: \n",
    "    ## we are not sampling but we need the weigth to estimate the expected error\n",
    "    ## k is the rank of the approximation\n",
    "    ## N is the number of columns (to be changed to avoid confusion with the number of points)\n",
    "    _,Sigma,_ = np.linalg.svd(X, full_matrices=False)\n",
    "    ## Estimating the spectrum of X -> needed in approximation_error_function_fro\n",
    "    volumes_array = [np.abs(np.linalg.det(np.dot(U[:,list(comb)].T,U[:,list(comb)]))) for comb in combinations(range(N),k)]\n",
    "    ## Construct the array of weights: the volumes of UU^{T}_{S,S}\n",
    "    volumes_array_sum = np.sum(volumes_array)\n",
    "    ## The normalization constant\n",
    "    volumes_array = volumes_array/volumes_array_sum\n",
    "    ## The weigths normalized\n",
    "    approximation_error_array = [approximation_error_function_fro(Sigma,k,X,X[:,list(comb)]) for comb in combinations(range(N),k)]\n",
    "    ## Calculating the approximation error for every k-tuple\n",
    "    expected_value = np.dot(approximation_error_array,volumes_array)\n",
    "    ## The expected value of the approximatione error is just the dot product of the two arrays above\n",
    "    return expected_value"
   ]
  },
  {
   "cell_type": "code",
   "execution_count": 22,
   "metadata": {
    "collapsed": true
   },
   "outputs": [],
   "source": [
    "def expected_approximation_error_spectral_for_sampling_scheme(X,U,k,N):\n",
    "    ## X is the matrix X :)\n",
    "    ## U is the matrix used in the sampling: we sample propotional to the volume of UU^{T}_{S,S}: \n",
    "    ## we are not sampling but we need the weigth to estimate the expected error\n",
    "    ## k is the rank of the approximation\n",
    "    ## N is the number of columns (to be changed to avoid confusion with the number of points)\n",
    "    _,Sigma,_ = np.linalg.svd(X, full_matrices=False)\n",
    "    ## Estimating the spectrum of X -> needed in approximation_error_function_fro\n",
    "    volumes_array = [np.abs(np.linalg.det(np.dot(U[:,list(comb)].T,U[:,list(comb)]))) for comb in combinations(range(N),k)]\n",
    "    ## Construct the array of weights: the volumes of UU^{T}_{S,S}\n",
    "    volumes_array_sum = np.sum(volumes_array)\n",
    "    ## The normalization constant\n",
    "    volumes_array = volumes_array/volumes_array_sum\n",
    "    ## The weigths normalized\n",
    "    approximation_error_array = [approximation_error_function_spectral(Sigma,k,X,X[:,list(comb)]) for comb in combinations(range(N),k)]\n",
    "    ## Calculating the approximation error for every k-tuple\n",
    "    expected_value = np.dot(approximation_error_array,volumes_array)\n",
    "    ## The expected value of the approximatione error is just the dot product of the two arrays above\n",
    "    return expected_value"
   ]
  },
  {
   "cell_type": "code",
   "execution_count": 23,
   "metadata": {
    "collapsed": true
   },
   "outputs": [],
   "source": [
    "def expected_upper_bound_for_projection_DPP(X,U,k,N):\n",
    "    ## X is the matrix X :)\n",
    "    ## U is the matrix used in the sampling: we sample propotional to the volume of UU^{T}_{S,S}: \n",
    "    ## we are not sampling but we need the weigth to estimate the expected error\n",
    "    ## k is the rank of the approximation\n",
    "    ## N is the number of columns (to be changed to avoid confusion with the number of points)\n",
    "\n",
    "    approximation_error_array = [upper_bound_error_function_for_projection_DPP(k,X,U[:,list(comb)]) for comb in combinations(range(N),k)]\n",
    "    ## Calculating the approximation error for every k-tuple\n",
    "    \n",
    "    ## The expected value of the approximatione error is just the dot product of the two arrays above\n",
    "    #return expected_value\n",
    "    return np.sum(approximation_error_array)"
   ]
  },
  {
   "cell_type": "code",
   "execution_count": 24,
   "metadata": {
    "collapsed": true
   },
   "outputs": [],
   "source": [
    "def probability_approximation_error_for_volumoid_distribution(X,U_,d,k):\n",
    "    _,Sigma,_ = np.linalg.svd(X, full_matrices=False)\n",
    "    volumes_array = [np.abs(np.linalg.det(np.dot(U_[:,list(comb)].T,U_[:,list(comb)]))) for comb in combinations(range(d),k)]\n",
    "    approximation_error_array = [approximation_error_function_fro(Sigma,k,X,X[:,list(comb)]) for comb in combinations(range(d),k)]\n",
    "\n",
    "    return volumes_array,approximation_error_array"
   ]
  },
  {
   "cell_type": "code",
   "execution_count": 25,
   "metadata": {
    "collapsed": true
   },
   "outputs": [],
   "source": [
    "def probability_approximation_error_for_greedy_trace_distribution(X,U_,d,k):\n",
    "    _,Sigma,_ = np.linalg.svd(X, full_matrices=False)\n",
    "    volumes_array = [np.abs(np.matrix.trace(np.dot(U_[:,list(comb)].T,U_[:,list(comb)]))) for comb in combinations(range(d),k)]\n",
    "    approximation_error_array = [approximation_error_function_fro(Sigma,k,X,X[:,list(comb)]) for comb in combinations(range(d),k)]\n",
    "\n",
    "    return volumes_array,approximation_error_array"
   ]
  },
  {
   "cell_type": "markdown",
   "metadata": {
    "collapsed": true
   },
   "source": [
    "## III - Numerical analysis"
   ]
  },
  {
   "cell_type": "markdown",
   "metadata": {},
   "source": [
    "In this section we use the functions developed previously to investigate the influence of two parameters: the spectrum of X and the k-leverage scores.  \n",
    "For this purpose, we assemble these functionalities in a class allowing fast numerical experiments."
   ]
  },
  {
   "cell_type": "code",
   "execution_count": 207,
   "metadata": {
    "collapsed": true
   },
   "outputs": [],
   "source": [
    "class Numrerical_Analysis_DPP: \n",
    "    def __init__(self,N,real_dim,r,k,versions_number,mean,cov,lv_scores,cardinal_list):\n",
    "        self.N = N\n",
    "        self.real_dim = real_dim\n",
    "        self.r = r\n",
    "        self.k = k\n",
    "        self.versions_number = versions_number\n",
    "        self.mean = mean\n",
    "        self.cov = cov\n",
    "        self.lv_scores = lv_scores\n",
    "        self.cardinality_list = cardinal_list\n",
    "        self.Q = np.zeros((real_dim,k))\n",
    "        self.multi_Q = np.zeros((self.versions_number,real_dim,k))\n",
    "        self.X = np.zeros((N,real_dim))\n",
    "        self.multi_X = np.zeros((self.versions_number,N,real_dim))\n",
    "        #[self.Q,self.multi_Q] = generate_orthonormal_matrix_with_leverage_scores(real_dim,k,lv_scores,versions_number,'identity')\n",
    "        [self.Q,self.multi_Q] = generate_orthonormal_matrix_with_leverage_scores_ES(self.real_dim,self.k,[],self.versions_number,self.cardinality_list)\n",
    "        self.multi_X = contruct_dataset_from_orthogonal_matrix(self.multi_Q,self.N,self.real_dim,self.cov,self.mean,self.versions_number)\n",
    "    def contruct_dataset_from_orthogonal_matrix_4(self,multi_Q,N,target_d,cov,mean,versions_number):\n",
    "        test_multi_X = np.zeros((self.versions_number,N,real_dim))\n",
    "        for t in range(self.versions_number):\n",
    "            test_X = np.random.multivariate_normal(mean, cov, N)\n",
    "            [U,_,_] = np.linalg.svd(test_X, full_matrices=False)\n",
    "            Q_test = extend_orthogonal_matrix(self.multi_Q[t,:,:],target_d)\n",
    "            test_multi_X[t,:,:] = np.dot(np.dot(Q_test,cov),U.T).T\n",
    "        return test_multi_X\n",
    "    def get_expected_error_fro_for_volume_sampling(self):\n",
    "        ## Calculate the expected error ratio for the Volume Sampling distribution for every dataset\n",
    "        res_list = np.zeros(self.versions_number)\n",
    "        for t in range(self.versions_number):\n",
    "            test_X = self.multi_X[t,:,:]\n",
    "            res_list[t] = expected_approximation_error_fro_for_sampling_scheme(test_X,test_X,self.k,self.real_dim)\n",
    "        return res_list\n",
    "    def get_tight_upper_bound_error_fro_for_projection_DPP(self):\n",
    "        res_list = np.zeros(self.versions_number)\n",
    "        for t in range(self.versions_number):\n",
    "            test_X = self.multi_X[t,:,:]\n",
    "            test_U = self.multi_Q[t,:,:].T\n",
    "            res_list[t] = tight_approximation_error_fro_for_sampling_scheme(test_X,test_U,self.k,self.real_dim)\n",
    "        return res_list\n",
    "    def get_max_diag_sum_T_matrices(self):\n",
    "        res_list = np.zeros((self.versions_number))\n",
    "        for t in range(self.versions_number):\n",
    "            test_X = self.multi_X[t,:,:]\n",
    "            _,_,test_V = np.linalg.svd(test_X, full_matrices=False)\n",
    "            test_V_k = test_V[0:self.k,:]\n",
    "            test_V_d_k = test_V[self.k:self.real_dim,:]\n",
    "            res_list[t] = 1+np.max(np.diag(get_the_matrix_sum_T_S(self.k,self.real_dim,test_V_k,test_V_d_k)))\n",
    "        return res_list\n",
    "    def get_max_spectrum_sum_T_matrices(self):\n",
    "        res_list = np.zeros((self.versions_number))\n",
    "        for t in range(self.versions_number):\n",
    "            test_X = self.multi_X[t,:,:]\n",
    "            _,_,test_V = np.linalg.svd(test_X, full_matrices=False)\n",
    "            test_V_k = test_V[0:self.k,:]\n",
    "            test_V_d_k = test_V[self.k:self.real_dim,:]\n",
    "            res_list[t] = 1+np.max(np.diag(get_the_matrix_sum_T_S(self.k,self.real_dim,test_V_k,test_V_d_k)))\n",
    "        return res_list\n",
    "    def get_expected_error_fro_for_projection_DPP(self):\n",
    "        ## Calculate the expected error ratio for the Projection DPP distribution for every dataset\n",
    "        res_list = np.zeros(self.versions_number)\n",
    "        for t in range(self.versions_number):\n",
    "            test_X = self.multi_X[t,:,:]\n",
    "            test_U = self.multi_Q[t,:,:].T\n",
    "            res_list[t] = expected_approximation_error_fro_for_sampling_scheme(test_X,test_U,self.k,self.real_dim)\n",
    "        return res_list   \n",
    "    def get_expected_error_spectral_for_volume_sampling(self):\n",
    "        ## Calculate the expected error ratio for the Volume Sampling distribution for every dataset\n",
    "        res_list = np.zeros(self.versions_number)\n",
    "        for t in range(self.versions_number):\n",
    "            test_X = self.multi_X[t,:,:]\n",
    "            res_list[t] = expected_approximation_error_spectral_for_sampling_scheme(test_X,test_X,self.k,self.real_dim)\n",
    "        return res_list\n",
    "    def get_p_eff(self):\n",
    "        ## A function that calculate the p_eff.\n",
    "        ## It is a measure of the concentration of V_k. This is done for every dataset\n",
    "        res_list = np.zeros(self.versions_number)\n",
    "        for t in range(self.versions_number):\n",
    "            diag_Q_t = np.diag(np.dot(self.multi_Q[t,:,:],self.multi_Q[t,:,:].T))\n",
    "            #diag_Q_t = list(diag_Q_t[::-1].sort())\n",
    "            diag_Q_t = list(np.sort(diag_Q_t)[::-1])\n",
    "            p = self.real_dim\n",
    "            #print(diag_Q_t)\n",
    "            while np.sum(diag_Q_t[0:p-1]) > float(self.k-1.0/2):\n",
    "                p = p-1\n",
    "            res_list[t] = p\n",
    "        return res_list\n",
    "    def get_effective_kernel_from_orthogonal_matrix(self):\n",
    "        test_eff_V = np.zeros((self.versions_number,self.real_dim,self.k))\n",
    "        p_eff_list = self.get_p_eff()\n",
    "        for t in range(self.versions_number):\n",
    "            test_V = deepcopy(self.multi_Q[t,:,:])\n",
    "            p_eff = p_eff_list[t]\n",
    "            diag_Q_t = np.diag(np.dot(test_V,test_V.T))\n",
    "            #diag_Q_t = list(diag_Q_t[::-1].sort())\n",
    "            #print(diag_Q_t)\n",
    "            permutation_t = list(reversed(np.argsort(diag_Q_t)))\n",
    "            #print(permutation_t)\n",
    "            for i in range(self.real_dim):\n",
    "                if i >p_eff-1:\n",
    "                    test_V[permutation_t[i],:] = 0   \n",
    "            #Q_test = extend_orthogonal_matrix(self.multi_Q[t,:,:],target_d)\n",
    "            test_eff_V[t,:,:] = test_V\n",
    "        return test_eff_V\n",
    "    def get_avoiding_probability(self):\n",
    "        ## Calculate the expected error ratio for the Volume Sampling distribution for every dataset\n",
    "        res_list = np.zeros(self.versions_number)\n",
    "        test_eff_V = self.get_effective_kernel_from_orthogonal_matrix()\n",
    "        for t in range(self.versions_number):\n",
    "            test_U = test_eff_V[t,:,:].T\n",
    "            res_list[t] = np.linalg.det(np.dot(test_U,np.transpose(test_U)))\n",
    "        return res_list\n",
    "    def get_expected_error_fro_for_effective_kernel_sampling(self):\n",
    "        ## Calculate the expected error ratio for the Volume Sampling distribution for every dataset\n",
    "        res_list = np.zeros(self.versions_number)\n",
    "        test_eff_V = self.get_effective_kernel_from_orthogonal_matrix()\n",
    "        for t in range(self.versions_number):\n",
    "            test_X = self.multi_X[t,:,:]\n",
    "            test_U = test_eff_V[t,:,:].T\n",
    "            res_list[t] = expected_approximation_error_fro_for_sampling_scheme(test_X,test_U,self.k,self.real_dim)\n",
    "        return res_list\n",
    "    def get_expected_error_spectral_for_projection_DPP(self):\n",
    "        ## Calculate the expected error ratio for the Projection DPP distribution for every dataset\n",
    "        res_list = np.zeros(self.versions_number)\n",
    "        for t in range(self.versions_number):\n",
    "            test_X = self.multi_X[t,:,:]\n",
    "            test_U = self.multi_Q[t,:,:].T\n",
    "            res_list[t] = expected_approximation_error_spectral_for_sampling_scheme(test_X,test_U,self.k,self.real_dim)\n",
    "        return res_list  \n",
    "    def get_upper_bound_error_for_projection_DPP(self):\n",
    "        ## Calculate the expected error ratio for the Projection DPP distribution for every dataset\n",
    "        #res_list = np.zeros(self.versions_number+1)\n",
    "        res_list = []\n",
    "        for t in range(self.versions_number):\n",
    "            test_X = self.multi_X[t,:,:]\n",
    "            test_U = self.multi_Q[t,:,:].T\n",
    "            #res_list[t] = expected_upper_bound_for_projection_DPP(test_X,test_U,self.k,self.real_dim)\n",
    "            res_list.append( expected_upper_bound_for_projection_DPP(test_X,test_U,self.k,self.real_dim))\n",
    "        return res_list  \n",
    "    def get_error_fro_for_deterministic_selection(self):\n",
    "        ## Calculate the error ratio for the k-tuple selected by the deterministic algorithm for every dataset\n",
    "        res_list = np.zeros(self.versions_number)\n",
    "        for t in range(self.versions_number):\n",
    "            test_X = self.multi_X[t,:,:]\n",
    "            test_U = self.multi_Q[t,:,:].T\n",
    "            lv_scores_vector = np.diag(np.dot(np.transpose(test_U),test_U))\n",
    "            test_I_k = list(np.argsort(lv_scores_vector)[self.real_dim-self.k:self.real_dim])\n",
    "            _,test_Sigma,_ = np.linalg.svd(test_X, full_matrices=False)\n",
    "            res_list[t] = approximation_error_function_fro(test_Sigma,self.k,test_X,test_X[:,test_I_k])\n",
    "            #res_list.append(test_I_k)\n",
    "        return res_list   \n",
    "    def get_error_fro_for_derandomized_projection_DPP_selection(self):\n",
    "        ## Calculate the error ratio for the k-tuple selected by the deterministic algorithm for every dataset\n",
    "        res_list = np.zeros(self.versions_number)\n",
    "        for t in range(self.versions_number):\n",
    "            test_X = self.multi_X[t,:,:]\n",
    "            test_U = self.multi_Q[t,:,:].T\n",
    "            lv_scores_vector = np.diag(np.dot(np.transpose(test_U),test_U))\n",
    "            test_I_k = derandomization_projection_DPP(test_U,self.k,self.real_dim)\n",
    "            _,test_Sigma,_ = np.linalg.svd(test_X, full_matrices=False)\n",
    "            res_list[t] = approximation_error_function_fro(test_Sigma,self.k,test_X,test_X[:,test_I_k])\n",
    "            #res_list.append(test_I_k)\n",
    "        return res_list \n",
    "    def get_error_spectral_for_deterministic_selection(self):\n",
    "        ## Calculate the error ratio for the k-tuple selected by the deterministic algorithm for every dataset\n",
    "        res_list = np.zeros(self.versions_number)\n",
    "        for t in range(self.versions_number):\n",
    "            test_X = self.multi_X[t,:,:]\n",
    "            test_U = self.multi_Q[t,:,:].T\n",
    "            lv_scores_vector = np.diag(np.dot(np.transpose(test_U),test_U))\n",
    "            test_I_k = list(np.argsort(lv_scores_vector)[self.real_dim-self.k:self.real_dim])\n",
    "            _,test_Sigma,_ = np.linalg.svd(test_X, full_matrices=False)\n",
    "            res_list[t] = approximation_error_function_spectral(test_Sigma,self.k,test_X,test_X[:,test_I_k])\n",
    "            #res_list.append(test_I_k)\n",
    "        return res_list \n",
    "    def get_sum_k_leverage_scores(self):\n",
    "        ## A function that calculate the k-sum: the sum of the first k k-leverage scores. It is a measure of the concentration of V_k\n",
    "        ## This is done for every dataset\n",
    "        res_list = np.zeros(self.versions_number)\n",
    "        for t in range(self.versions_number):\n",
    "            res_list[t] = estimate_sum_first_k_leverage_scores(self.multi_Q[t,:,:],self.k)\n",
    "        return res_list\n",
    "    def get_p_eff_leverage_scores(self):\n",
    "        ## A function that calculate the k-sum: the sum of the first k k-leverage scores. It is a measure of the concentration of V_k\n",
    "        ## This is done for every dataset\n",
    "        res_list = np.zeros(self.versions_number)\n",
    "        for t in range(self.versions_number):\n",
    "            res_list[t] = get_p_eff_leverage_scores(self.multi_Q[t,:,:],self.k)\n",
    "        return res_list\n",
    "    def get_deterministic_upper_bound(self):\n",
    "        ## A function that calculate the theoretical upper bound for the deterministic algorithm for every dataset\n",
    "        res_list = np.zeros(self.versions_number)\n",
    "        for t in range(self.versions_number):\n",
    "            res_list[t] = 1/(1+estimate_sum_first_k_leverage_scores(self.multi_Q[t,:,:],self.k)-self.k)\n",
    "        return res_list\n",
    "    def get_alpha_sum_k_leverage_scores(self,alpha):\n",
    "        ## A function that calculate the theoretical upper bound for the deterministic algorithm for every dataset\n",
    "        res_list = np.zeros(self.versions_number)\n",
    "        #k_l = self.get_sum_k_leverage_scores()\n",
    "        for t in range(self.versions_number):\n",
    "            k_l = estimate_leverage_scores_from_orthogonal_matrix(self.multi_Q[t,:,:])[0:k]\n",
    "            func_k = np.power(np.linspace(1, k, num=k),alpha)\n",
    "            res_list[t] = np.dot(func_k,k_l)\n",
    "        return res_list\n",
    "    def plot_scatter_distribution_vs_error(self,distr):\n",
    "        if distr == \"greedy\":\n",
    "            test_X = self.multi_X[0,:,:]\n",
    "            test_U = self.multi_Q[0,:,:].T\n",
    "            volumes_array_1,approximation_error_array_1 = probability_approximation_error_for_greedy_trace_distribution(test_X,test_U,self.real_dim,self.k)\n",
    "            volumes_array_1 = np.divide(volumes_array_1,np.sum(volumes_array_1))\n",
    "            fig = plt.figure()\n",
    "            fig.suptitle('Greedy Selection', fontsize=20)\n",
    "            plt.xlabel('log Error_ratio', fontsize=18)\n",
    "            plt.ylabel('Trace', fontsize=16)\n",
    "            vol_X_scatter = plt.scatter( np.log(approximation_error_array_1),np.log(volumes_array_1),s =3)\n",
    "            plt.show()      \n",
    "        if distr == \"pdpp\":\n",
    "            test_X = self.multi_X[0,:,:]\n",
    "            test_U = self.multi_Q[0,:,:].T\n",
    "            volumes_array_1,approximation_error_array_1 = probability_approximation_error_for_volumoid_distribution(test_X,test_U,self.real_dim,self.k)\n",
    "\n",
    "            fig = plt.figure()\n",
    "            fig.suptitle('Projection DPP Sampling', fontsize=20)\n",
    "            plt.xlabel('log Error_ratio', fontsize=18)\n",
    "            plt.ylabel('log Vol', fontsize=16)\n",
    "            vol_X_scatter = plt.scatter( np.log(approximation_error_array_1),np.log(volumes_array_1),s =3)\n",
    "            plt.show()            \n",
    "        if distr == \"vols\":\n",
    "            test_X = self.multi_X[0,:,:]\n",
    "            volumes_array_1,approximation_error_array_1 = probability_approximation_error_for_volumoid_distribution(test_X,test_X,self.real_dim,self.k)\n",
    "            fig = plt.figure()\n",
    "            fig.suptitle('Volume Sampling', fontsize=20)\n",
    "            plt.xlabel('log Error_ratio', fontsize=18)\n",
    "            plt.ylabel('log Vol', fontsize=16)\n",
    "            volumes_array_1 = np.divide(volumes_array_1,np.sum(volumes_array_1))\n",
    "            vol_X_scatter = plt.scatter( np.log(approximation_error_array_1),np.log(volumes_array_1),s =3)\n",
    "            plt.show()  \n",
    "        if distr == \"effker\":\n",
    "            avoiding_proba_list = self.get_avoiding_probability()\n",
    "            avoiding_proba_1 = avoiding_proba_list[0]\n",
    "            test_X = self.multi_X[0,:,:]\n",
    "            test_eff_V = self.get_effective_kernel_from_orthogonal_matrix()\n",
    "            test_U = test_eff_V[0,:,:].T\n",
    "            volumes_array_1,approximation_error_array_1 = probability_approximation_error_for_volumoid_distribution(test_X,test_U,self.real_dim,self.k)\n",
    "            volumes_array_1 = np.divide(volumes_array_1,avoiding_proba_1)\n",
    "            #null_volume_index = [i for i volumes_array_1 >0]\n",
    "            fig = plt.figure()\n",
    "            fig.suptitle('Effective Kernel Sampling', fontsize=20)\n",
    "            plt.xlabel('log Error_ratio', fontsize=18)\n",
    "            plt.ylabel('log Vol', fontsize=16)\n",
    "            vol_X_scatter = plt.scatter( np.log(approximation_error_array_1),np.log(volumes_array_1),s =3)\n",
    "            plt.show()  "
   ]
  },
  {
   "cell_type": "markdown",
   "metadata": {},
   "source": [
    "### III- 0 Parameters of the simultations"
   ]
  },
  {
   "cell_type": "code",
   "execution_count": 27,
   "metadata": {
    "collapsed": true
   },
   "outputs": [],
   "source": [
    "## The dimensions of the design matrix X\n",
    "N = 100       # The number of observations in the dataset\n",
    "real_dim = 20 # The dimension of the dataset\n",
    "## The low rank paramters\n",
    "k = 3         # The rank of the low rank approximation \n",
    "## The covariance matrix parameters\n",
    "r = 6         # Just a parameter to control the number of non trivial singular values in the covariance matrix\n",
    "mean = np.zeros((real_dim))    # The mean vector useful to generate U (X = UDV^T)\n",
    "cov_test = 0.100*np.ones((real_dim-r))  # The \"trivial\" singular values in the covariance matrix (there are real_dim-r)\n",
    "## The paramters of the matrix V\n",
    "versions_number = 3 # The number of orthogonal matrices (and therefor datasets) (-1) generated by the algorithm above\n",
    "lv_scores_vector = k/real_dim*np.ones(real_dim)  # The vector of leverage scores (the last one)"
   ]
  },
  {
   "cell_type": "markdown",
   "metadata": {},
   "source": [
    "### III-1 The influence of the spectrum"
   ]
  },
  {
   "cell_type": "markdown",
   "metadata": {},
   "source": [
    "In this subsection we compare the Volume Sampling distribution to the projection DPP distribution and the deterministic algorithm of []  for different profiles of the spectrum with k-leverage scores profile fixed. In other words, if we note $$X = UDV^{T}$$ We keep V_{k} constant and we investigate the effect of D."
   ]
  },
  {
   "cell_type": "markdown",
   "metadata": {},
   "source": [
    "#### III-1-1 The case of a non-projection spectrum\n",
    "We mean by a projection spectrum matrix, a matrix with equal the first k singular values.\n",
    "We observe that the two distributions are very similar.... \\todo{reword}"
   ]
  },
  {
   "cell_type": "code",
   "execution_count": 28,
   "metadata": {
    "collapsed": true,
    "scrolled": true
   },
   "outputs": [],
   "source": [
    "cov_1 = np.diag(np.concatenate(([10000,1000,100,10,10,10],cov_test)))\n",
    "NAL_1 = Numrerical_Analysis_DPP(N,real_dim,r,k,versions_number,mean,cov_1,lv_scores_vector,[20,20,20])\n",
    "\n",
    "\n",
    "projection_DPP_res_fro_1 = NAL_1.get_expected_error_fro_for_projection_DPP()\n",
    "volume_sampling_res_fro_1 = NAL_1.get_expected_error_fro_for_volume_sampling()\n",
    "deterministic_selection_res_fro_1 = NAL_1.get_error_fro_for_deterministic_selection()\n",
    "projection_DPP_res_spectral_1 = NAL_1.get_expected_error_spectral_for_projection_DPP()\n",
    "volume_sampling_res_spectral_1 = NAL_1.get_expected_error_spectral_for_volume_sampling()\n",
    "deterministic_selection_res_spectral_1 = NAL_1.get_error_spectral_for_deterministic_selection()\n",
    "effective_kernel_sampling_res_fro_1 = NAL_1.get_expected_error_fro_for_effective_kernel_sampling()\n",
    "\n",
    "upper_tight_bound_projection_DPP_res_fro_1 = NAL_1.get_tight_upper_bound_error_fro_for_projection_DPP()\n",
    "\n",
    "alpha_sum_res_1 = NAL_1.get_alpha_sum_k_leverage_scores(1)\n",
    "\n",
    "\n",
    "p_eff_res_1 = NAL_1.get_p_eff()\n",
    "eff_kernel_upper_bound_1 = 1+ (p_eff_res_1-k+1)/(real_dim-k)*(k+1)\n",
    "\n",
    "sum_U_res_1 = NAL_1.get_sum_k_leverage_scores()\n",
    "p_eff_res_2 = NAL_1.get_p_eff_leverage_scores()\n",
    "deterministic_upper_bound_res_1 = NAL_1.get_deterministic_upper_bound()\n",
    "\n",
    "expected_upper_bound_res_1 = NAL_1.get_upper_bound_error_for_projection_DPP()\n",
    "multi_Q_1 = NAL_1.multi_Q[1,:,:].T\n"
   ]
  },
  {
   "cell_type": "code",
   "execution_count": 29,
   "metadata": {
    "collapsed": true
   },
   "outputs": [],
   "source": [
    "pd_1 = pd.DataFrame(\n",
    "    {'k-sum (ratio)': sum_U_res_1/k,\n",
    "     'alpha k-sum': alpha_sum_res_1,\n",
    "     'p_eff' :p_eff_res_1,\n",
    "     'Expected Upper Bound for Projection DPP': expected_upper_bound_res_1,\n",
    "     'Volume Sampling(Fro)': volume_sampling_res_fro_1,\n",
    "     'Projection DPP(Fro)': projection_DPP_res_fro_1,\n",
    "     'Effective kernel(Fro)' : effective_kernel_sampling_res_fro_1,\n",
    "     'Effective kernel upper bound (Fro)':eff_kernel_upper_bound_1,\n",
    "     'Very sharp approximation of Projection DPP(Fro)': upper_tight_bound_projection_DPP_res_fro_1,\n",
    "     'Deterministic Algorithm(Fro)': deterministic_selection_res_fro_1,\n",
    "     'Volume Sampling(Spectral)': volume_sampling_res_spectral_1,\n",
    "     'Projection DPP(Spectral)': projection_DPP_res_spectral_1,\n",
    "     'Deterministic Algorithm(Spectral)': deterministic_selection_res_spectral_1,\n",
    "     'Deterministic Upper Bound': deterministic_upper_bound_res_1\n",
    "    })\n",
    "pd_1 = pd_1[['k-sum (ratio)', 'alpha k-sum','p_eff','Expected Upper Bound for Projection DPP','Volume Sampling(Fro)','Projection DPP(Fro)','Effective kernel(Fro)','Effective kernel upper bound (Fro)','Very sharp approximation of Projection DPP(Fro)','Deterministic Algorithm(Fro)','Volume Sampling(Spectral)','Projection DPP(Spectral)','Deterministic Algorithm(Spectral)','Deterministic Upper Bound']]"
   ]
  },
  {
   "cell_type": "code",
   "execution_count": 65,
   "metadata": {},
   "outputs": [
    {
     "data": {
      "text/html": [
       "<div>\n",
       "<table border=\"1\" class=\"dataframe\">\n",
       "  <thead>\n",
       "    <tr style=\"text-align: right;\">\n",
       "      <th></th>\n",
       "      <th>k-sum (ratio)</th>\n",
       "      <th>alpha k-sum</th>\n",
       "      <th>p_eff</th>\n",
       "      <th>Expected Upper Bound for Projection DPP</th>\n",
       "      <th>Volume Sampling(Fro)</th>\n",
       "      <th>Projection DPP(Fro)</th>\n",
       "      <th>Effective kernel(Fro)</th>\n",
       "      <th>Effective kernel upper bound (Fro)</th>\n",
       "      <th>Very sharp approximation of Projection DPP(Fro)</th>\n",
       "      <th>Deterministic Algorithm(Fro)</th>\n",
       "      <th>Volume Sampling(Spectral)</th>\n",
       "      <th>Projection DPP(Spectral)</th>\n",
       "      <th>Deterministic Algorithm(Spectral)</th>\n",
       "      <th>Deterministic Upper Bound</th>\n",
       "    </tr>\n",
       "  </thead>\n",
       "  <tbody>\n",
       "    <tr>\n",
       "      <th>0</th>\n",
       "      <td>0.328667</td>\n",
       "      <td>1.914</td>\n",
       "      <td>11.0</td>\n",
       "      <td>45.331406</td>\n",
       "      <td>3.921541</td>\n",
       "      <td>3.558545</td>\n",
       "      <td>2.558591</td>\n",
       "      <td>3.117647</td>\n",
       "      <td>3.994282</td>\n",
       "      <td>2.104440</td>\n",
       "      <td>9.092855</td>\n",
       "      <td>8.012995</td>\n",
       "      <td>4.151500</td>\n",
       "      <td>-0.986193</td>\n",
       "    </tr>\n",
       "    <tr>\n",
       "      <th>1</th>\n",
       "      <td>0.464000</td>\n",
       "      <td>2.485</td>\n",
       "      <td>9.0</td>\n",
       "      <td>47.035677</td>\n",
       "      <td>3.921541</td>\n",
       "      <td>3.415952</td>\n",
       "      <td>1.868396</td>\n",
       "      <td>2.647059</td>\n",
       "      <td>4.000000</td>\n",
       "      <td>1.127457</td>\n",
       "      <td>9.303971</td>\n",
       "      <td>7.801902</td>\n",
       "      <td>1.271224</td>\n",
       "      <td>-1.644737</td>\n",
       "    </tr>\n",
       "    <tr>\n",
       "      <th>2</th>\n",
       "      <td>0.407333</td>\n",
       "      <td>2.259</td>\n",
       "      <td>10.0</td>\n",
       "      <td>46.381139</td>\n",
       "      <td>3.921541</td>\n",
       "      <td>3.539172</td>\n",
       "      <td>2.661598</td>\n",
       "      <td>2.882353</td>\n",
       "      <td>4.000000</td>\n",
       "      <td>1.965966</td>\n",
       "      <td>9.063337</td>\n",
       "      <td>7.925137</td>\n",
       "      <td>3.734832</td>\n",
       "      <td>-1.285347</td>\n",
       "    </tr>\n",
       "  </tbody>\n",
       "</table>\n",
       "</div>"
      ],
      "text/plain": [
       "   k-sum (ratio)  alpha k-sum  p_eff  Expected Upper Bound for Projection DPP  \\\n",
       "0       0.328667        1.914   11.0                                45.331406   \n",
       "1       0.464000        2.485    9.0                                47.035677   \n",
       "2       0.407333        2.259   10.0                                46.381139   \n",
       "\n",
       "   Volume Sampling(Fro)  Projection DPP(Fro)  Effective kernel(Fro)  \\\n",
       "0              3.921541             3.558545               2.558591   \n",
       "1              3.921541             3.415952               1.868396   \n",
       "2              3.921541             3.539172               2.661598   \n",
       "\n",
       "   Effective kernel upper bound (Fro)  \\\n",
       "0                            3.117647   \n",
       "1                            2.647059   \n",
       "2                            2.882353   \n",
       "\n",
       "   Very sharp approximation of Projection DPP(Fro)  \\\n",
       "0                                         3.994282   \n",
       "1                                         4.000000   \n",
       "2                                         4.000000   \n",
       "\n",
       "   Deterministic Algorithm(Fro)  Volume Sampling(Spectral)  \\\n",
       "0                      2.104440                   9.092855   \n",
       "1                      1.127457                   9.303971   \n",
       "2                      1.965966                   9.063337   \n",
       "\n",
       "   Projection DPP(Spectral)  Deterministic Algorithm(Spectral)  \\\n",
       "0                  8.012995                           4.151500   \n",
       "1                  7.801902                           1.271224   \n",
       "2                  7.925137                           3.734832   \n",
       "\n",
       "   Deterministic Upper Bound  \n",
       "0                  -0.986193  \n",
       "1                  -1.644737  \n",
       "2                  -1.285347  "
      ]
     },
     "execution_count": 65,
     "metadata": {},
     "output_type": "execute_result"
    }
   ],
   "source": [
    "pd_1"
   ]
  },
  {
   "cell_type": "code",
   "execution_count": 66,
   "metadata": {
    "collapsed": true
   },
   "outputs": [],
   "source": [
    "projection_DPP_res_fro_2 = NAL_1.get_expected_error_fro_for_projection_DPP()\n"
   ]
  },
  {
   "cell_type": "code",
   "execution_count": 67,
   "metadata": {},
   "outputs": [
    {
     "data": {
      "text/plain": [
       "array([ 3.55854524,  3.4159516 ,  3.53917211])"
      ]
     },
     "execution_count": 67,
     "metadata": {},
     "output_type": "execute_result"
    }
   ],
   "source": [
    "projection_DPP_res_fro_2"
   ]
  },
  {
   "cell_type": "code",
   "execution_count": 68,
   "metadata": {},
   "outputs": [
    {
     "data": {
      "text/plain": [
       "array([ 3.55854524,  3.4159516 ,  3.53917211])"
      ]
     },
     "execution_count": 68,
     "metadata": {},
     "output_type": "execute_result"
    }
   ],
   "source": [
    "projection_DPP_res_fro_1"
   ]
  },
  {
   "cell_type": "markdown",
   "metadata": {},
   "source": [
    "#### Observations:\n",
    "* The expected error is always smaller under the Projection DPP distribution compared to the Volume Sampling distribution.\n",
    "* The expected error for the Volume Sampling distribution is constant for a contant D\n",
    "* However the expected error for the Projection DPP distribution depends on the k-sum\n",
    "* For X_0 and X_1, the profile of the k-leverage scores are highly concentrated (k-sum > k-1) thus epsilon is smaller than 1, in this regime the determinstic algorithm have the lower approximation error and it performs better than expected (the theoretical bound is 1/(1-epsilon).\n",
    "* However, for the other datasets, the (k-sum < k-1) thus epsilon >1 and the deterministic algorithm have no guarantee in this regime: we observe that the approximation error for the deterministic algorithm can be very high in this regime."
   ]
  },
  {
   "cell_type": "code",
   "execution_count": 33,
   "metadata": {
    "collapsed": true
   },
   "outputs": [],
   "source": [
    "def from_p_eff_to_error_bound(list_of_p,k,d):\n",
    "    list_res = []\n",
    "    for p in list_of_p:\n",
    "        new_element = 1+(p-k)/(d-k)*k\n",
    "        list_res.append(new_element)\n",
    "    return list_res"
   ]
  },
  {
   "cell_type": "code",
   "execution_count": 32,
   "metadata": {
    "collapsed": true
   },
   "outputs": [],
   "source": [
    "def from_p_eff_to_error_bound_2(list_of_p,k,d):\n",
    "    list_res = []\n",
    "    for p in list_of_p:\n",
    "        new_element = 1+(p-k+1)/(d-k)*(k+1)\n",
    "        list_res.append(new_element)\n",
    "    return list_res"
   ]
  },
  {
   "cell_type": "code",
   "execution_count": 73,
   "metadata": {
    "collapsed": true
   },
   "outputs": [],
   "source": [
    "flattened_cardinal_list= [item for items in cardinal_list for item in items]\n",
    "flattened_p_eff_list= [item for items in p_eff_list for item in items]\n"
   ]
  },
  {
   "cell_type": "code",
   "execution_count": 74,
   "metadata": {
    "collapsed": true
   },
   "outputs": [],
   "source": [
    "border_array = np.linspace(1, 4.0, num=20)"
   ]
  },
  {
   "cell_type": "code",
   "execution_count": 82,
   "metadata": {
    "collapsed": true
   },
   "outputs": [],
   "source": [
    "flattened_cardinal_list= [item for items in cardinal_list for item in items]\n",
    "flattened_p_eff_list= [item for items in p_eff_list for item in items]\n"
   ]
  },
  {
   "cell_type": "code",
   "execution_count": 418,
   "metadata": {
    "collapsed": true
   },
   "outputs": [],
   "source": [
    "flattened_cardinal_list= [item for items in cardinal_list for item in items]\n",
    "flattened_p_eff_list= [item for items in p_eff_list for item in items]\n"
   ]
  },
  {
   "cell_type": "code",
   "execution_count": 308,
   "metadata": {
    "collapsed": true
   },
   "outputs": [],
   "source": [
    "# Singular values of the matrices for the case k =2\n",
    "cov_1_k_2 = np.diag(np.concatenate(([100,100,0.1,0.1,0.1,0.1],cov_test)))\n",
    "cov_2_k_2 = np.diag(np.concatenate(([100,10,0.1,0.1,0.1,0.1],cov_test)))\n",
    "cov_3_k_2 = np.diag(np.concatenate(([0.1,0.1,0.1,0.1,0.1,0.1],cov_test)))\n",
    "# Singular values of the matrices for the case k =3\n",
    "cov_1_k_3 = np.diag(np.concatenate(([100,100,100,1,1,1],cov_test)))\n",
    "cov_2_k_3 = np.diag(np.concatenate(([100,10,1,0.1,0.1,0.1],cov_test)))\n",
    "cov_3_k_3 = np.diag(np.concatenate(([0.1,0.1,0.1,0.1,0.1,0.1],cov_test)))\n",
    "# Singular values of the matrices for the case k =4\n",
    "cov_1_k_4 = np.diag(np.concatenate(([100,100,100,100,0.1,0.1],cov_test)))\n",
    "cov_2_k_4 = np.diag(np.concatenate(([1000,100,10,1,0.1,0.1],cov_test)))\n",
    "cov_3_k_4 = np.diag(np.concatenate(([0.1,0.1,0.1,0.1,0.1,0.1],cov_test)))\n",
    "# Singular values of the matrices for the case k =5\n",
    "cov_1_k_5 = np.diag(np.concatenate(([100,100,100,100,100,0.1],cov_test)))\n",
    "cov_2_k_5 = np.diag(np.concatenate(([10000,1000,100,10,1,0.1],cov_test)))\n",
    "cov_3_k_5 = np.diag(np.concatenate(([0.1,0.1,0.1,0.1,0.1,0.1],cov_test)))\n",
    "# Singular values of the matrices for the case k =6\n",
    "cov_1_k_6 = np.diag(np.concatenate(([100,100,100,100,100,100],cov_test)))\n",
    "cov_2_k_6 = np.diag(np.concatenate(([100000,10000,1000,100,10,1],cov_test)))\n",
    "cov_3_k_6 = np.diag(np.concatenate(([0.1,0.1,0.1,0.1,0.1,0.1],cov_test)))\n",
    "#\n",
    "static_list = list(range(10,21))"
   ]
  },
  {
   "cell_type": "code",
   "execution_count": 314,
   "metadata": {},
   "outputs": [],
   "source": [
    "def plot_results_of_multi_experiments(T_,k_,cov_,static_list_):\n",
    "    T = deepcopy(T_) # The number of experiments\n",
    "    versions_number = 1\n",
    "    k = deepcopy(k_)\n",
    "    cov_1 = deepcopy(cov_)\n",
    "    volume_sampling_fro_list = []\n",
    "    projection_dpp_fro_list = []\n",
    "    p_eff_list = []\n",
    "    cardinal_list = []\n",
    "    avoiding_proba_list = []\n",
    "    static_list = deepcopy(static_list_)\n",
    "    volume_sampling_fro_list = []\n",
    "    projection_dpp_fro_list = []\n",
    "    derandomized_projection_dpp_fro_list = []\n",
    "    greedy_selection_fro_list = []\n",
    "    effective_kernel_fro_list = []\n",
    "    p_eff_list = []\n",
    "    cardinal_list = []\n",
    "    for t in range(T):\n",
    "        print(\"t\")\n",
    "        print(t)\n",
    "        random_cardinal_list = list(np.random.choice(static_list, 1))\n",
    "        NAL_1 = Numrerical_Analysis_DPP(N,real_dim,r,k,versions_number,mean,cov_1,lv_scores_vector,random_cardinal_list)\n",
    "\n",
    "\n",
    "        projection_DPP_res_fro_1 = NAL_1.get_expected_error_fro_for_projection_DPP()\n",
    "        volume_sampling_res_fro_1 = NAL_1.get_expected_error_fro_for_volume_sampling()\n",
    "        derandomized_DPP_res_fro_1 = NAL_1.get_error_fro_for_derandomized_projection_DPP_selection()\n",
    "        greedy_selection_res_fro_1 = NAL_1.get_error_fro_for_deterministic_selection()\n",
    "        effective_kernel_sampling_res_fro_1 = NAL_1.get_expected_error_fro_for_effective_kernel_sampling()\n",
    "\n",
    "    #    upper_tight_bound_projection_DPP_res_fro_1 = NAL_1.get_tight_upper_bound_error_fro_for_projection_DPP()\n",
    "\n",
    "    #    alpha_sum_res_1 = NAL_1.get_alpha_sum_k_leverage_scores(1)\n",
    "\n",
    "\n",
    "    #    sum_U_res_1 = NAL_1.get_sum_k_leverage_scores()\n",
    "        p_eff_res_1 = NAL_1.get_p_eff_leverage_scores()\n",
    "        \n",
    "        \n",
    "        avoiding_proba_res_1 = NAL_1.get_avoiding_probability()\n",
    "        avoiding_proba_list.append(avoiding_proba_res_1)\n",
    "        greedy_selection_fro_list.append(greedy_selection_res_fro_1)\n",
    "        derandomized_projection_dpp_fro_list.append(derandomized_DPP_res_fro_1)\n",
    "        \n",
    "        effective_kernel_fro_list.append(list(effective_kernel_sampling_res_fro_1))\n",
    "\n",
    "        volume_sampling_fro_list.append(list(volume_sampling_res_fro_1))\n",
    "        projection_dpp_fro_list.append(list(projection_DPP_res_fro_1))\n",
    "        p_eff_list.append(list(p_eff_res_1))\n",
    "        cardinal_list.append(random_cardinal_list) \n",
    "        print(\"next\")\n",
    "    flattened_cardinal_list= [item for items in cardinal_list for item in items]\n",
    "    flattened_p_eff_list= [item for items in p_eff_list for item in items]\n",
    "\n",
    "    theoretical_projection_DPP_error_bound_list = from_p_eff_to_error_bound(flattened_cardinal_list,k,real_dim)\n",
    "\n",
    "\n",
    "    plt.scatter(cardinal_list,projection_dpp_fro_list,label=\"Projection DPP Sampling\",marker='_')\n",
    "    plt.scatter(cardinal_list,volume_sampling_fro_list,label=\"Volume Sampling\",marker='_')\n",
    "    plt.scatter(cardinal_list,derandomized_projection_dpp_fro_list,label=\"derandomized projection dpp\", marker='_')\n",
    "    plt.scatter(cardinal_list,greedy_selection_fro_list,label = \"greedy\", marker='_',color = 'purple')\n",
    "    plt.scatter(cardinal_list,theoretical_projection_DPP_error_bound_list,color='red',marker='_',label=\"Theoretical bound for Projection DPP Sampling\")\n",
    "\n",
    "    plt.xlabel(r'$p$', fontsize=12)\n",
    "    plt.ylabel(r'$\\mathbb{E}_{S \\sim \\mathcal{P}}(\\|X- \\pi_{S}(X)\\|_{Fr}^{2})$', fontsize=12)\n",
    "    plt.title('The case k = '+str(k)+', '+str(T)+' matrices, flat spectrum after k+1')\n",
    "    #plt.xticks(map(int, Y_cov[:-1]))\n",
    "\n",
    "    plt.legend(bbox_to_anchor=(1.04,1), loc=\"upper left\")\n",
    "    plt.show()\n",
    "    theoretical_effective_kernel_error_bound_list = from_p_eff_to_error_bound_2(flattened_p_eff_list,k,real_dim)\n",
    "\n",
    "\n",
    "    #theoretical_effective_kernel_error_bound_list = from_p_eff_to_error_bound(flattened_p_eff_list,k,real_dim)\n",
    "\n",
    "\n",
    "    plt.scatter(p_eff_list,effective_kernel_fro_list,label=\"Effective Kernel Sampling\",marker='_')\n",
    "    plt.scatter(p_eff_list,volume_sampling_fro_list,label=\"Volume Sampling\",marker='_')\n",
    "    plt.scatter(p_eff_list,derandomized_projection_dpp_fro_list,label=\"derandomized projection dpp\", marker='_')\n",
    "    plt.scatter(p_eff_list,theoretical_effective_kernel_error_bound_list,color='red',marker='_',label=\"Theoretical bound for Effective Kernel Sampling\")\n",
    "    plt.scatter(p_eff_list,greedy_selection_fro_list,label = \"greedy\", marker='_',color = 'purple')\n",
    "    plt.xlabel(r'$p_{eff}(\\frac{1}{2})$', fontsize=12)\n",
    "    plt.ylabel(r'$\\mathbb{E}_{S \\sim \\mathcal{P}}(\\|X- \\pi_{S}(X)\\|_{Fr}^{2})$', fontsize=12)\n",
    "    plt.title('The case k = '+str(k)+', '+str(T)+' matrices, flat spectrum after k+1')\n",
    "\n",
    "\n",
    "    plt.legend(bbox_to_anchor=(1.04,1), loc=\"upper left\")\n",
    "    plt.show()\n",
    "    \n",
    "    \n",
    "    \n",
    "    \n",
    "    \n",
    "    \n",
    "    plt.scatter(cardinal_list,projection_dpp_fro_list,label=\"Projection DPP Sampling\",marker='_')\n",
    "    plt.scatter(cardinal_list,volume_sampling_fro_list,label=\"Volume Sampling\",marker='_')\n",
    "    plt.scatter(cardinal_list,derandomized_projection_dpp_fro_list,label=\"derandomized projection dpp\", marker='_')\n",
    "    plt.scatter(cardinal_list,theoretical_projection_DPP_error_bound_list,color='red',marker='_',label=\"Theoretical bound for Projection DPP Sampling\")\n",
    "\n",
    "    plt.xlabel(r'$p$', fontsize=12)\n",
    "    plt.ylabel(r'$\\mathbb{E}_{S \\sim \\mathcal{P}}(\\|X- \\pi_{S}(X)\\|_{Fr}^{2})$', fontsize=12)\n",
    "    plt.title('The case k = '+str(k)+', '+str(T)+' matrices, flat spectrum after k+1')\n",
    "    #plt.xticks(map(int, Y_cov[:-1]))\n",
    "\n",
    "    plt.legend(bbox_to_anchor=(1.04,1), loc=\"upper left\")\n",
    "    plt.show()\n",
    "    \n",
    "    \n",
    "    \n",
    "    plt.scatter(p_eff_list,effective_kernel_fro_list,label=\"Effective Kernel Sampling\",marker='_')\n",
    "    plt.scatter(p_eff_list,volume_sampling_fro_list,label=\"Volume Sampling\",marker='_')\n",
    "    plt.scatter(p_eff_list,derandomized_projection_dpp_fro_list,label=\"derandomized projection dpp\", marker='_')\n",
    "    plt.scatter(p_eff_list,theoretical_effective_kernel_error_bound_list,color='red',marker='_',label=\"Theoretical bound for Effective Kernel Sampling\")\n",
    "    plt.xlabel(r'$p_{eff}(\\frac{1}{2})$', fontsize=12)\n",
    "    plt.ylabel(r'$\\mathbb{E}_{S \\sim \\mathcal{P}}(\\|X- \\pi_{S}(X)\\|_{Fr}^{2})$', fontsize=12)\n",
    "    plt.title('The case k = '+str(k)+', '+str(T)+' matrices, flat spectrum after k+1')\n",
    "\n",
    "\n",
    "    plt.legend(bbox_to_anchor=(1.04,1), loc=\"upper left\")\n",
    "    plt.show()\n",
    "    \n",
    "    plt.scatter(p_eff_list,avoiding_proba_list,label=\"Avoiding Probability\")\n",
    "\n",
    "    plt.xlabel(r'$p_{eff}(\\frac{1}{2})$', fontsize=12)\n",
    "    plt.ylabel(r'$\\mathbb{P}(S\\cap T_{eff} = \\emptyset)$', fontsize=12)\n",
    "    plt.title('The case k = '+str(k)+', '+str(T)+' matrices, flat spectrum after k+1')\n",
    "\n",
    "\n",
    "    plt.legend(bbox_to_anchor=(1.04,1), loc=\"upper left\")\n",
    "    plt.show()"
   ]
  },
  {
   "cell_type": "code",
   "execution_count": 315,
   "metadata": {
    "scrolled": true
   },
   "outputs": [
    {
     "name": "stdout",
     "output_type": "stream",
     "text": [
      "t\n",
      "0\n",
      "next\n",
      "t\n",
      "1\n",
      "next\n",
      "t\n",
      "2\n",
      "next\n",
      "t\n",
      "3\n",
      "next\n",
      "t\n",
      "4\n",
      "next\n",
      "t\n",
      "5\n",
      "next\n",
      "t\n",
      "6\n",
      "next\n",
      "t\n",
      "7\n",
      "next\n",
      "t\n",
      "8\n",
      "next\n",
      "t\n",
      "9\n",
      "next\n",
      "t\n",
      "10\n",
      "next\n",
      "t\n",
      "11\n",
      "next\n",
      "t\n",
      "12\n",
      "next\n",
      "t\n",
      "13\n",
      "next\n",
      "t\n",
      "14\n",
      "next\n",
      "t\n",
      "15\n",
      "next\n",
      "t\n",
      "16\n",
      "next\n",
      "t\n",
      "17\n",
      "next\n",
      "t\n",
      "18\n",
      "next\n",
      "t\n",
      "19\n",
      "next\n",
      "t\n",
      "20\n",
      "next\n",
      "t\n",
      "21\n",
      "next\n",
      "t\n",
      "22\n",
      "next\n",
      "t\n",
      "23\n",
      "next\n",
      "t\n",
      "24\n",
      "next\n",
      "t\n",
      "25\n",
      "next\n",
      "t\n",
      "26\n",
      "next\n",
      "t\n",
      "27\n",
      "next\n",
      "t\n",
      "28\n",
      "next\n",
      "t\n",
      "29\n",
      "next\n",
      "t\n",
      "30\n",
      "next\n",
      "t\n",
      "31\n",
      "next\n",
      "t\n",
      "32\n",
      "next\n",
      "t\n",
      "33\n",
      "next\n",
      "t\n",
      "34\n",
      "next\n",
      "t\n",
      "35\n",
      "next\n",
      "t\n",
      "36\n",
      "next\n",
      "t\n",
      "37\n",
      "next\n",
      "t\n",
      "38\n",
      "next\n",
      "t\n",
      "39\n",
      "next\n",
      "t\n",
      "40\n",
      "next\n",
      "t\n",
      "41\n",
      "next\n",
      "t\n",
      "42\n",
      "next\n",
      "t\n",
      "43\n",
      "next\n",
      "t\n",
      "44\n",
      "next\n",
      "t\n",
      "45\n",
      "next\n",
      "t\n",
      "46\n",
      "next\n",
      "t\n",
      "47\n",
      "next\n",
      "t\n",
      "48\n",
      "next\n",
      "t\n",
      "49\n",
      "next\n",
      "t\n",
      "50\n",
      "next\n",
      "t\n",
      "51\n",
      "next\n",
      "t\n",
      "52\n",
      "next\n",
      "t\n",
      "53\n",
      "next\n",
      "t\n",
      "54\n",
      "next\n",
      "t\n",
      "55\n",
      "next\n",
      "t\n",
      "56\n",
      "next\n",
      "t\n",
      "57\n",
      "next\n",
      "t\n",
      "58\n",
      "next\n",
      "t\n",
      "59\n",
      "next\n",
      "t\n",
      "60\n",
      "next\n",
      "t\n",
      "61\n",
      "next\n",
      "t\n",
      "62\n",
      "next\n",
      "t\n",
      "63\n",
      "next\n",
      "t\n",
      "64\n",
      "next\n",
      "t\n",
      "65\n",
      "next\n",
      "t\n",
      "66\n",
      "next\n",
      "t\n",
      "67\n",
      "next\n",
      "t\n",
      "68\n",
      "next\n",
      "t\n",
      "69\n",
      "next\n",
      "t\n",
      "70\n",
      "next\n",
      "t\n",
      "71\n",
      "next\n",
      "t\n",
      "72\n",
      "next\n",
      "t\n",
      "73\n",
      "next\n",
      "t\n",
      "74\n",
      "next\n",
      "t\n",
      "75\n",
      "next\n",
      "t\n",
      "76\n",
      "next\n",
      "t\n",
      "77\n",
      "next\n",
      "t\n",
      "78\n",
      "next\n",
      "t\n",
      "79\n",
      "next\n",
      "t\n",
      "80\n",
      "next\n",
      "t\n",
      "81\n",
      "next\n",
      "t\n",
      "82\n",
      "next\n",
      "t\n",
      "83\n",
      "next\n",
      "t\n",
      "84\n",
      "next\n",
      "t\n",
      "85\n",
      "next\n",
      "t\n",
      "86\n",
      "next\n",
      "t\n",
      "87\n",
      "next\n",
      "t\n",
      "88\n",
      "next\n",
      "t\n",
      "89\n",
      "next\n",
      "t\n",
      "90\n",
      "next\n",
      "t\n",
      "91\n",
      "next\n",
      "t\n",
      "92\n",
      "next\n",
      "t\n",
      "93\n",
      "next\n",
      "t\n",
      "94\n",
      "next\n",
      "t\n",
      "95\n",
      "next\n",
      "t\n",
      "96\n",
      "next\n",
      "t\n",
      "97\n",
      "next\n",
      "t\n",
      "98\n",
      "next\n",
      "t\n",
      "99\n",
      "next\n"
     ]
    },
    {
     "data": {
      "image/png": "[encoded data removed]",
      "text/plain": [
       "<matplotlib.figure.Figure at 0x112057940>"
      ]
     },
     "metadata": {},
     "output_type": "display_data"
    },
    {
     "data": {
      "image/png": "[encoded data removed]",
      "text/plain": [
       "<matplotlib.figure.Figure at 0x11209a630>"
      ]
     },
     "metadata": {},
     "output_type": "display_data"
    },
    {
     "data": {
      "image/png": "[encoded data removed]",
      "text/plain": [
       "<matplotlib.figure.Figure at 0x110b4bf28>"
      ]
     },
     "metadata": {},
     "output_type": "display_data"
    },
    {
     "data": {
      "image/png": "[encoded data removed]",
      "text/plain": [
       "<matplotlib.figure.Figure at 0x11282a710>"
      ]
     },
     "metadata": {},
     "output_type": "display_data"
    },
    {
     "data": {
      "image/png": "[encoded data removed]",
      "text/plain": [
       "<matplotlib.figure.Figure at 0x110f9a550>"
      ]
     },
     "metadata": {},
     "output_type": "display_data"
    }
   ],
   "source": [
    "plot_results_of_multi_experiments(100,2,cov_1_k_2,static_list)"
   ]
  },
  {
   "cell_type": "code",
   "execution_count": 283,
   "metadata": {
    "collapsed": true
   },
   "outputs": [],
   "source": [
    "def derandomization_projection_DPP(test_U_,k_,real_dim_):\n",
    "    real_dim = deepcopy(real_dim_)\n",
    "    k = deepcopy(k_)\n",
    "    test_U = deepcopy(test_U_)\n",
    "    selection_list = []\n",
    "    dual_selection_list = list(range(0,real_dim))\n",
    "    scores_list = [0]*real_dim\n",
    "    count = 0\n",
    "    while count<k:\n",
    "        scores_list = calculate_scores_for_selection(selection_list,test_U,real_dim,k)\n",
    "        new_selection = np.argmin(scores_list)\n",
    "        selection_list.append(new_selection)\n",
    "        count = count +1\n",
    "        #print(scores_list)\n",
    "    return selection_list"
   ]
  },
  {
   "cell_type": "code",
   "execution_count": 304,
   "metadata": {},
   "outputs": [],
   "source": [
    "def calculate_scores_for_selection(selection_list_,test_U_,real_dim_,k_):\n",
    "    real_dim = deepcopy(real_dim_)\n",
    "    k = deepcopy(k_)\n",
    "    selection_list = deepcopy(selection_list_)\n",
    "    test_U = deepcopy(test_U_)\n",
    "    scores_list = [0]*real_dim\n",
    "    for i in range(0,real_dim):\n",
    "        if i in selection_list:\n",
    "            scores_list[i] = np.inf\n",
    "        else:\n",
    "            if get_symmetric_polynomial_value(selection_list,i,k,k,test_U,real_dim) !=0:\n",
    "                k_1_sym_poly_value = get_symmetric_polynomial_value(selection_list,i,k-1,k,test_U,real_dim)\n",
    "                scores_list[i] = (k_1_sym_poly_value)/get_symmetric_polynomial_value(selection_list,i,k,k,test_U,real_dim)\n",
    "            else:\n",
    "                scores_list[i] = np.inf\n",
    "    return scores_list\n",
    "        "
   ]
  },
  {
   "cell_type": "code",
   "execution_count": 303,
   "metadata": {
    "collapsed": true
   },
   "outputs": [],
   "source": [
    "def get_symmetric_polynomial_value(index_list,new_element,order,k_,test_U_,real_dim_):\n",
    "    ## test_U_ is a fat matrix\n",
    "    real_dim = deepcopy(real_dim_)\n",
    "    k = deepcopy(k_)\n",
    "    test_U = deepcopy(test_U_)\n",
    "    new_index_list = index_list + [new_element]\n",
    "    if order == k:\n",
    "        return np.linalg.det(np.dot(np.transpose(test_U[:,new_index_list]),test_U[:,new_index_list]))\n",
    "    if order == k-1:\n",
    "        delta_list = list(set(list(range(real_dim))) - set(new_index_list))\n",
    "        #delta_list = new_index_list\n",
    "        eigenvalues_of_delta =  np.linalg.eigvalsh(np.dot(test_U[:,delta_list],np.transpose(test_U[:,delta_list])))\n",
    "        sym_sum = 0\n",
    "        for l in range(k):\n",
    "            list_without_l = list(set(list(range(k)))- set([l]))\n",
    "            #print(eigenvalues_of_delta)\n",
    "            sym_sum = np.prod(eigenvalues_of_delta[list_without_l]) + sym_sum\n",
    "        return sym_sum"
   ]
  },
  {
   "cell_type": "code",
   "execution_count": 256,
   "metadata": {},
   "outputs": [
    {
     "data": {
      "text/plain": [
       "100000"
      ]
     },
     "execution_count": 256,
     "metadata": {},
     "output_type": "execute_result"
    }
   ],
   "source": [
    "min(100000,np.inf)"
   ]
  },
  {
   "cell_type": "code",
   "execution_count": 277,
   "metadata": {
    "collapsed": true
   },
   "outputs": [],
   "source": [
    "cov_2 = np.diag(np.concatenate(([10000,1000,100,10,10,10],cov_test)))\n",
    "NAL_2 = Numrerical_Analysis_DPP(N,real_dim,r,k,1,mean,cov_1,lv_scores_vector,[20])\n",
    "\n",
    "multi_Q_1 = NAL_2.multi_Q[0,:,:].T"
   ]
  },
  {
   "cell_type": "code",
   "execution_count": 278,
   "metadata": {},
   "outputs": [
    {
     "name": "stdout",
     "output_type": "stream",
     "text": [
      "[ 0.518  0.358  0.288  0.285  0.273  0.178  0.157  0.135  0.129  0.124\n",
      "  0.103  0.096  0.08   0.07   0.067  0.067  0.055  0.005  0.001  0.011]\n"
     ]
    }
   ],
   "source": [
    "print(np.diag(np.dot(np.transpose(multi_Q_1),multi_Q_1 )))"
   ]
  },
  {
   "cell_type": "code",
   "execution_count": 279,
   "metadata": {},
   "outputs": [
    {
     "data": {
      "text/plain": [
       "(3, 20)"
      ]
     },
     "execution_count": 279,
     "metadata": {},
     "output_type": "execute_result"
    }
   ],
   "source": [
    "np.shape(multi_Q_1)"
   ]
  },
  {
   "cell_type": "code",
   "execution_count": 280,
   "metadata": {},
   "outputs": [
    {
     "name": "stdout",
     "output_type": "stream",
     "text": [
      "[3.7915057915057924, 6.3798882681564324, 8.4166666666666661, 8.5263157894736867, 8.9890109890109873, 14.853932584269689, 17.108280254777064, 20.222222222222193, 21.25581395348836, 22.193548387096804, 27.12621359223294, 29.249999999999947, 35.499999999999993, 40.857142857142819, 42.776119402984932, 42.77611940298533, 52.545454545454419, 598.00000000002626, 2997.9999999999995, 270.72727272728076]\n",
      "[inf, 8.853527429223103, 12.08708848477357, 10.742555146755743, 11.486407621954788, 18.508606381477936, 24.653523766251972, 38.844873208545124, 26.898353283992574, 27.853293473223985, 34.512266786462703, 170.07410357324525, 104.04066162235219, 64.036896262512514, 107.55722744413332, 282.50886471811936, 1523.3227229626739, 6443.1936999911177, 4712.4823710656538, 789.04330632365247]\n",
      "[inf, inf, 32.411919396898462, 35.963832210685325, 45.7774828574304, 3126492.8277584608, 90.080783151901841, 312.8225050080049, 62.395851876409935, 133.20744577310197, 100.48579867051828, 439.78253785086184, 255.9630344824912, 175370.64251878831, 267.3965288439324, 2753.0975978924716, 34243.978657182415, 50507.808471752767, 3724922.2411237368, 2197.6549664388117]\n"
     ]
    },
    {
     "data": {
      "text/plain": [
       "[0, 1, 2]"
      ]
     },
     "execution_count": 280,
     "metadata": {},
     "output_type": "execute_result"
    }
   ],
   "source": [
    "derandomization_projection_DPP(multi_Q_1,3,20)"
   ]
  },
  {
   "cell_type": "markdown",
   "metadata": {},
   "source": [
    "### The case k = 4, projection spectrum, full cardinal"
   ]
  },
  {
   "cell_type": "markdown",
   "metadata": {},
   "source": [
    "### The case k = 2, projection spectrum, full cardinal"
   ]
  },
  {
   "cell_type": "markdown",
   "metadata": {},
   "source": [
    "### The case k = 2, smooth spectrum, full cardinal"
   ]
  },
  {
   "cell_type": "markdown",
   "metadata": {},
   "source": [
    "### The case k = 2, projection spectrum, non constant spectrum after k+1"
   ]
  },
  {
   "cell_type": "markdown",
   "metadata": {},
   "source": [
    "### The case k = 3, projection spectrum, non constant spectrum after k+1"
   ]
  },
  {
   "cell_type": "code",
   "execution_count": 429,
   "metadata": {
    "collapsed": true
   },
   "outputs": [],
   "source": [
    "T = 100 # The number of experiments\n",
    "versions_number = 3 \n",
    "k = 3\n",
    "emperical_results = np.zeros((versions_number*T,4))\n",
    "\n",
    "volume_sampling_fro_list = []\n",
    "projection_dpp_fro_list = []\n",
    "p_eff_list = []\n",
    "cardinal_list = []\n",
    "cov_1 = np.diag(np.concatenate(([1000,1000,1000,100,5,1],cov_test)))\n",
    "static_list = list(range(10,21))\n"
   ]
  },
  {
   "cell_type": "code",
   "execution_count": null,
   "metadata": {
    "collapsed": true
   },
   "outputs": [],
   "source": []
  }
 ],
 "metadata": {
  "kernelspec": {
   "display_name": "Python [default]",
   "language": "python",
   "name": "python3"
  },
  "language_info": {
   "codemirror_mode": {
    "name": "ipython",
    "version": 3
   },
   "file_extension": ".py",
   "mimetype": "text/x-python",
   "name": "python",
   "nbconvert_exporter": "python",
   "pygments_lexer": "ipython3",
   "version": "3.5.2"
  }
 },
 "nbformat": 4,
 "nbformat_minor": 2
}
