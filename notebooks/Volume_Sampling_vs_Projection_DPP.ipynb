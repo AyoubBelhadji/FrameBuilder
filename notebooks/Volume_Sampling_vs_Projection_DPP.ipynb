{
 "cells": [
  {
   "cell_type": "markdown",
   "metadata": {},
   "source": [
    "# Volume Sampling vs projection DPP for low rank approximation\n",
    "## Introduction\n",
    "#### In this notebook we compare the volume sampling and projection DPP for low rank approximation.\n",
    "We recall the result proved in the article [DRVW]:\\\\\n",
    "Let S be a random subset of k columns of X chosen with probability: $$P(S) = \\frac{1}{Z_{k}} det(X_{.,S}^{T}X_{.,S})$$ with $$Z_{k} = \\sum\\limits_{S \\subset [N], |S| = k} det(X_{.,S}^{T}X_{.,S})$$\n",
    "Then\n",
    "$$\\begin{equation}\n",
    "E(\\| X - \\pi_{X_{.,S}}(X) \\|_{Fr}^{2}) \\leq (k+1)\\| X - \\pi_{k}(X) \\|_{Fr}^{2}\n",
    "\\end{equation}$$\n",
    "\n",
    "\n",
    "We can prove that the volume sampling distribution is a mixture of projection DPPs distributions..., in particular one projection DPP distribution stands out for the problem of low rank approximation: ....\\\\\n",
    "For the moment, there is no analytical expression for $$\\begin{equation}\n",
    "E(\\| X - \\pi_{X_{.,S}}(X) \\|_{Fr}^{2}) \n",
    "\\end{equation}$$ under the distribution of projection DPP.\\\\\n",
    "However, we can calculate this quantity using simulation on some matrices representing cloud points with some specific geometric constraints."
   ]
  },
  {
   "cell_type": "markdown",
   "metadata": {},
   "source": [
    "## I- Generating a cloud of points with geometric constraints\n",
    "Let $$X \\in R^{n \\times m}$$ a matrix representing a cloud of points.\n",
    "We can write the SVD of $$X = UDV^{T}$$\n"
   ]
  },
  {
   "cell_type": "markdown",
   "metadata": {},
   "source": [
    "#### References\n",
    "[DRVW] Deshpande, Amit and Rademacher, Luis and Vempala, Santosh and Wang, Grant - Matrix Approximation and Projective Clustering via Volume Sampling 2006"
   ]
  },
  {
   "cell_type": "code",
   "execution_count": 1,
   "metadata": {
    "collapsed": true
   },
   "outputs": [],
   "source": [
    "import numpy as np\n",
    "from itertools import combinations\n",
    "from scipy.stats import binom\n",
    "import scipy.special\n",
    "import matplotlib.pyplot as plt\n",
    "import matplotlib.patches as mpatches\n",
    "from IPython.display import display, HTML"
   ]
  },
  {
   "cell_type": "markdown",
   "metadata": {},
   "source": [
    "### I-1- Givens Rotations generators\n",
    "The function"
   ]
  },
  {
   "cell_type": "code",
   "execution_count": 2,
   "metadata": {
    "collapsed": true
   },
   "outputs": [],
   "source": [
    "def t_func(q_i,q_j,q_ij,l_i,l_j): \n",
    "    # t in section 3.1 Dhillon (2005) \n",
    "    delta = np.power(q_ij,2)-(q_i-l_i)*(q_j-l_i)\n",
    "    if delta<0:\n",
    "        print(delta)\n",
    "        print(\"error sqrt\")\n",
    "    t = q_ij - np.sqrt(delta) \n",
    "    t = t/(q_j-l_i)\n",
    "    return t\n",
    "     \n",
    "def G_func(i,j,q_i,q_j,q_ij,l_i,l_j,N): \n",
    "    # Gitens Rotation \n",
    "    G=np.eye(N) \n",
    "    t = t_func(q_i,q_j,q_ij,l_i,l_j)\n",
    "    c = 1/(np.sqrt(np.power(t,2)+1))\n",
    "    s = t*c\n",
    "    G[i,i]=c\n",
    "    G[i,j]=s \n",
    "    G[j,i]= -s\n",
    "    G[j,j]= c\n",
    "    return G"
   ]
  },
  {
   "cell_type": "markdown",
   "metadata": {
    "collapsed": true
   },
   "source": [
    "The following function is an implementation of the algorithm [] figuring in the article [] to generate an orthogonal matrix with a prescribed profile of leverage scores.\n",
    "In fact this is a simplification of the algorithm ....."
   ]
  },
  {
   "cell_type": "code",
   "execution_count": 3,
   "metadata": {
    "collapsed": true
   },
   "outputs": [],
   "source": [
    "def generate_orthonormal_matrix_with_leverage_scores(N,d,lv_scores_vector,versions_number):\n",
    "    #Transforming an idendity matrix to an orthogonal matrix with prescribed lengths\n",
    "    Q = np.zeros((N,d))\n",
    "    previous_Q = np.zeros((versions_number,N,d))\n",
    "    versionning_period = (int)(N/versions_number)\n",
    "    for _ in range(0,d):\n",
    "        Q[_,_] = 1\n",
    "\n",
    "    I_sorting =  list(reversed(np.argsort(lv_scores_vector)))\n",
    "    lv_scores_vector = np.asarray(list(reversed(np.sort(lv_scores_vector))))\n",
    "\n",
    "    i = d-1\n",
    "    j = d\n",
    "    v_counter =0\n",
    "    for t in range(N-1):\n",
    "        delta_i = np.abs(lv_scores_vector[i] - np.power(np.linalg.norm(Q[i,:]),2))\n",
    "        delta_j = np.abs(lv_scores_vector[j] - np.power(np.linalg.norm(Q[j,:]),2))\n",
    "        q_i = np.power(np.linalg.norm(Q[i,:]),2)\n",
    "        q_j = np.power(np.linalg.norm(Q[j,:]),2)\n",
    "        q_ij = np.dot(Q[i,:],Q[j,:].T)\n",
    "        l_i = lv_scores_vector[i]\n",
    "        l_j = lv_scores_vector[j]\n",
    "        G = np.eye(N)\n",
    "        if t%versionning_period ==0:\n",
    "            previous_Q[v_counter,:,:] = Q\n",
    "            v_counter = v_counter +1\n",
    "        if delta_i <= delta_j:\n",
    "            l_k = q_i + q_j -l_i\n",
    "            G = G_func(i,j,q_i,q_j,q_ij,l_i,l_k,N)\n",
    "            Q = np.dot(G,Q)\n",
    "            i = i-1\n",
    "        else:\n",
    "            l_k = q_i + q_j -l_j\n",
    "            G = G_func(i,j,q_j,q_i,q_ij,l_j,l_k,N)\n",
    "            Q = np.dot(G,Q)\n",
    "            j = j+1\n",
    "\n",
    "    return Q,previous_Q"
   ]
  },
  {
   "cell_type": "markdown",
   "metadata": {},
   "source": [
    "The following function allows to estimate the leverage scores for an orthogonal matrix Q: the function calculates the diagonoal of the matrix $$Q Q^{T}$$"
   ]
  },
  {
   "cell_type": "code",
   "execution_count": 4,
   "metadata": {
    "collapsed": true
   },
   "outputs": [],
   "source": [
    "def estimate_leverage_scores_from_orthogonal_matrix(Q):\n",
    "    [N,_] = np.shape(Q)\n",
    "    lv_scores_vector = np.zeros((N,1))\n",
    "    lv_scores_vector = np.diag(np.dot(Q,np.transpose(Q)))\n",
    "    lv_scores_vector = np.asarray(list(reversed(np.sort(lv_scores_vector))))\n",
    "    return lv_scores_vector\n",
    "def estimate_sum_first_k_leverage_scores(Q,k):\n",
    "    lv_scores_vector = estimate_leverage_scores_from_orthogonal_matrix(Q)\n",
    "    res = np.sum(lv_scores_vector[0:k])\n",
    "    return res"
   ]
  },
  {
   "cell_type": "markdown",
   "metadata": {},
   "source": [
    "## I-2- Application of the algorithm\n",
    "We use the previous function (generate_orthonormal_matrix_with_leverage_scores) to generate a cloud of points represented by an orthogonal matrix Q and we keep a track of the evolution of the matrix Q in the algorithm: at the beginning Q is the rectangular identity matrix (the first d rows are the vectors of canonical basis and the other rows are zeros) the algorithm apply a Givens rotation to Q at each step and at the end the resulting matrix is an orthogonal matrix with the presribed leverage scores.\n",
    "In this example we request a matrix Q with a uniform profil of leverage scores and we keep 5 matrices representing the 'history' of the matrix Q in the algorithm: the most important property of these 5 matrices is that their leverage score profiles are decreasing with respect to the Schur-order or (the majorization).\n",
    "The number of points is 100 and the dimension of the space is 2."
   ]
  },
  {
   "cell_type": "code",
   "execution_count": 5,
   "metadata": {
    "collapsed": true
   },
   "outputs": [],
   "source": [
    "real_dim = 10\n",
    "k = 4\n",
    "r = 5\n",
    "versions_number = 5\n",
    "lv_scores_vector = k/real_dim*np.ones(real_dim)\n",
    "[Q,previous_Q] = generate_orthonormal_matrix_with_leverage_scores(real_dim,k,lv_scores_vector,versions_number)"
   ]
  },
  {
   "cell_type": "code",
   "execution_count": 6,
   "metadata": {
    "collapsed": true
   },
   "outputs": [],
   "source": [
    "# Note: If we change versions_number we have to change the number of the lv_i\n",
    "lv_0 = estimate_leverage_scores_from_orthogonal_matrix(previous_Q[0,:,:])\n",
    "lv_1 = estimate_leverage_scores_from_orthogonal_matrix(previous_Q[1,:,:])\n",
    "lv_2 = estimate_leverage_scores_from_orthogonal_matrix(previous_Q[2,:,:])\n",
    "lv_3 = estimate_leverage_scores_from_orthogonal_matrix(previous_Q[3,:,:])\n",
    "lv_4 = estimate_leverage_scores_from_orthogonal_matrix(previous_Q[4,:,:])\n",
    "lv_5 = estimate_leverage_scores_from_orthogonal_matrix(Q)\n",
    "index_list = list(range(real_dim))"
   ]
  },
  {
   "cell_type": "markdown",
   "metadata": {},
   "source": [
    "In this example the objective is Q and the initialization is Q_1 (the rectangular identity)\n",
    "We have with respect to the Schur-order (or the majorization):\n",
    "$$Q \\prec_{S} Q_5 \\prec_{S} Q_4 \\prec_{S} Q_3 \\prec_{S} Q_2 \\prec_{S} Q_1 $$"
   ]
  },
  {
   "cell_type": "code",
   "execution_count": 7,
   "metadata": {},
   "outputs": [
    {
     "data": {
      "image/png": "[encoded data removed]",
      "text/plain": [
       "<matplotlib.figure.Figure at 0x109763208>"
      ]
     },
     "metadata": {},
     "output_type": "display_data"
    }
   ],
   "source": [
    "plt.plot(index_list[0:10], lv_0[0:10], 'c--',index_list[0:10], lv_1[0:10], 'k--', index_list[0:10], lv_2[0:10], 'r--', index_list[0:10], lv_3[0:10], 'b--',index_list[0:10], lv_4[0:10], 'g--',index_list[0:10], lv_5[0:10], 'y--')\n",
    "plt.xlabel('index')\n",
    "plt.ylabel('leverage score')\n",
    "cyan_patch = mpatches.Patch(color='cyan', label='Q_1')\n",
    "black_patch = mpatches.Patch(color='black', label='Q_2')\n",
    "red_patch = mpatches.Patch(color='red', label='Q_3')\n",
    "blue_patch = mpatches.Patch(color='blue', label='Q_4')\n",
    "green_patch = mpatches.Patch(color='green', label='Q_5')\n",
    "yellow_patch = mpatches.Patch(color='yellow', label='Q')\n",
    "plt.legend(handles=[cyan_patch,black_patch,red_patch,blue_patch,green_patch,yellow_patch])\n",
    "\n",
    "plt.show()"
   ]
  },
  {
   "cell_type": "markdown",
   "metadata": {
    "collapsed": true
   },
   "source": [
    "## I-3- Extending the orthogonal matrices"
   ]
  },
  {
   "cell_type": "markdown",
   "metadata": {},
   "source": [
    "For the task of low rank approximation, we have seen that only the information contained in the first right k eigenvectors of the matrix X are relevant. In the previous step we build only the first right k eigenvectors but we still need to complete these orthogonal matrices with d-k columns. We proceed as following:\n",
    "Generate a random vector (Nx1) using independent standard gaussian variables,\n",
    "Project this vector in the orthogonal of the span of Q\n",
    "Normalize the obtained vector after the projection\n",
    "Extend the matrix Q\n",
    "Note that this procedure is not the unique way to extend the matrix Q to an orthogonal (Nxd) matrix."
   ]
  },
  {
   "cell_type": "code",
   "execution_count": 8,
   "metadata": {
    "collapsed": true
   },
   "outputs": [],
   "source": [
    "def extend_orthogonal_matrix(Q,d_target):\n",
    "    [N,d] = np.shape(Q)\n",
    "    Q_target = np.zeros((N,d))\n",
    "    Q_target = Q\n",
    "    delta = d_target - d\n",
    "    for t in range(delta):\n",
    "        Q_test = np.random.normal(0, 1, N)\n",
    "        for _ in range(d):\n",
    "            Q_test = Q_test - np.dot(Q_test,Q[:,_])*Q[:,_]\n",
    "        Q_test = Q_test/np.linalg.norm(Q_test)\n",
    "        Q_test = Q_test.reshape(N,1)\n",
    "        Q_target = np.append(Q_target,Q_test,1)\n",
    "    return Q_target\n",
    "\n",
    "#extended_Q = extend_orthogonal_matrix(Q,r)"
   ]
  },
  {
   "cell_type": "markdown",
   "metadata": {},
   "source": [
    "## I-4 - Constructing a dataset for every extended orthogonal matrix \n",
    "The previous step allow us to build (N x d) orthogonal matrices such that the extracted (N x k) matrix have a prescribed profile of leverage scores.\n",
    "Now we construct a cloud of point by assigning a covariance matrix D and a matrix V"
   ]
  },
  {
   "cell_type": "code",
   "execution_count": 9,
   "metadata": {
    "collapsed": true
   },
   "outputs": [],
   "source": [
    "N = 100\n",
    "mean = np.zeros((real_dim))\n",
    "cov_test = 0.1*np.ones((real_dim-r))\n",
    "cov = np.diag(np.concatenate(([10,10,4,1,0.1],cov_test)))\n",
    "def contruct_dataset_from_orthogonal_matrix(multi_Q,N,target_d,cov,mean,versions_number):\n",
    "    multi_X = np.zeros((versions_number,N,real_dim))\n",
    "    for t in range(versions_number):\n",
    "        test_X = np.random.multivariate_normal(mean, cov, N)\n",
    "        [U,_,_] = np.linalg.svd(test_X, full_matrices=False)\n",
    "        Q_test = extend_orthogonal_matrix(multi_Q[t,:,:],target_d)\n",
    "        multi_X[t,:,:] = np.dot(np.dot(Q_test,cov),U.T).T\n",
    "    return multi_X\n",
    "\n"
   ]
  },
  {
   "cell_type": "code",
   "execution_count": 10,
   "metadata": {
    "collapsed": true
   },
   "outputs": [],
   "source": [
    "multi_X = contruct_dataset_from_orthogonal_matrix(previous_Q,N,real_dim,cov,mean,versions_number)"
   ]
  },
  {
   "cell_type": "markdown",
   "metadata": {},
   "source": [
    "## II- Volume sampling vs Projection DPP for low rank approximation"
   ]
  },
  {
   "cell_type": "code",
   "execution_count": 11,
   "metadata": {
    "collapsed": true
   },
   "outputs": [],
   "source": [
    "def approximation_error_function(V,Sigma,k,X_S):\n",
    "    d = list(Sigma.shape)[0]\n",
    "    Sigma = np.multiply(Sigma,Sigma)\n",
    "    sub_V,_,_ = np.linalg.svd(X_S, full_matrices=False)\n",
    "    H_hat = np.dot(V.T,sub_V)\n",
    "    r_vector = np.ones(d) - np.multiply(np.linalg.norm(H_hat,axis = 1),np.linalg.norm(H_hat,axis = 1))\n",
    "    approximation_error_ratio= np.sqrt(np.sum(np.multiply(Sigma,r_vector))/np.sum(Sigma[k:d]))\n",
    "    return approximation_error_ratio"
   ]
  },
  {
   "cell_type": "code",
   "execution_count": 12,
   "metadata": {
    "collapsed": true
   },
   "outputs": [],
   "source": [
    "def approximation_error_function_2(Sigma,k,X,X_S):\n",
    "    d = list(Sigma.shape)[0]\n",
    "    Sigma = np.multiply(Sigma,Sigma)\n",
    "    sigma_S_temp = np.linalg.inv(np.dot(X_S.T,X_S))\n",
    "    projection_S = np.dot(np.dot(X_S,sigma_S_temp),X_S.T)\n",
    "    res_X = X - np.dot(projection_S,X)\n",
    "    approximation_error_ratio = np.power(np.linalg.norm(res_X,'fro'),2)/np.sum(Sigma[k:d])\n",
    "    return approximation_error_ratio"
   ]
  },
  {
   "cell_type": "code",
   "execution_count": 13,
   "metadata": {
    "collapsed": true
   },
   "outputs": [],
   "source": [
    "def probability_approximation_error_for_projection_DPP(X,U,k,N,epsilon):\n",
    "    V,Sigma,_ = np.linalg.svd(X, full_matrices=False)\n",
    "    volumes_array = [np.abs(np.linalg.det(np.dot(U[:,list(comb)].T,U[:,list(comb)]))) for comb in combinations(range(N),k)]\n",
    "    volumes_array_sum = np.sum(volumes_array)\n",
    "    volumes_array = volumes_array/volumes_array_sum\n",
    "    #approximation_error_array = [approximation_error_function(V,Sigma,k,X[:,list(comb)]) for comb in combinations(range(N),k)]\n",
    "    approximation_error_array = [approximation_error_function_2(Sigma,k,X,X[:,list(comb)]) for comb in combinations(range(N),k)]\n",
    "    indices_below_epsilon = [index for index,test in enumerate(combinations(range(N),k)) if approximation_error_array[index] < 1+epsilon]\n",
    "    probability_below_epsilon = np.sum(volumes_array[indices_below_epsilon])\n",
    "\n",
    "    return probability_below_epsilon"
   ]
  },
  {
   "cell_type": "markdown",
   "metadata": {},
   "source": [
    "## II-1 Cumulative distribution function of the approximation error for a sampling scheme"
   ]
  },
  {
   "cell_type": "code",
   "execution_count": 14,
   "metadata": {
    "collapsed": true
   },
   "outputs": [],
   "source": [
    "k = 4\n",
    "epsilons_array = np.arange(0, 8, 0.25)\n",
    "number_of_epsilons = list(epsilons_array.shape)[0]\n",
    "probability_array_U_0 = np.zeros(number_of_epsilons)\n",
    "probability_array_X_0 = np.zeros(number_of_epsilons)\n",
    "probability_array_U_1 = np.zeros(number_of_epsilons)\n",
    "probability_array_X_1 = np.zeros(number_of_epsilons)\n",
    "probability_array_U_2 = np.zeros(number_of_epsilons)\n",
    "probability_array_X_2 = np.zeros(number_of_epsilons)\n",
    "probability_array_U_3 = np.zeros(number_of_epsilons)\n",
    "probability_array_X_3 = np.zeros(number_of_epsilons)\n",
    "probability_array_U_4 = np.zeros(number_of_epsilons)\n",
    "probability_array_X_4 = np.zeros(number_of_epsilons)\n",
    "U_0 = previous_Q[0,:,:].T\n",
    "U_1 = previous_Q[1,:,:].T\n",
    "U_2 = previous_Q[2,:,:].T\n",
    "U_3 = previous_Q[3,:,:].T\n",
    "U_4 = previous_Q[4,:,:].T\n",
    "X_0 = multi_X[0,:,:]\n",
    "X_1 = multi_X[1,:,:]\n",
    "X_2 = multi_X[2,:,:]\n",
    "X_3 = multi_X[3,:,:]\n",
    "X_4 = multi_X[4,:,:]\n"
   ]
  },
  {
   "cell_type": "code",
   "execution_count": 15,
   "metadata": {
    "collapsed": true
   },
   "outputs": [],
   "source": [
    "for i in range(number_of_epsilons):\n",
    "    probability_array_X_0[i] = probability_approximation_error_for_projection_DPP(X_0,X_0,k,real_dim,epsilons_array[i])\n",
    "    probability_array_U_0[i] = probability_approximation_error_for_projection_DPP(X_0,U_0[0:k, :],k,real_dim,epsilons_array[i])\n",
    "    probability_array_X_1[i] = probability_approximation_error_for_projection_DPP(X_1,X_1,k,real_dim,epsilons_array[i])\n",
    "    probability_array_U_1[i] = probability_approximation_error_for_projection_DPP(X_1,U_1[0:k, :],k,real_dim,epsilons_array[i])\n",
    "    probability_array_X_2[i] = probability_approximation_error_for_projection_DPP(X_2,X_2,k,real_dim,epsilons_array[i])\n",
    "    probability_array_U_2[i] = probability_approximation_error_for_projection_DPP(X_2,U_2[0:k, :],k,real_dim,epsilons_array[i])\n",
    "    probability_array_X_3[i] = probability_approximation_error_for_projection_DPP(X_3,X_3,k,real_dim,epsilons_array[i])\n",
    "    probability_array_U_3[i] = probability_approximation_error_for_projection_DPP(X_3,U_3[0:k, :],k,real_dim,epsilons_array[i])\n",
    "    probability_array_X_4[i] = probability_approximation_error_for_projection_DPP(X_4,X_4,k,real_dim,epsilons_array[i])\n",
    "    probability_array_U_4[i] = probability_approximation_error_for_projection_DPP(X_4,U_4[0:k, :],k,real_dim,epsilons_array[i])\n",
    "           "
   ]
  },
  {
   "cell_type": "code",
   "execution_count": 16,
   "metadata": {},
   "outputs": [
    {
     "data": {
      "image/png": "[encoded data removed]",
      "text/plain": [
       "<matplotlib.figure.Figure at 0x1098ab588>"
      ]
     },
     "metadata": {},
     "output_type": "display_data"
    }
   ],
   "source": [
    "plt.plot(epsilons_array, probability_array_X_0, 'r--', epsilons_array, probability_array_U_0, 'b--',epsilons_array, probability_array_X_1, 'g--',epsilons_array, probability_array_U_1, 'y--')\n",
    "plt.xlabel('epsilon')\n",
    "plt.ylabel('probability')\n",
    "\n",
    "red_patch = mpatches.Patch(color='red', label='Volume Sampling k-DPP for 0')\n",
    "blue_patch = mpatches.Patch(color='blue', label='(1,2)-projection DPP for 0')\n",
    "green_patch = mpatches.Patch(color='green', label='Volume Sampling k-DPP for 1')\n",
    "yellow_patch = mpatches.Patch(color='yellow', label='(1,2)-projection DPP for 1')\n",
    "\n",
    "plt.legend(handles=[red_patch,blue_patch,green_patch,yellow_patch])\n",
    "\n",
    "plt.show()"
   ]
  },
  {
   "cell_type": "code",
   "execution_count": 17,
   "metadata": {},
   "outputs": [
    {
     "data": {
      "image/png": "[encoded data removed]",
      "text/plain": [
       "<matplotlib.figure.Figure at 0x109b00048>"
      ]
     },
     "metadata": {},
     "output_type": "display_data"
    }
   ],
   "source": [
    "plt.plot(epsilons_array, probability_array_X_0, 'r--', epsilons_array, probability_array_U_0, 'b--',epsilons_array, probability_array_X_4, 'g--',epsilons_array, probability_array_U_4, 'y--')\n",
    "plt.xlabel('epsilon')\n",
    "plt.ylabel('probability')\n",
    "\n",
    "red_patch = mpatches.Patch(color='red', label='Volume Sampling k-DPP for 0')\n",
    "blue_patch = mpatches.Patch(color='blue', label='(1,2)-projection DPP for 0')\n",
    "green_patch = mpatches.Patch(color='green', label='Volume Sampling k-DPP for 4')\n",
    "yellow_patch = mpatches.Patch(color='yellow', label='(1,2)-projection DPP for 4')\n",
    "\n",
    "plt.legend(handles=[red_patch,blue_patch,green_patch,yellow_patch])\n",
    "\n",
    "plt.show()"
   ]
  },
  {
   "cell_type": "markdown",
   "metadata": {},
   "source": [
    "## II-2 Estimation of the expected value of the approximation error for a sampling scheme "
   ]
  },
  {
   "cell_type": "code",
   "execution_count": 18,
   "metadata": {
    "collapsed": true
   },
   "outputs": [],
   "source": [
    "def expected_approximation_error_for_sampling_scheme(X,U,k,N):\n",
    "    _,Sigma,_ = np.linalg.svd(X, full_matrices=False)\n",
    "    volumes_array = [np.abs(np.linalg.det(np.dot(U[:,list(comb)].T,U[:,list(comb)]))) for comb in combinations(range(N),k)]\n",
    "    volumes_array_sum = np.sum(volumes_array)\n",
    "    volumes_array = volumes_array/volumes_array_sum\n",
    "    approximation_error_array = [approximation_error_function_2(Sigma,k,X,X[:,list(comb)]) for comb in combinations(range(N),k)]\n",
    "    expected_value = np.dot(approximation_error_array,volumes_array)\n",
    "    return expected_value"
   ]
  },
  {
   "cell_type": "code",
   "execution_count": 19,
   "metadata": {
    "collapsed": true
   },
   "outputs": [],
   "source": [
    "ex_X_0 = expected_approximation_error_for_sampling_scheme(X_0,X_0,k,real_dim)\n",
    "ex_X_1 = expected_approximation_error_for_sampling_scheme(X_1,X_1,k,real_dim)\n",
    "ex_X_2 = expected_approximation_error_for_sampling_scheme(X_2,X_2,k,real_dim)\n",
    "ex_X_3 = expected_approximation_error_for_sampling_scheme(X_3,X_3,k,real_dim)\n",
    "ex_X_4 = expected_approximation_error_for_sampling_scheme(X_4,X_4,k,real_dim)\n",
    "\n",
    "ex_U_0 = expected_approximation_error_for_sampling_scheme(X_0,U_0,k,real_dim)\n",
    "ex_U_1 = expected_approximation_error_for_sampling_scheme(X_1,U_1,k,real_dim)\n",
    "ex_U_2 = expected_approximation_error_for_sampling_scheme(X_2,U_2,k,real_dim)\n",
    "ex_U_3 = expected_approximation_error_for_sampling_scheme(X_3,U_3,k,real_dim)\n",
    "ex_U_4 = expected_approximation_error_for_sampling_scheme(X_4,U_4,k,real_dim)\n",
    "#ex_U_4 = expected_approximation_error_for_sampling_scheme(X_4,U_4,d,k,N)"
   ]
  },
  {
   "cell_type": "code",
   "execution_count": 29,
   "metadata": {
    "collapsed": true
   },
   "outputs": [],
   "source": [
    "sum_U_0 = estimate_sum_first_k_leverage_scores(U_0.T,k)\n",
    "sum_U_1 = estimate_sum_first_k_leverage_scores(U_1.T,k)\n",
    "sum_U_2 = estimate_sum_first_k_leverage_scores(U_2.T,k)\n",
    "sum_U_3 = estimate_sum_first_k_leverage_scores(U_3.T,k)\n",
    "sum_U_4 = estimate_sum_first_k_leverage_scores(U_4.T,k)\n",
    "\n",
    "determinstic_error_ratio_0 = 1/(1-k+sum_U_0)\n",
    "determinstic_error_ratio_1 = 1/(1-k+sum_U_1)\n",
    "determinstic_error_ratio_2 = 1/(1-k+sum_U_2)\n",
    "determinstic_error_ratio_3 = 1/(1-k+sum_U_3)\n",
    "determinstic_error_ratio_4 = 1/(1-k+sum_U_4)"
   ]
  },
  {
   "cell_type": "code",
   "execution_count": 30,
   "metadata": {},
   "outputs": [
    {
     "data": {
      "text/html": [
       "<center><b>The expected approximation error (divided by the optimal error) according to a sampling scheme for different distribution</b><br><table><tr><td>Dataset</td><td>Using Volume Sampling</td><td>Using Projection DPP</td><td>k-sum</td><td>1/(1-epsilon)</td></tr><tr><td>X_0</td><td>4.79156186365</td><td>1.0</td><td>4.0</td><td>1.0</td></tr><tr><td>X_1</td><td>4.79620343969</td><td>1.38956179844</td><td>3.4</td><td>2.5</td></tr><tr><td>X_2</td><td>4.80581330659</td><td>1.80196677582</td><td>2.8</td><td>-5.0</td></tr><tr><td>X_3</td><td>4.80075285204</td><td>1.80745205512</td><td>2.4</td><td>-1.66666666667</td></tr><tr><td>X_4</td><td>4.79721520993</td><td>2.13084745145</td><td>2.0</td><td>-1.0</td></tr></table>"
      ],
      "text/plain": [
       "<IPython.core.display.HTML object>"
      ]
     },
     "metadata": {},
     "output_type": "display_data"
    }
   ],
   "source": [
    "results = [[\"Dataset\",\"Using Volume Sampling\",\"Using Projection DPP\",\"k-sum\",\"1/(1-epsilon)\"],[\"X_0\",ex_X_0,ex_U_0,sum_U_0,determinstic_error_ratio_0],[\"X_1\",ex_X_1,ex_U_1,sum_U_1,determinstic_error_ratio_1],\n",
    "          [\"X_2\",ex_X_2,ex_U_2,sum_U_2,determinstic_error_ratio_2],[\"X_3\",ex_X_3,ex_U_3,sum_U_3,determinstic_error_ratio_3],[\"X_4\",ex_X_4,ex_U_4,sum_U_4,determinstic_error_ratio_4]] \n",
    "display(HTML(\n",
    "    '<center><b>The expected approximation error (divided by the optimal error) according to a sampling scheme for different distribution</b><br><table><tr>{}</tr></table>'.format(\n",
    "        '</tr><tr>'.join(\n",
    "            '<td>{}</td>'.format('</td><td>'.join(str(_) for _ in row)) for row in results)\n",
    "        )\n",
    " ))"
   ]
  },
  {
   "cell_type": "markdown",
   "metadata": {},
   "source": [
    "#### Note: The expected approximation error is defined as : $$\\sum_{S \\subset [d]} P_{S}Err(S)$$\n",
    "#### With $$Err(S) = \\frac{\\| X - \\pi_{X_{.,S}}(X) \\|_{Fr}^{2}}{\\| X - X_{k} \\|_{Fr}^{2}}$$"
   ]
  },
  {
   "cell_type": "markdown",
   "metadata": {
    "collapsed": true
   },
   "source": [
    "## III - Numerical analysis"
   ]
  },
  {
   "cell_type": "markdown",
   "metadata": {},
   "source": [
    "In this section we use the functions developed previously to investigate the influence of two parameters: the spectrum of X and the k-leverage scores."
   ]
  },
  {
   "cell_type": "markdown",
   "metadata": {},
   "source": [
    "### III-1 The influence of the spectrum"
   ]
  },
  {
   "cell_type": "markdown",
   "metadata": {},
   "source": [
    "In this subsection we compare the Volume Sampling distribution to the projection DPP distribution for different profile of the spectrum with k-leverage scores profile fixed."
   ]
  },
  {
   "cell_type": "markdown",
   "metadata": {},
   "source": [
    "#### III-1-1 The case of a projection spectrum\n",
    "We mean by a projection spectrum matrix, a matrix with equal the first k singular values.\n",
    "We observe that the two distributions are very similar.... \\todo{reword}"
   ]
  },
  {
   "cell_type": "code",
   "execution_count": null,
   "metadata": {
    "collapsed": true
   },
   "outputs": [],
   "source": []
  },
  {
   "cell_type": "markdown",
   "metadata": {},
   "source": [
    "#### III-1-2 The case of a non-projection spectrum\n",
    "We mean by a projection spectrum matrix, a matrix with equal the first k singular values.\n",
    "We observe that the two distributions are very similar.... \\todo{reword}"
   ]
  },
  {
   "cell_type": "code",
   "execution_count": null,
   "metadata": {
    "collapsed": true
   },
   "outputs": [],
   "source": []
  }
 ],
 "metadata": {
  "kernelspec": {
   "display_name": "Python [default]",
   "language": "python",
   "name": "python3"
  },
  "language_info": {
   "codemirror_mode": {
    "name": "ipython",
    "version": 3
   },
   "file_extension": ".py",
   "mimetype": "text/x-python",
   "name": "python",
   "nbconvert_exporter": "python",
   "pygments_lexer": "ipython3",
   "version": "3.5.2"
  }
 },
 "nbformat": 4,
 "nbformat_minor": 2
}
