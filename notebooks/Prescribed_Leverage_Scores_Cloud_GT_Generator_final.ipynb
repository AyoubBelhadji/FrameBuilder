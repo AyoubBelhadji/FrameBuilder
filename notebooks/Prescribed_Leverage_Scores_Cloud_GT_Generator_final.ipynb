{
 "cells": [
  {
   "cell_type": "code",
   "execution_count": 160,
   "metadata": {
    "collapsed": true
   },
   "outputs": [],
   "source": [
    "import numpy as np\n",
    "from itertools import combinations\n",
    "from scipy.stats import binom\n",
    "import scipy.special\n",
    "import matplotlib.pyplot as plt\n",
    "from scipy.stats import ortho_group"
   ]
  },
  {
   "cell_type": "code",
   "execution_count": 11,
   "metadata": {
    "collapsed": true
   },
   "outputs": [],
   "source": [
    "def get_index_lists_I_and_J(E,n,N,d):\n",
    "    I_n = list(range(d))\n",
    "    J_n = list(range(d))\n",
    "    n_ = n+1\n",
    "    for m in reversed(range(d)):\n",
    "        if E[m,n_-1] in E[J_n,n_]:\n",
    "            del I_n[m]\n",
    "            t_J_n = [i for i in J_n if E[i,n_] == E[m,n_-1] ]\n",
    "            m_max = max(t_J_n)\n",
    "            del J_n[m_max]\n",
    "    return I_n,J_n"
   ]
  },
  {
   "cell_type": "code",
   "execution_count": 12,
   "metadata": {
    "collapsed": true
   },
   "outputs": [],
   "source": [
    "def diff_of_lists(first, second):\n",
    "        second = set(second)\n",
    "        return [item for item in first if item not in second]"
   ]
  },
  {
   "cell_type": "code",
   "execution_count": 13,
   "metadata": {
    "collapsed": true
   },
   "outputs": [],
   "source": [
    "def get_permutation_I(I_n,d):\n",
    "    permutation = [0]*d\n",
    "    r_n = np.shape(I_n)[0]\n",
    "    complementary_I_n = diff_of_lists(list(range(d)),I_n)\n",
    "    c_r_n = d-r_n\n",
    "    for i in range(r_n):\n",
    "        permutation[I_n[i]] = i\n",
    "    for i in range(c_r_n):\n",
    "        permutation[complementary_I_n[i]] = i + r_n\n",
    "    return permutation"
   ]
  },
  {
   "cell_type": "code",
   "execution_count": 15,
   "metadata": {
    "collapsed": true
   },
   "outputs": [],
   "source": [
    "def get_v_n_w_n(E,I_n,J_n,d,n):\n",
    "    r_n = np.shape(I_n)[0]\n",
    "    v_n = np.zeros((r_n))\n",
    "    w_n = np.zeros((r_n))\n",
    "    permutation_I_n = get_permutation_I(I_n,d)\n",
    "    permutation_J_n = get_permutation_I(J_n,d)\n",
    "    for m in I_n:\n",
    "        v_n_index = permutation_I_n[m]\n",
    "        nom_v_n = E[m,n]*np.ones((r_n,1)) - E[list(J_n),n+1]\n",
    "        I_n_without_m = diff_of_lists(I_n,[m])\n",
    "        cardinal_I_n_without_m = np.shape(I_n_without_m)[0]\n",
    "        denom_v_n = E[m,n]*np.ones((cardinal_I_n_without_m,1)) - E[list(I_n_without_m),n]\n",
    "        v_n[v_n_index] = np.sqrt(-np.prod(nom_v_n)/np.prod(denom_v_n))\n",
    "    for m in J_n:\n",
    "        w_n_index = permutation_J_n[m]\n",
    "        nom_w_n = E[m,n+1]*np.ones((r_n,1)) - E[list(I_n),n]\n",
    "        J_n_without_m = diff_of_lists(J_n,[m])\n",
    "        cardinal_J_n_without_m = np.shape(J_n_without_m)[0]\n",
    "        denom_w_n = E[m,n+1]*np.ones((cardinal_J_n_without_m,1)) - E[list(J_n_without_m),n+1]\n",
    "        w_n[w_n_index] = np.sqrt(np.prod(nom_w_n)/np.prod(denom_w_n))\n",
    "        \n",
    "    return v_n,w_n"
   ]
  },
  {
   "cell_type": "code",
   "execution_count": 16,
   "metadata": {
    "collapsed": true
   },
   "outputs": [],
   "source": [
    "def get_permutation_matrix(permutation,d):\n",
    "    permutation_matrix = np.zeros((d,d))\n",
    "    for i in range(d):\n",
    "        for j in range(d):\n",
    "            if i == permutation[j]:\n",
    "                permutation_matrix[i,j] = 1\n",
    "    return permutation_matrix"
   ]
  },
  {
   "cell_type": "code",
   "execution_count": 17,
   "metadata": {
    "collapsed": true
   },
   "outputs": [],
   "source": [
    "def get_W_n_matrix(E,I_n,J_n,d,n):\n",
    "    r_n = np.shape(I_n)[0]\n",
    "    v_n,w_n = get_v_n_w_n(E,I_n,J_n,d,n)\n",
    "    W_n_matrix = np.zeros((r_n,r_n))\n",
    "    permutation_I_n = get_permutation_I(I_n,d)\n",
    "    permutation_J_n = get_permutation_I(J_n,d)\n",
    "    for m in I_n:\n",
    "        for m_ in J_n:\n",
    "            v_n_index = permutation_I_n[m]\n",
    "            w_n_index = permutation_J_n[m_]\n",
    "            W_n_matrix[v_n_index,w_n_index] = 1/(E[m_,n+1]-E[m,n])*v_n[v_n_index]*w_n[w_n_index]\n",
    "    return W_n_matrix"
   ]
  },
  {
   "cell_type": "code",
   "execution_count": 18,
   "metadata": {
    "collapsed": true
   },
   "outputs": [],
   "source": [
    "def get_padded_vector(v,d):\n",
    "    r_n = np.shape(v)[0]\n",
    "    v_padded = np.zeros((d,))\n",
    "    v_padded[0:r_n] = v\n",
    "    return v_padded"
   ]
  },
  {
   "cell_type": "code",
   "execution_count": 19,
   "metadata": {
    "collapsed": true
   },
   "outputs": [],
   "source": [
    "def get_extended_matrix_W(W_n_matrix,d):\n",
    "    r_n = np.shape(W_n_matrix)[0]\n",
    "    W_extended = np.eye(d)\n",
    "    W_extended[0:r_n,0:r_n] = W_n_matrix\n",
    "    return W_extended"
   ]
  },
  {
   "cell_type": "code",
   "execution_count": 332,
   "metadata": {
    "collapsed": true
   },
   "outputs": [],
   "source": [
    "def get_F(d,N,E,mu_vector):\n",
    "    F_test = np.zeros((d,N))\n",
    "    U_n_1 = np.eye(d)\n",
    "    for n in range(N):\n",
    "        #print(n)\n",
    "        if n ==0:\n",
    "            M = np.eye(d)\n",
    "            F_test[:,n],U_n_1 = get_F_n_U_n(n+1,d,N,E,mu_vector,M)\n",
    "        else:\n",
    "            F_test[:,n],U_n_1 = get_F_n_U_n(n+1,d,N,E,mu_vector,U_n_1)\n",
    "    return F_test"
   ]
  },
  {
   "cell_type": "code",
   "execution_count": 323,
   "metadata": {
    "collapsed": true
   },
   "outputs": [],
   "source": [
    "def generate_random_diagonal_unimodular_matrix(d):\n",
    "    vector = np.ones((1,d)) - 2*np.random.binomial(1, 0.5, d)\n",
    "    return np.diag(vector[0])\n",
    "    #return np.eye(d)"
   ]
  },
  {
   "cell_type": "code",
   "execution_count": 336,
   "metadata": {
    "collapsed": true
   },
   "outputs": [],
   "source": [
    "def get_F_n_U_n(n,d,N,E,mu_vector,U_n_1):\n",
    "    #print(n)\n",
    "    if n==1:\n",
    "        M = np.eye(d)\n",
    "        v = np.sqrt(mu_vector[0])*M[:,0]\n",
    "        return v,np.eye(d)\n",
    "    I_n,J_n = get_index_lists_I_and_J(E,n-1,N,d)\n",
    "    r_n = np.shape(I_n)[0]\n",
    "    permutation_matrix_I_n = get_permutation_matrix(get_permutation_I(I_n,d),d)\n",
    "    permutation_matrix_J_n = get_permutation_matrix(get_permutation_I(J_n,d),d)\n",
    "    v_n,w_n = get_v_n_w_n(E,I_n,J_n,d,n-1)\n",
    "    W_extended = get_extended_matrix_W(get_W_n_matrix(E,I_n,J_n,d,n-1),d)\n",
    "    v_padded = get_padded_vector(v_n,d)\n",
    "    V_n = generate_random_diagonal_unimodular_matrix(d)\n",
    "    U_n = np.dot(np.dot(np.dot(np.dot(U_n_1,V_n),np.transpose(permutation_matrix_I_n)),W_extended),permutation_matrix_J_n)\n",
    "    f_n = np.dot(np.dot(np.dot(U_n_1,V_n),np.transpose(permutation_matrix_I_n)),v_padded)\n",
    "    return f_n,U_n"
   ]
  },
  {
   "cell_type": "markdown",
   "metadata": {},
   "source": [
    "## Create an eigensteps"
   ]
  },
  {
   "cell_type": "code",
   "execution_count": 89,
   "metadata": {
    "collapsed": true
   },
   "outputs": [],
   "source": [
    "for n in range(N-2,-1,-1):#iter([N-2,N-3,N-4,N-5,N-6]):\n",
    "    #print(n)\n",
    "    if n > -1:\n",
    "        #print(list(range(n, 0, -1)))\n",
    "        for k in range(n, -1, -1):\n",
    "            #print(\"k is\")\n",
    "            #print(k)\n",
    "            #n -> N-2\n",
    "            #n+1 -> N-1\n",
    "            #k_aux = k+1\n",
    "            #print(n)\n",
    "            A_n_1_k = max(E[k+1,n+1],np.sum(E[k:n+2,n+1])-np.sum(E[k+1:n+1,n])-mu_vector[n+1])\n",
    "            B_array = np.zeros(k+1)\n",
    "            for l in range(k+1):\n",
    "                B_array[l] = np.sum(mu_vector[l:n+1])-np.sum(E[l+1:k+1,n+1])-np.sum(E[k+1:n+1,n])\n",
    "                #print(l)\n",
    "            #print(B_array)\n",
    "            B_n_1_k = min(E[k,n+1],min(B_array))\n",
    "            #print(\"n is:\")\n",
    "            #print(n)\n",
    "            #print(\"k is:\")\n",
    "            #print(k)\n",
    "            #print(\"E[k,n+1] is\")\n",
    "            #print(E[k,n+1])\n",
    "            #print(\"B_n_1_k is:\")\n",
    "            #print(B_n_1_k)\n",
    "            \n",
    "            E[k,n] = (A_n_1_k+B_n_1_k)/2\n",
    "            #print(A_n_1_k)\n",
    "            #print(B_n_1_k)"
   ]
  },
  {
   "cell_type": "code",
   "execution_count": 90,
   "metadata": {
    "collapsed": true
   },
   "outputs": [],
   "source": [
    "\n",
    "E_column_sum = np.zeros((N))\n",
    "for n in range(N):\n",
    "    E_column_sum[n] = np.sum(E[:,n])"
   ]
  },
  {
   "cell_type": "code",
   "execution_count": 91,
   "metadata": {},
   "outputs": [
    {
     "data": {
      "text/plain": [
       "array([ 0.6,  1.2,  1.8,  2.4,  3. ])"
      ]
     },
     "execution_count": 91,
     "metadata": {},
     "output_type": "execute_result"
    }
   ],
   "source": [
    "E_column_sum"
   ]
  },
  {
   "cell_type": "code",
   "execution_count": 92,
   "metadata": {},
   "outputs": [
    {
     "data": {
      "text/plain": [
       "array([[ 0.6,  0.8,  1. ,  1. ,  1. ],\n",
       "       [ 0. ,  0.4,  0.6,  1. ,  1. ],\n",
       "       [ 0. ,  0. ,  0.2,  0.4,  1. ],\n",
       "       [ 0. ,  0. ,  0. ,  0. ,  0. ],\n",
       "       [ 0. ,  0. ,  0. ,  0. ,  0. ]])"
      ]
     },
     "execution_count": 92,
     "metadata": {},
     "output_type": "execute_result"
    }
   ],
   "source": [
    "E"
   ]
  },
  {
   "cell_type": "code",
   "execution_count": 93,
   "metadata": {
    "collapsed": true
   },
   "outputs": [],
   "source": [
    "def get_eigensteps_random(mu_vector,lambda_vector,N,d):\n",
    "    E = np.zeros((N,N)) #(d,N)\n",
    "    E[:,N-1] = lambda_vector\n",
    "    for n in range(N-2,-1,-1):\n",
    "        #print(n)\n",
    "        for k in range(n, -1, -1):\n",
    "            A_n_1_k = max(E[k+1,n+1],np.sum(E[k:n+2,n+1])-np.sum(E[k+1:n+1,n])-mu_vector[n+1])\n",
    "            B_array = np.zeros(k+1)\n",
    "            for l in range(k+1):\n",
    "                B_array[l] = np.sum(mu_vector[l:n+1])-np.sum(E[l+1:k+1,n+1])-np.sum(E[k+1:n+1,n])\n",
    "            B_n_1_k = min(E[k,n+1],min(B_array))\n",
    "            u = np.random.uniform(0,1)\n",
    "            delta_n_1_k = B_n_1_k - A_n_1_k\n",
    "            E[k,n] = A_n_1_k + u*delta_n_1_k\n",
    "    return E"
   ]
  },
  {
   "cell_type": "code",
   "execution_count": 94,
   "metadata": {
    "collapsed": true
   },
   "outputs": [],
   "source": [
    "def get_eigensteps_mean(mu_vector,lambda_vector,N,d):\n",
    "    E = np.zeros((N,N)) #(d,N)\n",
    "    E[:,N-1] = lambda_vector\n",
    "    for n in range(N-2,-1,-1):\n",
    "        #print(n)\n",
    "        for k in range(n, -1, -1):\n",
    "            A_n_1_k = max(E[k+1,n+1],np.sum(E[k:n+2,n+1])-np.sum(E[k+1:n+1,n])-mu_vector[n+1])\n",
    "            B_array = np.zeros(k+1)\n",
    "            for l in range(k+1):\n",
    "                B_array[l] = np.sum(mu_vector[l:n+1])-np.sum(E[l+1:k+1,n+1])-np.sum(E[k+1:n,n])\n",
    "            B_n_1_k = min(E[k,n+1],min(B_array))\n",
    "            u = np.random.uniform(0,1)\n",
    "            E[k,n] = A_n_1_k\n",
    "    return E"
   ]
  },
  {
   "cell_type": "code",
   "execution_count": 407,
   "metadata": {
    "collapsed": true
   },
   "outputs": [],
   "source": [
    "N= 50\n",
    "d = 2\n",
    "E = np.zeros((N,N)) #(d,N)\n",
    "mu_vector = d/N*np.ones((N,1))\n",
    "lambda_vector = np.zeros((N))\n",
    "lambda_vector[0:d] = np.ones((d))"
   ]
  },
  {
   "cell_type": "code",
   "execution_count": 408,
   "metadata": {
    "collapsed": true
   },
   "outputs": [],
   "source": [
    "mu_vector = np.linspace(1, 0.1, num=N)\n",
    "sum_mu_vector = np.sum(mu_vector)\n",
    "mu_vector = d/sum_mu_vector*mu_vector\n",
    "\n",
    "mu_vector = d/N*np.ones((N,1))"
   ]
  },
  {
   "cell_type": "code",
   "execution_count": 436,
   "metadata": {
    "collapsed": true
   },
   "outputs": [],
   "source": [
    "\n",
    "E_test = get_eigensteps_random(mu_vector,lambda_vector,N,d)\n",
    "E_ = np.zeros((d,N+1))\n",
    "for i in range(d):\n",
    "    E_[i,1:N+1] = E_test[i,:] \n",
    "F_test = get_F(d,N,np.asmatrix(E_),mu_vector)\n"
   ]
  },
  {
   "cell_type": "code",
   "execution_count": 437,
   "metadata": {
    "collapsed": true
   },
   "outputs": [],
   "source": [
    "E_column_sum = np.zeros((N,1))\n",
    "for n in range(N):\n",
    "    E_column_sum[n] = np.sum(E_test[:,n])\n"
   ]
  },
  {
   "cell_type": "code",
   "execution_count": 438,
   "metadata": {},
   "outputs": [
    {
     "data": {
      "image/png": "[encoded data removed]",
      "text/plain": [
       "<matplotlib.figure.Figure at 0x10465b4a8>"
      ]
     },
     "metadata": {},
     "output_type": "display_data"
    }
   ],
   "source": [
    "plt.scatter(F_test[0,0:N], F_test[1,0:N])\n",
    "plt.gca().set_aspect('equal')\n",
    "plt.show()"
   ]
  },
  {
   "cell_type": "code",
   "execution_count": 393,
   "metadata": {},
   "outputs": [
    {
     "data": {
      "text/plain": [
       "array([[  1.00000000e+00,  -7.89299182e-17],\n",
       "       [ -7.89299182e-17,   1.00000000e+00]])"
      ]
     },
     "execution_count": 393,
     "metadata": {},
     "output_type": "execute_result"
    }
   ],
   "source": [
    "np.dot(F_test[:,0:N],F_test[:,0:N].T)"
   ]
  },
  {
   "cell_type": "code",
   "execution_count": 394,
   "metadata": {},
   "outputs": [
    {
     "data": {
      "text/plain": [
       "array([ 0.07272727,  0.07139147,  0.07005566,  0.06871985,  0.06738404,\n",
       "        0.06604824,  0.06471243,  0.06337662,  0.06204082,  0.06070501,\n",
       "        0.0593692 ,  0.0580334 ,  0.05669759,  0.05536178,  0.05402597,\n",
       "        0.05269017,  0.05135436,  0.05001855,  0.04868275,  0.04734694,\n",
       "        0.04601113,  0.04467532,  0.04333952,  0.04200371,  0.0406679 ,\n",
       "        0.0393321 ,  0.03799629,  0.03666048,  0.03532468,  0.03398887,\n",
       "        0.03265306,  0.03131725,  0.02998145,  0.02864564,  0.02730983,\n",
       "        0.02597403,  0.02463822,  0.02330241,  0.0219666 ,  0.0206308 ,\n",
       "        0.01929499,  0.01795918,  0.01662338,  0.01528757,  0.01395176,\n",
       "        0.01261596,  0.01128015,  0.00994434,  0.00860853,  0.00727273])"
      ]
     },
     "execution_count": 394,
     "metadata": {},
     "output_type": "execute_result"
    }
   ],
   "source": [
    "np.diag(np.dot(F_test[:,0:N].T,F_test[:,0:N]))"
   ]
  },
  {
   "cell_type": "code",
   "execution_count": 384,
   "metadata": {},
   "outputs": [
    {
     "data": {
      "text/plain": [
       "array([ 0.07272727,  0.07139147,  0.07005566,  0.06871985,  0.06738404,\n",
       "        0.06604824,  0.06471243,  0.06337662,  0.06204082,  0.06070501,\n",
       "        0.0593692 ,  0.0580334 ,  0.05669759,  0.05536178,  0.05402597,\n",
       "        0.05269017,  0.05135436,  0.05001855,  0.04868275,  0.04734694,\n",
       "        0.04601113,  0.04467532,  0.04333952,  0.04200371,  0.0406679 ,\n",
       "        0.0393321 ,  0.03799629,  0.03666048,  0.03532468,  0.03398887,\n",
       "        0.03265306,  0.03131725,  0.02998145,  0.02864564,  0.02730983,\n",
       "        0.02597403,  0.02463822,  0.02330241,  0.0219666 ,  0.0206308 ,\n",
       "        0.01929499,  0.01795918,  0.01662338,  0.01528757,  0.01395176,\n",
       "        0.01261596,  0.01128015,  0.00994434,  0.00860853,  0.00727273])"
      ]
     },
     "execution_count": 384,
     "metadata": {},
     "output_type": "execute_result"
    }
   ],
   "source": [
    "mu_vector"
   ]
  },
  {
   "cell_type": "code",
   "execution_count": null,
   "metadata": {
    "collapsed": true
   },
   "outputs": [],
   "source": []
  },
  {
   "cell_type": "code",
   "execution_count": 162,
   "metadata": {},
   "outputs": [
    {
     "data": {
      "text/plain": [
       "array([[-0.47128663,  0.09340299, -0.8770204 ],\n",
       "       [ 0.67864901, -0.59669884, -0.42823595],\n",
       "       [-0.56331557, -0.7970109 ,  0.21782834]])"
      ]
     },
     "execution_count": 162,
     "metadata": {},
     "output_type": "execute_result"
    }
   ],
   "source": [
    "x"
   ]
  },
  {
   "cell_type": "code",
   "execution_count": 161,
   "metadata": {
    "collapsed": true
   },
   "outputs": [],
   "source": [
    "x = ortho_group.rvs(3)"
   ]
  },
  {
   "cell_type": "code",
   "execution_count": 164,
   "metadata": {},
   "outputs": [
    {
     "name": "stdout",
     "output_type": "stream",
     "text": [
      "[3, 4, 7, 8, 9]\n"
     ]
    }
   ],
   "source": [
    "def list_duplicates(seq):\n",
    "    seen = set()\n",
    "    seen_add = seen.add\n",
    "    return [idx for idx,item in enumerate(seq) if item in seen or seen_add(item)]\n",
    "\n",
    "print(list_duplicates([1, 2, 3, 2, 1, 5, 6, 5, 5, 5]))\n",
    "# [3, 4, 7, 8, 9]"
   ]
  },
  {
   "cell_type": "code",
   "execution_count": null,
   "metadata": {
    "collapsed": true
   },
   "outputs": [],
   "source": []
  }
 ],
 "metadata": {
  "kernelspec": {
   "display_name": "Python [default]",
   "language": "python",
   "name": "python3"
  },
  "language_info": {
   "codemirror_mode": {
    "name": "ipython",
    "version": 3
   },
   "file_extension": ".py",
   "mimetype": "text/x-python",
   "name": "python",
   "nbconvert_exporter": "python",
   "pygments_lexer": "ipython3",
   "version": "3.5.2"
  }
 },
 "nbformat": 4,
 "nbformat_minor": 2
}
