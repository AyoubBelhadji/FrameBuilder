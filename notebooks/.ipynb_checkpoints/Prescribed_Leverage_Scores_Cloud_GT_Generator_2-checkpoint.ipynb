{
 "cells": [
  {
   "cell_type": "code",
   "execution_count": 1,
   "metadata": {
    "collapsed": true
   },
   "outputs": [],
   "source": [
    "import numpy as np\n",
    "from itertools import combinations\n",
    "from scipy.stats import binom\n",
    "import scipy.special\n",
    "import matplotlib.pyplot as plt"
   ]
  },
  {
   "cell_type": "markdown",
   "metadata": {},
   "source": [
    "## Givens Rotations generators"
   ]
  },
  {
   "cell_type": "code",
   "execution_count": 2,
   "metadata": {
    "collapsed": true
   },
   "outputs": [],
   "source": [
    "def t_func(q_i,q_j,q_ij,l_i,l_j): \n",
    "    # t in section 3.1 Dhillon (2005) \n",
    "    delta = np.power(q_ij,2)-(q_i-l_i)*(q_j-l_i)\n",
    "    if delta<0:\n",
    "        print(delta)\n",
    "        print(\"error sqrt\")\n",
    "    t = q_ij - np.sqrt(delta) \n",
    "    t = t/(q_j-l_i)\n",
    "    return t\n",
    "     \n",
    "def G_func(i,j,q_i,q_j,q_ij,l_i,l_j,N): \n",
    "    # Gitens Rotation \n",
    "    G=np.eye(N) #identité \n",
    "    t = t_func(q_i,q_j,q_ij,l_i,l_j)\n",
    "    c = 1/(np.sqrt(np.power(t,2)+1))\n",
    "    s = t*c\n",
    "    G[i,i]=c\n",
    "    G[i,j]=s \n",
    "    G[j,i]= -s\n",
    "    G[j,j]= c\n",
    "    return G"
   ]
  },
  {
   "cell_type": "markdown",
   "metadata": {},
   "source": [
    "## Initialisation by the identity matrix"
   ]
  },
  {
   "cell_type": "code",
   "execution_count": 3,
   "metadata": {
    "collapsed": true
   },
   "outputs": [],
   "source": [
    "N = 979\n",
    "d = 2\n",
    "Q = np.zeros((N,d))\n",
    "for _ in range(0,d):\n",
    "    Q[_,_] = 1\n",
    "lv_scores_vector = d/N*np.ones(N)\n",
    "lv_scores_vector = np.linspace(1, 1000, num=N)\n",
    "lv_scores_vector = d*lv_scores_vector/(np.sum(lv_scores_vector))\n",
    "\n",
    "\n",
    "I_sorting =  list(reversed(np.argsort(lv_scores_vector)))\n",
    "lv_scores_vector = np.asarray(list(reversed(np.sort(lv_scores_vector))))\n",
    "\n"
   ]
  },
  {
   "cell_type": "markdown",
   "metadata": {},
   "source": [
    "## Transforming an idendity matrix to an orthogonal matrix with prescribed lengths"
   ]
  },
  {
   "cell_type": "code",
   "execution_count": 4,
   "metadata": {
    "collapsed": true
   },
   "outputs": [],
   "source": [
    "\n",
    "i = d-1\n",
    "j = d\n",
    "for t in range(N-1):\n",
    "    delta_i = np.abs(lv_scores_vector[i] - np.power(np.linalg.norm(Q[i,:]),2))\n",
    "    delta_j = np.abs(lv_scores_vector[j] - np.power(np.linalg.norm(Q[j,:]),2))\n",
    "    q_i = np.power(np.linalg.norm(Q[i,:]),2)\n",
    "    q_j = np.power(np.linalg.norm(Q[j,:]),2)\n",
    "    q_ij = np.dot(Q[i,:],Q[j,:].T)\n",
    "    l_i = lv_scores_vector[i]\n",
    "    l_j = lv_scores_vector[j]\n",
    "    G = np.eye(N)\n",
    "    if delta_i <= delta_j:\n",
    "        l_k = q_i + q_j -l_i\n",
    "        G = G_func(i,j,q_i,q_j,q_ij,l_i,l_k,N)\n",
    "        Q = np.dot(G,Q)\n",
    "        i = i-1\n",
    "    else:\n",
    "        l_k = q_i + q_j -l_j\n",
    "        G = G_func(i,j,q_j,q_i,q_ij,l_j,l_k,N)\n",
    "        Q = np.dot(G,Q)\n",
    "        j = j+1"
   ]
  },
  {
   "cell_type": "markdown",
   "metadata": {},
   "source": [
    "## Scatter the cloud of points"
   ]
  },
  {
   "cell_type": "code",
   "execution_count": 5,
   "metadata": {},
   "outputs": [
    {
     "data": {
      "image/png": "[encoded data removed]",
      "text/plain": [
       "<matplotlib.figure.Figure at 0x10a0594a8>"
      ]
     },
     "metadata": {},
     "output_type": "display_data"
    }
   ],
   "source": [
    "plt.scatter(Q[:,0], Q[:,1])\n",
    "plt.show()"
   ]
  },
  {
   "cell_type": "markdown",
   "metadata": {},
   "source": [
    "#### We observe that almost all the points are aligned with the canonical axis"
   ]
  },
  {
   "cell_type": "markdown",
   "metadata": {
    "collapsed": true
   },
   "source": [
    "## Build eigensteps"
   ]
  },
  {
   "cell_type": "code",
   "execution_count": null,
   "metadata": {
    "collapsed": true
   },
   "outputs": [],
   "source": []
  },
  {
   "cell_type": "markdown",
   "metadata": {},
   "source": [
    "## Build a frame given an eigensteps"
   ]
  },
  {
   "cell_type": "code",
   "execution_count": 1874,
   "metadata": {
    "collapsed": true
   },
   "outputs": [],
   "source": [
    "#E_test_1 = np.matrix('0 0 0 0 0.666 1.666;0 0 0.333 1.333 1.666 1.666;0 1.0 1.666 1.666 1.666 1.666')"
   ]
  },
  {
   "cell_type": "code",
   "execution_count": 2024,
   "metadata": {
    "collapsed": true
   },
   "outputs": [],
   "source": [
    "E_test_1 = np.matrix('0 1.0 1.666 1.666 1.666 1.666;0 0 0.333 1.333 1.666 1.666;0 0 0 0 0.666 1.666')"
   ]
  },
  {
   "cell_type": "code",
   "execution_count": 2025,
   "metadata": {},
   "outputs": [
    {
     "data": {
      "text/plain": [
       "matrix([[ 0.   ,  1.   ,  1.666,  1.666,  1.666,  1.666],\n",
       "        [ 0.   ,  0.   ,  0.333,  1.333,  1.666,  1.666],\n",
       "        [ 0.   ,  0.   ,  0.   ,  0.   ,  0.666,  1.666]])"
      ]
     },
     "execution_count": 2025,
     "metadata": {},
     "output_type": "execute_result"
    }
   ],
   "source": [
    "E_test_1"
   ]
  },
  {
   "cell_type": "code",
   "execution_count": 1876,
   "metadata": {
    "collapsed": true
   },
   "outputs": [],
   "source": [
    "E_2 = 3/5*E_test_1"
   ]
  },
  {
   "cell_type": "code",
   "execution_count": 1880,
   "metadata": {
    "collapsed": true
   },
   "outputs": [],
   "source": [
    "[d,N] = np.shape(E_test_1) ## The dimensions of the eigensteps matrix"
   ]
  },
  {
   "cell_type": "code",
   "execution_count": 1849,
   "metadata": {
    "collapsed": true
   },
   "outputs": [],
   "source": []
  },
  {
   "cell_type": "code",
   "execution_count": 2306,
   "metadata": {
    "collapsed": true
   },
   "outputs": [],
   "source": [
    "def get_index_lists_I_and_J(E,n,N,d):\n",
    "    I_n = list(range(d))\n",
    "    J_n = list(range(d))\n",
    "    n_ = n+1\n",
    "    for m in reversed(range(d)):\n",
    "        if E[m,n_-1] in E[J_n,n_]:\n",
    "            del I_n[m]\n",
    "            t_J_n = [i for i in J_n if E[i,n_] == E[m,n_-1] ]\n",
    "            m_max = max(t_J_n)\n",
    "            del J_n[m_max]\n",
    "    return I_n,J_n"
   ]
  },
  {
   "cell_type": "code",
   "execution_count": 2027,
   "metadata": {
    "collapsed": true
   },
   "outputs": [],
   "source": [
    "def diff_of_lists(first, second):\n",
    "        second = set(second)\n",
    "        return [item for item in first if item not in second]"
   ]
  },
  {
   "cell_type": "code",
   "execution_count": 2028,
   "metadata": {
    "collapsed": true
   },
   "outputs": [],
   "source": [
    "def get_permutation_I(I_n,d):\n",
    "    permutation = [0]*d\n",
    "    r_n = np.shape(I_n)[0]\n",
    "    complementary_I_n = diff_of_lists(list(range(d)),I_n)\n",
    "    c_r_n = d-r_n\n",
    "    for i in range(r_n):\n",
    "        permutation[I_n[i]] = i\n",
    "    for i in range(c_r_n):\n",
    "        permutation[complementary_I_n[i]] = i + r_n\n",
    "    return permutation"
   ]
  },
  {
   "cell_type": "code",
   "execution_count": 2029,
   "metadata": {
    "collapsed": true
   },
   "outputs": [],
   "source": [
    "def d_minus_x(x):\n",
    "    return d-x-1"
   ]
  },
  {
   "cell_type": "code",
   "execution_count": 2318,
   "metadata": {
    "collapsed": true
   },
   "outputs": [],
   "source": [
    "def get_v_n_w_n(E,I_n,J_n,d,n):\n",
    "    r_n = np.shape(I_n)[0]\n",
    "    v_n = np.zeros((r_n))\n",
    "    w_n = np.zeros((r_n))\n",
    "    permutation_I_n = get_permutation_I(I_n,d)\n",
    "    permutation_J_n = get_permutation_I(J_n,d)\n",
    "    #print(n)\n",
    "    for m in I_n:\n",
    "        #print(m)\n",
    "        #print(d_minus_x(m))\n",
    "        v_n_index = permutation_I_n[m]\n",
    "        nom_v_n = E[m,n]*np.ones((r_n,1)) - E[list(J_n),n+1]\n",
    "        I_n_without_m = diff_of_lists(I_n,[m])\n",
    "        cardinal_I_n_without_m = np.shape(I_n_without_m)[0]\n",
    "        denom_v_n = E[m,n]*np.ones((cardinal_I_n_without_m,1)) - E[list(I_n_without_m),n]\n",
    "        v_n[v_n_index] = np.sqrt(-np.prod(nom_v_n)/np.prod(denom_v_n))\n",
    "    for m in J_n:\n",
    "        w_n_index = permutation_J_n[m]\n",
    "        nom_w_n = E[m,n+1]*np.ones((r_n,1)) - E[list(I_n),n]\n",
    "        J_n_without_m = diff_of_lists(J_n,[m])\n",
    "        cardinal_J_n_without_m = np.shape(J_n_without_m)[0]\n",
    "        denom_w_n = E[m,n+1]*np.ones((cardinal_J_n_without_m,1)) - E[list(J_n_without_m),n+1]\n",
    "        w_n[w_n_index] = np.sqrt(np.prod(nom_w_n)/np.prod(denom_w_n))\n",
    "        \n",
    "    return v_n,w_n"
   ]
  },
  {
   "cell_type": "code",
   "execution_count": 2031,
   "metadata": {
    "collapsed": true
   },
   "outputs": [],
   "source": [
    "def get_permutation_matrix(permutation,d):\n",
    "    permutation_matrix = np.zeros((d,d))\n",
    "    for i in range(d):\n",
    "        for j in range(d):\n",
    "            if i == permutation[j]:\n",
    "                permutation_matrix[i,j] = 1\n",
    "    return permutation_matrix"
   ]
  },
  {
   "cell_type": "code",
   "execution_count": 2321,
   "metadata": {
    "collapsed": true
   },
   "outputs": [],
   "source": [
    "def get_W_n_matrix(E,I_n,J_n,d,n):\n",
    "    r_n = np.shape(I_n)[0]\n",
    "    v_n,w_n = get_v_n_w_n(E,I_n,J_n,d,n)\n",
    "    W_n_matrix = np.zeros((r_n,r_n))\n",
    "    permutation_I_n = get_permutation_I(I_n,d)\n",
    "    permutation_J_n = get_permutation_I(J_n,d)\n",
    "    for m in I_n:\n",
    "        for m_ in J_n:\n",
    "            v_n_index = permutation_I_n[m]\n",
    "            w_n_index = permutation_J_n[m_]\n",
    "            W_n_matrix[v_n_index,w_n_index] = 1/(E[m_,n+1]-E[m,n])*v_n[v_n_index]*w_n[w_n_index]\n",
    "    return W_n_matrix"
   ]
  },
  {
   "cell_type": "code",
   "execution_count": 1861,
   "metadata": {
    "collapsed": true
   },
   "outputs": [],
   "source": [
    "def get_padded_vector(v,d):\n",
    "    r_n = np.shape(v)[0]\n",
    "    v_padded = np.zeros((d,))\n",
    "    v_padded[0:r_n] = v\n",
    "    return v_padded"
   ]
  },
  {
   "cell_type": "code",
   "execution_count": 2183,
   "metadata": {
    "collapsed": true
   },
   "outputs": [],
   "source": [
    "def get_extended_matrix_W(W_n_matrix,d):\n",
    "    r_n = np.shape(W_n_matrix)[0]\n",
    "    W_extended = np.eye(d)\n",
    "    W_extended[0:r_n,0:r_n] = W_n_matrix\n",
    "    return W_extended"
   ]
  },
  {
   "cell_type": "code",
   "execution_count": 2396,
   "metadata": {
    "collapsed": true
   },
   "outputs": [],
   "source": [
    "def get_F(d,N,E):\n",
    "    F_test = np.zeros((d,N))\n",
    "    for n in range(N):\n",
    "        #print(n)\n",
    "        F_test[:,n] = get_F_n(n+1,d,N,E)\n",
    "    return F_test"
   ]
  },
  {
   "cell_type": "code",
   "execution_count": 2271,
   "metadata": {},
   "outputs": [],
   "source": [
    "n = 4  ## The \"level\" \n",
    "I_n,J_n = get_index_lists_I_and_J(E_test_1,n,N,d)"
   ]
  },
  {
   "cell_type": "code",
   "execution_count": 2272,
   "metadata": {},
   "outputs": [],
   "source": [
    "permutation_I_n = get_permutation_I(I_n,d)\n",
    "\n",
    "permutation_matrix_I_n = get_permutation_matrix(permutation_I_n,d)\n",
    "\n",
    "permutation_J_n = get_permutation_I(J_n,d)\n",
    "\n",
    "permutation_matrix_J_n = get_permutation_matrix(permutation_J_n,d)"
   ]
  },
  {
   "cell_type": "code",
   "execution_count": 2273,
   "metadata": {},
   "outputs": [
    {
     "data": {
      "text/plain": [
       "[2]"
      ]
     },
     "execution_count": 2273,
     "metadata": {},
     "output_type": "execute_result"
    }
   ],
   "source": [
    "I_n"
   ]
  },
  {
   "cell_type": "code",
   "execution_count": 2274,
   "metadata": {},
   "outputs": [
    {
     "data": {
      "text/plain": [
       "[0]"
      ]
     },
     "execution_count": 2274,
     "metadata": {},
     "output_type": "execute_result"
    }
   ],
   "source": [
    "J_n"
   ]
  },
  {
   "cell_type": "code",
   "execution_count": 2275,
   "metadata": {},
   "outputs": [
    {
     "data": {
      "text/plain": [
       "[1, 2, 0]"
      ]
     },
     "execution_count": 2275,
     "metadata": {},
     "output_type": "execute_result"
    }
   ],
   "source": [
    "permutation_I_n"
   ]
  },
  {
   "cell_type": "code",
   "execution_count": 2276,
   "metadata": {},
   "outputs": [
    {
     "data": {
      "text/plain": [
       "[0, 1, 2]"
      ]
     },
     "execution_count": 2276,
     "metadata": {},
     "output_type": "execute_result"
    }
   ],
   "source": [
    "permutation_J_n"
   ]
  },
  {
   "cell_type": "code",
   "execution_count": 2277,
   "metadata": {},
   "outputs": [
    {
     "data": {
      "text/plain": [
       "array([[ 0.,  0.,  1.],\n",
       "       [ 1.,  0.,  0.],\n",
       "       [ 0.,  1.,  0.]])"
      ]
     },
     "execution_count": 2277,
     "metadata": {},
     "output_type": "execute_result"
    }
   ],
   "source": [
    "permutation_matrix_I_n"
   ]
  },
  {
   "cell_type": "code",
   "execution_count": 2278,
   "metadata": {},
   "outputs": [
    {
     "data": {
      "text/plain": [
       "array([[ 1.,  0.,  0.],\n",
       "       [ 0.,  1.,  0.],\n",
       "       [ 0.,  0.,  1.]])"
      ]
     },
     "execution_count": 2278,
     "metadata": {},
     "output_type": "execute_result"
    }
   ],
   "source": [
    "permutation_matrix_J_n"
   ]
  },
  {
   "cell_type": "code",
   "execution_count": 2279,
   "metadata": {},
   "outputs": [],
   "source": [
    "v_n,w_n = get_v_n_w_n(E_test_1,I_n,J_n,d)"
   ]
  },
  {
   "cell_type": "code",
   "execution_count": 2280,
   "metadata": {},
   "outputs": [
    {
     "name": "stdout",
     "output_type": "stream",
     "text": [
      "[ 1.]\n"
     ]
    }
   ],
   "source": [
    "print(v_n)"
   ]
  },
  {
   "cell_type": "code",
   "execution_count": 2281,
   "metadata": {},
   "outputs": [
    {
     "name": "stdout",
     "output_type": "stream",
     "text": [
      "[ 1.]\n"
     ]
    }
   ],
   "source": [
    "print(w_n)"
   ]
  },
  {
   "cell_type": "code",
   "execution_count": 2282,
   "metadata": {},
   "outputs": [],
   "source": [
    "W_n_matrix = get_W_n_matrix(E_test_1,I_n,J_n,d,n)"
   ]
  },
  {
   "cell_type": "code",
   "execution_count": 2283,
   "metadata": {},
   "outputs": [
    {
     "data": {
      "text/plain": [
       "array([[ 1.]])"
      ]
     },
     "execution_count": 2283,
     "metadata": {},
     "output_type": "execute_result"
    }
   ],
   "source": [
    "W_n_matrix "
   ]
  },
  {
   "cell_type": "code",
   "execution_count": 1868,
   "metadata": {
    "collapsed": true
   },
   "outputs": [],
   "source": [
    "W_extended_test = get_extended_matrix_W(W_n_matrix,d)"
   ]
  },
  {
   "cell_type": "code",
   "execution_count": 2336,
   "metadata": {
    "collapsed": true
   },
   "outputs": [],
   "source": [
    "def get_U_n(n,d,N,E):    \n",
    "    if n==1:\n",
    "        return np.eye(d)\n",
    "    else:\n",
    "\n",
    "        I_n,J_n = get_index_lists_I_and_J(E,n-1,N,d)\n",
    "        #print(I_n)\n",
    "        #print(J_n)\n",
    "        r_n = np.shape(I_n)[0]\n",
    "        permutation_matrix_I_n = get_permutation_matrix(get_permutation_I(I_n,d),d)\n",
    "        #print(permutation_matrix_I_n)\n",
    "        permutation_matrix_J_n = get_permutation_matrix(get_permutation_I(J_n,d),d)\n",
    "        #print(permutation_matrix_J_n)\n",
    "        v_n,w_n = get_v_n_w_n(E,I_n,J_n,d,n-1)\n",
    "        #print(v_n)\n",
    "        #print(w_n)\n",
    "        W_n_matrix = get_W_n_matrix(E,I_n,J_n,d,n-1)\n",
    "        W_extended = get_extended_matrix_W(get_W_n_matrix(E,I_n,J_n,d,n-1),d)\n",
    "        U_n = np.zeros((d,d))\n",
    "        U_n_1 = get_U_n(n-1,d,N,E)\n",
    "        #print(U_n_1)\n",
    "        #print(W_extended)\n",
    "        #print(W_n_matrix)\n",
    "\n",
    "        U_n_plus_one = np.dot(np.dot(np.dot(U_n_1,np.transpose(permutation_matrix_I_n)),W_extended),permutation_matrix_J_n)\n",
    "        #print(n)\n",
    "        return U_n_plus_one"
   ]
  },
  {
   "cell_type": "code",
   "execution_count": 2337,
   "metadata": {},
   "outputs": [],
   "source": [
    "U_n_test = get_U_n(4,d,N,E_test_1)"
   ]
  },
  {
   "cell_type": "code",
   "execution_count": 2338,
   "metadata": {},
   "outputs": [
    {
     "data": {
      "text/plain": [
       "array([[-0.372417  ,  0.91303062,  0.16637509],\n",
       "       [ 0.83362491,  0.40789103, -0.372417  ],\n",
       "       [ 0.40789103,  0.        ,  0.91303062]])"
      ]
     },
     "execution_count": 2338,
     "metadata": {},
     "output_type": "execute_result"
    }
   ],
   "source": [
    "U_n_test"
   ]
  },
  {
   "cell_type": "code",
   "execution_count": 2339,
   "metadata": {},
   "outputs": [
    {
     "data": {
      "text/plain": [
       "array([[  1.00000000e+00,  -2.77555756e-17,  -5.55111512e-17],\n",
       "       [ -2.77555756e-17,   1.00000000e+00,   1.11022302e-16],\n",
       "       [ -5.55111512e-17,   1.11022302e-16,   1.00000000e+00]])"
      ]
     },
     "execution_count": 2339,
     "metadata": {},
     "output_type": "execute_result"
    }
   ],
   "source": [
    "np.dot(U_n_test,U_n_test.T)"
   ]
  },
  {
   "cell_type": "code",
   "execution_count": 2377,
   "metadata": {
    "collapsed": true
   },
   "outputs": [],
   "source": [
    "def get_F_n(n,d,N,E):\n",
    "    #print(n)\n",
    "    if n==1:\n",
    "        M = np.eye(d)\n",
    "        v = M[:,0]\n",
    "        return v\n",
    "    I_n,J_n = get_index_lists_I_and_J(E,n-1,N,d)\n",
    "    r_n = np.shape(I_n)[0]\n",
    "    permutation_matrix_I_n = get_permutation_matrix(get_permutation_I(I_n,d),d)\n",
    "    permutation_matrix_J_n = get_permutation_matrix(get_permutation_I(J_n,d),d)\n",
    "    v_n,w_n = get_v_n_w_n(E,I_n,J_n,d,n-1)\n",
    "    W_extended = get_extended_matrix_W(get_W_n_matrix(E,I_n,J_n,d,n-1),d)\n",
    "    v_padded = get_padded_vector(v_n,d)\n",
    "    U_n_1 = get_U_n(n-1,d,N,E)\n",
    "    f_n = np.dot(np.dot(U_n_1,np.transpose(permutation_matrix_I_n)),v_padded)\n",
    "    return f_n"
   ]
  },
  {
   "cell_type": "code",
   "execution_count": 2395,
   "metadata": {},
   "outputs": [],
   "source": [
    "F_test_1 = get_F_n(1,d,N,E_test_1)"
   ]
  },
  {
   "cell_type": "code",
   "execution_count": 2388,
   "metadata": {},
   "outputs": [
    {
     "name": "stdout",
     "output_type": "stream",
     "text": [
      "[-0.16649995  0.37269649  0.91234593]\n"
     ]
    }
   ],
   "source": [
    "print(F_test_1)"
   ]
  },
  {
   "cell_type": "code",
   "execution_count": 2390,
   "metadata": {},
   "outputs": [
    {
     "name": "stdout",
     "output_type": "stream",
     "text": [
      "0.912870929175\n"
     ]
    }
   ],
   "source": [
    "print(np.sqrt(5)/np.sqrt(6))"
   ]
  },
  {
   "cell_type": "code",
   "execution_count": 2398,
   "metadata": {},
   "outputs": [],
   "source": [
    "F_test = get_F(d,N-1,E_test_1)"
   ]
  },
  {
   "cell_type": "code",
   "execution_count": 2347,
   "metadata": {},
   "outputs": [
    {
     "name": "stdout",
     "output_type": "stream",
     "text": [
      "3\n"
     ]
    }
   ],
   "source": [
    "print(d)"
   ]
  },
  {
   "cell_type": "code",
   "execution_count": 2348,
   "metadata": {},
   "outputs": [
    {
     "name": "stdout",
     "output_type": "stream",
     "text": [
      "6\n"
     ]
    }
   ],
   "source": [
    "print(N)"
   ]
  },
  {
   "cell_type": "code",
   "execution_count": 2399,
   "metadata": {},
   "outputs": [
    {
     "data": {
      "text/plain": [
       "array([[ 1.        ,  0.        ,  0.        ],\n",
       "       [ 0.66649981,  0.74483421,  0.        ],\n",
       "       [-0.40789103,  0.91303062,  0.        ],\n",
       "       [-0.16649995,  0.37269649,  0.91234593],\n",
       "       [ 0.16637509, -0.372417  ,  0.91303062]])"
      ]
     },
     "execution_count": 2399,
     "metadata": {},
     "output_type": "execute_result"
    }
   ],
   "source": [
    "F_test.T"
   ]
  },
  {
   "cell_type": "code",
   "execution_count": 2400,
   "metadata": {},
   "outputs": [
    {
     "data": {
      "image/png": "[encoded data removed]",
      "text/plain": [
       "<matplotlib.figure.Figure at 0x10be3e438>"
      ]
     },
     "metadata": {},
     "output_type": "display_data"
    }
   ],
   "source": [
    "plt.scatter(F_test[0,:], F_test[1,:])\n",
    "plt.show()"
   ]
  },
  {
   "cell_type": "markdown",
   "metadata": {},
   "source": [
    "## Create an eigensteps"
   ]
  },
  {
   "cell_type": "code",
   "execution_count": 1818,
   "metadata": {
    "collapsed": true
   },
   "outputs": [],
   "source": [
    "N = 5\n",
    "d = 3\n",
    "\n",
    "E = np.zeros((N,N)) #(d,N)\n",
    "mu_vector = np.asarray([0.6,0.6,0.6,0.6,0.6])\n",
    "lambda_vector = np.asarray([1,1,1,0,0])\n"
   ]
  },
  {
   "cell_type": "code",
   "execution_count": 1819,
   "metadata": {
    "collapsed": true
   },
   "outputs": [],
   "source": [
    "# Initialisation\n",
    "E[:,N-1] = lambda_vector"
   ]
  },
  {
   "cell_type": "code",
   "execution_count": 1820,
   "metadata": {},
   "outputs": [
    {
     "data": {
      "text/plain": [
       "array([[ 0.,  0.,  0.,  0.,  1.],\n",
       "       [ 0.,  0.,  0.,  0.,  1.],\n",
       "       [ 0.,  0.,  0.,  0.,  1.],\n",
       "       [ 0.,  0.,  0.,  0.,  0.],\n",
       "       [ 0.,  0.,  0.,  0.,  0.]])"
      ]
     },
     "execution_count": 1820,
     "metadata": {},
     "output_type": "execute_result"
    }
   ],
   "source": [
    "E"
   ]
  },
  {
   "cell_type": "code",
   "execution_count": 1821,
   "metadata": {},
   "outputs": [],
   "source": [
    "for n in range(N-2,-1,-1):#iter([N-2,N-3,N-4,N-5,N-6]):\n",
    "    #print(n)\n",
    "    if n > -1:\n",
    "        #print(list(range(n, 0, -1)))\n",
    "        for k in range(n, -1, -1):\n",
    "            #print(\"k is\")\n",
    "            #print(k)\n",
    "            #n -> N-2\n",
    "            #n+1 -> N-1\n",
    "            #k_aux = k+1\n",
    "            #print(n)\n",
    "            A_n_1_k = max(E[k+1,n+1],np.sum(E[k:n+2,n+1])-np.sum(E[k+1:n+1,n])-mu_vector[n+1])\n",
    "            B_array = np.zeros(k+1)\n",
    "            for l in range(k+1):\n",
    "                B_array[l] = np.sum(mu_vector[l:n+1])-np.sum(E[l+1:k+1,n+1])-np.sum(E[k+1:n+1,n])\n",
    "                #print(l)\n",
    "            #print(B_array)\n",
    "            B_n_1_k = min(E[k,n+1],min(B_array))\n",
    "            #print(\"n is:\")\n",
    "            #print(n)\n",
    "            #print(\"k is:\")\n",
    "            #print(k)\n",
    "            #print(\"E[k,n+1] is\")\n",
    "            #print(E[k,n+1])\n",
    "            #print(\"B_n_1_k is:\")\n",
    "            #print(B_n_1_k)\n",
    "            \n",
    "            E[k,n] = (A_n_1_k+B_n_1_k)/2\n",
    "            #print(A_n_1_k)\n",
    "            #print(B_n_1_k)"
   ]
  },
  {
   "cell_type": "code",
   "execution_count": 1822,
   "metadata": {
    "collapsed": true
   },
   "outputs": [],
   "source": [
    "\n",
    "E_column_sum = np.zeros((N))\n",
    "for n in range(N):\n",
    "    E_column_sum[n] = np.sum(E[:,n])"
   ]
  },
  {
   "cell_type": "code",
   "execution_count": 1823,
   "metadata": {},
   "outputs": [
    {
     "data": {
      "text/plain": [
       "array([ 0.6,  1.2,  1.8,  2.4,  3. ])"
      ]
     },
     "execution_count": 1823,
     "metadata": {},
     "output_type": "execute_result"
    }
   ],
   "source": [
    "E_column_sum"
   ]
  },
  {
   "cell_type": "code",
   "execution_count": 1824,
   "metadata": {},
   "outputs": [
    {
     "data": {
      "text/plain": [
       "array([[ 0.6,  0.8,  1. ,  1. ,  1. ],\n",
       "       [ 0. ,  0.4,  0.6,  1. ,  1. ],\n",
       "       [ 0. ,  0. ,  0.2,  0.4,  1. ],\n",
       "       [ 0. ,  0. ,  0. ,  0. ,  0. ],\n",
       "       [ 0. ,  0. ,  0. ,  0. ,  0. ]])"
      ]
     },
     "execution_count": 1824,
     "metadata": {},
     "output_type": "execute_result"
    }
   ],
   "source": [
    "E"
   ]
  },
  {
   "cell_type": "code",
   "execution_count": 1825,
   "metadata": {
    "collapsed": true
   },
   "outputs": [],
   "source": [
    "def get_eigensteps_random(mu_vector,lambda_vector,N,d):\n",
    "    E = np.zeros((N,N)) #(d,N)\n",
    "    E[:,N-1] = lambda_vector\n",
    "    for n in range(N-2,-1,-1):\n",
    "        #print(n)\n",
    "        for k in range(n, -1, -1):\n",
    "            A_n_1_k = max(E[k+1,n+1],np.sum(E[k:n+2,n+1])-np.sum(E[k+1:n+1,n])-mu_vector[n+1])\n",
    "            B_array = np.zeros(k+1)\n",
    "            for l in range(k+1):\n",
    "                B_array[l] = np.sum(mu_vector[l:n+1])-np.sum(E[l+1:k+1,n+1])-np.sum(E[k+1:n+1,n])\n",
    "            B_n_1_k = min(E[k,n+1],min(B_array))\n",
    "            u = np.random.uniform(0,1)\n",
    "            delta_n_1_k = B_n_1_k - A_n_1_k\n",
    "            E[k,n] = A_n_1_k + u*delta_n_1_k\n",
    "    return E"
   ]
  },
  {
   "cell_type": "code",
   "execution_count": 1826,
   "metadata": {
    "collapsed": true
   },
   "outputs": [],
   "source": [
    "def get_eigensteps_mean(mu_vector,lambda_vector,N,d):\n",
    "    E = np.zeros((N,N)) #(d,N)\n",
    "    E[:,N-1] = lambda_vector\n",
    "    for n in range(N-2,-1,-1):\n",
    "        #print(n)\n",
    "        for k in range(n, -1, -1):\n",
    "            A_n_1_k = max(E[k+1,n+1],np.sum(E[k:n+2,n+1])-np.sum(E[k+1:n+1,n])-mu_vector[n+1])\n",
    "            B_array = np.zeros(k+1)\n",
    "            for l in range(k+1):\n",
    "                B_array[l] = np.sum(mu_vector[l:n+1])-np.sum(E[l+1:k+1,n+1])-np.sum(E[k+1:n,n])\n",
    "            B_n_1_k = min(E[k,n+1],min(B_array))\n",
    "            u = np.random.uniform(0,1)\n",
    "            E[k,n] = A_n_1_k\n",
    "    return E"
   ]
  },
  {
   "cell_type": "code",
   "execution_count": 2658,
   "metadata": {
    "collapsed": true
   },
   "outputs": [],
   "source": [
    "N= 50\n",
    "d = 2\n",
    "E = np.zeros((N,N)) #(d,N)\n",
    "mu_vector = d/N*np.ones((N,1))\n",
    "lambda_vector = np.zeros((N))\n",
    "lambda_vector[0:d] = np.ones((d))"
   ]
  },
  {
   "cell_type": "code",
   "execution_count": 2659,
   "metadata": {},
   "outputs": [],
   "source": [
    "E_test = get_eigensteps_random(mu_vector,lambda_vector,N,d)"
   ]
  },
  {
   "cell_type": "code",
   "execution_count": 2660,
   "metadata": {},
   "outputs": [],
   "source": [
    "#E_test"
   ]
  },
  {
   "cell_type": "code",
   "execution_count": 2661,
   "metadata": {
    "collapsed": true
   },
   "outputs": [],
   "source": [
    "E_column_sum = np.zeros((N))\n",
    "for n in range(N):\n",
    "    E_column_sum[n] = np.sum(E_test[:,n])"
   ]
  },
  {
   "cell_type": "code",
   "execution_count": 2662,
   "metadata": {},
   "outputs": [],
   "source": [
    "#E_column_sum"
   ]
  },
  {
   "cell_type": "code",
   "execution_count": 2663,
   "metadata": {
    "collapsed": true
   },
   "outputs": [],
   "source": [
    "E_ = np.zeros((d,N+1))"
   ]
  },
  {
   "cell_type": "code",
   "execution_count": 2664,
   "metadata": {},
   "outputs": [
    {
     "name": "stdout",
     "output_type": "stream",
     "text": [
      "0\n",
      "1\n"
     ]
    }
   ],
   "source": [
    "#E_[d:0,1:N+1] = E[0:d,:]\n",
    "for i in range(d):\n",
    "    print(i)\n",
    "    E_[i,1:N+1] = E_test[i,:] "
   ]
  },
  {
   "cell_type": "code",
   "execution_count": 2665,
   "metadata": {},
   "outputs": [
    {
     "data": {
      "text/plain": [
       "(2, 51)"
      ]
     },
     "execution_count": 2665,
     "metadata": {},
     "output_type": "execute_result"
    }
   ],
   "source": [
    "np.shape(E_)"
   ]
  },
  {
   "cell_type": "code",
   "execution_count": 2666,
   "metadata": {},
   "outputs": [],
   "source": [
    "#E_test"
   ]
  },
  {
   "cell_type": "code",
   "execution_count": 2667,
   "metadata": {},
   "outputs": [],
   "source": [
    "#E_"
   ]
  },
  {
   "cell_type": "code",
   "execution_count": 2668,
   "metadata": {},
   "outputs": [
    {
     "data": {
      "text/plain": [
       "(2, 51)"
      ]
     },
     "execution_count": 2668,
     "metadata": {},
     "output_type": "execute_result"
    }
   ],
   "source": [
    "np.shape(E_)"
   ]
  },
  {
   "cell_type": "code",
   "execution_count": 2669,
   "metadata": {},
   "outputs": [
    {
     "data": {
      "text/plain": [
       "(50, 50)"
      ]
     },
     "execution_count": 2669,
     "metadata": {},
     "output_type": "execute_result"
    }
   ],
   "source": [
    "np.shape(E_test)"
   ]
  },
  {
   "cell_type": "code",
   "execution_count": 2670,
   "metadata": {},
   "outputs": [],
   "source": [
    "#F_test = get_F(d,N+1,np.asmatrix(E_))\n",
    "F_test = get_F(d,N-1,np.asmatrix(E_))"
   ]
  },
  {
   "cell_type": "code",
   "execution_count": 2671,
   "metadata": {},
   "outputs": [],
   "source": [
    "#F_test"
   ]
  },
  {
   "cell_type": "code",
   "execution_count": 2672,
   "metadata": {},
   "outputs": [
    {
     "data": {
      "image/png": "[encoded data removed]",
      "text/plain": [
       "<matplotlib.figure.Figure at 0x10e44fcc0>"
      ]
     },
     "metadata": {},
     "output_type": "display_data"
    }
   ],
   "source": [
    "plt.scatter(F_test[0,1:N], F_test[1,1:N])\n",
    "plt.show()"
   ]
  },
  {
   "cell_type": "code",
   "execution_count": 2611,
   "metadata": {},
   "outputs": [
    {
     "data": {
      "text/plain": [
       "numpy.matrixlib.defmatrix.matrix"
      ]
     },
     "execution_count": 2611,
     "metadata": {},
     "output_type": "execute_result"
    }
   ],
   "source": [
    "type(E__)"
   ]
  },
  {
   "cell_type": "code",
   "execution_count": 2612,
   "metadata": {},
   "outputs": [
    {
     "data": {
      "text/plain": [
       "matrix([[ 0.        ,  0.        ,  0.        ,  0.39754917,  0.4       ,\n",
       "          1.        ],\n",
       "        [ 0.        ,  0.        ,  0.39865535,  0.40245083,  1.        ,\n",
       "          1.        ],\n",
       "        [ 0.        ,  0.6       ,  0.80134465,  1.        ,  1.        ,\n",
       "          1.        ]])"
      ]
     },
     "execution_count": 2612,
     "metadata": {},
     "output_type": "execute_result"
    }
   ],
   "source": [
    "E__"
   ]
  },
  {
   "cell_type": "code",
   "execution_count": 2712,
   "metadata": {
    "collapsed": true
   },
   "outputs": [],
   "source": [
    "mu_vector = np.linspace(1, 0.1, num=N)\n",
    "sum_mu_vector = np.sum(mu_vector)\n",
    "mu_vector = d/sum_mu_vector*mu_vector"
   ]
  },
  {
   "cell_type": "code",
   "execution_count": 2725,
   "metadata": {
    "collapsed": true
   },
   "outputs": [],
   "source": [
    "\n",
    "E_test = get_eigensteps_random(mu_vector,lambda_vector,N,d)\n",
    "E_ = np.zeros((d,N+1))\n",
    "for i in range(d):\n",
    "    E_[i,1:N+1] = E_test[i,:] \n",
    "F_test = get_F(d,N-1,np.asmatrix(E_))\n"
   ]
  },
  {
   "cell_type": "code",
   "execution_count": 2726,
   "metadata": {},
   "outputs": [
    {
     "data": {
      "image/png": "[encoded data removed]",
      "text/plain": [
       "<matplotlib.figure.Figure at 0x10e244fd0>"
      ]
     },
     "metadata": {},
     "output_type": "display_data"
    }
   ],
   "source": [
    "plt.scatter(F_test[0,1:N], F_test[1,1:N])\n",
    "plt.show()"
   ]
  },
  {
   "cell_type": "code",
   "execution_count": null,
   "metadata": {
    "collapsed": true
   },
   "outputs": [],
   "source": []
  }
 ],
 "metadata": {
  "kernelspec": {
   "display_name": "Python [default]",
   "language": "python",
   "name": "python3"
  },
  "language_info": {
   "codemirror_mode": {
    "name": "ipython",
    "version": 3
   },
   "file_extension": ".py",
   "mimetype": "text/x-python",
   "name": "python",
   "nbconvert_exporter": "python",
   "pygments_lexer": "ipython3",
   "version": "3.5.2"
  }
 },
 "nbformat": 4,
 "nbformat_minor": 2
}
