{
 "cells": [
  {
   "cell_type": "markdown",
   "metadata": {},
   "source": [
    "# Volume Sampling vs projection DPP for low rank approximation\n",
    "## Introduction\n",
    "#### In this notebook we compare the volume sampling and projection DPP for low rank approximation.\n",
    "We recall the result proved in the article [DRVW]:\\\\\n",
    "Let S be a random subset of k columns of X chosen with probability: $$P(S) = \\frac{1}{Z_{k}} det(X_{.,S}^{T}X_{.,S})$$ with $$Z_{k} = \\sum\\limits_{S \\subset [N], |S| = k} det(X_{.,S}^{T}X_{.,S})$$\n",
    "Then\n",
    "$$\\begin{equation}\n",
    "E(\\| X - \\pi_{X_{.,S}}(X) \\|_{Fr}^{2}) \\leq (k+1)\\| X - \\pi_{k}(X) \\|_{Fr}^{2}\n",
    "\\end{equation}$$\n",
    "\n",
    "\n",
    "We can prove that the volume sampling distribution is a mixture of projection DPPs distributions..., in particular one projection DPP distribution stands out for the problem of low rank approximation: ....\\\\\n",
    "For the moment, there is no analytical expression for $$\\begin{equation}\n",
    "E(\\| X - \\pi_{X_{.,S}}(X) \\|_{Fr}^{2}) \n",
    "\\end{equation}$$ under the distribution of projection DPP.\\\\\n",
    "However, we can calculate this quantity using simulation on some matrices representing cloud points with some specific geometric constraints.\n",
    "\n",
    "Let $$X \\in R^{n \\times m}$$ a matrix representing a cloud of points.\n",
    "We can write the SVD of $$X = UDV^{T}$$  \n",
    "In this notebook we investigate the influence of some structures enforced to V and D on the expected error expressed above for different algorithms: Volume Sampling, Projection DPP and the deterministic algorithm.  \n",
    "As for the Volume Sampling distribution, we can express the expected approximation error using only the elements of D. We can test this theoretical property in the next Numerical Study below. However, there is no closed formula (for the moment) for the expected approximation error under Projection DPP distribution. We will see in the Numerical Study section, that this value cannot depends only on the elements of D. "
   ]
  },
  {
   "cell_type": "markdown",
   "metadata": {},
   "source": [
    "#### References\n",
    "[DRVW] Deshpande, Amit and Rademacher, Luis and Vempala, Santosh and Wang, Grant - Matrix Approximation and Projective Clustering via Volume Sampling 2006\n",
    "\n",
    "[BoDr] Boutsidis, Christos and Drineas, Petros  - Deterministic and randomized column selection algorithms for matrices 2014\n",
    "\n",
    "[] INDERJIT S. DHILLON , ROBERT W. HEATH JR., MA ́TYA ́S A. SUSTIK, AND\n",
    "JOEL A. TROPP - GENERALIZED FINITE ALGORITHMS FOR CONSTRUCTING HERMITIAN MATRICES\n",
    "WITH PRESCRIBED DIAGONAL AND SPECTRUM 2005"
   ]
  },
  {
   "cell_type": "markdown",
   "metadata": {},
   "source": [
    "## I- Generating a cloud of points with geometric constraints\n",
    "In this simulation we will enforce some structure on the matrix V for two values of the matrix D. While the matrix U will be choosen randomly.  \n",
    "We want to investigate the influence of the profile of the norms of the V_k rows: the k-leverage scores. For this purpose we use an algorithm proposed in the article []: this algorithm outputs a ( dxk)  matrix Q with orthonormal columns and a prescribed profile of the norms of the rows. If we consider the Gram matrix H= QQ^{T}, this boils down to enforce the diagonal of H while keeping its spectrum containing k ones and d-k zeros.  \n",
    "The algorithm proceed as following:\n",
    "* Initialization of the matrix Q by the rectangular identity\n",
    "* Apply a Givens Rotation (of dimension d) to the matrix Q: this step will enforce the norm of a row every iteration\n",
    "* Outputs the resulting matrix when all the rows norms are enforced.\n"
   ]
  },
  {
   "cell_type": "code",
<<<<<<< HEAD
   "execution_count": 829,
=======
   "execution_count": 698,
>>>>>>> e3a991266bb11f96e4cec170b2f30c52d0d57ebb
   "metadata": {
    "collapsed": true
   },
   "outputs": [],
   "source": [
    "import numpy as np\n",
    "import pandas as pd\n",
    "from itertools import combinations\n",
    "from scipy.stats import binom\n",
    "import scipy.special\n",
    "import matplotlib.pyplot as plt\n",
    "import matplotlib.patches as mpatches\n",
    "from IPython.display import display, HTML\n",
    "from FrameBuilder.eigenstepsbuilder import *\n",
<<<<<<< HEAD
    "from decimal import *"
   ]
  },
  {
   "cell_type": "code",
   "execution_count": 823,
   "metadata": {
    "collapsed": true
   },
   "outputs": [],
   "source": [
    "u = np.random.uniform(0,1)"
   ]
  },
  {
   "cell_type": "code",
   "execution_count": 799,
   "metadata": {},
   "outputs": [
    {
     "data": {
      "text/plain": [
       "0.3358120949925849"
      ]
     },
     "execution_count": 799,
     "metadata": {},
     "output_type": "execute_result"
    }
   ],
   "source": [
    "u"
   ]
  },
  {
   "cell_type": "markdown",
   "metadata": {},
   "source": [
    "### I-1- Givens Rotations generators\n",
    "These functions generate a Givens rotation "
   ]
  },
  {
   "cell_type": "code",
   "execution_count": 800,
   "metadata": {
    "collapsed": true
   },
   "outputs": [],
   "source": [
    "def t_func(q_i,q_j,q_ij,l_i,l_j): \n",
    "    # t in section 3.1 Dhillon (2005) \n",
    "    delta = np.power(q_ij,2)-(q_i-l_i)*(q_j-l_i)\n",
    "    if delta<0:\n",
    "        print(delta)\n",
    "        print(\"error sqrt\")\n",
    "    t = q_ij - np.sqrt(delta) \n",
    "    t = t/(q_j-l_i)\n",
    "    return t\n",
    "     \n",
    "def G_func(i,j,q_i,q_j,q_ij,l_i,l_j,N): \n",
    "    # Gitens Rotation \n",
    "    G=np.eye(N) \n",
    "    t = t_func(q_i,q_j,q_ij,l_i,l_j)\n",
    "    c = 1/(np.sqrt(np.power(t,2)+1))\n",
    "    s = t*c\n",
    "    G[i,i]=c\n",
    "    G[i,j]=s \n",
    "    G[j,i]= -s\n",
    "    G[j,j]= c\n",
    "    return G"
=======
    "from decimal import *\n",
    "from copy import deepcopy\n",
    "import matplotlib.lines as mlines\n",
    "import matplotlib.transforms as mtransforms\n",
    "\n",
    "from matplotlib import rc\n",
    "rc('font',**{'family':'sans-serif','sans-serif':['Helvetica']})\n",
    "## for Palatino and other serif fonts use:\n",
    "#rc('font',**{'family':'serif','serif':['Palatino']})\n",
    "rc('text', usetex=False)"
>>>>>>> e3a991266bb11f96e4cec170b2f30c52d0d57ebb
   ]
  },
  {
   "cell_type": "markdown",
   "metadata": {
    "collapsed": true
   },
   "source": [
    "The following function is an implementation of the algorithm [] figuring in the article [] to generate an orthogonal matrix with a prescribed profile of leverage scores.\n",
    "In fact this is a simplification of the algorithm ....."
   ]
  },
  {
   "cell_type": "code",
<<<<<<< HEAD
   "execution_count": 801,
=======
   "execution_count": 2,
>>>>>>> e3a991266bb11f96e4cec170b2f30c52d0d57ebb
   "metadata": {
    "collapsed": true
   },
   "outputs": [],
   "source": [
    "def generate_leverage_scores_vector_with_dirichlet(d,k,nn_cardinal):\n",
    "    getcontext().prec = 3\n",
    "    mu_vector = np.float16(np.zeros((d,)))\n",
    "    mu_vector_2 = np.float16(np.zeros((d,)))\n",
    "    not_bounded = 1\n",
    "    while(not_bounded == 1):\n",
    "        mu_vector[0:nn_cardinal] = (k*np.random.dirichlet([1]*nn_cardinal, 1))[0]\n",
    "        mu_vector = np.flip(np.sort(mu_vector),axis = 0)\n",
    "        if max(mu_vector)<=1:\n",
    "            not_bounded = 0\n",
    "    for i in range(nn_cardinal):\n",
    "        mu_vector_2[i] = round(mu_vector[i],4)\n",
    "    mu_vector_2 = k*mu_vector_2/np.sum(mu_vector_2)\n",
    "    return list(mu_vector_2)\n"
   ]
  },
  {
   "cell_type": "code",
<<<<<<< HEAD
   "execution_count": 832,
=======
   "execution_count": 189,
>>>>>>> e3a991266bb11f96e4cec170b2f30c52d0d57ebb
   "metadata": {
    "collapsed": true
   },
   "outputs": [],
   "source": [
    "def generate_orthonormal_matrix_with_leverage_scores_ES(N,d,lv_scores_vector,versions_number,nn_cardinal_list):\n",
    "\n",
    "    lambda_vector = np.zeros((N))\n",
    "    lambda_vector[0:d] = np.ones((d))\n",
    "\n",
    "    #mu_vector = np.linspace(1, 0.1, num=N)\n",
    "    #sum_mu_vector = np.sum(mu_vector)\n",
    "    #mu_vector = d/sum_mu_vector*mu_vector\n",
    "    Q = np.zeros((N,d))\n",
    "    previous_Q = np.zeros((versions_number,N,d))\n",
    "    #mu_vector = d/N*np.ones((N,1))\n",
    "    E = np.zeros((N,N)) #(d,N)\n",
    "    counter = 0\n",
    "    for j in nn_cardinal_list:\n",
    "        #print(\"counter\")\n",
    "        #print(counter)\n",
    "        mu_vector = generate_leverage_scores_vector_with_dirichlet(N,d,j)\n",
    "        #print(np.sum(mu_vector))\n",
    "        #print(mu_vector)\n",
    "        E_test = get_eigensteps_random(mu_vector,lambda_vector,N,d)\n",
    "        E_ = np.zeros((d,N+1))\n",
    "        for i in range(d):\n",
    "            E_[i,1:N+1] = E_test[i,:] \n",
    "        print(E_test)\n",
    "        #F_test = get_F(d,N,np.asmatrix(E_),mu_vector)\n",
    "        #previous_Q[counter,:,:] = np.transpose(F_test)\n",
    "        #Q = np.transpose(F_test)\n",
    "        counter = counter +1\n",
    "    return Q,previous_Q"
   ]
  },
  {
   "cell_type": "code",
<<<<<<< HEAD
   "execution_count": 833,
   "metadata": {},
   "outputs": [
    {
     "name": "stdout",
     "output_type": "stream",
     "text": [
      "counter\n",
      "0\n",
      "2.0\n",
      "[0.32764, 0.32153, 0.16907, 0.16028, 0.1438, 0.13843, 0.12805, 0.10632, 0.098022, 0.090393, 0.088684, 0.064392, 0.0578, 0.033997, 0.031799, 0.026398, 0.007, 0.0066986, 0.0, 0.0]\n",
      "[[ 0.32767245  0.3700502   0.52789205  0.54268118  0.60703057  0.66726853\n",
      "   0.73849729  0.77766843  0.83109472  0.8743445   0.90949306  0.93896209\n",
      "   0.95815749  0.97402108  0.99351995  0.99471348  0.99999317  1.          1.\n",
      "   1.        ]\n",
      " [ 0.          0.27916541  0.29034942  0.43577911  0.51516418  0.59343683\n",
      "   0.6502118   0.71739659  0.76176117  0.80930595  0.86296506  0.89786697\n",
      "   0.93626258  0.95420218  0.96637759  0.99154724  0.99322139  1.          1.\n",
      "   1.        ]\n",
      " [ 0.          0.          0.          0.          0.          0.          0.\n",
      "   0.          0.          0.          0.          0.          0.          0.\n",
      "   0.          0.          0.          0.          0.          0.        ]\n",
      " [ 0.          0.          0.          0.          0.          0.          0.\n",
      "   0.          0.          0.          0.          0.          0.          0.\n",
      "   0.          0.          0.          0.          0.          0.        ]\n",
      " [ 0.          0.          0.          0.          0.          0.          0.\n",
      "   0.          0.          0.          0.          0.          0.          0.\n",
      "   0.          0.          0.          0.          0.          0.        ]\n",
      " [ 0.          0.          0.          0.          0.          0.          0.\n",
      "   0.          0.          0.          0.          0.          0.          0.\n",
      "   0.          0.          0.          0.          0.          0.        ]\n",
      " [ 0.          0.          0.          0.          0.          0.          0.\n",
      "   0.          0.          0.          0.          0.          0.          0.\n",
      "   0.          0.          0.          0.          0.          0.        ]\n",
      " [ 0.          0.          0.          0.          0.          0.          0.\n",
      "   0.          0.          0.          0.          0.          0.          0.\n",
      "   0.          0.          0.          0.          0.          0.        ]\n",
      " [ 0.          0.          0.          0.          0.          0.          0.\n",
      "   0.          0.          0.          0.          0.          0.          0.\n",
      "   0.          0.          0.          0.          0.          0.        ]\n",
      " [ 0.          0.          0.          0.          0.          0.          0.\n",
      "   0.          0.          0.          0.          0.          0.          0.\n",
      "   0.          0.          0.          0.          0.          0.        ]\n",
      " [ 0.          0.          0.          0.          0.          0.          0.\n",
      "   0.          0.          0.          0.          0.          0.          0.\n",
      "   0.          0.          0.          0.          0.          0.        ]\n",
      " [ 0.          0.          0.          0.          0.          0.          0.\n",
      "   0.          0.          0.          0.          0.          0.          0.\n",
      "   0.          0.          0.          0.          0.          0.        ]\n",
      " [ 0.          0.          0.          0.          0.          0.          0.\n",
      "   0.          0.          0.          0.          0.          0.          0.\n",
      "   0.          0.          0.          0.          0.          0.        ]\n",
      " [ 0.          0.          0.          0.          0.          0.          0.\n",
      "   0.          0.          0.          0.          0.          0.          0.\n",
      "   0.          0.          0.          0.          0.          0.        ]\n",
      " [ 0.          0.          0.          0.          0.          0.          0.\n",
      "   0.          0.          0.          0.          0.          0.          0.\n",
      "   0.          0.          0.          0.          0.          0.        ]\n",
      " [ 0.          0.          0.          0.          0.          0.          0.\n",
      "   0.          0.          0.          0.          0.          0.          0.\n",
      "   0.          0.          0.          0.          0.          0.        ]\n",
      " [ 0.          0.          0.          0.          0.          0.          0.\n",
      "   0.          0.          0.          0.          0.          0.          0.\n",
      "   0.          0.          0.          0.          0.          0.        ]\n",
      " [ 0.          0.          0.          0.          0.          0.          0.\n",
      "   0.          0.          0.          0.          0.          0.          0.\n",
      "   0.          0.          0.          0.          0.          0.        ]\n",
      " [ 0.          0.          0.          0.          0.          0.          0.\n",
      "   0.          0.          0.          0.          0.          0.          0.\n",
      "   0.          0.          0.          0.          0.          0.        ]\n",
      " [ 0.          0.          0.          0.          0.          0.          0.\n",
      "   0.          0.          0.          0.          0.          0.          0.\n",
      "   0.          0.          0.          0.          0.          0.        ]]\n",
      "counter\n",
      "1\n",
      "2.0\n",
      "[0.38745, 0.32837, 0.19214, 0.19165, 0.16626, 0.15088, 0.14209, 0.1322, 0.092407, 0.08728, 0.077881, 0.017899, 0.0177, 0.014999, 0.0007, 0.0, 0.0, 0.0, 0.0, 0.0]\n",
      "[[ 0.38744452  0.47842014  0.53780069  0.65514809  0.65618587  0.78095882\n",
      "   0.78355939  0.90963448  0.9309549   0.96915322  0.97944337  0.99278379\n",
      "   0.9997044   0.99991955  1.          1.          1.          1.          1.\n",
      "   1.        ]\n",
      " [ 0.          0.23734303  0.3700988   0.44436081  0.60949878  0.6357621\n",
      "   0.77509324  0.78128828  0.85228821  0.90150299  0.969024    0.97381304\n",
      "   0.98453977  0.99915845  1.          1.          1.          1.          1.\n",
      "   1.        ]\n",
      " [ 0.          0.          0.          0.          0.          0.          0.\n",
      "   0.          0.          0.          0.          0.          0.          0.\n",
      "   0.          0.          0.          0.          0.          0.        ]\n",
      " [ 0.          0.          0.          0.          0.          0.          0.\n",
      "   0.          0.          0.          0.          0.          0.          0.\n",
      "   0.          0.          0.          0.          0.          0.        ]\n",
      " [ 0.          0.          0.          0.          0.          0.          0.\n",
      "   0.          0.          0.          0.          0.          0.          0.\n",
      "   0.          0.          0.          0.          0.          0.        ]\n",
      " [ 0.          0.          0.          0.          0.          0.          0.\n",
      "   0.          0.          0.          0.          0.          0.          0.\n",
      "   0.          0.          0.          0.          0.          0.        ]\n",
      " [ 0.          0.          0.          0.          0.          0.          0.\n",
      "   0.          0.          0.          0.          0.          0.          0.\n",
      "   0.          0.          0.          0.          0.          0.        ]\n",
      " [ 0.          0.          0.          0.          0.          0.          0.\n",
      "   0.          0.          0.          0.          0.          0.          0.\n",
      "   0.          0.          0.          0.          0.          0.        ]\n",
      " [ 0.          0.          0.          0.          0.          0.          0.\n",
      "   0.          0.          0.          0.          0.          0.          0.\n",
      "   0.          0.          0.          0.          0.          0.        ]\n",
      " [ 0.          0.          0.          0.          0.          0.          0.\n",
      "   0.          0.          0.          0.          0.          0.          0.\n",
      "   0.          0.          0.          0.          0.          0.        ]\n",
      " [ 0.          0.          0.          0.          0.          0.          0.\n",
      "   0.          0.          0.          0.          0.          0.          0.\n",
      "   0.          0.          0.          0.          0.          0.        ]\n",
      " [ 0.          0.          0.          0.          0.          0.          0.\n",
      "   0.          0.          0.          0.          0.          0.          0.\n",
      "   0.          0.          0.          0.          0.          0.        ]\n",
      " [ 0.          0.          0.          0.          0.          0.          0.\n",
      "   0.          0.          0.          0.          0.          0.          0.\n",
      "   0.          0.          0.          0.          0.          0.        ]\n",
      " [ 0.          0.          0.          0.          0.          0.          0.\n",
      "   0.          0.          0.          0.          0.          0.          0.\n",
      "   0.          0.          0.          0.          0.          0.        ]\n",
      " [ 0.          0.          0.          0.          0.          0.          0.\n",
      "   0.          0.          0.          0.          0.          0.          0.\n",
      "   0.          0.          0.          0.          0.          0.        ]\n",
      " [ 0.          0.          0.          0.          0.          0.          0.\n",
      "   0.          0.          0.          0.          0.          0.          0.\n",
      "   0.          0.          0.          0.          0.          0.        ]\n",
      " [ 0.          0.          0.          0.          0.          0.          0.\n",
      "   0.          0.          0.          0.          0.          0.          0.\n",
      "   0.          0.          0.          0.          0.          0.        ]\n",
      " [ 0.          0.          0.          0.          0.          0.          0.\n",
      "   0.          0.          0.          0.          0.          0.          0.\n",
      "   0.          0.          0.          0.          0.          0.        ]\n",
      " [ 0.          0.          0.          0.          0.          0.          0.\n",
      "   0.          0.          0.          0.          0.          0.          0.\n",
      "   0.          0.          0.          0.          0.          0.        ]\n",
      " [ 0.          0.          0.          0.          0.          0.          0.\n",
      "   0.          0.          0.          0.          0.          0.          0.\n",
      "   0.          0.          0.          0.          0.          0.        ]]\n",
      "counter\n",
      "2\n",
      "2.0\n",
      "[0.64502, 0.39551, 0.31641, 0.24158, 0.23596, 0.053192, 0.035004, 0.031708, 0.029205, 0.016296, 0.0, 0.0, 0.0, 0.0, 0.0, 0.0, 0.0, 0.0, 0.0, 0.0]\n",
      "[[ 0.64502709  0.73823689  0.92150203  0.94621262  0.96221474  0.96531366\n",
      "   0.98223498  0.99445032  1.0001653   1.          1.          1.          1.\n",
      "   1.          1.          1.          1.          1.          1.          1.        ]\n",
      " [ 0.          0.30251081  0.43560629  0.65211699  0.87203159  0.9223876\n",
      "   0.9404978   0.95969517  0.98350529  1.          1.          1.          1.\n",
      "   1.          1.          1.          1.          1.          1.          1.        ]\n",
      " [ 0.          0.          0.          0.          0.          0.          0.\n",
      "   0.          0.          0.          0.          0.          0.          0.\n",
      "   0.          0.          0.          0.          0.          0.        ]\n",
      " [ 0.          0.          0.          0.          0.          0.          0.\n",
      "   0.          0.          0.          0.          0.          0.          0.\n",
      "   0.          0.          0.          0.          0.          0.        ]\n",
      " [ 0.          0.          0.          0.          0.          0.          0.\n",
      "   0.          0.          0.          0.          0.          0.          0.\n",
      "   0.          0.          0.          0.          0.          0.        ]\n",
      " [ 0.          0.          0.          0.          0.          0.          0.\n",
      "   0.          0.          0.          0.          0.          0.          0.\n",
      "   0.          0.          0.          0.          0.          0.        ]\n",
      " [ 0.          0.          0.          0.          0.          0.          0.\n",
      "   0.          0.          0.          0.          0.          0.          0.\n",
      "   0.          0.          0.          0.          0.          0.        ]\n",
      " [ 0.          0.          0.          0.          0.          0.          0.\n",
      "   0.          0.          0.          0.          0.          0.          0.\n",
      "   0.          0.          0.          0.          0.          0.        ]\n",
      " [ 0.          0.          0.          0.          0.          0.          0.\n",
      "   0.          0.          0.          0.          0.          0.          0.\n",
      "   0.          0.          0.          0.          0.          0.        ]\n",
      " [ 0.          0.          0.          0.          0.          0.          0.\n",
      "   0.          0.          0.          0.          0.          0.          0.\n",
      "   0.          0.          0.          0.          0.          0.        ]\n",
      " [ 0.          0.          0.          0.          0.          0.          0.\n",
      "   0.          0.          0.          0.          0.          0.          0.\n",
      "   0.          0.          0.          0.          0.          0.        ]\n",
      " [ 0.          0.          0.          0.          0.          0.          0.\n",
      "   0.          0.          0.          0.          0.          0.          0.\n",
      "   0.          0.          0.          0.          0.          0.        ]\n",
      " [ 0.          0.          0.          0.          0.          0.          0.\n",
      "   0.          0.          0.          0.          0.          0.          0.\n",
      "   0.          0.          0.          0.          0.          0.        ]\n",
      " [ 0.          0.          0.          0.          0.          0.          0.\n",
      "   0.          0.          0.          0.          0.          0.          0.\n",
      "   0.          0.          0.          0.          0.          0.        ]\n",
      " [ 0.          0.          0.          0.          0.          0.          0.\n",
      "   0.          0.          0.          0.          0.          0.          0.\n",
      "   0.          0.          0.          0.          0.          0.        ]\n",
      " [ 0.          0.          0.          0.          0.          0.          0.\n",
      "   0.          0.          0.          0.          0.          0.          0.\n",
      "   0.          0.          0.          0.          0.          0.        ]\n",
      " [ 0.          0.          0.          0.          0.          0.          0.\n",
      "   0.          0.          0.          0.          0.          0.          0.\n",
      "   0.          0.          0.          0.          0.          0.        ]\n",
      " [ 0.          0.          0.          0.          0.          0.          0.\n",
      "   0.          0.          0.          0.          0.          0.          0.\n",
      "   0.          0.          0.          0.          0.          0.        ]\n",
      " [ 0.          0.          0.          0.          0.          0.          0.\n",
      "   0.          0.          0.          0.          0.          0.          0.\n",
      "   0.          0.          0.          0.          0.          0.        ]\n",
      " [ 0.          0.          0.          0.          0.          0.          0.\n",
      "   0.          0.          0.          0.          0.          0.          0.\n",
      "   0.          0.          0.          0.          0.          0.        ]]\n"
     ]
    }
   ],
   "source": [
    "Q,previous_Q = generate_orthonormal_matrix_with_leverage_scores_ES(20,2,[],3,[18,15,10])"
=======
   "execution_count": 660,
   "metadata": {},
   "outputs": [
    {
     "data": {
      "text/plain": [
       "[18, 17, 16, 15, 14, 13, 12, 11, 10, 9, 8, 7, 6, 5, 4, 3, 2, 1, 0]"
      ]
     },
     "execution_count": 660,
     "metadata": {},
     "output_type": "execute_result"
    }
   ],
   "source": [
    "list(range(20-2,-1,-1))"
   ]
  },
  {
   "cell_type": "code",
   "execution_count": null,
   "metadata": {
    "collapsed": true
   },
   "outputs": [],
   "source": []
  },
  {
   "cell_type": "code",
   "execution_count": null,
   "metadata": {
    "collapsed": true
   },
   "outputs": [],
   "source": []
  },
  {
   "cell_type": "code",
   "execution_count": 617,
   "metadata": {
    "collapsed": true
   },
   "outputs": [],
   "source": [
    "static_list = list(range(11,21))\n"
   ]
  },
  {
   "cell_type": "code",
   "execution_count": 729,
   "metadata": {},
   "outputs": [
    {
     "name": "stderr",
     "output_type": "stream",
     "text": [
      "/Users/ayoubbelhadji1/Desktop/final_git_projects/FrameBuilder/FrameBuilder/eigenstepsbuilder.py:142: RuntimeWarning: invalid value encountered in sqrt\n",
      "  v_n[v_n_index] = np.sqrt(-np.prod(nom_v_n)/np.prod(denom_v_n))\n",
      "/Users/ayoubbelhadji1/Desktop/final_git_projects/FrameBuilder/FrameBuilder/eigenstepsbuilder.py:149: RuntimeWarning: invalid value encountered in sqrt\n",
      "  w_n[w_n_index] = np.sqrt(np.prod(nom_w_n)/np.prod(denom_w_n))\n"
     ]
    }
   ],
   "source": [
    "random_cardinal_list = list(np.random.choice(static_list, 3))\n",
    "Q,previous_Q = generate_orthonormal_matrix_with_leverage_scores_ES(20,5,[],3,random_cardinal_list)"
   ]
  },
  {
   "cell_type": "code",
   "execution_count": 648,
   "metadata": {
    "collapsed": true
   },
   "outputs": [],
   "source": [
    "## The dimensions of the design matrix X\n",
    "N = 100       # The number of observations in the dataset\n",
    "real_dim = 20 # The dimension of the dataset\n",
    "## The low rank paramters\n",
    "k = 2         # The rank of the low rank approximation \n",
    "## The covariance matrix parameters\n",
    "r = 6         # Just a parameter to control the number of non trivial singular values in the covariance matrix\n",
    "mean = np.zeros((real_dim))    # The mean vector useful to generate U (X = UDV^T)\n",
    "cov_test = 0.1*np.ones((real_dim-r))  # The \"trivial\" singular values in the covariance matrix (there are real_dim-r)\n",
    "cov = np.diag(np.concatenate(([100,100,0.1,0.1,0.1,0.1],cov_test)))\n",
    "\n",
    "## The paramters of the matrix V\n",
    "versions_number = 3 # The number of orthogonal matrices (and therefor datasets) (-1) generated by the algorithm above\n",
    "lv_scores_vector = k/real_dim*np.ones(real_dim)  # The vector of leverage scores (the last one)"
   ]
  },
  {
   "cell_type": "code",
   "execution_count": 649,
   "metadata": {
    "collapsed": true
   },
   "outputs": [],
   "source": [
    "test_multi_X = contruct_dataset_from_orthogonal_matrix(previous_Q,N,real_dim,cov,mean,versions_number)"
   ]
  },
  {
   "cell_type": "code",
   "execution_count": 625,
   "metadata": {
    "collapsed": true
   },
   "outputs": [],
   "source": [
    "Q_test = previous_Q[2,:,:]"
   ]
  },
  {
   "cell_type": "code",
   "execution_count": 627,
   "metadata": {},
   "outputs": [
    {
     "data": {
      "text/plain": [
       "1.0003807632948656"
      ]
     },
     "execution_count": 627,
     "metadata": {},
     "output_type": "execute_result"
    }
   ],
   "source": [
    "np.linalg.det(np.dot(Q_test.T,Q_test))"
>>>>>>> e3a991266bb11f96e4cec170b2f30c52d0d57ebb
   ]
  },
  {
   "cell_type": "code",
<<<<<<< HEAD
   "execution_count": 193,
   "metadata": {
    "collapsed": true
   },
   "outputs": [],
=======
   "execution_count": 609,
   "metadata": {},
   "outputs": [
    {
     "data": {
      "image/png": "iVBORw0KGgoAAAANSUhEUgAAAYAAAAD8CAYAAAB+UHOxAAAABHNCSVQICAgIfAhkiAAAAAlwSFlz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\nAJJUqP8HwHSebIq15XYAAAAASUVORK5CYII=\n",
      "text/plain": [
       "<matplotlib.figure.Figure at 0x110c39b38>"
      ]
     },
     "metadata": {},
     "output_type": "display_data"
    }
   ],
   "source": [
    "plt.scatter(Q[:,0], Q[:,1])\n",
    "plt.show()"
   ]
  },
  {
   "cell_type": "code",
   "execution_count": 291,
   "metadata": {},
   "outputs": [
    {
     "data": {
      "text/plain": [
       "array([[  1.00029256e+00,  -8.32667268e-17],\n",
       "       [ -8.32667268e-17,   1.00000000e+00]])"
      ]
     },
     "execution_count": 291,
     "metadata": {},
     "output_type": "execute_result"
    }
   ],
   "source": [
    "np.dot(Q.T,Q)"
   ]
  },
  {
   "cell_type": "code",
   "execution_count": 288,
   "metadata": {},
   "outputs": [
    {
     "data": {
      "text/plain": [
       "array([ 0.46064854,  0.28269387,  0.24554381,  0.19393669,  0.11617887,\n",
       "        0.11233676,  0.109375  ,  0.10926151,  0.07138592,  0.05079787,\n",
       "        0.03601446,  0.0337448 ,  0.02985011,  0.03009549,  0.02722856,\n",
       "        0.02348039,  0.0223261 ,  0.02087258,  0.01334667,  0.01108771])"
      ]
     },
     "execution_count": 288,
     "metadata": {},
     "output_type": "execute_result"
    }
   ],
>>>>>>> e3a991266bb11f96e4cec170b2f30c52d0d57ebb
   "source": [
    "np.diag(np.dot(Q,Q.T))"
   ]
  },
  {
   "cell_type": "code",
   "execution_count": 49,
   "metadata": {},
   "outputs": [
    {
     "data": {
      "text/plain": [
       "array([[[  6.48925781e-01,   0.00000000e+00],\n",
       "        [ -3.47042240e-01,  -4.35454105e-01],\n",
       "        [ -3.23121789e-01,   4.43691155e-01],\n",
       "        [  1.53004624e-01,  -3.13982786e-01],\n",
       "        [ -1.10542148e-01,   3.22592745e-01],\n",
       "        [  2.75868389e-01,   1.53214817e-01],\n",
       "        [  8.78928411e-02,  -2.96663446e-01],\n",
       "        [ -2.99785654e-01,  -5.93646751e-02],\n",
       "        [  7.37933517e-02,  -2.60402694e-01],\n",
       "        [  7.69203827e-02,   2.40627055e-01],\n",
       "        [ -7.04148422e-02,   2.41107649e-01],\n",
       "        [ -1.14155735e-01,  -2.09606680e-01],\n",
       "        [ -1.75636728e-01,  -1.54592323e-01],\n",
       "        [ -2.10311781e-01,  -1.02256808e-01],\n",
       "        [ -1.47601148e-01,   4.00178347e-02],\n",
       "        [  7.96067776e-02,  -9.61829914e-02],\n",
       "        [  5.32811215e-02,   1.02859832e-01],\n",
       "        [  9.41498979e-02,  -5.65151833e-02],\n",
       "        [ -1.19868404e-02,   7.47707847e-02],\n",
       "        [ -2.28958798e-02,  -5.92203437e-02]],\n",
       "\n",
       "       [[  6.07910156e-01,   0.00000000e+00],\n",
       "        [  1.83184695e-01,   3.75751668e-01],\n",
       "        [ -1.64724369e-01,  -3.62789232e-01],\n",
       "        [  3.34624658e-01,  -1.90919564e-01],\n",
       "        [  2.28256354e-01,  -2.98334404e-01],\n",
       "        [  4.21940425e-02,  -3.37306359e-01],\n",
       "        [  4.68150626e-02,  -3.33584770e-01],\n",
       "        [ -3.01608345e-01,   1.27711655e-01],\n",
       "        [ -2.80298158e-01,  -1.23425999e-01],\n",
       "        [ -1.68572009e-01,  -2.49681422e-01],\n",
       "        [ -1.27788817e-01,  -2.58297658e-01],\n",
       "        [ -9.60408214e-02,   2.47395975e-01],\n",
       "        [ -1.82867027e-01,  -1.92021224e-01],\n",
       "        [ -1.20942764e-01,   2.33850995e-01],\n",
       "        [ -2.56773095e-01,   4.91682858e-02],\n",
       "        [  1.50728913e-01,  -1.76135352e-01],\n",
       "        [ -1.45514353e-01,  -4.75717683e-02],\n",
       "        [ -1.16302536e-01,  -8.87872287e-02],\n",
       "        [ -4.18555411e-02,  -1.26099809e-01],\n",
       "        [ -7.04060671e-02,   6.19035396e-02]],\n",
       "\n",
       "       [[  6.53320312e-01,   0.00000000e+00],\n",
       "        [ -3.25702142e-01,  -2.27547380e-01],\n",
       "        [ -1.86272719e-01,  -3.43140660e-01],\n",
       "        [ -1.69009147e-03,  -3.87113804e-01],\n",
       "        [  5.76478247e-02,   3.81826121e-01],\n",
       "        [  1.02746440e-01,  -3.70467409e-01],\n",
       "        [ -2.39048794e-01,   2.64159284e-01],\n",
       "        [ -3.29342049e-01,   1.03455843e-01],\n",
       "        [  5.31183319e-03,  -3.01176366e-01],\n",
       "        [  7.67373022e-02,  -2.77856244e-01],\n",
       "        [  2.65142423e-01,   8.82039332e-02],\n",
       "        [ -2.11094115e-01,   1.43983631e-01],\n",
       "        [  2.03754474e-01,   1.19709710e-01],\n",
       "        [ -1.46534532e-02,   2.13737488e-01],\n",
       "        [ -1.97702488e-01,   7.63105811e-02],\n",
       "        [ -1.31006828e-01,   1.25428346e-01],\n",
       "        [ -6.63695879e-02,  -1.64819417e-01],\n",
       "        [ -1.52764950e-01,  -1.76014862e-05],\n",
       "        [ -4.44897999e-02,  -1.08334089e-01],\n",
       "        [  6.88064017e-02,  -1.43219817e-02]]])"
      ]
     },
     "execution_count": 49,
     "metadata": {},
     "output_type": "execute_result"
    }
   ],
   "source": [
    "previous_Q"
   ]
  },
  {
   "cell_type": "code",
<<<<<<< HEAD
   "execution_count": 194,
=======
   "execution_count": 11,
>>>>>>> e3a991266bb11f96e4cec170b2f30c52d0d57ebb
   "metadata": {},
   "outputs": [
    {
     "name": "stdout",
     "output_type": "stream",
     "text": [
<<<<<<< HEAD
      "[0.65674, 0.41479, 0.33838, 0.30518, 0.25195, 0.03299, 0.0, 0.0, 0.0, 0.0]\n",
=======
      "[0.82812, 0.52832, 0.28271, 0.21301, 0.13379, 0.014603, 0.0, 0.0, 0.0, 0.0]\n",
>>>>>>> e3a991266bb11f96e4cec170b2f30c52d0d57ebb
      "2.0\n"
     ]
    }
   ],
   "source": [
    "l = generate_leverage_scores_vector_with_dirichlet(10,2,6)\n",
    "print(l)\n",
    "print(np.sum(l))"
   ]
  },
  {
   "cell_type": "code",
   "execution_count": null,
   "metadata": {
    "collapsed": true
   },
   "outputs": [],
   "source": []
  },
  {
<<<<<<< HEAD
   "cell_type": "code",
   "execution_count": 195,
   "metadata": {
    "collapsed": true
   },
   "outputs": [],
   "source": [
    "def generate_orthonormal_matrix_with_leverage_scores(N,d,lv_scores_vector,versions_number,mode):\n",
    "    #Transforming an idendity matrix to an orthogonal matrix with prescribed lengths\n",
    "    Q = np.zeros((N,d))\n",
    "    previous_Q = np.zeros((versions_number+1,N,d))\n",
    "    versionning_period = (int)(N/versions_number)\n",
    "    if mode == 'identity':\n",
    "        for _ in range(0,d):\n",
    "            Q[_,_] = 1\n",
    "    if mode == 'spread':\n",
    "        nu = 1\n",
    "        Sigma = np.diag(np.ones(d))\n",
    "        mean = np.zeros(d)\n",
    "        x = np.random.chisquare(nu, N)/nu\n",
    "        z = np.random.multivariate_normal(mean,Sigma,(N,))\n",
    "        dataset = mean + z/np.sqrt(x)[:,None] \n",
    "        [Q,_,_] = np.linalg.svd(dataset,full_matrices=False)\n",
    "        print(np.shape(Q))\n",
    "    I_sorting =  list(reversed(np.argsort(lv_scores_vector)))\n",
    "    \n",
    "    lv_scores_vector = np.asarray(list(reversed(np.sort(lv_scores_vector))))\n",
    "    initial_lv_scores_vector = np.diag(np.dot(Q,Q.T))\n",
    "    I_initial_sorting = list(reversed(np.argsort(initial_lv_scores_vector)))\n",
    "    initial_lv_scores_vector = np.asarray(list(reversed(np.sort(np.diag(np.dot(Q,Q.T))))))\n",
    "    #initial_lv_scores_vector = \n",
    "\n",
    "    Q[I_initial_sorting,:] = Q\n",
    "    print(lv_scores_vector)\n",
    "    print(initial_lv_scores_vector)\n",
    "    delta_lv_scores_vector = lv_scores_vector - initial_lv_scores_vector\n",
    "    print(delta_lv_scores_vector)\n",
    "    min_index = next((i for i, x in enumerate(delta_lv_scores_vector) if x>0), None)\n",
    "    i = min_index-1\n",
    "    j = min_index\n",
    "    print(i)\n",
    "    print(j)\n",
    "    #if mode == 'identity':\n",
    "    #    i = d-1\n",
    "    #    j = d\n",
    "    #if mode == 'spread':\n",
    "    #    i = d-2\n",
    "    #    j = d-1\n",
    "    v_counter =0\n",
    "    for t in range(N-1):\n",
    "        #print(i)\n",
    "        #print(j)\n",
    "        delta_i = np.abs(lv_scores_vector[i] - np.power(np.linalg.norm(Q[i,:]),2))\n",
    "        delta_j = np.abs(lv_scores_vector[j] - np.power(np.linalg.norm(Q[j,:]),2))\n",
    "        q_i = np.power(np.linalg.norm(Q[i,:]),2)\n",
    "        q_j = np.power(np.linalg.norm(Q[j,:]),2)\n",
    "        q_ij = np.dot(Q[i,:],Q[j,:].T)\n",
    "        l_i = lv_scores_vector[i]\n",
    "        l_j = lv_scores_vector[j]\n",
    "        G = np.eye(N)\n",
    "        if t%versionning_period ==0:\n",
    "            previous_Q[v_counter,:,:] = Q\n",
    "            v_counter = v_counter +1\n",
    "        if delta_i <= delta_j:\n",
    "            l_k = q_i + q_j -l_i\n",
    "            G = G_func(i,j,q_i,q_j,q_ij,l_i,l_k,N)\n",
    "            Q = np.dot(G,Q)\n",
    "            i = i-1\n",
    "        else:\n",
    "            l_k = q_i + q_j -l_j\n",
    "            G = G_func(i,j,q_j,q_i,q_ij,l_j,l_k,N)\n",
    "            Q = np.dot(G,Q)\n",
    "            j = j+1\n",
    "    previous_Q[versions_number,:,:] = Q\n",
    "    return Q,previous_Q"
   ]
  },
  {
=======
>>>>>>> e3a991266bb11f96e4cec170b2f30c52d0d57ebb
   "cell_type": "markdown",
   "metadata": {},
   "source": [
    "The following function allows to estimate the leverage scores for an orthogonal matrix Q: the function calculates the diagonoal of the matrix $$Q Q^{T}$$"
   ]
  },
  {
   "cell_type": "code",
<<<<<<< HEAD
   "execution_count": 196,
=======
   "execution_count": 22,
>>>>>>> e3a991266bb11f96e4cec170b2f30c52d0d57ebb
   "metadata": {
    "collapsed": true
   },
   "outputs": [],
   "source": [
    "def estimate_leverage_scores_from_orthogonal_matrix(Q):\n",
    "    [N,_] = np.shape(Q)\n",
    "    lv_scores_vector = np.zeros((N,1))\n",
    "    lv_scores_vector = np.diag(np.dot(Q,np.transpose(Q)))\n",
    "    lv_scores_vector = np.asarray(list(reversed(np.sort(lv_scores_vector))))\n",
    "    return lv_scores_vector\n",
    "def estimate_sum_first_k_leverage_scores(Q,k):\n",
    "    lv_scores_vector = estimate_leverage_scores_from_orthogonal_matrix(Q)\n",
    "    res = np.sum(lv_scores_vector[0:k])\n",
    "    return res"
   ]
  },
  {
   "cell_type": "code",
   "execution_count": 62,
   "metadata": {
    "collapsed": true
   },
   "outputs": [],
   "source": [
    "def get_p_eff_leverage_scores(Q,k):\n",
    "    lv_scores_vector = estimate_leverage_scores_from_orthogonal_matrix(Q)\n",
    "    p = 0\n",
    "    lv_scores_sum_until_p = 0\n",
    "    while lv_scores_sum_until_p < k-1/2:\n",
    "        lv_scores_sum_until_p = lv_scores_sum_until_p+lv_scores_vector[p]\n",
    "        p = p +1\n",
    "    return p"
   ]
  },
  {
   "cell_type": "markdown",
   "metadata": {
    "collapsed": true
   },
   "source": [
    "## I-2- Extending the orthogonal matrices"
   ]
  },
  {
   "cell_type": "markdown",
   "metadata": {},
   "source": [
    "For the task of low rank approximation, we have seen that only the information contained in the first right k eigenvectors of the matrix X are relevant. In the previous step we build only the first right k eigenvectors but we still need to complete these orthogonal matrices with d-k columns. We proceed as following:\n",
    "Generate a random vector (Nx1) using independent standard gaussian variables,\n",
    "Project this vector in the orthogonal of the span of Q\n",
    "Normalize the obtained vector after the projection\n",
    "Extend the matrix Q\n",
    "Note that this procedure is not the unique way to extend the matrix Q to an orthogonal (Nxd) matrix."
   ]
  },
  {
   "cell_type": "code",
<<<<<<< HEAD
   "execution_count": 158,
=======
   "execution_count": 641,
>>>>>>> e3a991266bb11f96e4cec170b2f30c52d0d57ebb
   "metadata": {
    "collapsed": true
   },
   "outputs": [],
   "source": [
    "def extend_orthogonal_matrix(Q,d_target):\n",
    "    [N,d] = np.shape(Q)\n",
    "    Q_target = np.zeros((N,d))\n",
    "    Q_target = deepcopy(Q)\n",
    "    delta = d_target - d\n",
    "    for t in range(delta):\n",
    "        Q_test = np.random.normal(0, 1, N)\n",
    "        for _ in range(d):\n",
    "            Q_test = Q_test - np.dot(Q_test,Q[:,_])*Q[:,_]\n",
    "        Q_test = Q_test/np.linalg.norm(Q_test)\n",
    "        Q_test = Q_test.reshape(N,1)\n",
    "        Q_target = np.append(Q_target,Q_test,1)\n",
    "    return Q_target\n",
    "\n",
    "#extended_Q = extend_orthogonal_matrix(Q,r)"
   ]
  },
  {
   "cell_type": "markdown",
   "metadata": {},
   "source": [
    "## I-3 - Constructing a dataset for every extended orthogonal matrix \n",
    "The previous step allow us to build (N x d) orthogonal matrices such that the extracted (N x k) matrix have a prescribed profile of leverage scores.\n",
    "Now we construct a cloud of point by assigning a covariance matrix D and a matrix V"
   ]
  },
  {
   "cell_type": "code",
<<<<<<< HEAD
   "execution_count": 159,
=======
   "execution_count": 642,
>>>>>>> e3a991266bb11f96e4cec170b2f30c52d0d57ebb
   "metadata": {
    "collapsed": true
   },
   "outputs": [],
   "source": [
    "def contruct_dataset_from_orthogonal_matrix(multi_Q,N,target_d,cov,mean,versions_number):\n",
    "    multi_X = np.zeros((versions_number,N,real_dim))\n",
    "    for t in range(versions_number):\n",
    "        test_X = np.random.multivariate_normal(mean, cov, N)\n",
    "        [U,_,_] = np.linalg.svd(test_X, full_matrices=False)\n",
    "        Q_test = extend_orthogonal_matrix(multi_Q[t,:,:],target_d)\n",
    "        multi_X[t,:,:] = np.dot(np.dot(Q_test,cov),U.T).T\n",
    "    return multi_X\n",
    "\n"
   ]
  },
  {
   "cell_type": "markdown",
   "metadata": {},
   "source": [
    "## II- Volume sampling vs Projection DPP for low rank approximation\n",
    "These functions allow to quantify the approximation error:\n",
    "* approximation_error_function_fro calculate the ratio of the approximation error of a subset of columns to the optimal approximatione error given by the first k left eigenvectors of the matrix X\n",
    "* expected_approximation_error_for_sampling_scheme calculate the expected value of the ratio of the approximatione error under some sampling distribution"
   ]
  },
  {
   "cell_type": "code",
<<<<<<< HEAD
   "execution_count": 160,
=======
   "execution_count": 25,
>>>>>>> e3a991266bb11f96e4cec170b2f30c52d0d57ebb
   "metadata": {
    "collapsed": true
   },
   "outputs": [],
   "source": [
    "def approximation_error_function_fro(Sigma,k,X,X_S):\n",
    "    ## Sigma is the spectrum of the matrix X: we need to calculate the optimal approximation error given by the PCA\n",
    "    ## k is the rank of the approximation\n",
    "    ## X is the initial matrix\n",
    "    ## X_S is the subset of columns of the matrix X for witch we calculate the approximation error ratio\n",
    "    d = list(Sigma.shape)[0] # the dimension of the matrix X\n",
    "    Sigma = np.multiply(Sigma,Sigma)  # Sigma power 2 -> we are intersted in the approximation error square\n",
    "    sigma_S_temp = np.linalg.inv(np.dot(X_S.T,X_S))  # just a temporary matrix to construct the projection matrix\n",
    "    projection_S = np.dot(np.dot(X_S,sigma_S_temp),X_S.T) # the projection matrix P_S\n",
    "    res_X = X - np.dot(projection_S,X) # The projection of the matrix X in the orthogonal of S\n",
    "    approximation_error_ratio = np.power(np.linalg.norm(res_X,'fro'),2)/np.sum(Sigma[k:d])\n",
    "    # Calculate the apparoximation error ratio\n",
    "    return approximation_error_ratio"
   ]
  },
  {
   "cell_type": "code",
<<<<<<< HEAD
   "execution_count": 161,
=======
   "execution_count": 26,
>>>>>>> e3a991266bb11f96e4cec170b2f30c52d0d57ebb
   "metadata": {
    "collapsed": true
   },
   "outputs": [],
   "source": [
    "def approximation_error_function_spectral(Sigma,k,X,X_S):\n",
    "    ## Sigma is the spectrum of the matrix X: we need to calculate the optimal approximation error given by the PCA\n",
    "    ## k is the rank of the approximation\n",
    "    ## X is the initial matrix\n",
    "    ## X_S is the subset of columns of the matrix X for witch we calculate the approximation error ratio\n",
    "    d = list(Sigma.shape)[0] # the dimension of the matrix X\n",
    "    Sigma = np.multiply(Sigma,Sigma)  # Sigma power 2 -> we are intersted in the approximation error square\n",
    "    sigma_S_temp = np.linalg.inv(np.dot(X_S.T,X_S))  # just a temporary matrix to construct the projection matrix\n",
    "    projection_S = np.dot(np.dot(X_S,sigma_S_temp),X_S.T) # the projection matrix P_S\n",
    "    res_X = X - np.dot(projection_S,X) # The projection of the matrix X in the orthogonal of S\n",
    "    approximation_error_ratio = np.power(np.linalg.norm(res_X,ord = 2),2)/np.sum(Sigma[k:k+1])\n",
    "    # Calculate the apparoximation error ratio\n",
    "    return approximation_error_ratio"
   ]
  },
  {
   "cell_type": "code",
<<<<<<< HEAD
   "execution_count": 162,
=======
   "execution_count": 27,
>>>>>>> e3a991266bb11f96e4cec170b2f30c52d0d57ebb
   "metadata": {
    "collapsed": true
   },
   "outputs": [],
   "source": [
    "def upper_bound_error_function_for_projection_DPP(k,X,X_S):\n",
    "    ## Sigma is the spectrum of the matrix X: we need to calculate the optimal approximation error given by the PCA\n",
    "    ## k is the rank of the approximation\n",
    "    ## X is the initial matrix\n",
    "    ## X_S is the subset of columns of the matrix X for witch we calculate the approximation error ratio\n",
    "    _,sigma_S_temp,_ = np.linalg.svd(X_S, full_matrices=False)  # just a temporary matrix to construct the projection matrix\n",
    "    trunc_product = np.power(np.prod(sigma_S_temp[0:k-1]),2)\n",
    "    if np.power(np.prod(sigma_S_temp[0:k]),2) == 0:\n",
    "        trunc_product = 0\n",
    "    # Calculate the apparoximation error ratio\n",
    "    return trunc_product"
   ]
  },
  {
   "cell_type": "code",
<<<<<<< HEAD
   "execution_count": 163,
=======
   "execution_count": 28,
>>>>>>> e3a991266bb11f96e4cec170b2f30c52d0d57ebb
   "metadata": {
    "collapsed": true
   },
   "outputs": [],
   "source": [
    "def tight_upper_bound_error_function_fro(k,X,X_S,V_k,V_k_S):\n",
    "    ## Sigma is the spectrum of the matrix X: we need to calculate the optimal approximation error given by the PCA\n",
    "    ## k is the rank of the approximation\n",
    "    ## X is the initial matrix\n",
    "    ## X_S is the subset of columns of the matrix X for witch we calculate the approximation error ratio\n",
    "    _,Sigma,_ = np.linalg.svd(X, full_matrices=False)\n",
    "    d = list(Sigma.shape)[0]\n",
    "    Sigma = np.multiply(Sigma,Sigma)\n",
    "    if np.linalg.matrix_rank(V_k_S,0.000001) == k:\n",
    "        temp_T = np.dot(np.linalg.inv(V_k_S),V_k)\n",
    "        temp_matrix = X - np.dot(X_S,temp_T)\n",
    "    \n",
    "        return np.power(np.linalg.norm(temp_matrix,'fro'),2)/np.sum(Sigma[k:d])\n",
    "    else:\n",
    "        return 0"
   ]
  },
  {
   "cell_type": "code",
<<<<<<< HEAD
   "execution_count": 164,
=======
   "execution_count": 29,
>>>>>>> e3a991266bb11f96e4cec170b2f30c52d0d57ebb
   "metadata": {
    "collapsed": true
   },
   "outputs": [],
   "source": [
    "def get_the_matrix_sum_T_S(k,d,V_k,V_d_k):\n",
    "    ## Sigma is the spectrum of the matrix X: we need to calculate the optimal approximation error given by the PCA\n",
    "    ## k is the rank of the approximation\n",
    "    ## X is the initial matrix\n",
    "    ## X_S is the subset of columns of the matrix X for witch we calculate the approximation error ratio\n",
    "    #Sigma = np.multiply(Sigma,Sigma)\n",
    "    #matrices_array = [ np.dot(V_d_k[:,list(comb)],np.dot(np.dot(np.linalg.inv(V_k[:,list(comb)]),np.linalg.inv(V_k[:,list(comb)]))),np.transpose(V_d_k[:,list(comb)])) for comb in combinations(range(d),k) if np.linalg.matrix_rank(V_k[:,list(comb)],0.000001) == k]\n",
    "    T = np.zeros((d-k,d-k))\n",
    "    for comb in combinations(range(d),k):\n",
    "        if np.linalg.matrix_rank(V_k[:,list(comb)],0.0000000001) == k: \n",
    "            V_k_S_inv = np.linalg.inv(V_k[:,list(comb)])\n",
    "            V_d_k_S = V_d_k[:,list(comb)]\n",
    "            V_k_S_inv_2 = np.transpose(np.dot(V_k_S_inv,np.transpose(V_k_S_inv)))\n",
    "            #T = np.dot(np.dot(np.dot(V_d_k_S,np.dot(V_k_S_inv,np.transpose(V_k_S_inv)))),np.transpose(V_d_k_S)) + T\n",
    "            T = np.power(np.linalg.det(V_k[:,list(comb)]),2)*np.dot(V_d_k_S,np.dot(V_k_S_inv_2,np.transpose(V_d_k_S))) +T\n",
    "    return T"
   ]
  },
  {
   "cell_type": "code",
<<<<<<< HEAD
   "execution_count": 165,
=======
   "execution_count": 30,
>>>>>>> e3a991266bb11f96e4cec170b2f30c52d0d57ebb
   "metadata": {
    "collapsed": true
   },
   "outputs": [],
   "source": [
    "def tight_approximation_error_fro_for_sampling_scheme(X,U,k,N):\n",
    "    ## X is the matrix X :)\n",
    "    ## U is the matrix used in the sampling: we sample propotional to the volume of UU^{T}_{S,S}: \n",
    "    ## we are not sampling but we need the weigth to estimate the expected error\n",
    "    ## k is the rank of the approximation\n",
    "    ## N is the number of columns (to be changed to avoid confusion with the number of points)\n",
    "    _,Sigma,V = np.linalg.svd(X, full_matrices=False)\n",
    "    V_k = V[0:k,:]\n",
    "    ## Estimating the spectrum of X -> needed in approximation_error_function_fro\n",
    "    volumes_array = [np.abs(np.linalg.det(np.dot(U[:,list(comb)].T,U[:,list(comb)]))) for comb in combinations(range(N),k)]\n",
    "    ## Construct the array of weights: the volumes of UU^{T}_{S,S}\n",
    "    volumes_array_sum = np.sum(volumes_array)\n",
    "    ## The normalization constant\n",
    "    volumes_array = volumes_array/volumes_array_sum\n",
    "    ## The weigths normalized\n",
    "    approximation_error_array = [tight_upper_bound_error_function_fro(k,X,X[:,list(comb)],V_k,V_k[:,list(comb)]) for comb in combinations(range(N),k)]\n",
    "    ## Calculating the approximation error for every k-tuple\n",
    "    expected_value = np.dot(approximation_error_array,volumes_array)\n",
    "    ## The expected value of the approximatione error is just the dot product of the two arrays above\n",
    "    return expected_value"
   ]
  },
  {
   "cell_type": "code",
<<<<<<< HEAD
   "execution_count": 166,
=======
   "execution_count": 31,
>>>>>>> e3a991266bb11f96e4cec170b2f30c52d0d57ebb
   "metadata": {
    "collapsed": true
   },
   "outputs": [],
   "source": [
    "def expected_approximation_error_fro_for_sampling_scheme(X,U,k,N):\n",
    "    ## X is the matrix X :)\n",
    "    ## U is the matrix used in the sampling: we sample propotional to the volume of UU^{T}_{S,S}: \n",
    "    ## we are not sampling but we need the weigth to estimate the expected error\n",
    "    ## k is the rank of the approximation\n",
    "    ## N is the number of columns (to be changed to avoid confusion with the number of points)\n",
    "    _,Sigma,_ = np.linalg.svd(X, full_matrices=False)\n",
    "    ## Estimating the spectrum of X -> needed in approximation_error_function_fro\n",
    "    volumes_array = [np.abs(np.linalg.det(np.dot(U[:,list(comb)].T,U[:,list(comb)]))) for comb in combinations(range(N),k)]\n",
    "    ## Construct the array of weights: the volumes of UU^{T}_{S,S}\n",
    "    volumes_array_sum = np.sum(volumes_array)\n",
    "    ## The normalization constant\n",
    "    volumes_array = volumes_array/volumes_array_sum\n",
    "    ## The weigths normalized\n",
    "    approximation_error_array = [approximation_error_function_fro(Sigma,k,X,X[:,list(comb)]) for comb in combinations(range(N),k)]\n",
    "    ## Calculating the approximation error for every k-tuple\n",
    "    expected_value = np.dot(approximation_error_array,volumes_array)\n",
    "    ## The expected value of the approximatione error is just the dot product of the two arrays above\n",
    "    return expected_value"
   ]
  },
  {
   "cell_type": "code",
<<<<<<< HEAD
   "execution_count": 167,
=======
   "execution_count": 32,
>>>>>>> e3a991266bb11f96e4cec170b2f30c52d0d57ebb
   "metadata": {
    "collapsed": true
   },
   "outputs": [],
   "source": [
    "def expected_approximation_error_spectral_for_sampling_scheme(X,U,k,N):\n",
    "    ## X is the matrix X :)\n",
    "    ## U is the matrix used in the sampling: we sample propotional to the volume of UU^{T}_{S,S}: \n",
    "    ## we are not sampling but we need the weigth to estimate the expected error\n",
    "    ## k is the rank of the approximation\n",
    "    ## N is the number of columns (to be changed to avoid confusion with the number of points)\n",
    "    _,Sigma,_ = np.linalg.svd(X, full_matrices=False)\n",
    "    ## Estimating the spectrum of X -> needed in approximation_error_function_fro\n",
    "    volumes_array = [np.abs(np.linalg.det(np.dot(U[:,list(comb)].T,U[:,list(comb)]))) for comb in combinations(range(N),k)]\n",
    "    ## Construct the array of weights: the volumes of UU^{T}_{S,S}\n",
    "    volumes_array_sum = np.sum(volumes_array)\n",
    "    ## The normalization constant\n",
    "    volumes_array = volumes_array/volumes_array_sum\n",
    "    ## The weigths normalized\n",
    "    approximation_error_array = [approximation_error_function_spectral(Sigma,k,X,X[:,list(comb)]) for comb in combinations(range(N),k)]\n",
    "    ## Calculating the approximation error for every k-tuple\n",
    "    expected_value = np.dot(approximation_error_array,volumes_array)\n",
    "    ## The expected value of the approximatione error is just the dot product of the two arrays above\n",
    "    return expected_value"
   ]
  },
  {
   "cell_type": "code",
<<<<<<< HEAD
   "execution_count": 168,
=======
   "execution_count": 33,
>>>>>>> e3a991266bb11f96e4cec170b2f30c52d0d57ebb
   "metadata": {
    "collapsed": true
   },
   "outputs": [],
   "source": [
    "def expected_upper_bound_for_projection_DPP(X,U,k,N):\n",
    "    ## X is the matrix X :)\n",
    "    ## U is the matrix used in the sampling: we sample propotional to the volume of UU^{T}_{S,S}: \n",
    "    ## we are not sampling but we need the weigth to estimate the expected error\n",
    "    ## k is the rank of the approximation\n",
    "    ## N is the number of columns (to be changed to avoid confusion with the number of points)\n",
    "\n",
    "    approximation_error_array = [upper_bound_error_function_for_projection_DPP(k,X,U[:,list(comb)]) for comb in combinations(range(N),k)]\n",
    "    ## Calculating the approximation error for every k-tuple\n",
    "    \n",
    "    ## The expected value of the approximatione error is just the dot product of the two arrays above\n",
    "    #return expected_value\n",
    "    return np.sum(approximation_error_array)"
   ]
  },
  {
   "cell_type": "markdown",
   "metadata": {
    "collapsed": true
   },
   "source": [
    "## III - Numerical analysis"
   ]
  },
  {
   "cell_type": "markdown",
   "metadata": {},
   "source": [
    "In this section we use the functions developed previously to investigate the influence of two parameters: the spectrum of X and the k-leverage scores.  \n",
    "For this purpose, we assemble these functionalities in a class allowing fast numerical experiments."
   ]
  },
  {
   "cell_type": "code",
<<<<<<< HEAD
   "execution_count": 654,
   "metadata": {},
   "outputs": [],
   "source": [
    "class Numrerical_Analysis_DPP: \n",
    "    def __init__(self,N,real_dim,r,k,versions_number,mean,cov,lv_scores,versions_list):\n",
=======
   "execution_count": 428,
   "metadata": {
    "collapsed": true
   },
   "outputs": [],
   "source": [
    "class Numrerical_Analysis_DPP: \n",
    "    def __init__(self,N,real_dim,r,k,versions_number,mean,cov,lv_scores,cardinal_list):\n",
>>>>>>> e3a991266bb11f96e4cec170b2f30c52d0d57ebb
    "        self.N = N\n",
    "        self.real_dim = real_dim\n",
    "        self.r = r\n",
    "        self.k = k\n",
    "        self.versions_number = versions_number\n",
    "        self.mean = mean\n",
    "        self.cov = cov\n",
    "        self.lv_scores = lv_scores\n",
    "        self.cardinality_list = cardinal_list\n",
    "        self.Q = np.zeros((real_dim,k))\n",
    "        self.multi_Q = np.zeros((self.versions_number,real_dim,k))\n",
    "        self.X = np.zeros((N,real_dim))\n",
<<<<<<< HEAD
    "        self.multi_X = np.zeros((self.versions_number+1,N,real_dim))\n",
    "        #[self.Q,self.multi_Q] = generate_orthonormal_matrix_with_leverage_scores(real_dim,k,lv_scores,versions_number,'identity')\n",
    "        [self.Q,self.multi_Q] = generate_orthonormal_matrix_with_leverage_scores_ES(self.real_dim,self.k,[],self.versions_number+1,versions_list)\n",
=======
    "        self.multi_X = np.zeros((self.versions_number,N,real_dim))\n",
    "        #[self.Q,self.multi_Q] = generate_orthonormal_matrix_with_leverage_scores(real_dim,k,lv_scores,versions_number,'identity')\n",
    "        [self.Q,self.multi_Q] = generate_orthonormal_matrix_with_leverage_scores_ES(self.real_dim,self.k,[],self.versions_number,self.cardinality_list)\n",
>>>>>>> e3a991266bb11f96e4cec170b2f30c52d0d57ebb
    "        self.multi_X = contruct_dataset_from_orthogonal_matrix(self.multi_Q,self.N,self.real_dim,self.cov,self.mean,self.versions_number)\n",
    "    def contruct_dataset_from_orthogonal_matrix_4(self,multi_Q,N,target_d,cov,mean,versions_number):\n",
    "        test_multi_X = np.zeros((self.versions_number,N,real_dim))\n",
    "        for t in range(self.versions_number):\n",
    "            test_X = np.random.multivariate_normal(mean, cov, N)\n",
    "            [U,_,_] = np.linalg.svd(test_X, full_matrices=False)\n",
    "            Q_test = extend_orthogonal_matrix(self.multi_Q[t,:,:],target_d)\n",
    "            test_multi_X[t,:,:] = np.dot(np.dot(Q_test,cov),U.T).T\n",
    "        return test_multi_X\n",
    "    def get_effective_kernel_from_orthogonal_matrix(self):\n",
    "        test_eff_V = np.zeros((self.versions_number+1,self.real_dim,self.k))\n",
    "        p_eff_list = self.get_p_eff()\n",
    "        for t in range(self.versions_number+1):\n",
    "            test_V = self.multi_Q[t,:,:]\n",
    "            p_eff = p_eff_list[t]\n",
    "            diag_Q_t = np.diag(np.dot(test_V,test_V.T))\n",
    "            #diag_Q_t = list(diag_Q_t[::-1].sort())\n",
    "            print(diag_Q_t)\n",
    "            permutation_t = list(reversed(np.argsort(diag_Q_t)))\n",
    "            print(permutation_t)\n",
    "            for i in range(self.real_dim):\n",
    "                if i >p_eff-1:\n",
    "                    test_V[permutation_t[i],:] = 0   \n",
    "            #Q_test = extend_orthogonal_matrix(self.multi_Q[t,:,:],target_d)\n",
    "            test_eff_V[t,:,:] = test_V\n",
    "        return test_eff_V\n",
    "    def get_expected_error_fro_for_volume_sampling(self):\n",
    "        ## Calculate the expected error ratio for the Volume Sampling distribution for every dataset\n",
    "        res_list = np.zeros(self.versions_number)\n",
    "        for t in range(self.versions_number):\n",
    "            test_X = self.multi_X[t,:,:]\n",
    "            res_list[t] = expected_approximation_error_fro_for_sampling_scheme(test_X,test_X,self.k,self.real_dim)\n",
    "        return res_list\n",
    "    def get_expected_error_fro_for_effective_kernel_sampling(self):\n",
    "        ## Calculate the expected error ratio for the Volume Sampling distribution for every dataset\n",
    "        res_list = np.zeros(self.versions_number+1)\n",
    "        test_eff_V = self.get_effective_kernel_from_orthogonal_matrix()\n",
    "        for t in range(self.versions_number+1):\n",
    "            test_X = self.multi_X[t,:,:]\n",
    "            test_U = test_eff_V[t,:,:].T\n",
    "            res_list[t] = expected_approximation_error_fro_for_sampling_scheme(test_X,test_U,self.k,self.real_dim)\n",
    "        return res_list\n",
    "    def get_tight_upper_bound_error_fro_for_projection_DPP(self):\n",
    "        res_list = np.zeros(self.versions_number)\n",
    "        for t in range(self.versions_number):\n",
    "            test_X = self.multi_X[t,:,:]\n",
    "            test_U = self.multi_Q[t,:,:].T\n",
    "            res_list[t] = tight_approximation_error_fro_for_sampling_scheme(test_X,test_U,self.k,self.real_dim)\n",
    "        return res_list\n",
    "    def get_max_diag_sum_T_matrices(self):\n",
    "        res_list = np.zeros((self.versions_number))\n",
    "        for t in range(self.versions_number):\n",
    "            test_X = self.multi_X[t,:,:]\n",
    "            _,_,test_V = np.linalg.svd(test_X, full_matrices=False)\n",
    "            test_V_k = test_V[0:self.k,:]\n",
    "            test_V_d_k = test_V[self.k:self.real_dim,:]\n",
    "            res_list[t] = 1+np.max(np.diag(get_the_matrix_sum_T_S(self.k,self.real_dim,test_V_k,test_V_d_k)))\n",
    "        return res_list\n",
    "    def get_max_spectrum_sum_T_matrices(self):\n",
    "        res_list = np.zeros((self.versions_number))\n",
    "        for t in range(self.versions_number):\n",
    "            test_X = self.multi_X[t,:,:]\n",
    "            _,_,test_V = np.linalg.svd(test_X, full_matrices=False)\n",
    "            test_V_k = test_V[0:self.k,:]\n",
    "            test_V_d_k = test_V[self.k:self.real_dim,:]\n",
    "            res_list[t] = 1+np.max(np.diag(get_the_matrix_sum_T_S(self.k,self.real_dim,test_V_k,test_V_d_k)))\n",
    "        return res_list\n",
    "    def get_expected_error_fro_for_projection_DPP(self):\n",
    "        ## Calculate the expected error ratio for the Projection DPP distribution for every dataset\n",
    "        res_list = np.zeros(self.versions_number)\n",
    "        for t in range(self.versions_number):\n",
    "            test_X = self.multi_X[t,:,:]\n",
    "            test_U = self.multi_Q[t,:,:].T\n",
    "            res_list[t] = expected_approximation_error_fro_for_sampling_scheme(test_X,test_U,self.k,self.real_dim)\n",
    "        return res_list   \n",
    "    def get_expected_error_spectral_for_volume_sampling(self):\n",
    "        ## Calculate the expected error ratio for the Volume Sampling distribution for every dataset\n",
    "        res_list = np.zeros(self.versions_number)\n",
    "        for t in range(self.versions_number):\n",
    "            test_X = self.multi_X[t,:,:]\n",
    "            res_list[t] = expected_approximation_error_spectral_for_sampling_scheme(test_X,test_X,self.k,self.real_dim)\n",
    "        return res_list\n",
    "    def get_p_eff(self):\n",
    "        ## A function that calculate the p_eff.\n",
    "        ## It is a measure of the concentration of V_k. This is done for every dataset\n",
    "        res_list = np.zeros(self.versions_number)\n",
    "        for t in range(self.versions_number):\n",
    "            diag_Q_t = np.diag(np.dot(self.multi_Q[t,:,:],self.multi_Q[t,:,:].T))\n",
    "            #diag_Q_t = list(diag_Q_t[::-1].sort())\n",
    "            diag_Q_t = list(np.sort(diag_Q_t)[::-1])\n",
    "            p = self.real_dim\n",
    "            #print(diag_Q_t)\n",
    "            while np.sum(diag_Q_t[0:p-1]) > float(self.k-1.0/2):\n",
    "                p = p-1\n",
    "            res_list[t] = p\n",
    "        return res_list\n",
    "    def get_effective_kernel_from_orthogonal_matrix(self):\n",
    "        test_eff_V = np.zeros((self.versions_number,self.real_dim,self.k))\n",
    "        p_eff_list = self.get_p_eff()\n",
    "        for t in range(self.versions_number):\n",
    "            test_V = deepcopy(self.multi_Q[t,:,:])\n",
    "            p_eff = p_eff_list[t]\n",
    "            diag_Q_t = np.diag(np.dot(test_V,test_V.T))\n",
    "            #diag_Q_t = list(diag_Q_t[::-1].sort())\n",
    "            #print(diag_Q_t)\n",
    "            permutation_t = list(reversed(np.argsort(diag_Q_t)))\n",
    "            #print(permutation_t)\n",
    "            for i in range(self.real_dim):\n",
    "                if i >p_eff-1:\n",
    "                    test_V[permutation_t[i],:] = 0   \n",
    "            #Q_test = extend_orthogonal_matrix(self.multi_Q[t,:,:],target_d)\n",
    "            test_eff_V[t,:,:] = test_V\n",
    "        return test_eff_V\n",
    "    def get_expected_error_fro_for_effective_kernel_sampling(self):\n",
    "        ## Calculate the expected error ratio for the Volume Sampling distribution for every dataset\n",
    "        res_list = np.zeros(self.versions_number)\n",
    "        test_eff_V = self.get_effective_kernel_from_orthogonal_matrix()\n",
    "        for t in range(self.versions_number):\n",
    "            test_X = self.multi_X[t,:,:]\n",
    "            test_U = test_eff_V[t,:,:].T\n",
    "            res_list[t] = expected_approximation_error_fro_for_sampling_scheme(test_X,test_U,self.k,self.real_dim)\n",
    "        return res_list\n",
    "\n",
    "    def get_expected_error_spectral_for_projection_DPP(self):\n",
    "        ## Calculate the expected error ratio for the Projection DPP distribution for every dataset\n",
    "        res_list = np.zeros(self.versions_number)\n",
    "        for t in range(self.versions_number):\n",
    "            test_X = self.multi_X[t,:,:]\n",
    "            test_U = self.multi_Q[t,:,:].T\n",
    "            res_list[t] = expected_approximation_error_spectral_for_sampling_scheme(test_X,test_U,self.k,self.real_dim)\n",
    "        return res_list  \n",
    "    def get_upper_bound_error_for_projection_DPP(self):\n",
    "        ## Calculate the expected error ratio for the Projection DPP distribution for every dataset\n",
    "        #res_list = np.zeros(self.versions_number+1)\n",
    "        res_list = []\n",
    "        for t in range(self.versions_number):\n",
    "            test_X = self.multi_X[t,:,:]\n",
    "            test_U = self.multi_Q[t,:,:].T\n",
    "            #res_list[t] = expected_upper_bound_for_projection_DPP(test_X,test_U,self.k,self.real_dim)\n",
    "            res_list.append( expected_upper_bound_for_projection_DPP(test_X,test_U,self.k,self.real_dim))\n",
    "        return res_list  \n",
    "    def get_error_fro_for_deterministic_selection(self):\n",
    "        ## Calculate the error ratio for the k-tuple selected by the deterministic algorithm for every dataset\n",
    "        res_list = np.zeros(self.versions_number)\n",
    "        for t in range(self.versions_number):\n",
    "            test_X = self.multi_X[t,:,:]\n",
    "            test_U = self.multi_Q[t,:,:].T\n",
    "            lv_scores_vector = np.diag(np.dot(np.transpose(test_U),test_U))\n",
    "            test_I_k = list(np.argsort(lv_scores_vector)[self.real_dim-self.k:self.real_dim])\n",
    "            _,test_Sigma,_ = np.linalg.svd(test_X, full_matrices=False)\n",
    "            res_list[t] = approximation_error_function_fro(test_Sigma,self.k,test_X,test_X[:,test_I_k])\n",
    "            #res_list.append(test_I_k)\n",
    "        return res_list   \n",
    "    def get_error_spectral_for_deterministic_selection(self):\n",
    "        ## Calculate the error ratio for the k-tuple selected by the deterministic algorithm for every dataset\n",
    "        res_list = np.zeros(self.versions_number)\n",
    "        for t in range(self.versions_number):\n",
    "            test_X = self.multi_X[t,:,:]\n",
    "            test_U = self.multi_Q[t,:,:].T\n",
    "            lv_scores_vector = np.diag(np.dot(np.transpose(test_U),test_U))\n",
    "            test_I_k = list(np.argsort(lv_scores_vector)[self.real_dim-self.k:self.real_dim])\n",
    "            _,test_Sigma,_ = np.linalg.svd(test_X, full_matrices=False)\n",
    "            res_list[t] = approximation_error_function_spectral(test_Sigma,self.k,test_X,test_X[:,test_I_k])\n",
    "            #res_list.append(test_I_k)\n",
    "        return res_list \n",
    "    def get_p_eff(self):\n",
    "        ## A function that calculate the p_eff.\n",
    "        ## It is a measure of the concentration of V_k. This is done for every dataset\n",
    "        res_list = np.zeros(self.versions_number+1)\n",
    "        for t in range(self.versions_number+1):\n",
    "            diag_Q_t = np.diag(np.dot(self.multi_Q[t,:,:],self.multi_Q[t,:,:].T))\n",
    "            #diag_Q_t = list(diag_Q_t[::-1].sort())\n",
    "            diag_Q_t = list(np.sort(diag_Q_t)[::-1])\n",
    "            p = self.real_dim\n",
    "            print(diag_Q_t)\n",
    "            while np.sum(diag_Q_t[0:p-1]) > float(self.k-1.0/2):\n",
    "                p = p-1\n",
    "            res_list[t] = p\n",
    "        return res_list\n",
    "    def get_sum_k_leverage_scores(self):\n",
    "        ## A function that calculate the k-sum: the sum of the first k k-leverage scores. It is a measure of the concentration of V_k\n",
    "        ## This is done for every dataset\n",
    "        res_list = np.zeros(self.versions_number)\n",
    "        for t in range(self.versions_number):\n",
    "            res_list[t] = estimate_sum_first_k_leverage_scores(self.multi_Q[t,:,:],self.k)\n",
    "        return res_list\n",
    "    def get_p_eff_leverage_scores(self):\n",
    "        ## A function that calculate the k-sum: the sum of the first k k-leverage scores. It is a measure of the concentration of V_k\n",
    "        ## This is done for every dataset\n",
    "        res_list = np.zeros(self.versions_number)\n",
    "        for t in range(self.versions_number):\n",
    "            res_list[t] = get_p_eff_leverage_scores(self.multi_Q[t,:,:],self.k)\n",
    "        return res_list\n",
    "    def get_deterministic_upper_bound(self):\n",
    "        ## A function that calculate the theoretical upper bound for the deterministic algorithm for every dataset\n",
    "        res_list = np.zeros(self.versions_number)\n",
    "        for t in range(self.versions_number):\n",
    "            res_list[t] = 1/(1+estimate_sum_first_k_leverage_scores(self.multi_Q[t,:,:],self.k)-self.k)\n",
    "        return res_list\n",
    "    def get_alpha_sum_k_leverage_scores(self,alpha):\n",
    "        ## A function that calculate the theoretical upper bound for the deterministic algorithm for every dataset\n",
    "        res_list = np.zeros(self.versions_number)\n",
    "        #k_l = self.get_sum_k_leverage_scores()\n",
    "        for t in range(self.versions_number):\n",
    "            k_l = estimate_leverage_scores_from_orthogonal_matrix(self.multi_Q[t,:,:])[0:k]\n",
    "            func_k = np.power(np.linspace(1, k, num=k),alpha)\n",
    "            res_list[t] = np.dot(func_k,k_l)\n",
    "        return res_list"
   ]
  },
  {
   "cell_type": "code",
   "execution_count": null,
   "metadata": {
    "collapsed": true
   },
   "outputs": [],
   "source": []
  },
  {
   "cell_type": "markdown",
   "metadata": {},
   "source": [
    "### III- 0 Parameters of the simultations"
   ]
  },
  {
   "cell_type": "code",
<<<<<<< HEAD
   "execution_count": 720,
=======
   "execution_count": 721,
>>>>>>> e3a991266bb11f96e4cec170b2f30c52d0d57ebb
   "metadata": {
    "collapsed": true
   },
   "outputs": [],
   "source": [
    "## The dimensions of the design matrix X\n",
    "N = 100       # The number of observations in the dataset\n",
    "real_dim = 20 # The dimension of the dataset\n",
    "## The low rank paramters\n",
    "k = 2         # The rank of the low rank approximation \n",
    "## The covariance matrix parameters\n",
    "r = 6         # Just a parameter to control the number of non trivial singular values in the covariance matrix\n",
    "mean = np.zeros((real_dim))    # The mean vector useful to generate U (X = UDV^T)\n",
    "cov_test = 0.01*np.ones((real_dim-r))  # The \"trivial\" singular values in the covariance matrix (there are real_dim-r)\n",
    "## The paramters of the matrix V\n",
    "versions_number = 3 # The number of orthogonal matrices (and therefor datasets) (-1) generated by the algorithm above\n",
    "lv_scores_vector = k/real_dim*np.ones(real_dim)  # The vector of leverage scores (the last one)"
   ]
  },
  {
   "cell_type": "code",
   "execution_count": 721,
   "metadata": {},
   "outputs": [],
   "source": [
    "l = [1,5,2,10]\n",
    "ll = list(reversed(np.argsort(l)))"
   ]
  },
  {
   "cell_type": "code",
   "execution_count": 722,
   "metadata": {},
   "outputs": [
    {
     "data": {
      "text/plain": [
       "[3, 1, 2, 0]"
      ]
     },
     "execution_count": 722,
     "metadata": {},
     "output_type": "execute_result"
    }
   ],
   "source": [
    "ll"
   ]
  },
  {
   "cell_type": "markdown",
   "metadata": {},
   "source": [
    "### III-1 The influence of the spectrum"
   ]
  },
  {
   "cell_type": "markdown",
   "metadata": {},
   "source": [
    "In this subsection we compare the Volume Sampling distribution to the projection DPP distribution and the deterministic algorithm of []  for different profiles of the spectrum with k-leverage scores profile fixed. In other words, if we note $$X = UDV^{T}$$ We keep V_{k} constant and we investigate the effect of D."
   ]
  },
  {
   "cell_type": "markdown",
   "metadata": {},
   "source": [
    "#### III-1-1 The case of a non-projection spectrum\n",
    "We mean by a projection spectrum matrix, a matrix with equal the first k singular values.\n",
    "We observe that the two distributions are very similar.... \\todo{reword}"
   ]
  },
  {
   "cell_type": "code",
<<<<<<< HEAD
   "execution_count": 731,
=======
   "execution_count": 725,
>>>>>>> e3a991266bb11f96e4cec170b2f30c52d0d57ebb
   "metadata": {
    "collapsed": true,
    "scrolled": true
   },
<<<<<<< HEAD
   "outputs": [
    {
     "name": "stdout",
     "output_type": "stream",
     "text": [
      "counter\n",
      "0\n",
      "2.0\n",
      "[0.35767, 0.2356, 0.22803, 0.1825, 0.11902, 0.11578, 0.11469, 0.10797, 0.084717, 0.081909, 0.073425, 0.069092, 0.064392, 0.033386, 0.028198, 0.027405, 0.027206, 0.0233, 0.015503, 0.010399]\n",
      "counter\n",
      "1\n",
      "2.0\n",
      "[0.39722, 0.2666, 0.26074, 0.19592, 0.18884, 0.087891, 0.077515, 0.076111, 0.075623, 0.06897, 0.065918, 0.056885, 0.056793, 0.03479, 0.027206, 0.019608, 0.015404, 0.014297, 0.013702, 0.0]\n",
      "counter\n",
      "2\n",
      "2.0\n",
      "[0.30811, 0.2428, 0.21558, 0.19116, 0.1665, 0.11578, 0.1156, 0.1004, 0.087891, 0.080383, 0.078918, 0.071716, 0.061005, 0.051788, 0.051392, 0.0354, 0.018494, 0.0073013, 0.0, 0.0]\n",
      "counter\n",
      "3\n",
      "2.0\n",
      "[0.41357, 0.36157, 0.17798, 0.1604, 0.15686, 0.14661, 0.10059, 0.07959, 0.076599, 0.074585, 0.069214, 0.052612, 0.032806, 0.032593, 0.031204, 0.022202, 0.011002, 0.0, 0.0, 0.0]\n",
      "[0.35777688026428223, 0.23560344846304779, 0.22806371259223471, 0.18255712899271787, 0.11900794670561936, 0.11568677300530091, 0.11476263689791259, 0.10777084186787721, 0.084861728770511319, 0.081967536928561888, 0.073448336217099869, 0.069097723206169998, 0.064390613100475599, 0.033330586092320313, 0.028234252443261599, 0.027369456022050979, 0.027157949171869269, 0.023251832128326343, 0.015405204729490913, 0.010364199016915527]\n",
      "[0.39736771583557129, 0.26664229681671597, 0.26072914064963071, 0.19586754570544651, 0.18898419362053762, 0.087822556525339532, 0.077348376281795264, 0.076264117114580934, 0.075689501901983994, 0.068922982710907174, 0.066088051649501336, 0.056825979254394067, 0.056824325235779481, 0.034826121032323423, 0.027234862252278693, 0.019550907116733816, 0.014896496977231733, 0.014455927041064151, 0.013700896349698524, 0.0]\n",
      "[0.30822014808654785, 0.24278500796682609, 0.21565109368410726, 0.19105632200162725, 0.16655734427974439, 0.11591341067637717, 0.11556110747004687, 0.10042337024137872, 0.087865207190519559, 0.080251032112411413, 0.079005482615102485, 0.071770978962218943, 0.061071742280536245, 0.051816396826393572, 0.051440847198793362, 0.035266111773377795, 0.018421231645940662, 0.0070718982061277452, 0.0, 0.0]\n",
      "[0.41353440284729004, 0.36173493034944848, 0.17776079952536425, 0.16039998190684215, 0.15696485196624904, 0.14654729194664731, 0.10080900324316089, 0.079611251539356484, 0.076364104972679869, 0.074347356934501729, 0.069224585634353145, 0.052798337801564392, 0.033010513017684769, 0.032357706838145539, 0.031246401365466962, 0.022231815988071765, 0.010967017038168816, 0.0, 0.0, 0.0]\n",
      "[ 0.35777688  0.23560345  0.22806371  0.18255713  0.11900795  0.11568677\n",
      "  0.11476264  0.10777084  0.08486173  0.08196754  0.07344834  0.06909772\n",
      "  0.06439061  0.03333059  0.02823425  0.02736946  0.02715795  0.02325183\n",
      "  0.0154052   0.0103642 ]\n",
      "[0, 1, 2, 3, 4, 5, 6, 7, 8, 9, 10, 11, 12, 13, 14, 15, 16, 17, 18, 19]\n",
      "[ 0.39736772  0.2666423   0.26072914  0.19586755  0.18898419  0.08782256\n",
      "  0.07734838  0.07626412  0.0756895   0.06892298  0.06608805  0.05682598\n",
      "  0.05682433  0.03482612  0.02723486  0.01955091  0.0148965   0.01445593\n",
      "  0.0137009   0.        ]\n",
      "[0, 1, 2, 3, 4, 5, 6, 7, 8, 9, 10, 11, 12, 13, 14, 15, 16, 17, 18, 19]\n",
      "[ 0.30822015  0.24278501  0.21565109  0.19105632  0.16655734  0.11591341\n",
      "  0.11556111  0.10042337  0.08786521  0.08025103  0.07900548  0.07177098\n",
      "  0.06107174  0.0518164   0.05144085  0.03526611  0.01842123  0.0070719   0.\n",
      "  0.        ]\n",
      "[0, 1, 2, 3, 4, 5, 6, 7, 8, 9, 10, 11, 12, 13, 14, 15, 16, 17, 18, 19]\n",
      "[ 0.4135344   0.36173493  0.1777608   0.16039998  0.15696485  0.14654729\n",
      "  0.100809    0.07961125  0.0763641   0.07434736  0.06922459  0.05279834\n",
      "  0.03301051  0.03235771  0.0312464   0.02223182  0.01096702  0.          0.\n",
      "  0.        ]\n",
      "[0, 1, 2, 3, 4, 5, 6, 7, 8, 9, 10, 11, 12, 13, 14, 15, 16, 18, 17, 19]\n"
     ]
    }
   ],
   "source": [
    "cov_1 = np.diag(np.concatenate(([100,100,1,1,1,1],cov_test)))\n",
    "versions_list = [20,19,18,17]\n",
    "NAL_1 = Numrerical_Analysis_DPP(N,real_dim,r,k,versions_number,mean,cov_1,lv_scores_vector,versions_list)\n",
=======
   "outputs": [],
   "source": [
    "cov_1 = np.diag(np.concatenate(([100,100,100,100,0.1,0.1],cov_test)))\n",
    "NAL_1 = Numrerical_Analysis_DPP(N,real_dim,r,k,versions_number,mean,cov_1,lv_scores_vector,[20,20,20])\n",
>>>>>>> e3a991266bb11f96e4cec170b2f30c52d0d57ebb
    "\n",
    "\n",
    "projection_DPP_res_fro_1 = NAL_1.get_expected_error_fro_for_projection_DPP()\n",
    "volume_sampling_res_fro_1 = NAL_1.get_expected_error_fro_for_volume_sampling()\n",
    "deterministic_selection_res_fro_1 = NAL_1.get_error_fro_for_deterministic_selection()\n",
    "projection_DPP_res_spectral_1 = NAL_1.get_expected_error_spectral_for_projection_DPP()\n",
    "volume_sampling_res_spectral_1 = NAL_1.get_expected_error_spectral_for_volume_sampling()\n",
    "deterministic_selection_res_spectral_1 = NAL_1.get_error_spectral_for_deterministic_selection()\n",
    "effective_kernel_sampling_res_fro_1 = NAL_1.get_expected_error_fro_for_effective_kernel_sampling()\n",
<<<<<<< HEAD
    "\n",
    "\n",
    "#sss = NAL_1.get_effective_kernel_from_orthogonal_matrix()\n",
    "#p_eff_res_1 = NAL_1.get_p_eff()\n",
    "\n",
=======
>>>>>>> e3a991266bb11f96e4cec170b2f30c52d0d57ebb
    "\n",
    "upper_tight_bound_projection_DPP_res_fro_1 = NAL_1.get_tight_upper_bound_error_fro_for_projection_DPP()\n",
    "\n",
    "alpha_sum_res_1 = NAL_1.get_alpha_sum_k_leverage_scores(1)\n",
    "\n",
    "\n",
    "p_eff_res_1 = NAL_1.get_p_eff()\n",
    "eff_kernel_upper_bound_1 = 1+ (p_eff_res_1-k+1)/(real_dim-k)*(k+1)\n",
    "\n",
    "sum_U_res_1 = NAL_1.get_sum_k_leverage_scores()\n",
    "p_eff_res_2 = NAL_1.get_p_eff_leverage_scores()\n",
    "deterministic_upper_bound_res_1 = NAL_1.get_deterministic_upper_bound()\n",
    "\n",
    "expected_upper_bound_res_1 = NAL_1.get_upper_bound_error_for_projection_DPP()\n",
    "multi_Q_1 = NAL_1.multi_Q[1,:,:].T\n"
   ]
  },
  {
   "cell_type": "code",
<<<<<<< HEAD
   "execution_count": 732,
   "metadata": {},
   "outputs": [
    {
     "name": "stdout",
     "output_type": "stream",
     "text": [
      "[0.35777688026428223, 0.23560344846304779, 0.22806371259223471, 0.18255712899271787, 0.11900794670561936, 0.11568677300530091, 0.11476263689791259, 0.10777084186787721, 0.084861728770511319, 0.0, 0.0, 0.0, 0.0, 0.0, 0.0, 0.0, 0.0, 0.0, 0.0, 0.0]\n",
      "[0.39736771583557129, 0.26664229681671597, 0.26072914064963071, 0.19586754570544651, 0.18898419362053762, 0.087822556525339532, 0.077348376281795264, 0.076264117114580934, 0.0, 0.0, 0.0, 0.0, 0.0, 0.0, 0.0, 0.0, 0.0, 0.0, 0.0, 0.0]\n",
      "[0.30822014808654785, 0.24278500796682609, 0.21565109368410726, 0.19105632200162725, 0.16655734427974439, 0.11591341067637717, 0.11556110747004687, 0.10042337024137872, 0.087865207190519559, 0.0, 0.0, 0.0, 0.0, 0.0, 0.0, 0.0, 0.0, 0.0, 0.0, 0.0]\n",
      "[0.41353440284729004, 0.36173493034944848, 0.17776079952536425, 0.16039998190684215, 0.15696485196624904, 0.14654729194664731, 0.10080900324316089, 0.0, 0.0, 0.0, 0.0, 0.0, 0.0, 0.0, 0.0, 0.0, 0.0, 0.0, 0.0, 0.0]\n"
     ]
    }
   ],
   "source": [
    "p_eff_res_1 = NAL_1.get_p_eff()\n",
    "eff_kernel_upper_bound_1 = 1+ (p_eff_res_1-k)/(real_dim-k)*(k+1)"
   ]
  },
  {
   "cell_type": "code",
   "execution_count": 676,
   "metadata": {},
   "outputs": [
    {
     "data": {
      "text/plain": [
       "array([ 1.66666667,  2.        ,  2.        ,  1.83333333])"
      ]
     },
     "execution_count": 676,
     "metadata": {},
     "output_type": "execute_result"
    }
   ],
   "source": [
    "eff_kernel_upper_bound"
   ]
  },
  {
   "cell_type": "code",
   "execution_count": 285,
   "metadata": {},
   "outputs": [
    {
     "name": "stdout",
     "output_type": "stream",
     "text": [
      "38\n"
     ]
    },
    {
     "ename": "AttributeError",
     "evalue": "'Numrerical_Analysis_DPP' object has no attribute 'get_sum_T_matrices'",
     "output_type": "error",
     "traceback": [
      "\u001b[0;31m---------------------------------------------------------------------------\u001b[0m",
      "\u001b[0;31mAttributeError\u001b[0m                            Traceback (most recent call last)",
      "\u001b[0;32m<ipython-input-285-1cdc7d45bea5>\u001b[0m in \u001b[0;36m<module>\u001b[0;34m()\u001b[0m\n\u001b[1;32m      1\u001b[0m \u001b[0;34m\u001b[0m\u001b[0m\n\u001b[1;32m      2\u001b[0m \u001b[0mprint\u001b[0m\u001b[0;34m(\u001b[0m\u001b[0mk\u001b[0m\u001b[0;34m*\u001b[0m\u001b[0;34m(\u001b[0m\u001b[0mreal_dim\u001b[0m\u001b[0;34m-\u001b[0m\u001b[0mk\u001b[0m\u001b[0;34m+\u001b[0m\u001b[0;36m1\u001b[0m\u001b[0;34m)\u001b[0m\u001b[0;34m)\u001b[0m\u001b[0;34m\u001b[0m\u001b[0m\n\u001b[0;32m----> 3\u001b[0;31m \u001b[0msum_T_matrices\u001b[0m \u001b[0;34m=\u001b[0m  \u001b[0mNAL_1\u001b[0m\u001b[0;34m.\u001b[0m\u001b[0mget_sum_T_matrices\u001b[0m\u001b[0;34m(\u001b[0m\u001b[0;34m)\u001b[0m\u001b[0;34m\u001b[0m\u001b[0m\n\u001b[0m",
      "\u001b[0;31mAttributeError\u001b[0m: 'Numrerical_Analysis_DPP' object has no attribute 'get_sum_T_matrices'"
     ]
    }
   ],
   "source": [
    "\n",
    "print(k*(real_dim-k+1))\n",
    "sum_T_matrices =  NAL_1.get_sum_T_matrices()"
   ]
  },
  {
   "cell_type": "code",
   "execution_count": 733,
   "metadata": {},
=======
   "execution_count": 726,
   "metadata": {
    "collapsed": true
   },
>>>>>>> e3a991266bb11f96e4cec170b2f30c52d0d57ebb
   "outputs": [],
   "source": [
    "pd_1 = pd.DataFrame(\n",
    "    {'k-sum (ratio)': sum_U_res_1/k,\n",
    "     'p_eff':p_eff_res_1,\n",
    "     'alpha k-sum': alpha_sum_res_1,\n",
    "     'p_eff' :p_eff_res_1,\n",
    "     'Expected Upper Bound for Projection DPP': expected_upper_bound_res_1,\n",
    "     'Volume Sampling(Fro)': volume_sampling_res_fro_1,\n",
    "     'Projection DPP(Fro)': projection_DPP_res_fro_1,\n",
    "     'Effective kernel(Fro)' : effective_kernel_sampling_res_fro_1,\n",
    "     'Effective kernel upper bound (Fro)':eff_kernel_upper_bound_1,\n",
    "     'Very sharp approximation of Projection DPP(Fro)': upper_tight_bound_projection_DPP_res_fro_1,\n",
    "     'Deterministic Algorithm(Fro)': deterministic_selection_res_fro_1,\n",
    "     'Volume Sampling(Spectral)': volume_sampling_res_spectral_1,\n",
    "     'Projection DPP(Spectral)': projection_DPP_res_spectral_1,\n",
    "     'Deterministic Algorithm(Spectral)': deterministic_selection_res_spectral_1,\n",
    "     'Deterministic Upper Bound': deterministic_upper_bound_res_1\n",
    "    })\n",
<<<<<<< HEAD
    "pd_1 = pd_1[['k-sum (ratio)','p_eff', 'alpha k-sum','Expected Upper Bound for Projection DPP','Volume Sampling(Fro)','Projection DPP(Fro)','Effective kernel(Fro)','Effective kernel upper bound (Fro)','Very sharp approximation of Projection DPP(Fro)','Deterministic Algorithm(Fro)','Volume Sampling(Spectral)','Projection DPP(Spectral)','Deterministic Algorithm(Spectral)','Deterministic Upper Bound']]"
=======
    "pd_1 = pd_1[['k-sum (ratio)', 'alpha k-sum','p_eff','Expected Upper Bound for Projection DPP','Volume Sampling(Fro)','Projection DPP(Fro)','Effective kernel(Fro)','Effective kernel upper bound (Fro)','Very sharp approximation of Projection DPP(Fro)','Deterministic Algorithm(Fro)','Volume Sampling(Spectral)','Projection DPP(Spectral)','Deterministic Algorithm(Spectral)','Deterministic Upper Bound']]"
>>>>>>> e3a991266bb11f96e4cec170b2f30c52d0d57ebb
   ]
  },
  {
   "cell_type": "code",
<<<<<<< HEAD
   "execution_count": 734,
   "metadata": {},
   "outputs": [
    {
     "data": {
      "text/plain": [
       "7.0"
      ]
     },
     "execution_count": 734,
     "metadata": {},
     "output_type": "execute_result"
    }
   ],
   "source": [
    "p_eff_res_1[3]"
   ]
  },
  {
   "cell_type": "code",
   "execution_count": 735,
   "metadata": {
    "collapsed": true
   },
   "outputs": [],
   "source": [
    "#'1+Largest eigenvalue of sum_T': sum_T_matrices,"
   ]
  },
  {
   "cell_type": "code",
   "execution_count": 736,
=======
   "execution_count": 727,
>>>>>>> e3a991266bb11f96e4cec170b2f30c52d0d57ebb
   "metadata": {},
   "outputs": [
    {
     "data": {
      "text/html": [
       "<div>\n",
       "<table border=\"1\" class=\"dataframe\">\n",
       "  <thead>\n",
       "    <tr style=\"text-align: right;\">\n",
       "      <th></th>\n",
       "      <th>k-sum (ratio)</th>\n",
       "      <th>p_eff</th>\n",
       "      <th>alpha k-sum</th>\n",
       "      <th>p_eff</th>\n",
       "      <th>Expected Upper Bound for Projection DPP</th>\n",
       "      <th>Volume Sampling(Fro)</th>\n",
       "      <th>Projection DPP(Fro)</th>\n",
       "      <th>Effective kernel(Fro)</th>\n",
       "      <th>Effective kernel upper bound (Fro)</th>\n",
       "      <th>Very sharp approximation of Projection DPP(Fro)</th>\n",
       "      <th>Deterministic Algorithm(Fro)</th>\n",
       "      <th>Volume Sampling(Spectral)</th>\n",
       "      <th>Projection DPP(Spectral)</th>\n",
       "      <th>Deterministic Algorithm(Spectral)</th>\n",
       "      <th>Deterministic Upper Bound</th>\n",
       "    </tr>\n",
       "  </thead>\n",
       "  <tbody>\n",
       "    <tr>\n",
       "      <th>0</th>\n",
<<<<<<< HEAD
       "      <td>0.296690</td>\n",
       "      <td>9.0</td>\n",
       "      <td>0.828984</td>\n",
       "      <td>10.237879</td>\n",
       "      <td>2.998458</td>\n",
       "      <td>2.930497</td>\n",
       "      <td>2.171672</td>\n",
       "      <td>2.166667</td>\n",
       "      <td>2.202830</td>\n",
       "      <td>1.377183</td>\n",
       "      <td>5.555760</td>\n",
       "      <td>5.382416</td>\n",
       "      <td>1.747463</td>\n",
       "      <td>-2.459301</td>\n",
       "    </tr>\n",
       "    <tr>\n",
       "      <th>1</th>\n",
       "      <td>0.332005</td>\n",
       "      <td>8.0</td>\n",
       "      <td>0.930652</td>\n",
       "      <td>9.057958</td>\n",
       "      <td>2.998448</td>\n",
       "      <td>2.934671</td>\n",
       "      <td>1.744742</td>\n",
       "      <td>2.000000</td>\n",
       "      <td>1.758297</td>\n",
       "      <td>1.106016</td>\n",
       "      <td>6.043712</td>\n",
       "      <td>5.868467</td>\n",
       "      <td>1.157805</td>\n",
       "      <td>-2.976279</td>\n",
       "    </tr>\n",
       "    <tr>\n",
       "      <th>2</th>\n",
       "      <td>0.275503</td>\n",
       "      <td>9.0</td>\n",
       "      <td>0.793790</td>\n",
       "      <td>10.189300</td>\n",
       "      <td>2.998433</td>\n",
       "      <td>2.462686</td>\n",
       "      <td>2.417697</td>\n",
       "      <td>2.166667</td>\n",
       "      <td>2.424515</td>\n",
       "      <td>1.661438</td>\n",
       "      <td>4.939381</td>\n",
       "      <td>3.714388</td>\n",
       "      <td>2.156968</td>\n",
       "      <td>-2.227197</td>\n",
       "    </tr>\n",
       "    <tr>\n",
       "      <th>3</th>\n",
       "      <td>0.387635</td>\n",
       "      <td>7.0</td>\n",
       "      <td>1.137004</td>\n",
       "      <td>7.608430</td>\n",
       "      <td>2.998474</td>\n",
       "      <td>2.680769</td>\n",
       "      <td>1.723236</td>\n",
       "      <td>1.833333</td>\n",
       "      <td>1.724160</td>\n",
       "      <td>1.181214</td>\n",
       "      <td>6.461901</td>\n",
       "      <td>5.506943</td>\n",
       "      <td>1.239377</td>\n",
       "      <td>-4.449771</td>\n",
=======
       "      <td>0.485268</td>\n",
       "      <td>4.533247</td>\n",
       "      <td>12.0</td>\n",
       "      <td>57.176416</td>\n",
       "      <td>4.999822</td>\n",
       "      <td>4.966467</td>\n",
       "      <td>3.150284</td>\n",
       "      <td>3.8125</td>\n",
       "      <td>5.0</td>\n",
       "      <td>2.435945</td>\n",
       "      <td>19.248552</td>\n",
       "      <td>19.074479</td>\n",
       "      <td>6.738316</td>\n",
       "      <td>-0.944350</td>\n",
       "    </tr>\n",
       "    <tr>\n",
       "      <th>1</th>\n",
       "      <td>0.420277</td>\n",
       "      <td>3.734385</td>\n",
       "      <td>13.0</td>\n",
       "      <td>55.889978</td>\n",
       "      <td>4.999822</td>\n",
       "      <td>4.952096</td>\n",
       "      <td>3.492612</td>\n",
       "      <td>4.1250</td>\n",
       "      <td>5.0</td>\n",
       "      <td>2.547184</td>\n",
       "      <td>21.545843</td>\n",
       "      <td>21.260952</td>\n",
       "      <td>8.387673</td>\n",
       "      <td>-0.758213</td>\n",
       "    </tr>\n",
       "    <tr>\n",
       "      <th>2</th>\n",
       "      <td>0.426711</td>\n",
       "      <td>3.874272</td>\n",
       "      <td>14.0</td>\n",
       "      <td>55.668905</td>\n",
       "      <td>4.999821</td>\n",
       "      <td>4.970466</td>\n",
       "      <td>4.085380</td>\n",
       "      <td>4.4375</td>\n",
       "      <td>5.0</td>\n",
       "      <td>52.170381</td>\n",
       "      <td>19.489560</td>\n",
       "      <td>19.328701</td>\n",
       "      <td>279.860957</td>\n",
       "      <td>-0.773302</td>\n",
>>>>>>> e3a991266bb11f96e4cec170b2f30c52d0d57ebb
       "    </tr>\n",
       "  </tbody>\n",
       "</table>\n",
       "</div>"
      ],
      "text/plain": [
<<<<<<< HEAD
       "   k-sum (ratio)  p_eff  alpha k-sum  Expected Upper Bound for Projection DPP  \\\n",
       "0       0.296690    9.0     0.828984                                10.237879   \n",
       "1       0.332005    8.0     0.930652                                 9.057958   \n",
       "2       0.275503    9.0     0.793790                                10.189300   \n",
       "3       0.387635    7.0     1.137004                                 7.608430   \n",
       "\n",
       "   Volume Sampling(Fro)  Projection DPP(Fro)  Effective kernel(Fro)  \\\n",
       "0              2.998458             2.930497               2.171672   \n",
       "1              2.998448             2.934671               1.744742   \n",
       "2              2.998433             2.462686               2.417697   \n",
       "3              2.998474             2.680769               1.723236   \n",
       "\n",
       "   Effective kernel upper bound (Fro)  \\\n",
       "0                            2.166667   \n",
       "1                            2.000000   \n",
       "2                            2.166667   \n",
       "3                            1.833333   \n",
       "\n",
       "   Very sharp approximation of Projection DPP(Fro)  \\\n",
       "0                                         2.202830   \n",
       "1                                         1.758297   \n",
       "2                                         2.424515   \n",
       "3                                         1.724160   \n",
       "\n",
       "   Deterministic Algorithm(Fro)  Volume Sampling(Spectral)  \\\n",
       "0                      1.377183                   5.555760   \n",
       "1                      1.106016                   6.043712   \n",
       "2                      1.661438                   4.939381   \n",
       "3                      1.181214                   6.461901   \n",
       "\n",
       "   Projection DPP(Spectral)  Deterministic Algorithm(Spectral)  \\\n",
       "0                  5.382416                           1.747463   \n",
       "1                  5.868467                           1.157805   \n",
       "2                  3.714388                           2.156968   \n",
       "3                  5.506943                           1.239377   \n",
       "\n",
       "   Deterministic Upper Bound  \n",
       "0                  -2.459301  \n",
       "1                  -2.976279  \n",
       "2                  -2.227197  \n",
       "3                  -4.449771  "
      ]
     },
     "execution_count": 736,
=======
       "   k-sum (ratio)  alpha k-sum  p_eff  Expected Upper Bound for Projection DPP  \\\n",
       "0       0.485268     4.533247   12.0                                57.176416   \n",
       "1       0.420277     3.734385   13.0                                55.889978   \n",
       "2       0.426711     3.874272   14.0                                55.668905   \n",
       "\n",
       "   Volume Sampling(Fro)  Projection DPP(Fro)  Effective kernel(Fro)  \\\n",
       "0              4.999822             4.966467               3.150284   \n",
       "1              4.999822             4.952096               3.492612   \n",
       "2              4.999821             4.970466               4.085380   \n",
       "\n",
       "   Effective kernel upper bound (Fro)  \\\n",
       "0                              3.8125   \n",
       "1                              4.1250   \n",
       "2                              4.4375   \n",
       "\n",
       "   Very sharp approximation of Projection DPP(Fro)  \\\n",
       "0                                              5.0   \n",
       "1                                              5.0   \n",
       "2                                              5.0   \n",
       "\n",
       "   Deterministic Algorithm(Fro)  Volume Sampling(Spectral)  \\\n",
       "0                      2.435945                  19.248552   \n",
       "1                      2.547184                  21.545843   \n",
       "2                     52.170381                  19.489560   \n",
       "\n",
       "   Projection DPP(Spectral)  Deterministic Algorithm(Spectral)  \\\n",
       "0                 19.074479                           6.738316   \n",
       "1                 21.260952                           8.387673   \n",
       "2                 19.328701                         279.860957   \n",
       "\n",
       "   Deterministic Upper Bound  \n",
       "0                  -0.944350  \n",
       "1                  -0.758213  \n",
       "2                  -0.773302  "
      ]
     },
     "execution_count": 727,
>>>>>>> e3a991266bb11f96e4cec170b2f30c52d0d57ebb
     "metadata": {},
     "output_type": "execute_result"
    }
   ],
   "source": [
    "pd_1"
   ]
  },
  {
   "cell_type": "code",
   "execution_count": 728,
   "metadata": {
    "collapsed": true
   },
   "outputs": [],
   "source": [
    "projection_DPP_res_fro_2 = NAL_1.get_expected_error_fro_for_projection_DPP()\n"
   ]
  },
  {
   "cell_type": "code",
   "execution_count": 332,
   "metadata": {},
   "outputs": [
    {
     "data": {
      "text/plain": [
       "array([ 2.09267515,  1.74627114,  1.85399953])"
      ]
     },
     "execution_count": 332,
     "metadata": {},
     "output_type": "execute_result"
    }
   ],
   "source": [
    "projection_DPP_res_fro_2"
   ]
  },
  {
   "cell_type": "code",
   "execution_count": 333,
   "metadata": {},
   "outputs": [
    {
     "data": {
      "text/plain": [
       "array([ 2.99037541,  2.81961073,  2.6927861 ])"
      ]
     },
     "execution_count": 333,
     "metadata": {},
     "output_type": "execute_result"
    }
   ],
   "source": [
    "projection_DPP_res_fro_1"
   ]
  },
  {
   "cell_type": "markdown",
   "metadata": {},
   "source": [
    "#### Observations:\n",
    "* The expected error is always smaller under the Projection DPP distribution compared to the Volume Sampling distribution.\n",
    "* The expected error for the Volume Sampling distribution is constant for a contant D\n",
    "* However the expected error for the Projection DPP distribution depends on the k-sum\n",
    "* For X_0 and X_1, the profile of the k-leverage scores are highly concentrated (k-sum > k-1) thus epsilon is smaller than 1, in this regime the determinstic algorithm have the lower approximation error and it performs better than expected (the theoretical bound is 1/(1-epsilon).\n",
    "* However, for the other datasets, the (k-sum < k-1) thus epsilon >1 and the deterministic algorithm have no guarantee in this regime: we observe that the approximation error for the deterministic algorithm can be very high in this regime."
   ]
  },
  {
   "cell_type": "code",
   "execution_count": 691,
   "metadata": {
    "collapsed": true
   },
   "outputs": [],
   "source": [
    "T = 8 # The number of experiments\n",
    "versions_number = 3 \n",
    "k = 4\n",
    "emperical_results = np.zeros((versions_number*T,4))\n",
    "\n",
    "volume_sampling_fro_list = []\n",
    "projection_dpp_fro_list = []\n",
    "p_eff_list = []\n",
    "cardinal_list = []\n",
    "cov_1 = np.diag(np.concatenate(([100,100,100,100,0.1,0.1],cov_test)))\n",
    "static_list = list(range(10,21))\n"
   ]
  },
  {
   "cell_type": "code",
   "execution_count": 692,
   "metadata": {},
   "outputs": [
    {
     "name": "stdout",
     "output_type": "stream",
     "text": [
      "t\n",
      "0\n",
      "next\n",
      "t\n",
      "1\n",
      "next\n",
      "t\n",
      "2\n",
      "next\n",
      "t\n",
      "3\n",
      "next\n",
      "t\n",
      "4\n",
      "next\n",
      "t\n",
      "5\n",
      "next\n",
      "t\n",
      "6\n",
      "next\n",
      "t\n",
      "7\n",
      "next\n"
     ]
    }
   ],
   "source": [
    "volume_sampling_fro_list = []\n",
    "projection_dpp_fro_list = []\n",
    "effective_kernel_fro_list = []\n",
    "p_eff_list = []\n",
    "cardinal_list = []\n",
    "for t in range(T):\n",
    "    print(\"t\")\n",
    "    print(t)\n",
    "    random_cardinal_list = list(np.random.choice(static_list, 3))\n",
    "    NAL_1 = Numrerical_Analysis_DPP(N,real_dim,r,k,versions_number,mean,cov_1,lv_scores_vector,random_cardinal_list)\n",
    "\n",
    "\n",
    "    projection_DPP_res_fro_1 = NAL_1.get_expected_error_fro_for_projection_DPP()\n",
    "    volume_sampling_res_fro_1 = NAL_1.get_expected_error_fro_for_volume_sampling()\n",
    "    effective_kernel_sampling_res_fro_1 = NAL_1.get_expected_error_fro_for_effective_kernel_sampling()\n",
    "\n",
    "#    upper_tight_bound_projection_DPP_res_fro_1 = NAL_1.get_tight_upper_bound_error_fro_for_projection_DPP()\n",
    "\n",
    "#    alpha_sum_res_1 = NAL_1.get_alpha_sum_k_leverage_scores(1)\n",
    "\n",
    "\n",
    "#    sum_U_res_1 = NAL_1.get_sum_k_leverage_scores()\n",
    "    p_eff_res_1 = NAL_1.get_p_eff_leverage_scores()\n",
    "    \n",
    "    effective_kernel_fro_list.append(list(effective_kernel_sampling_res_fro_1))\n",
    "    \n",
    "    volume_sampling_fro_list.append(list(volume_sampling_res_fro_1))\n",
    "    projection_dpp_fro_list.append(list(projection_DPP_res_fro_1))\n",
    "    p_eff_list.append(list(p_eff_res_1))\n",
    "    cardinal_list.append(random_cardinal_list) \n",
    "    print(\"next\")\n"
   ]
  },
  {
   "cell_type": "code",
   "execution_count": 693,
   "metadata": {
    "collapsed": true
   },
   "outputs": [],
   "source": [
    "def from_p_eff_to_error_bound(list_of_p,k,d):\n",
    "    list_res = []\n",
    "    for p in list_of_p:\n",
    "        new_element = 1+(p-k+1)/(d-k)*k\n",
    "        list_res.append(new_element)\n",
    "    return list_res"
   ]
  },
  {
   "cell_type": "code",
   "execution_count": 694,
   "metadata": {
    "collapsed": true
   },
   "outputs": [],
   "source": [
    "flattened_cardinal_list= [item for items in cardinal_list for item in items]\n",
    "flattened_p_eff_list= [item for items in p_eff_list for item in items]\n"
   ]
  },
  {
   "cell_type": "code",
   "execution_count": 695,
   "metadata": {
    "collapsed": true
   },
   "outputs": [],
   "source": [
    "border_array = np.linspace(1, 4.0, num=20)"
   ]
  },
  {
   "cell_type": "code",
   "execution_count": 696,
   "metadata": {},
   "outputs": [
    {
     "data": {
      "text/plain": [
       "20"
      ]
     },
     "execution_count": 696,
     "metadata": {},
     "output_type": "execute_result"
    }
   ],
   "source": [
    "real_dim"
   ]
  },
  {
   "cell_type": "code",
   "execution_count": 699,
   "metadata": {},
   "outputs": [
    {
     "name": "stderr",
     "output_type": "stream",
     "text": [
      "/Users/ayoubbelhadji1/anaconda/lib/python3.5/site-packages/matplotlib/font_manager.py:1297: UserWarning: findfont: Font family ['sans-serif'] not found. Falling back to DejaVu Sans\n",
      "  (prop.get_family(), self.defaultFamily[fontext]))\n"
     ]
    },
    {
     "data": {
      "image/png": "iVBORw0KGgoAAAANSUhEUgAAAX8AAAFsCAYAAAAkBrlSAAAABHNCSVQICAgIfAhkiAAAAAlwSFlz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\nAAAAAElFTkSuQmCC\n",
      "text/plain": [
       "<matplotlib.figure.Figure at 0x111890390>"
      ]
     },
     "metadata": {},
     "output_type": "display_data"
    }
   ],
   "source": [
    "theoretical_projection_DPP_error_bound_list = from_p_eff_to_error_bound(flattened_cardinal_list,k,real_dim)\n",
    "\n",
    "\n",
    "\n",
    "fig, ax = plt.subplots()\n",
    "\n",
    "line = mlines.Line2D([0, 1], [0, 1], color='red')\n",
    "transform = ax.transAxes\n",
    "line.set_transform(transform)\n",
    "ax.add_line(line)\n",
    "\n",
    "plt.xlim(1, 6)\n",
    "plt.ylim(1, 6)\n",
    "\n",
    "\n",
    "plt.scatter(theoretical_projection_DPP_error_bound_list,projection_dpp_fro_list )\n",
    "#plt.scatter(border_array,border_array)\n",
    "plt.xlabel('Theoretical upper bound for projection DPP', fontsize=12)\n",
    "plt.ylabel('Expectations of approximation error using projection DPP ', fontsize=12)\n",
    "plt.show()"
   ]
  },
  {
   "cell_type": "code",
   "execution_count": 700,
   "metadata": {
    "collapsed": true
   },
   "outputs": [],
   "source": [
    "def from_p_eff_to_error_bound_2(list_of_p,k,d):\n",
    "    list_res = []\n",
    "    for p in list_of_p:\n",
    "        new_element = 1+(p-k+1)/(d-k)*(k+1)\n",
    "        list_res.append(new_element)\n",
    "    return list_res"
   ]
  },
  {
   "cell_type": "code",
   "execution_count": 701,
   "metadata": {
    "scrolled": true
   },
   "outputs": [
    {
     "name": "stderr",
     "output_type": "stream",
     "text": [
      "/Users/ayoubbelhadji1/anaconda/lib/python3.5/site-packages/matplotlib/font_manager.py:1297: UserWarning: findfont: Font family ['sans-serif'] not found. Falling back to DejaVu Sans\n",
      "  (prop.get_family(), self.defaultFamily[fontext]))\n"
     ]
    },
    {
     "data": {
      "image/png": "iVBORw0KGgoAAAANSUhEUgAAAX8AAAFyCAYAAAAd2tq5AAAABHNCSVQICAgIfAhkiAAAAAlwSFlz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\nqtQAAAAASUVORK5CYII=\n",
      "text/plain": [
       "<matplotlib.figure.Figure at 0x11187d668>"
      ]
     },
     "metadata": {},
     "output_type": "display_data"
    }
   ],
   "source": [
    "theoretical_effective_kernel_error_bound_list = from_p_eff_to_error_bound_2(flattened_p_eff_list,k,real_dim)\n",
    "\n",
    "\n",
    "fig, ax = plt.subplots()\n",
    "\n",
    "line = mlines.Line2D([0, 1], [0, 1], color='red')\n",
    "transform = ax.transAxes\n",
    "line.set_transform(transform)\n",
    "ax.add_line(line)\n",
    "\n",
    "plt.scatter(theoretical_effective_kernel_error_bound_list,effective_kernel_fro_list)\n",
    "plt.xlim(1, 6)\n",
    "plt.ylim(1, 6)\n",
    "#plt.scatter(border_array,border_array)\n",
    "plt.xlabel('Theoretical upper bound for effective kernel', fontsize=12)\n",
    "plt.ylabel('Expectations of approximation error using effective kernel ', fontsize=12)\n",
    "plt.show()"
   ]
  },
  {
   "cell_type": "code",
   "execution_count": 408,
   "metadata": {},
   "outputs": [
    {
     "data": {
      "image/png": "iVBORw0KGgoAAAANSUhEUgAAAYQAAAD8CAYAAAB3u9PLAAAABHNCSVQICAgIfAhkiAAAAAlwSFlz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\nQmCC\n",
      "text/plain": [
       "<matplotlib.figure.Figure at 0x111a18630>"
      ]
     },
     "metadata": {},
     "output_type": "display_data"
    }
   ],
   "source": [
    "plt.scatter(cardinal_list,volume_sampling_fro_list )\n",
    "plt.show()"
   ]
  },
  {
   "cell_type": "code",
   "execution_count": 123,
   "metadata": {},
   "outputs": [
    {
     "data": {
      "image/png": "iVBORw0KGgoAAAANSUhEUgAAAX4AAAD8CAYAAABw1c+bAAAABHNCSVQICAgIfAhkiAAAAAlwSFlz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\nAABJRU5ErkJggg==\n",
      "text/plain": [
       "<matplotlib.figure.Figure at 0x11127feb8>"
      ]
     },
     "metadata": {},
     "output_type": "display_data"
    }
   ],
   "source": [
    "plt.scatter(p_eff_list,projection_dpp_fro_list )\n",
    "plt.show()"
   ]
  },
  {
   "cell_type": "code",
   "execution_count": 83,
   "metadata": {},
   "outputs": [
    {
     "data": {
      "text/plain": [
       "[1, 2, 3, 4, 5, 6, 7, 8, 9, 10, 11, 12, 13, 14, 15, 16, 17, 18, 19, 20]"
      ]
     },
     "execution_count": 83,
     "metadata": {},
     "output_type": "execute_result"
    }
   ],
   "source": []
  },
  {
   "cell_type": "code",
   "execution_count": 86,
   "metadata": {
    "collapsed": true
   },
   "outputs": [],
   "source": []
  },
  {
   "cell_type": "markdown",
   "metadata": {},
   "source": [
    "### The case k = 2, projection spectrum"
   ]
  },
  {
   "cell_type": "code",
   "execution_count": 702,
   "metadata": {
    "collapsed": true
   },
   "outputs": [],
   "source": [
    "T = 8 # The number of experiments\n",
    "versions_number = 3 \n",
    "k = 2\n",
    "emperical_results = np.zeros((versions_number*T,4))\n",
    "\n",
    "volume_sampling_fro_list = []\n",
    "projection_dpp_fro_list = []\n",
    "p_eff_list = []\n",
    "cardinal_list = []\n",
    "cov_1 = np.diag(np.concatenate(([100,100,0.1,0.1,0.1,0.1],cov_test)))\n",
    "static_list = list(range(10,21))\n"
   ]
  },
  {
   "cell_type": "code",
   "execution_count": 703,
   "metadata": {},
   "outputs": [
    {
     "name": "stdout",
     "output_type": "stream",
     "text": [
      "t\n",
      "0\n",
      "next\n",
      "t\n",
      "1\n",
      "next\n",
      "t\n",
      "2\n",
      "next\n",
      "t\n",
      "3\n",
      "next\n",
      "t\n",
      "4\n",
      "next\n",
      "t\n",
      "5\n",
      "next\n",
      "t\n",
      "6\n",
      "next\n",
      "t\n",
      "7\n",
      "next\n"
     ]
    }
   ],
   "source": [
    "volume_sampling_fro_list = []\n",
    "projection_dpp_fro_list = []\n",
    "effective_kernel_fro_list = []\n",
    "p_eff_list = []\n",
    "cardinal_list = []\n",
    "for t in range(T):\n",
    "    print(\"t\")\n",
    "    print(t)\n",
    "    random_cardinal_list = list(np.random.choice(static_list, 3))\n",
    "    NAL_1 = Numrerical_Analysis_DPP(N,real_dim,r,k,versions_number,mean,cov_1,lv_scores_vector,random_cardinal_list)\n",
    "\n",
    "\n",
    "    projection_DPP_res_fro_1 = NAL_1.get_expected_error_fro_for_projection_DPP()\n",
    "    volume_sampling_res_fro_1 = NAL_1.get_expected_error_fro_for_volume_sampling()\n",
    "    effective_kernel_sampling_res_fro_1 = NAL_1.get_expected_error_fro_for_effective_kernel_sampling()\n",
    "\n",
    "#    upper_tight_bound_projection_DPP_res_fro_1 = NAL_1.get_tight_upper_bound_error_fro_for_projection_DPP()\n",
    "\n",
    "#    alpha_sum_res_1 = NAL_1.get_alpha_sum_k_leverage_scores(1)\n",
    "\n",
    "\n",
    "#    sum_U_res_1 = NAL_1.get_sum_k_leverage_scores()\n",
    "    p_eff_res_1 = NAL_1.get_p_eff_leverage_scores()\n",
    "    \n",
    "    effective_kernel_fro_list.append(list(effective_kernel_sampling_res_fro_1))\n",
    "    \n",
    "    volume_sampling_fro_list.append(list(volume_sampling_res_fro_1))\n",
    "    projection_dpp_fro_list.append(list(projection_DPP_res_fro_1))\n",
    "    p_eff_list.append(list(p_eff_res_1))\n",
    "    cardinal_list.append(random_cardinal_list) \n",
    "    print(\"next\")\n"
   ]
  },
  {
   "cell_type": "code",
   "execution_count": 704,
   "metadata": {
    "collapsed": true
   },
   "outputs": [],
   "source": [
    "flattened_cardinal_list= [item for items in cardinal_list for item in items]\n",
    "flattened_p_eff_list= [item for items in p_eff_list for item in items]\n"
   ]
  },
  {
   "cell_type": "code",
   "execution_count": 706,
   "metadata": {},
   "outputs": [
    {
     "name": "stderr",
     "output_type": "stream",
     "text": [
      "/Users/ayoubbelhadji1/anaconda/lib/python3.5/site-packages/matplotlib/font_manager.py:1297: UserWarning: findfont: Font family ['sans-serif'] not found. Falling back to DejaVu Sans\n",
      "  (prop.get_family(), self.defaultFamily[fontext]))\n"
     ]
    },
    {
     "data": {
      "image/png": "iVBORw0KGgoAAAANSUhEUgAAAY0AAAFoCAYAAACrLqfgAAAABHNCSVQICAgIfAhkiAAAAAlwSFlz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\nB856EFu6nEAAAAAASUVORK5CYII=\n",
      "text/plain": [
       "<matplotlib.figure.Figure at 0x110b70a90>"
      ]
     },
     "metadata": {},
     "output_type": "display_data"
    }
   ],
   "source": [
    "theoretical_projection_DPP_error_bound_list = from_p_eff_to_error_bound(flattened_cardinal_list,k,real_dim)\n",
    "\n",
    "\n",
    "\n",
    "fig, ax = plt.subplots()\n",
    "\n",
    "line = mlines.Line2D([0, 1], [0, 1], color='red')\n",
    "transform = ax.transAxes\n",
    "line.set_transform(transform)\n",
    "ax.add_line(line)\n",
    "\n",
    "plt.xlim(1, 4)\n",
    "plt.ylim(1, 4)\n",
    "\n",
    "\n",
    "plt.scatter(theoretical_projection_DPP_error_bound_list,projection_dpp_fro_list )\n",
    "plt.scatter(theoretical_projection_DPP_error_bound_list,volume_sampling_fro_list)\n",
    "plt.xlabel(\"Theoretical upper bound for effective kernel\", fontsize=12)\n",
    "plt.ylabel(\"Expectations of approximation error using projection DPP\", fontsize=12)\n",
    "plt.show()\n"
   ]
  },
  {
   "cell_type": "code",
   "execution_count": 707,
   "metadata": {},
   "outputs": [
    {
     "name": "stderr",
     "output_type": "stream",
     "text": [
      "/Users/ayoubbelhadji1/anaconda/lib/python3.5/site-packages/matplotlib/font_manager.py:1297: UserWarning: findfont: Font family ['sans-serif'] not found. Falling back to DejaVu Sans\n",
      "  (prop.get_family(), self.defaultFamily[fontext]))\n"
     ]
    },
    {
     "data": {
      "image/png": "iVBORw0KGgoAAAANSUhEUgAAAY0AAAFyCAYAAAAJY4YdAAAABHNCSVQICAgIfAhkiAAAAAlwSFlz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\n",
      "text/plain": [
       "<matplotlib.figure.Figure at 0x110870160>"
      ]
     },
     "metadata": {},
     "output_type": "display_data"
    }
   ],
   "source": [
    "theoretical_effective_kernel_error_bound_list = from_p_eff_to_error_bound_2(flattened_p_eff_list,k,real_dim)\n",
    "\n",
    "\n",
    "fig, ax = plt.subplots()\n",
    "\n",
    "line = mlines.Line2D([0, 1], [0, 1], color='red')\n",
    "transform = ax.transAxes\n",
    "line.set_transform(transform)\n",
    "ax.add_line(line)\n",
    "\n",
    "plt.scatter(theoretical_effective_kernel_error_bound_list,effective_kernel_fro_list)\n",
    "plt.xlim(1, 4)\n",
    "plt.ylim(1, 4)\n",
    "plt.scatter(theoretical_effective_kernel_error_bound_list,volume_sampling_fro_list)\n",
    "plt.xlabel('Theoretical upper bound for effective kernel', fontsize=12)\n",
    "plt.ylabel('Expectations of approximation error using effective kernel ', fontsize=12)\n",
    "plt.show()"
   ]
  },
  {
   "cell_type": "code",
   "execution_count": null,
   "metadata": {
    "collapsed": true
   },
   "outputs": [],
   "source": []
  },
  {
   "cell_type": "markdown",
   "metadata": {},
   "source": [
    "### The case k = 2, smooth spectrum\n"
   ]
  },
  {
   "cell_type": "code",
   "execution_count": 514,
   "metadata": {
    "collapsed": true
   },
   "outputs": [],
   "source": [
    "T = 8 # The number of experiments\n",
    "versions_number = 3 \n",
    "k = 2\n",
    "emperical_results = np.zeros((versions_number*T,4))\n",
    "\n",
    "volume_sampling_fro_list = []\n",
    "projection_dpp_fro_list = []\n",
    "p_eff_list = []\n",
    "cardinal_list = []\n",
    "cov_1 = np.diag(np.concatenate(([100,10,0.1,0.1,0.1,0.1],cov_test)))\n",
    "static_list = list(range(10,21))\n"
   ]
  },
  {
   "cell_type": "code",
   "execution_count": 515,
   "metadata": {},
   "outputs": [
    {
     "name": "stdout",
     "output_type": "stream",
     "text": [
      "t\n",
      "0\n",
      "next\n",
      "t\n",
      "1\n",
      "next\n",
      "t\n",
      "2\n",
      "next\n",
      "t\n",
      "3\n",
      "next\n",
      "t\n",
      "4\n",
      "next\n",
      "t\n",
      "5\n",
      "next\n",
      "t\n",
      "6\n",
      "next\n",
      "t\n",
      "7\n",
      "next\n"
     ]
    }
   ],
   "source": [
    "volume_sampling_fro_list = []\n",
    "projection_dpp_fro_list = []\n",
    "effective_kernel_fro_list = []\n",
    "p_eff_list = []\n",
    "cardinal_list = []\n",
    "for t in range(T):\n",
    "    print(\"t\")\n",
    "    print(t)\n",
    "    random_cardinal_list = list(np.random.choice(static_list, 3))\n",
    "    NAL_1 = Numrerical_Analysis_DPP(N,real_dim,r,k,versions_number,mean,cov_1,lv_scores_vector,random_cardinal_list)\n",
    "\n",
    "\n",
    "    projection_DPP_res_fro_1 = NAL_1.get_expected_error_fro_for_projection_DPP()\n",
    "    volume_sampling_res_fro_1 = NAL_1.get_expected_error_fro_for_volume_sampling()\n",
    "    effective_kernel_sampling_res_fro_1 = NAL_1.get_expected_error_fro_for_effective_kernel_sampling()\n",
    "\n",
    "#    upper_tight_bound_projection_DPP_res_fro_1 = NAL_1.get_tight_upper_bound_error_fro_for_projection_DPP()\n",
    "\n",
    "#    alpha_sum_res_1 = NAL_1.get_alpha_sum_k_leverage_scores(1)\n",
    "\n",
    "\n",
    "#    sum_U_res_1 = NAL_1.get_sum_k_leverage_scores()\n",
    "    p_eff_res_1 = NAL_1.get_p_eff_leverage_scores()\n",
    "    \n",
    "    effective_kernel_fro_list.append(list(effective_kernel_sampling_res_fro_1))\n",
    "    \n",
    "    volume_sampling_fro_list.append(list(volume_sampling_res_fro_1))\n",
    "    projection_dpp_fro_list.append(list(projection_DPP_res_fro_1))\n",
    "    p_eff_list.append(list(p_eff_res_1))\n",
    "    cardinal_list.append(random_cardinal_list) \n",
    "    print(\"next\")\n"
   ]
  },
  {
   "cell_type": "code",
   "execution_count": 516,
   "metadata": {
    "collapsed": true
   },
   "outputs": [],
   "source": [
    "flattened_cardinal_list= [item for items in cardinal_list for item in items]\n",
    "flattened_p_eff_list= [item for items in p_eff_list for item in items]\n"
   ]
  },
  {
   "cell_type": "code",
   "execution_count": 517,
   "metadata": {},
   "outputs": [
    {
     "data": {
      "image/png": "iVBORw0KGgoAAAANSUhEUgAAAY0AAAFsCAYAAAAwv+X2AAAABHNCSVQICAgIfAhkiAAAAAlwSFlz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\niIhINFUaIiISTZWGiIhEU6UhIiLR/h9s4cZsJn28YAAAAABJRU5ErkJggg==\n",
      "text/plain": [
       "<matplotlib.figure.Figure at 0x1110da860>"
      ]
     },
     "metadata": {},
     "output_type": "display_data"
    }
   ],
   "source": [
    "theoretical_projection_DPP_error_bound_list = from_p_eff_to_error_bound(flattened_cardinal_list,k,real_dim)\n",
    "\n",
    "\n",
    "\n",
    "fig, ax = plt.subplots()\n",
    "\n",
    "line = mlines.Line2D([0, 1], [0, 1], color='red')\n",
    "transform = ax.transAxes\n",
    "line.set_transform(transform)\n",
    "ax.add_line(line)\n",
    "\n",
    "plt.xlim(1, 4)\n",
    "plt.ylim(1, 4)\n",
    "\n",
    "\n",
    "plt.scatter(theoretical_projection_DPP_error_bound_list,projection_dpp_fro_list )\n",
    "plt.scatter(theoretical_projection_DPP_error_bound_list,volume_sampling_fro_list)\n",
    "#plt.scatter(border_array,border_array)\n",
    "plt.xlabel('Theoretical upper bound for projection DPP', fontsize=12)\n",
    "plt.ylabel('Expectations of approximation error using projection DPP ', fontsize=12)\n",
    "plt.show()\n"
   ]
  },
  {
   "cell_type": "code",
   "execution_count": 518,
   "metadata": {},
   "outputs": [
    {
     "data": {
      "image/png": "iVBORw0KGgoAAAANSUhEUgAAAY0AAAFyCAYAAAAJY4YdAAAABHNCSVQICAgIfAhkiAAAAAlwSFlz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\nRK5CYII=\n",
      "text/plain": [
       "<matplotlib.figure.Figure at 0x1118fa278>"
      ]
     },
     "metadata": {},
     "output_type": "display_data"
    }
   ],
   "source": [
    "theoretical_effective_kernel_error_bound_list = from_p_eff_to_error_bound_2(flattened_p_eff_list,k,real_dim)\n",
    "\n",
    "\n",
    "fig, ax = plt.subplots()\n",
    "\n",
    "line = mlines.Line2D([0, 1], [0, 1], color='red')\n",
    "transform = ax.transAxes\n",
    "line.set_transform(transform)\n",
    "ax.add_line(line)\n",
    "\n",
    "plt.scatter(theoretical_effective_kernel_error_bound_list,effective_kernel_fro_list)\n",
    "plt.xlim(1, 4)\n",
    "plt.ylim(1, 4)\n",
    "plt.scatter(theoretical_effective_kernel_error_bound_list,volume_sampling_fro_list)\n",
    "#plt.scatter(border_array,border_array)\n",
    "plt.xlabel('Theoretical upper bound for effective kernel', fontsize=12)\n",
    "plt.ylabel('Expectations of approximation error using effective kernel ', fontsize=12)\n",
    "plt.show()"
   ]
  },
  {
   "cell_type": "code",
   "execution_count": null,
   "metadata": {
    "collapsed": true
   },
   "outputs": [],
   "source": []
  },
  {
   "cell_type": "markdown",
   "metadata": {},
   "source": [
    "### The case k = 2, ultra-smooth spectrum\n"
   ]
  },
  {
   "cell_type": "code",
   "execution_count": 519,
   "metadata": {
    "collapsed": true
   },
   "outputs": [],
   "source": [
    "T = 8 # The number of experiments\n",
    "versions_number = 3 \n",
    "k = 2\n",
    "emperical_results = np.zeros((versions_number*T,4))\n",
    "\n",
    "volume_sampling_fro_list = []\n",
    "projection_dpp_fro_list = []\n",
    "p_eff_list = []\n",
    "cardinal_list = []\n",
    "cov_1 = np.diag(np.concatenate(([0.1,0.1,0.1,0.1,0.1,0.1],cov_test)))\n",
    "static_list = list(range(10,21))\n"
   ]
  },
  {
   "cell_type": "code",
   "execution_count": 520,
   "metadata": {},
   "outputs": [
    {
     "name": "stdout",
     "output_type": "stream",
     "text": [
      "t\n",
      "0\n",
      "next\n",
      "t\n",
      "1\n",
      "next\n",
      "t\n",
      "2\n",
      "next\n",
      "t\n",
      "3\n",
      "next\n",
      "t\n",
      "4\n",
      "next\n",
      "t\n",
      "5\n",
      "next\n",
      "t\n",
      "6\n",
      "next\n",
      "t\n",
      "7\n",
      "next\n"
     ]
    }
   ],
   "source": [
    "volume_sampling_fro_list = []\n",
    "projection_dpp_fro_list = []\n",
    "effective_kernel_fro_list = []\n",
    "p_eff_list = []\n",
    "cardinal_list = []\n",
    "for t in range(T):\n",
    "    print(\"t\")\n",
    "    print(t)\n",
    "    random_cardinal_list = list(np.random.choice(static_list, 3))\n",
    "    NAL_1 = Numrerical_Analysis_DPP(N,real_dim,r,k,versions_number,mean,cov_1,lv_scores_vector,random_cardinal_list)\n",
    "\n",
    "\n",
    "    projection_DPP_res_fro_1 = NAL_1.get_expected_error_fro_for_projection_DPP()\n",
    "    volume_sampling_res_fro_1 = NAL_1.get_expected_error_fro_for_volume_sampling()\n",
    "    effective_kernel_sampling_res_fro_1 = NAL_1.get_expected_error_fro_for_effective_kernel_sampling()\n",
    "\n",
    "#    upper_tight_bound_projection_DPP_res_fro_1 = NAL_1.get_tight_upper_bound_error_fro_for_projection_DPP()\n",
    "\n",
    "#    alpha_sum_res_1 = NAL_1.get_alpha_sum_k_leverage_scores(1)\n",
    "\n",
    "\n",
    "#    sum_U_res_1 = NAL_1.get_sum_k_leverage_scores()\n",
    "    p_eff_res_1 = NAL_1.get_p_eff_leverage_scores()\n",
    "    \n",
    "    effective_kernel_fro_list.append(list(effective_kernel_sampling_res_fro_1))\n",
    "    \n",
    "    volume_sampling_fro_list.append(list(volume_sampling_res_fro_1))\n",
    "    projection_dpp_fro_list.append(list(projection_DPP_res_fro_1))\n",
    "    p_eff_list.append(list(p_eff_res_1))\n",
    "    cardinal_list.append(random_cardinal_list) \n",
    "    print(\"next\")\n"
   ]
  },
  {
   "cell_type": "code",
   "execution_count": 521,
   "metadata": {
    "collapsed": true
   },
   "outputs": [],
   "source": [
    "flattened_cardinal_list= [item for items in cardinal_list for item in items]\n",
    "flattened_p_eff_list= [item for items in p_eff_list for item in items]\n"
   ]
  },
  {
   "cell_type": "code",
   "execution_count": 522,
   "metadata": {},
   "outputs": [
    {
     "data": {
      "image/png": "iVBORw0KGgoAAAANSUhEUgAAAY0AAAFsCAYAAAAwv+X2AAAABHNCSVQICAgIfAhkiAAAAAlwSFlz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\n",
      "text/plain": [
       "<matplotlib.figure.Figure at 0x1108306a0>"
      ]
     },
     "metadata": {},
     "output_type": "display_data"
    }
   ],
   "source": [
    "theoretical_projection_DPP_error_bound_list = from_p_eff_to_error_bound(flattened_cardinal_list,k,real_dim)\n",
    "\n",
    "\n",
    "\n",
    "fig, ax = plt.subplots()\n",
    "\n",
    "line = mlines.Line2D([0, 1], [0, 1], color='red')\n",
    "transform = ax.transAxes\n",
    "line.set_transform(transform)\n",
    "ax.add_line(line)\n",
    "\n",
    "plt.xlim(1, 4)\n",
    "plt.ylim(1, 4)\n",
    "\n",
    "\n",
    "plt.scatter(theoretical_projection_DPP_error_bound_list,projection_dpp_fro_list )\n",
    "plt.scatter(theoretical_projection_DPP_error_bound_list,volume_sampling_fro_list)\n",
    "#plt.scatter(border_array,border_array)\n",
    "plt.xlabel('Theoretical upper bound for projection DPP', fontsize=12)\n",
    "plt.ylabel('Expectations of approximation error using projection DPP ', fontsize=12)\n",
    "plt.show()\n"
   ]
  },
  {
   "cell_type": "code",
   "execution_count": 523,
   "metadata": {},
   "outputs": [
    {
     "data": {
      "image/png": "iVBORw0KGgoAAAANSUhEUgAAAY0AAAFyCAYAAAAJY4YdAAAABHNCSVQICAgIfAhkiAAAAAlwSFlz\nAAALEgAACxIB0t1+/AAAIABJREFUeJzt3XeYFFXWx/HvYRgQFEWENSGoa8SEipjWnLPvrmvYVVZR\nETOurjnnnBVEMYCioigigphARFcURSQZkEVRUFEBRRAEzvvHrdGmnR5uz3RPd8/8Ps/Tz1RXV1ef\nmu7pM1X33nPN3REREYnRoNABiIhI6VDSEBGRaEoaIiISTUlDRESiKWmIiEg0JQ0REYmmpCEiItGU\nNEREJJqShoiIRFPSEBGRaEoaIiISTUlDRESiNcz0gJldGbMDd780d+GIiEgxy5g0gLVqLQoRESkJ\nptLoIiISq6ozjaWY2UbA34FV3f00M9sQaOzuH+YtOhERKSpRDeFm9nfgDWBNoFOyuhlwa57iEhGR\nIhR1ecrMJgFHuvtYM5vl7iubWTkw3d1b5T1KEREpCrFdbv8EVFyG8pSfahAREalHYpPGe8AxaeuO\nBN7JbTgiIlLMYi9PbQS8BPwP2A4YDmwA7O3un+YzQBERKR7RXW7NrClwINAWmAYMcve5eYxNRESK\njMZpiIhItKhxGma2DnAN0B5YIfUxd2+Th7hERKQIxQ7u6wt8BpwNzMtfOCIiUsxiG8J/BJq7+5L8\nhyQiIsUqtsvtCGDLfAYiIiLFL/by1FTgRTN7Fvg69QGVRhcRqT9ik8bywCCgnKVLpqvrlYhIPbLM\nNg0zawDsCrzp7gtqIygRESlOsQ3hP7l7s1qIR0REilh0Q7iZbZfXSEREpOjFtml8Dgwxs+cIJUR+\nOz1RQ7iISP0RmzSaAAOS5dZ5ikVERIqcak+JiEg0zREuIiLRNEe4iIhE0xzhIiISTXOEi4hINM0R\nLiIi0TRHuIiIRNMc4SIiEi32TGNndx9RyfrO7v5gXiITEZGiE9um8aiZbZ26wsy6ApfkPiQRESlW\nsUnjH8AzZrYxgJmdAZwD7JavwEREpPhk06axL9Ad6Af8H7CHu0/LY2wiIlJkMiYNM1u3ktWHA2cS\nyolMB3D3KXmLTkREikpVSWMJYfCeVfJwxXp397L8hSciIsVEVW5FRCRabEO4iIiIkoaIiMRT0hAR\nkWhKGiIiEi06aZhZuZntZGZHJPeXN7Pl8xeaiIgUm9jaU5sBA4EFQGt3X8HM9gf+5e5H5DlGEREp\nErFJYyRwn7v3SZm5b3ngE3dfM+9RiohIUYhNGrOAFu7uZvaDu7dI1v+2LCIidV9sm8ZUIL3KbUdg\ncq4DEhGR4tUwcrtLgBfMrAfQyMwuALoCJ+YtMhERKTrZVLndkpAkKmbuu9/d38tjbCIiUmRi2zRa\nuvt3tRCPiIgUsdg2jS/MbLCZ/VNjM0RE6q/YpNEGGAScDHxtZo+b2UFmFtsmIiIidUDWpdHNrC1w\nFGEK2NXdvVU+AhMRkeJTndpTfwJWBVoCs3MbjoiIFLOopGFm7czsKjObDAxIVh/q7uvnLzQRESk2\n2YwI7w88Dgxz9yX5DkxERIpPbNJo5O4LayEeEREpYhl7P5nZMe7eJ7l7tJlVup27P5iPwEREpPhk\nPNMws8Huvn+yPCzD893dd89XcCIiUlyy7nIrIiL1V2zvqTEZ1o/ObTgiIlLMYsdprJe+wkIjx7rZ\nvJiZlZnZGDMbVNn+zOxOM5tsZh+a2VbZ7FtERPKvyjIgZtY7WWyUslxhbWBClq93JjAJWLGSx/YD\n1k9u2wLdk58iIlIkllU76rMMyw68CTwV+0Jm1ho4ALgG+HclmxwC9PbQyPK2mTU3s9XdfUbsa4iI\nSH5VmTTc/QoAM3vb3YfW8LVuB84FmmV4fE3CPB0VvkzWLZU0zKwL0AVg+eWX33qjjTaqYVgiIvXA\nN9/AV1+BGe8tWfJddesGxlap3TKZD/zdihXJdK+7uvuNy3qymR0IfOvu75nZrtUJtIK79wR6AnTo\n0MFHj1ZbvIhIRuPHw/HHw5dfwkEHQffuWOvWn1d3d7EN4WcCE9PWTQS6RT5/R+BgM5sKPAHsbmaP\npm3zFbBWyv3WyToREcnWwoVwxRWw1VYwZQo8/jg89xysuWaNdhubNBoBv6aHBCwX82R3v8DdW7v7\n2sCRwGvufnTaZgOBTkkvqu2AOWrPEBGphnfega23hssvh7//HSZNgiOPhAyVPbIRmzTeA05JW9cV\neL8mL25mXc2sa3J3MDAFmAzcX8nriYhIVebNg3POge23h1mz4Pnn4bHHoGXLnL1EbMHCTYCXCY3S\nnwF/BlYD9nL39MtWtUZtGiIiiWHD4IQTwqWorl3h+uthpZUq3dTM3nP3DtV5maiGcHefYGYbAAcS\n2h2eAQa5+9zqvKiIiOTInDnwn//A/ffDeuvB8OGwyy55e7noOb7dfa6ZvQms6e5v5y0iERGJ8/zz\n4azi669D4rj8cmjaNK8vGVt7qk2SMD4CXknWHWZmD+QzOBERqcTMmXDUUXDwwbDKKjBqFNx4Y94T\nBsQ3hN8HvEAYmFfRi+plYK98BCUiIpVwh759YeONoX9/uPJKGD0aOlSreaJaYi9PdQQOcPclZuYA\n7j7HzCpvZRERkdyaNg1OPhleeAG22w4eeAA22aTWw4g90/iGtEq3ZtYO+CLnEYmIyO+WLIEePUKC\nGDYMbr8dRo4sSMKA+KRxMzDIzI4DGprZUcCTwA15i0xEpL779FPYffdwhtGxI4wbB2eeCWVlBQsp\ntsvtg2b2PXASoahgJ+ASdx+Qz+BEROqlRYvgttvg0kuhcWPo1QuOOy4nI7prKmPSMLMn3f2IZPk4\nd38IeK7WIhMRqY8+/DAUGBw9Gg45BO69F9ZYo9BR/aaqy1P7JLPzAdxRG8GIiNRbCxaEM4utt4Yv\nvoB+/eDZZ4sqYUDVl6feAP5rZp8Ay1Uycx8A7t4pL5GJiNQXb78dzi4mToRjjgmXplZZpdBRVaqq\npPF34DCgLWGmvs+q2FZERLL1889w8cVwxx3QujUMHgz77VfoqKpUVdI4wd3vhlCwsGIWPxERyYFX\nXoETT4SpU+HUU+G666BZpolNi0dVbRrXpCwfmO9ARETqhdmzw6WovfaC8nIYMQLuvrskEgZUfaYx\nxcxuASYA5WbWubKN3P3BvEQmIlLXDBgAp5wC334L558fGr6bNCl0VFmpKmkcAZwLHAWUA8dUso0D\nShoiIlX55hs4/XR46inYYotQnXbrrQsdVbVkTBru/glwAoCZverue9RaVCIidYE7PPoodOsGc+fC\nNdeEEubl5YWOrNpiR4TvYWblwHbAGu7+pJktnzz2cz4DFBEpSV98ASedBC++CDvsEEZ1b7RRoaOq\nsdj5NDYFPiHM3d0rWb0LujQlIrK0JUvgnntCQcE33oA77ww/60DCgPiChT2AS919I36fT+N14C95\niUpEpBR9/HGYavW002D77WH8+NCW0SD2q7b4xR7JJsCjyXLFfBo/A6XV7C8ikg+LFsH114dG7vHj\n4aGHYOhQWHvtQkeWc7GTME0FtgZGV6wws47A5DzEJCJSOj74IIy7eP99+Otfw6Wp1VYrdFR5E3um\ncQnwgpldATQyswuAp4CL8xaZiEgx++UXuOiiMNXqV1/B00+HKVjrcMKAyKTh7oOAfYFWhLaMtsBf\n3f2lPMYmIlKc3nwT2reHa68NBQYnToS//a3QUdWK2MtTuPsY4JQ8xiIiUtzmzoULLwxlP9q0Ce0W\ne+9d6KhqVd1p0hcRyaeXXoJNNw0J47TTQoN3PUsYoKQhIlK1H34IU63usw8st9zvYy9WWKHQkRVE\nrSQNM1vOzN4xs7FmNiFpUE/fZlczm2NmHyS3S2sjNhGRjPr3h3btoE+fcFnqgw9gxx0LHVVBRbdp\n1NACYHd3n5uUIxlpZkPc/e207d5wd5VhF5HC+vrrcAmqf3/YcstQCqR9+0JHVRSikoaZ9SEZ1Jdm\nAfAlMMDdx2Z6vrs7MDe5W57cKtufiEjhuMMjj8BZZ8H8+WHA3tlnQ8Pa+v+6+MVenpoDHAIYIUkY\ncDCwGNiYMJd4lXOFm1mZmX0AfAu87O6jKtlsBzP70MyGmNkmGfbTxcxGm9nomTNnRoYvIrIMU6eG\ndovjjgsN3mPHwnnnKWGkiU0aGwD7u/sx7n6hux8D7Af82d2PBP4KXFjVDtx9sbu3B1oDHZMiiKne\nB9q4++bAXcCADPvp6e4d3L1Dq1atIsMXEclgyRK4666QKP773zCi+/XXYcMNCx1ZUYpNGtsC6WcG\no4GOyfJQQjJYJnefDQwjDBZMXf+ju89NlgcTZgtsGRmfiEj2Jk2CnXaCM84IP8ePDzPr1aECg7kW\n+5v5ALjGzJaD0BsKuAqoaMdYB/gh05PNrJWZNU+WmwB7AR+lbbOamVmy3DGJ7fv4QxERifTrr2E0\nd/v28NFH0Ls3DB4MbdsWOrKiF3ux7l9AX+BHM/sBaEE40/hn8ngLqh4tvjrwiJmVEZJBP3cfZGZd\nAdy9B3AYcLKZLQLmA0cmDegiIrnz/vvQuXNoszj88DDmYtVVCx1VybBsvpfNbC1gDWCGu3+Rt6gi\ndejQwUePHr3sDUVE5s+HK66Am2+GVq2ge3c49NBCR1UQZvaeu3eoznOz7RawAJgJNDSzdQHcfUp1\nXlhEpNa88QaccAJ88kkoY37TTbDyyoWOqiTFjtPYlzDN6+ppDzlQluugRERy4qef4Pzz4d57w4RI\nL78Me+5Z6KhKWmxD+D2Ehu/l3b1Byk0JQ0SK05AhYZ7u7t2hW7fQM0oJo8ZiL0+tDNynhmkRKXrf\nfx9GdPfpAxtvHOa+2H77QkdVZ8SeafQCjstnICIiNeIOTz0VCgw+/jhccgmMGaOEkWOxZxrbAWeY\n2fnA16kPuPvOOY9KRCQb06fDqafCgAGw9dah7WLzzQsdVZ0UmzQeSG4iIsXDHR58MBQVXLAAbrwx\nXJpSvai8ifrNuvsj+Q5ERCQrU6ZAly7w6quw887wwAOw/vqFjqrOy5g0zOwYd++TLHfOtJ27P5iP\nwEREKrV4cSgweNFFUFYWekd16aJ6UbWkqjONo4A+yfIxGbZxQElDRGrHxIlhcN7bb8P++0OPHrDW\nWoWOql7JmDTcff+U5d1qJxwRkUosXAg33ABXXw3NmsFjj8FRR0GocSq1KHZEeCtgfjJdaxnQiTAB\n06PuviSfAYpIPffuu+HsYtw4OPLIUGBQc+kUTOxFwEFARQvTtcA5wL+BW/IRlIgI8+bBuefCdtuF\nAXvPPRfGXyhhFFRsv7QNCHNqQCiHvgNhzu8JwFl5iEtE6rPXXw8FBidPhhNPDAUGV1qp0FEJ8Wca\ni4FGZrYZMCcpiz4bWCFvkYlI/fPjj3DyybDrrmEa1ldfhZ49lTCKSOyZxhCgH7AK8ESyrh3wVT6C\nEpF66IUXoGvXMLr73/+Gq66Cpk0LHZWkiU0aJxBm7/uV37vhtgQuz0NMIlKfzJwZqtD27Ruq0j79\nNGy7baGjkgxiR4QvAHqmrRuej4BEpJ5whyefhNNPhzlz4PLL4YILoFGjQkcmVYjtctuHMJDvD9y9\nU04jEpG676uvQtvF889Dx47Qqxdsummho5IIsQ3hk4HPUm4/A/sBP+QpLhGpi9zh/vtD+fJXXoFb\nboG33lLCKCGxl6euSF9nZr2Ay3IekYjUTZ99FrrPDhsGu+0Wksef/1zoqCRLNanw9QGwS64CEZE6\navHicEax2Wbw3nuhC+2rryphlKjYNo3d01Y1BY4EJuY8IhGpO8aPh86dQymQgw4KFWnXXLPQUUkN\nxHa57ZV2/2fCmcZRuQ1HROqEhQvh2mvDrXlzeOIJOPxwFRisA2LbNNbJdyAiUke88044u5gwAf75\nT7j9dmjZstBRSY5o1hIRyY1588K0q9tvH8ZdDBoEjz6qhFHHaCJdEam5YcNCgcEpU0IpkBtugBVX\nLHRUkge1cqZhZsuZ2TtmNtbMJphZZV14zczuNLPJZvahmW1VG7GJSA3Mnh2mWt199zDd6vDhobFb\nCaPOWmbSMLMGZra7mdVkbP8CYHd33wJoD+xrZtulbbMfYc6O9YEuQPcavJ6I5NvAgaFWVK9eYd6L\nDz+EXdQLv65bZtJIZuZ7zt0XVvdFPJib3C1PbullSQ4Beifbvg00N7PVq/uaIpIn334bZtA75BBY\nZRUYNSpcjmrSpNCRSS2IvTw1opIzg6yYWZmZfQB8C7zs7qPSNlkTmJZy/8tkXfp+upjZaDMbPXPm\nzJqEJCLZcA9zc7drB88+G0qXjx4NHToUOjKpRbEN4Z8DQ8zsOcIX+29nCe5+acwO3H0x0N7MmgPP\nmtmm7j4+24DdvSdJxd0OHTpUWkRRRHJs2rRQYPCFF8L0q716heQh9U7smUYTYAAhWbQG1kpurbN9\nQXefDQwD9k176KtknxVao0meRApryRLo0SO0XQwbFsZcjByphFGPxQ7uO64mL2JmrYBf3X22mTUB\n9gJuSNtsIHCamT0BbEuYVnZGTV5XRGrg009DN9oRI2DPPUPNqHU0zre+ix6nYWbrE8qGrEk4A3jc\n3T+NfPrqwCNmVkY4u+nn7oPMrCuAu/cABgP7E8qwzwNqlKhEpJoWLYJbb4XLLoPGjcOlqOOOUwkQ\nAeILFh4EPAYMIrRvbAiMNrNj3H3gsp7v7h8CW1ayvkfKsgOnRsYtIvkwdiwcf3yoRnvooXDPPbDG\nGoWOSopI7JnGtcAh7j6sYoWZ7QrcTbisJCKlbMECuPpquP56aNEC+vWDww7T2YX8QWzSaA28kbZu\nJNVoCBeRIvPf/4azi0mToFOncGlqlVUKHZUUqdjeUx8AZ6et+3eyXkRK0dy50K0b7LhjWB48GB55\nRAlDqhR7pnEKMNDMziSM01iL0Fh9UL4CE5E8evnlUDNq6lQ49VS47jpo1qzQUUkJiE0aHwMbA9sB\nawDTgVHu/mu+AhORPJg1C845Bx58EDbYIHSn3WmnQkclJWSZSSPpJjsXaO7uI/MfkojkxbPPwimn\nwMyZcP75oUvtcssVOiopMTEFCxcDnwC60ClSir75Jky1+te/wmqrhZn1rrtOCUOqJfby1GPAIDO7\ng1BIMLX21Gv5CExEasgd+vQJjd0//wzXXAP/+Q+Ulxc6MilhsUnj5OTn5WnrHVg3Z9GISG58/nmY\nQe/FF2GHHcKo7o02KnRUUgfEJo31kstUIlLMliwJM+edf34407jrrtCO0aBWJumUeiC6IdzMmrv7\nglqISUSq4+OPQ4HBkSNh773hvvtg7bULHZXUMWoIFyl1v/4ayn9ssQVMmAAPPxwuSylhSB6oIVyk\nlI0ZE0qAjBkDf/sb3H136CElkidqCBcpRb/8EqZbveEGaNkSnn46JA2RPIudhEkzr4gUizffDGcX\nH38Mxx4Lt9wSKtOK1ILoLhVmVm5mO5nZEcn95c1s+fyFJiJL+eknOP30UPbjl19g6FB46CElDKlV\nUUnDzDYjNIbfD/RKVu8CPJinuEQk1dChsOmmYVKk00+H8eNDDymRWhZ7ptEduNTdNwIqihS+Dvwl\nL1GJSPDDD+ES1L77QtOm8MYbcMcdsMIKhY5M6qnYpLEJ8Giy7ADu/jPQJB9BiQjQvz+0awePPgoX\nXRR6SO24Y6GjknouNmlMBbZOXWFmHYHJuQ5IpN6bMSP0hDrssDA/9+jRYSpWFRiUIhCbNC4BXjCz\nK4BGZnYB8BRwcd4iE6lv3MPAvHbt4IUXwoC9d96B9u0LHZnIb6KShrsPAvYFWhHaMtoCf3X3l/IY\nm0j9MXUq7LMPHHccbLYZjB0L550HDWOHUonUjuhPpLuPIUz7KiK5snhx6BF14YVgFpa7dlWBQSla\n+jdGpFAmTQoFBt96K/SOuu8+aNOm0FGJVEn/zojUtl9/DRMitW8PH30EvXvD4MFKGFISdKYhUpve\nfx86dw5tFocfDnfeCauuWuioRKLpTEOkNsyfHyZG6tgxzNn97LPw5JNKGFJyos40zKwFcA7QHlhq\nKKq77xzx/LWA3sCqhMGBPd39jrRtdgWeA/6XrHrG3a+MiU+kqI0YEdouPv00FBq86SZYeeVCRyVS\nLbGXp/oCjYF+wLxqvM4i4Gx3f9/MmgHvmdnL7j4xbbs33P3AauxfpPj8+CNccAHcey+ssw688grs\nsUehoxKpkdiksQPQqrrTvbr7DGBGsvyTmU0C1gTSk4ZI3TBkCJx0Enz5JXTrFkZ0L6+i0FL6Yts0\nPgRa5+IFzWxtYEtgVCUP72BmH5rZEDPbJBevJ1Krvv8eOnWC/feHZs1Cd9rbblPCkDoj9kzjNeBF\nM3sI+Dr1AXePLo9uZisA/YFu7v5j2sPvA23cfa6Z7Q8MANavZB9dgC4AbdRFUYqFOzz1FJx2Gsya\nBZdcEooMNm5c6MhEcsrcfdkbmQ3L8JC7++5RL2RWDgwChrr7rRHbTwU6uPt3mbbp0KGDjx49Oubl\nRfJn+nQ45RR47jnYemt48EHYfPNCRyWSkZm95+4dqvPc2Oled6vOziuYmREmb5qUKWGY2WrAN+7u\nSQXdBsD3NXldkbxyDwni7LNhwYLQK6pbN9WLkjot+tNtZisDBxEasL8Cnnf3WZFP3xE4BhhnZh8k\n6y4E2gC4ew/gMOBkM1sEzAeO9JjTIJFCmDIFTjwRXnsNdtkFHngA1luv0FGJ5F3sOI3tgReAj4DP\ngQOB283sAHf/77Ke7+4jAVvGNncDd8fEI1IwixfDXXeF9oqyMujRIyQPFRiUeiL2TON24BR3f6Ji\nhZkdAdwJbJOPwESKzoQJYXDeqFFwwAEhYbTOSadCkZIR++/RBoSBfameBnQ+LnXfwoVw5ZWw5ZYw\neTI89hg8/7wShtRLsUnjU+DItHV/Bz7LbTgiRebdd6FDB7jssjD96qRJ8I9/hLkvROqh2MtT3YBB\nZnYGoU1jbcIYCpX8kLpp3ryQKG69FVZfHQYOhIMOKnRUIgUX2+X2LTP7M3AAsAbwPDDY3X/IZ3Ai\nBTF8eGjcnjwZunSBG2+ElVYqdFQiRSGb6V5nAY/mMRaRwpozJ8zLfd998Oc/h+60u9VoiJJInZMx\naZjZi+6+b7L8BqGk+R/ElEYXKXovvBAKDM6YEQbrXXklNG1a6KhEik5VZxq9U5YfyHcgIgUxc2YY\nxd23L2y6KTzzTJgoSUQqlTFpuHvflLsfufsfqtIm5T5ESo87PPEEnHFGuCx1+eVh7otGjQodmUhR\ni+1y+3KG9S/mKhCRWvPll3DwwaHr7Lrrhnm7L7tMCUMkQpVJw8wamFlZWDRL7lfc1ifMyCdSGpYs\ngZ49YZNN4NVXQ3fat94Kl6VEJMqyek8t4vcG8PQEsQS4JucRieTD5MmhG+3w4aFH1P33hx5SIpKV\nZSWNdQiFBl8HUntJOTDT3efnKzCRnFi8GG6/PUyKVF4eksXxx2tEt0g1VZk03P3zZLFtLcQiklvj\nxoUE8e67YTR39+6w5pqFjkqkpGUzn8bBwC5AS1LKnLt7pzzEJVJ9CxbAtdeG28orh15Shx+uswuR\nHIjqPWVmlwH3Jdv/nTCj3j7A7PyFJlINo0aFKVevvBKOPBImToQjjlDCEMmR2C63nYG93P0sYGHy\n8yBC4UKRwvv5Z/j3v2H77cO4i0GDoE8faNmy0JGJ1Cmxl6eau/v4ZHmhmZW7+ztmtku+AhOJ9tpr\noWfUlClw8slw/fWw4oqFjkqkToo90/jMzDZJlscT5vI+BoidI1wk92bPDslijz3CdKvDh8O99yph\niORR7JnGxcAqyfIFwGPACsAp+QhKZJmeey6cVXzzDZx7bigD0qRJoaMSqfNi59MYnLI8Ck3zKoXy\n7behXtSTT8Lmm4fJkTp0KHRUIvVGNl1umxKSxQqp6939rVwHJfIH7mFu7jPPhLlz4aqrwtwX5eWF\njkykXolKGmbWCbgbWAikjgJ3oE0e4hL53bRp0LUrDB4M220HvXpBu3aFjkqkXoo907gR+Ju7Z6p2\nK5J7S5aEWfTOO+/3ciCnnQZlZYWOTKTeik0aC4HheYxDZGmffBJ6Ro0YAXvuGarTrrNOoaMSqfdi\nu9xeAtxqZhopJfm1aBHceCNssQWMHRsuRb30khKGSJGITRqfAAcD35jZ4uS2xMwW5zE2qW/GjoVt\ntw2Xo/bdN5QA6dxZJUBEikjs5ak+hDnDn2TphnCRmluwAK6+OozkbtECnnoK/vY3JQuRIhSbNFYB\nLnV3X+aWlTCztQhJZ1VCj6ue7n5H2jYG3AHsD8wDjnX396vzelJC/vvfUL580iTo1CnMprfKKst+\nnogUROzlqYeAY2rwOouAs929HbAdcKqZpfeZ3A9YP7l1AbrX4PWk2M2dC926wY47hmKDQ4bAI48o\nYYgUudgzjY7AaWZ2EfBN6gPuvnPlT1lqmxnAjGT5JzObBKwJTEzZ7BCgd3I287aZNTez1ZPnSl3y\n8svQpQtMnQqnngrXXQfNmhU6KhGJEJs07k9uNWZmawNbAqPSHloTmJZy/8tk3VJJw8y6EM5EaNNG\n4wpLyqxZcPbZ8NBDsMEGoTvtTjsVOioRyUJs7alHcvFiZrYC0B/o5u4/Vmcf7t4T6AnQoUOHarWx\nSAE8+yyccgrMnAkXXACXXgrLLVfoqEQkSxmThpkd4+59kuXOmbZz9wdjXsjMygkJ4zF3f6aSTb4C\n1kq53zpZJ6Xs66/h9NPh6aehfXt44QXYaqtCRyUi1VTVmcZRhK62kLkR3IFlJo2kZ1QvYJK735ph\ns4GEdpMngG2BOWrPKGHuYea8bt1g3rwwX/c556jAoEiJy5g03H3/lOXdavg6OxISzzgz+yBZdyFJ\nsUN37wEMJnS3nUzocntcDV9TCuXzz+Gkk2DoUNhhhzCqe6ONCh2ViORAbJXbnd19RCXrj3L3x5f1\nfHcfCVQ5UivpNXVqTDxSpJYsge7d4fzzw5nGXXeFdowGsT27RaTYxf41P21mNyTtEiTdYZ8Ershf\naFJSPv4Ydt45VKHdYQcYPz4sK2GI1Cmxf9Htk9u7ZnY8MA6YTeg6K/XZr7+GcRZbbBFqRT38MLz4\nIqy9dqEB2ONLAAAfD0lEQVQjE5E8iEoa7j4dODTZvicwxN1Pcvef8xmcFLkxY0KBwQsvhIMOCknj\nX/9SzSiROiwqaZhZe+BdYAph5PbuZtbXzJrnMzgpUr/8EhLFNtvA9OnQv38oMrjaaoWOTETyLPby\n1KvAbe5+qLsPArYgVLsdl7fIpDi9+WYYb3HddaHA4KRJ8Ne/FjoqEaklsWVEtnH3KRV3kstSx5vZ\nwfkJS4rOTz+Fs4t77oE2bUJ32r33LnRUIlLLYsuITDGzhsAOhHpQXwFvufvAfAYnRWLo0FBgcNq0\nMLr7mmtghRUKHZWIFEDsOI2NgOeBJoSigmsBv5jZge7+UR7jk0L64Qc46yzo3TsMzhs5MnSnFZF6\nK7ZN415Cr6m13H17d28N9EBzXtRdTz8NG28MffvCRReFnlJKGCL1XmybRntgr7SZ+24HLsp9SFJQ\nM2aEQXnPPBMKCw4dGhq+RUSIP9OYDuyStm6nZL3UBe5hnot27UIl2uuvh1GjlDBEZCmxZxoXAgPN\nbBDwOdAWOAA4Ol+BSS363/9CQ/crr4RJkR54IEySJCKSJnZE+EBCyZDxQLPk59bu/lweY5N8W7wY\n7rwTNt0U3n47dKcdPlwJQ0QyWuaZhpmVEQb37ePuV+c/JKkVkybB8cfDf/8L++0HPXqE8RciIlVY\n5pmGuy8G1onZVkrAr7+GcRbt24fKtH36hDYMJQwRiRCbCK4AuptZWzMrM7MGFbd8Bic59t570KED\nXHwxHHpoONs4+mgVGBSRaLFf+g8AnQgFCxcCvwKLkp9S7ObPh/POCxVpZ86EZ5+FJ5+EP/2p0JGJ\nSImJ7T21Tl6jkPwZMQJOOAE+/TS0Ydx8MzRXcWIRqZ7Y2lOfA5iZAS2B79IG+kmx+fHHMO1q9+6w\nzjqhO+0eexQ6KhEpcbHzaTQ3sz7AL8A3wHwz62NmLfIanVTP4MGhG22PHqF21LhxShgikhOxbRoP\nEYoVtgdWIIzZaAw8mKe4pDq++w6OOQYOOACaNYO33oJbb4Xlly90ZCJSR8S2aewOrObu85P7k8zs\nWFRGpDi4h5nzTjsNZs2CSy8Nc180blzoyESkjolNGh8BawOTUta1AT7OdUCSpenT4ZRT4LnnQnfa\nV16BzTcvdFQiUkfFJo1XgZeSdo2K+TSOBvqYWeeKjdxdl6tqizv06gXnnAMLFsBNN0G3btAw9i0V\nEcle7DfM9sDk5Of2ybrPCDP5VUyy4KiNo3ZMmQInngivvQa77BIKDK63XqGjEpF6ILbL7W75DkQi\nVBQYvOiicEZx331hDEYDDcwXkdoRfS3DzJoTyqGvQWgAH+zus/IVmKSZMCEMzhs1KvSO6tEDWrcu\ndFQiUs/EjtPYHZgKnAFsA5wO/M/Mojr/m9mDZvatmY3P8PiuZjbHzD5IbpfGhV8PLFwIV14JW24J\nn30Wpl99/nklDBEpiNgzjbuBLu7er2KFmf0duAfYKOL5Dyf76F3FNm+4+4GR8dQP774LnTvD+PFw\n1FFwxx3QqlWhoxKReiz2YvgaQP+0dc8Cq8U82d1HAD9kEVf9Nm9e6BW13XZh3MXAgeEMQwlDRAos\nNmn0AU5NW3cyVZ85ZGsHM/vQzIaY2SaZNjKzLmY22sxGz5w5M4cvXySGDw/jLG65JfSQmjABDjqo\n0FGJiADxSWNL4BYz+9LMRpnZl8AtwJZmNqLiVoM43gfauPvmwF3AgEwbuntPd+/g7h1a1aX/vOfM\ngZNOgt2SjmqvvRYau1daqbBxiYikiG3TuD+55YW7/5iyPNjM7jWzlu7+Xb5es6gMGgRdu8KMGeGy\n1BVXQNOmhY5KROQPYsdpPJLPIMxsNeAbd3cz60g4A/o+n69ZFGbOhDPPhMcfD1Vpn3kGOnYsdFQi\nIhllM05jVaAjYT6N3+YHjSkdYmaPA7sCLZNLW5cB5cnzewCHASeb2SJgPnBknZ6vwz0kijPOCPNe\nXHFFmPuiUaNCRyYiUqWopGFmhwKPAp8CmwATgE2BkUSUDnH3o5bx+N2ELrl135dfwsknh0tSHTuG\n+lGbblroqEREosQ2hF8NHOfuWwI/Jz+7AO/lLbK6ZsmSUPajXTt49dUwz8VbbylhiEhJiU0abdz9\nqbR1jwCdchxP3TR5cpg5r2tX2GabMFjvrLOgrKzQkYmIZCU2aXybtGkATDWz7YE/A/rWq8qiRXDz\nzbDZZvD++3D//WG+i3XXLXRkIiLVkk2X278QRoXfBgwDlhDGakhlxo0LBQbffRcOPhjuvRfWXLPQ\nUYmI1Ehsl9sbUpZ7m9lwYHl3n5T5WfXUggVw7bXhtvLK8MQTcPjhYLbs54qIFLlqTfPm7l/kOpA6\n4e23w9nFxIlw9NFw223QsmWhoxIRyRnN3pMLP/8M//437LBDGHfxwgvQp48ShojUOZpQuqZefTUU\nFvzf/8L4i+uvhxVXLHRUIiJ5kfFMw8wOTlkur51wSsjs2SFZ7LlnmHr19ddDY7cShojUYVWdaTwK\nVHwDfp+yLM89F84qvvkGzj0XLr8cmjQpdFR5NWDMV9w09GOmz57PGs2b8J99NuTQLdUbTKS+qSpp\nfG1mpwETgYZmthspNacquPtr+Qqu6HzzTagX1a9fmPNi4EDo0KHQUVXp4gHjeHzUNBa7U2bGUduu\nxdWHbpbVPgaM+YoLnhnH/F8XA/DV7Plc8Mw4ACUOkXqmqqRxLHAlcCbQiMprTDlQ90equcNjj4WK\ntHPnwlVXwXnnQXlxX7W7eMA4Hn37945ui91/u59N4rhp6Me/JYwK839dzE1DP1bSEKlnMiYNd38L\n2BPAzCa7+3q1FlUx+eKLUP5jyBDYfnt44IFQP6oEPD5qWsb12SSN6bPnZ7V+WXSpS6R0xQ7uWw/A\nzNoAawJfunvl30h1RUWBwXPPDct33AGnnlpS9aIWu3Nwg5Gc27Afa9h3TPeW3LjocAYu+UtW+2ne\ntJydfhn2h/28sdxuWceUy0tduUw+ubiMJ1IfxJZGXw14Etie0Ci+ipm9TZj3Ynoe4yuMTz6BE06A\nN94IvaN69oR11il0VFk7pGwkNzXsSSNbBEBr+46by3sS7h4QvZ9dfhnGDeX30dgW/7afm8rv47xf\nAPbOKqZcXeoaMOYrXu9/D082eJI1Gn/H9HktuaX/EcCpWSeOiweM48d3+vJ6eUpSfOdwLuYf1Uoc\nSkBSl8UO7usBjAVWdvfVgZWBMcn6umPRIrjxRthii1A76sEH4aWXaj1hDBjzFTte/xrrnP8CO17/\nGgPGfFWt/VzWsPdvCaNCI1vEZQ17Z7WfSxr2/i1hVGhsi7kky/1AOLM4uMFIRjY6gymN/8HIRmdw\ncIORfJXlpa5Rz/XgmrL7ad3gOxoYtG7wHdeU3c+o57L/SP70Tl9uKe++1L5uKe/OT+/0zXpfFe1I\ni5M5xCrakS4eMC7rfYkUo9jBfX8BVnf3XwHc/WczOxeo3rdZMRo7Fjp3DtVo/+//4J57YPXVaz2M\nXF6+WZm5Wa3PpIVVvn2m9VU5tOxNbmj4x7OWBouMbM5+Tl3Sl6YNFi61rqkt5NQlfYGrsorp6oa9\nKLelJ4osN+fqhr2A67La1+OjpnFFwwf5Z9lrlLGExTTgscW7c+Wo43W2IXVC7JnGLCC99XdDYHZu\nwymAX36Biy8OXWe//BKeegr69y9IwoBw+Wavxa8v9Z/4Xotf56ahHxcknly7pOyRys9ayrKbhn4N\n+y6r9VVZwRZktb4ql5b1olPZKzS0JZhBQ1tCp7JXuLSsV9b7EilGsWcaNwKvmFkv4HOgLXAccEm+\nAqsVb70VCgx+9BH8619wyy2wyioFDanDjy9zXfkDNLXwX3Rr+47ryx/ggh8Bds9qX26VDKypYn1t\nyNVZyxIa0IAlGdYXzj/LXvtDQWOzsF6kLoj6+3L3+4EjgJbAQcnPf7h7zzzGlj9z54YxF3/5C8yb\nBy++CA8/XPCEAXBBo6d+SxgVmtpCLmiUPnHismVKDFknjJztKHfK7I8Jo6r1taVY4xLJleiChcnI\n79L/d+nll6FLF5g6FU47Lcx70axZoaP6zapUfnkl0/qq5Oy73jM8yStZtyw5CsqtAeZ//CJ2a5D1\n8c2zxizPHy9FhfXZMSsDX1z5epE6oP6URp81KzR07703NG4cutPedVdRJQwAW6l1Vuur1KRFdusz\nyeGZxsLylbJan0mDShJGVeurMnGrq1jkSx/MIjcmbpVdgzoAWx+b3XqRElM/ksYzz4RR3L17wwUX\nwAcfhEtTxWiPS6E8rfhheZOwPlv73QAN0kqdNCgP67OQqy96gMYH3cxiW/oEd7E1pPFBN2e3o5XW\nym59FbY5+CTGbH0DX9OKJW58TSvGbH0D2xx8Utb74sBbocPxUHFmYWXh/oG3Zr8vkSJk7tW5xlAc\nOnTo4KNHj868wddfh0tQ/ftD+/bQqxdstVXtBVhdH/aDV6+EOV/CSq1Dwtj88MLt68N+LH72ZMr8\n9zEfi60hZf/XvXpx5Sgmnj8Dfk0Z31HeBA66s/q/K5F6wszec/dqVVutVtIwsybAEnfPvk9iDmVM\nGu7hrOKss0JD92WXwTnnFH2BwaKWy0RWl2MSKQF5TxpmdjPQz93fMbMDgKcJzaBHuPvz1XnhXKg0\naXz+OZx0EgwdCjvuGAoMbrRRYQIUESlCNUkasW0a/wTGJ8uXAkcDBwPXVudF82LJErj7bthkExg5\nMjRyjxihhCEikkOxSaOpu88zs1WAdd29v7u/Qhjkt0xm9qCZfWtm4zM8bmZ2p5lNNrMPzSy7hoeP\nPoKdd4bTTw8N3BMmhLaMBvWjnV9EpLbEfqt+Ymb/BE4DXgYws5ZAbJW5h4F9q3h8P2D95NYF6B61\nV/cwzmKLLWDixDBAb8gQaBuVy0REJEuxg/tOAe4AFgLHJ+v2AV6KebK7jzCztavY5BCgt4cGlrfN\nrLmZre7uM6rc8aRJcNFFcNhh4XLUaqvFhCMiItVUa11uk6QxyN03reSxQcD17j4yuf8qcJ67/6Fr\nlJl1IZyNAGzK720tdVFLqMZQ8NKh4ytddfnYoO4f34buXq2RzdFlRMxsQ2ALYIXU9e5e2dzheZPU\nu+qZxDS6uj0ASoGOr7TV5eOry8cG9eP4qvvc2Jn7LiT0mhoLzEt5yIFcJI2vgNShvK2pS3N1iIjU\nEbFnGt2Aju7+YZ7iGAicZmZPANsCc5bZniEiIrUuNmnMBz6q7ouY2ePArkBLM/sSuAwoB3D3HsBg\nYH9gMuFM5rjIXZdmafZ4Or7SVpePry4fG+j4MoodEd4J2BG4HPgm9TH3apQVFRGRkhSbNCoSQ+rG\nBri7a6IAEZF6Ivby1Dp5jUJEREpC7HSvn7v758A0wgC/aSnr8irvJUgKLOL4djWzOWb2QXKrxsQa\nhWNma5nZMDObaGYTzOzMSrYpyfcw8thK9v0zs+XM7B0zG5sc3xWVbFOS7x1EH1/Jvn8AZlZmZmOS\nsXDpj1XvvXP3Zd6AFYHehISxBFgAPAKsFPP8mtyAnYGtgPEZHt8fGEK4XLYdMCrfMdXy8e1KGBRZ\n8FireXyrA1sly82AT4B2deE9jDy2kn3/kvdjhWS5HBgFbFcX3rssjq9k378k/n8DfSs7huq+d7G1\np+4ElieMwG4CbAY0TdbnlbuPAH6oYpPfSpC4+9tAczNbPd9x5UrE8ZU0d5/h7u8nyz8Bk4A10zYr\nyfcw8thKVvJ+zE3ulie39EbQknzvIPr4SpaZtQYOAB7IsEm13rvYpLEvcIy7f+LuC9z9E0K32KqK\nENaWNQmXzSp8SR36w03skJw+DjGzTQodTHUlpWS2JPxHl6rk38Mqjg1K+P1LLm98AHwLvOzudeq9\nizg+KN3373bgXMLVocpU672LTRq/AK3S1rUkXKaS/HofaOPumwN3AQMKHE+1mNkKQH+gm7v/WOh4\ncmkZx1bS75+7L3b39oQqDR3N7A+140pZxPGV5PtnZgcC37r7e7ned2zSeAB42cy6mtl+ZtYVGEpx\nDICp0yVI3P3HilNodx8MlCdl6UuGmZUTvlQfc/dnKtmkZN/DZR1bXXj/ANx9NjCMP15dKNn3LlWm\n4yvh929H4GAzmwo8AexuZo+mbVOt9y42aVwDXA8cBtyS/LwxWV9oA4FOSU+A7ahjJUjMbDUzs2S5\nI+E9+76wUcVLYu8FTHL3WzNsVpLvYcyxlfL7Z2atzKx5stwE2Is/VoYoyfcO4o6vVN8/d7/A3Vu7\n+9rAkcBr7n502mbVeu+ixml4aGp/kNwUJ8yK5a8ESVGIOL7DgJPNbBGhnMuRyftRKnYEjgHGJdeO\nAS4E2kDJv4cxx1bK79/qwCNmVkb4suzn7oOSKw2l/t5B3PGV8vv3B7l47zKOCDezY9y9T7LcOdMO\nvJZLo4uISOFUlTQGu/v+yfKwDM93d989X8GJiEhxqbWZ+0REpPRFNYSb2ZgM66s9+5OIiJSe2N5T\n66WvSHoUrJvbcEREpJhV2XvKzHoni41SliusDUzIR1AiIlKclnWm8VlyS13+jNBF6zFC7RJZBjO7\nvJKBNUXBzNqY2dyk22FN9jPczE7IVVy1xcyONbORhY4DwMzczP5wVp88tqqZjTCzn8zsllqIZUcz\n+zT5bByaz9e3UGF21xzvc+3k9xk7/UPelOrfRiZV/kLd/QoAM3vb3YfWTkilx8zmptxtSiivsji5\nf1LtR5RZMkL0BHd/BcDdvwBWKGhQEqML8B2wYi2NE7gSuNvd7wAws0ty8fpm9jDwpbtfXLHO3Uup\nnlO9Fzu4b6iZNQI2JNScspTHXstTbCXD3X/70k3/Uk7WXV4bcZhZQ3dfVBuvVYpK/PfTFphYnS/s\nah53W5a+/Fzt1y9lSdutuaa1/l16rfTKbsBfgBmEEt6Lkp+/AlNinl+fbsBUYM+0dZcD/QhzkvxE\n+GPskPL4GoT6RTOB/wFnpDzWmFCtcnpyux1onDy2K6Ey5XnA10CfZP2BwAfAbOAtYPNkfR9Cxcv5\nwFxCBcy1CeWgGybbtAAeSl5rFjAgWb8yMCiJcVay3DolzuGEZFnZ7+Rh4OqU+7sS/ttM/Z1dAExM\n9v0QsFzaMV5I+E93KvDPtN/PzcAXhPnrewBNqvr9pMV2LPAmcDcwh1BGYo+092Zg8pmfDJyY5XGd\nA3yY7PvJiuNKHv8P4e9qOtA5eR/Wy/D7+5Uwn81cYE+q8bmoZL+dCeXcZxFqybVN1n/G0p+Txyt5\n/QbA+cm23xM+3y3SvjPeInwGpyW/5y5p+3k+9W8m+V3PT9vPlsn7Xl5VzJUc29os/bn+W/I6myb3\nt0uJbyywa9pn+ZrkczGf0BFoOHBVsu4n4CWgZcpzlrW/Sv82SvEW+0X4LnBWsjwr+XkpcE6hD6DY\nbmROGr8QhuyXAdcBbyePNQDeS36fjQg90qYA+ySPXwm8DfyJUGn4LeCq5LFdCUn8BsKXSJPkj+xb\nYNvktf6VxNS4svgq+eN6gfDltjKhnMkuyfpVkj+8poQJh54iSSjJ4xn/MIj7ch1PKJ7WIvnDvDrt\nGG9NjnEX4Gdgw+Tx2whf6i2SuJ4Hrsv0+6kktmOTbc5KjvcIwhd8i+TxEcC9wHJAe0LS3D2L43qH\n8GXYgvBl1zV5bF9CktuUMFdNXzIkjQyvldXnopL9HUJIghsTrjhcDLyV6XNcyeufmbx+6+Q17gMe\nTx5rS/hiPSr5na4CtK9sP+mvBbzG0on5JqBHTMxp+1w7+X02JJTHmFzxuyWU//6e8PfYgFBz6nug\nVcpn+Qtgk+T55cm6z4ANCH9nw4Hrs9hfvUsac4AGyXJF0mgEfFXoAyi2W/ofW7LucuCVlPvtgPnJ\n8rbAF2nbXwA8lCx/Buyf8tg+wNRkeVfCf22p/712J/nySFn3Mb9/+ad/GaT+ca1O+A9z5YjjbF/x\nWUjuZ/zDSP+ioPIv164p9/cHPkvZdhGwfMrj/YBLCJdJfwb+nPLY9sD/Mv1+KontWMJ/6pay7h1C\nTam1CG1TzVIeuw54OIvjOjrl/o38/gX4IMmXTnJ/A7JLGll9LirZ3xDg+JT7DQj1h9pm+Jykv/4k\nlj4jW51wFtGQ8Pl9NuY40l8LOIFQXI/k/Z0G7BwTc9o+105+n+cQzmBTz4rPI+3si3DW8q+Uz/KV\naY8PBy5OuX8K8GIW+6szSSN2nMYcwpSvADPMrB3hP1E1oMb7OmV5HrBc0rOjLbCGmc2uuBEuxaya\nbLsGkDoX++fJugoz3f2XlPttgbPT9rdW2nMyWQv4wd1npT9gZk3N7D4z+9zMfiT8B968pr2uUqRO\nBpN+jLPc/edKHm9FOPN5L+VYX2TpuV/Sfz+V+cqTv+60/a9B+H38lPZYNpMMpb/vFX8za/DHY85G\ntp+LdG2BO1J+bz8QvqRjj60t8GzK8ycREuyqhM/RZ1U9uQr9ge0tzCC3M+GfmDdqEPN/gHvc/cu0\n2P+e9jfyF0Liq5D63lTI9F7G7K/OiO2O9gzhv7++hP+QhhH+q3g6T3HVJ9MI/xmvn+Hx6SzdKNkm\nWVfB07afBlzj7pnK1qdvn/7cFmbW3MP8AqnOJnSE2Nbdvzaz9sAYUjpFVOFnwpd7hdUq2Sa1rn/6\nMa5sZsunJI42hMtZ3xGuOW/i7pnmAajqeCusaWaWkjjaEC55TSf8PpqlJI42/D7nQMxxZTKDPx5z\nNrL9XKSr+Jw8luXrpj6/s7u/mf6AmU0DOmZ4XpVxufssM3uJcJlwY+CJlPelOjHvDbxoZl+7e/+U\n/fRx9xOrCiWL14jZX50Rdabh7t3cvW+yfDPh2vaJhFNJqZl3gJ/M7Dwza2Jh+slNzWyb5PHHgYuT\n2v8tCW0fVY35uB/oambbJnXylzezA8ysWfL4N2QYye+hlv4Q4F4zW9nMys1s5+ThZoQv6Nlm1oJQ\nwj3WB8D+ZtbCzFYDulWyzalm1jrZ90WEdpVUV5hZIzPbidDQ/5SHHi33A7eZ2Z8AzGxNM9sni9gg\ntAuckRzv3wlfVoPdfRqhreA6M1vOzDYHjuf333/McWXSDzjWzNqZWVOy+31C9p+LdD2ACyyZvtTM\nVkqOPZvnX2NmbZPntzKzinFbjwF7mtnhZtbQzFZJ/smAKj5/KfoCnQhlyfvWMOYJhPaje8zs4GTd\no8BBZrZP8ve2nJntamFO7erI9f6KWmztqTtT77v7SHcfQmiElBpw98WEL8H2hJ5T3xFmSlwp2eRq\nYDShB844wvSTV1exv9GEhH43oYfJZMJ1+wrXEb5sZpvZOZXs4hjCWeRHhAb1ii/C2wkNgN8RGkBf\nzOIw+xB6lEwl9DpJTwgQvhxeInQC+Iylj/Hr5FimE76Qurp7xWQ55yXH+HZy2ewVwhlRNkYB6xOO\n7RrgMHevmGjnKML18enAs8Bl/nt36pjjqlTy93M7oeF3cvIzG1l9Lip5/WcJDeVPJL+38cB+Wbz+\nHYSzsZfM7CfCZ2LbZN9fEK5MnE24hPQBsEXyvF5Au+Tzl2nq1IGE9+Nrdx9b05iTfRwI3G9m+yX/\nDBxCuAw8k3Cm8B/iyyql7z+n+yt2UVVuzexHd1+xkvXfu/sqeYlM6o3KxrakPLYr8Ki718n/2kRK\nzbJqT1VMvtTQ/jgR07qE/8xERKSeWFZD+DHJz0YpyxAaib4hjAEQEZF6Ivby1NWeUitGRETqp9iG\nmhFmtkHqCjPb0Mz2ykNMIiJSpGKTxj2EsgCpfkrWi4hIPRF7eWqOu6+Uts6AOZX1qhIRkbop9kxj\nipntnrZuV8K4AhERqSdiy4hcDjxjZr0IA6/+TKgceVye4hIRkSIUdXkKwMw6EmrZr0UY8djL3d/N\nY2wiIlJkopOGiIhIbO2pxmZ2jZlNMbM5ybq9zey0/IYnIiLFJLYh/DbCDGP/5PeSwROAk/MRlIiI\nFKfYLrczCDOK/WxmP7h7i2T9bHdvnu8gRUSkOMSeaSwkraeVmbUizIMrIiL1RGzSeAp4xMzWAUim\nYrwbeCJfgYmISPGJTRoXEgbyjQOaA58SJqW5Ik9xiYhIEcq6y21yWeo7V19dEZF6J5vBfesDhwNr\nEM4y+rn7p3mMTUREikzsOI1/AGOAzYGfgc2A95P1IiJST8R2uZ0CHOvuI1LW7QT0cfe18xeeiIgU\nk9ikMRNYw91/TVlXDkx391Z5jE9ERIpIbO+pW4FrzWw5ADNrAlyTrBcRkXoi9kxjGrAaoYTILGBl\nwIAZqdu5e5s8xCgiIkUidj6No/MahYiIlIQalUY3s/LUdg4REanbYrvcvpyUDkldtzkwOi9RiYhI\nUYptCH8fGGtmh1twPjAc6J63yEREpOhkMyJ8J6A3oQF8OtDJ3SfnMTYRESkysWcaAOsAKwIzgeWB\n5fISkYiIFK3YNo2nCZVu93X3bYCewAgz+08+gxMRkeISe6bxLbClu78L4O73ANsBh+UrMBERKT41\n7XJb5u6LcxiPiIgUsSrPNMzszrT7x6dt0i/nEYmISNGq8kzDzH509xVT7v/g7i0yPS4iInXbsto0\nbBn3RUSkHllW0kg/DdEUryIi9diyChY2NLPd+P0MI/1+Wd4iExGRorOsNo2pLOPswt3XyXFMIiJS\npGrU5VZEROqXbMqIiIhIPaekISIi0ZQ0REQkmpKGiIhEU9IQEZFo/w+XKAKEDWybIQAAAABJRU5E\nrkJggg==\n",
      "text/plain": [
       "<matplotlib.figure.Figure at 0x111682358>"
      ]
     },
     "metadata": {},
     "output_type": "display_data"
    }
   ],
   "source": [
    "theoretical_effective_kernel_error_bound_list = from_p_eff_to_error_bound_2(flattened_p_eff_list,k,real_dim)\n",
    "\n",
    "\n",
    "fig, ax = plt.subplots()\n",
    "\n",
    "line = mlines.Line2D([0, 1], [0, 1], color='red')\n",
    "transform = ax.transAxes\n",
    "line.set_transform(transform)\n",
    "ax.add_line(line)\n",
    "\n",
    "plt.scatter(theoretical_effective_kernel_error_bound_list,effective_kernel_fro_list)\n",
    "plt.scatter(theoretical_effective_kernel_error_bound_list,volume_sampling_fro_list)\n",
    "plt.xlim(1, 4)\n",
    "plt.ylim(1, 4)\n",
    "#plt.scatter(border_array,border_array)\n",
    "plt.xlabel('Theoretical upper bound for effective kernel', fontsize=12)\n",
    "plt.ylabel('Expectations of approximation error using effective kernel ', fontsize=12)\n",
    "plt.show()"
   ]
  },
  {
   "cell_type": "code",
   "execution_count": null,
   "metadata": {
    "collapsed": true
   },
   "outputs": [],
   "source": []
  },
  {
   "cell_type": "markdown",
   "metadata": {},
   "source": [
    "### The case k = 3, projection spectrum"
   ]
  },
  {
   "cell_type": "code",
   "execution_count": 524,
   "metadata": {
    "collapsed": true
   },
   "outputs": [],
   "source": [
    "T = 8 # The number of experiments\n",
    "versions_number = 3 \n",
    "k = 3\n",
    "emperical_results = np.zeros((versions_number*T,4))\n",
    "\n",
    "volume_sampling_fro_list = []\n",
    "projection_dpp_fro_list = []\n",
    "p_eff_list = []\n",
    "cardinal_list = []\n",
    "cov_1 = np.diag(np.concatenate(([100,100,100,0.1,0.1,0.1],cov_test)))\n",
    "static_list = list(range(10,21))\n"
   ]
  },
  {
   "cell_type": "code",
   "execution_count": 525,
   "metadata": {},
   "outputs": [
    {
     "name": "stdout",
     "output_type": "stream",
     "text": [
      "t\n",
      "0\n",
      "next\n",
      "t\n",
      "1\n",
      "next\n",
      "t\n",
      "2\n",
      "next\n",
      "t\n",
      "3\n",
      "next\n",
      "t\n",
      "4\n",
      "next\n",
      "t\n",
      "5\n",
      "next\n",
      "t\n",
      "6\n",
      "next\n",
      "t\n",
      "7\n",
      "next\n"
     ]
    }
   ],
   "source": [
    "volume_sampling_fro_list = []\n",
    "projection_dpp_fro_list = []\n",
    "effective_kernel_fro_list = []\n",
    "p_eff_list = []\n",
    "cardinal_list = []\n",
    "for t in range(T):\n",
    "    print(\"t\")\n",
    "    print(t)\n",
    "    random_cardinal_list = list(np.random.choice(static_list, 3))\n",
    "    NAL_1 = Numrerical_Analysis_DPP(N,real_dim,r,k,versions_number,mean,cov_1,lv_scores_vector,random_cardinal_list)\n",
    "\n",
    "\n",
    "    projection_DPP_res_fro_1 = NAL_1.get_expected_error_fro_for_projection_DPP()\n",
    "    volume_sampling_res_fro_1 = NAL_1.get_expected_error_fro_for_volume_sampling()\n",
    "    effective_kernel_sampling_res_fro_1 = NAL_1.get_expected_error_fro_for_effective_kernel_sampling()\n",
    "\n",
    "#    upper_tight_bound_projection_DPP_res_fro_1 = NAL_1.get_tight_upper_bound_error_fro_for_projection_DPP()\n",
    "\n",
    "#    alpha_sum_res_1 = NAL_1.get_alpha_sum_k_leverage_scores(1)\n",
    "\n",
    "\n",
    "#    sum_U_res_1 = NAL_1.get_sum_k_leverage_scores()\n",
    "    p_eff_res_1 = NAL_1.get_p_eff_leverage_scores()\n",
    "    \n",
    "    effective_kernel_fro_list.append(list(effective_kernel_sampling_res_fro_1))\n",
    "    \n",
    "    volume_sampling_fro_list.append(list(volume_sampling_res_fro_1))\n",
    "    projection_dpp_fro_list.append(list(projection_DPP_res_fro_1))\n",
    "    p_eff_list.append(list(p_eff_res_1))\n",
    "    cardinal_list.append(random_cardinal_list) \n",
    "    print(\"next\")\n"
   ]
  },
  {
   "cell_type": "code",
   "execution_count": 526,
   "metadata": {
    "collapsed": true
   },
   "outputs": [],
   "source": [
    "flattened_cardinal_list= [item for items in cardinal_list for item in items]\n",
    "flattened_p_eff_list= [item for items in p_eff_list for item in items]\n"
   ]
  },
  {
   "cell_type": "code",
   "execution_count": 527,
   "metadata": {},
   "outputs": [
    {
     "data": {
      "image/png": "iVBORw0KGgoAAAANSUhEUgAAAY0AAAFsCAYAAAAwv+X2AAAABHNCSVQICAgIfAhkiAAAAAlwSFlz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\n",
      "text/plain": [
       "<matplotlib.figure.Figure at 0x110e4f9e8>"
      ]
     },
     "metadata": {},
     "output_type": "display_data"
    }
   ],
   "source": [
    "theoretical_projection_DPP_error_bound_list = from_p_eff_to_error_bound(flattened_cardinal_list,k,real_dim)\n",
    "\n",
    "\n",
    "\n",
    "fig, ax = plt.subplots()\n",
    "\n",
    "line = mlines.Line2D([0, 1], [0, 1], color='red')\n",
    "transform = ax.transAxes\n",
    "line.set_transform(transform)\n",
    "ax.add_line(line)\n",
    "\n",
    "plt.xlim(1, 5)\n",
    "plt.ylim(1, 5)\n",
    "\n",
    "\n",
    "plt.scatter(theoretical_projection_DPP_error_bound_list,projection_dpp_fro_list )\n",
    "plt.scatter(theoretical_projection_DPP_error_bound_list,volume_sampling_fro_list)\n",
    "#plt.scatter(border_array,border_array)\n",
    "plt.xlabel('Theoretical upper bound for projection DPP', fontsize=12)\n",
    "plt.ylabel('Expectations of approximation error using projection DPP ', fontsize=12)\n",
    "plt.show()\n"
   ]
  },
  {
   "cell_type": "code",
   "execution_count": 528,
   "metadata": {},
   "outputs": [
    {
     "data": {
      "image/png": "iVBORw0KGgoAAAANSUhEUgAAAY0AAAFyCAYAAAAJY4YdAAAABHNCSVQICAgIfAhkiAAAAAlwSFlz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\nhoiIRFPSEBGRaEoaIiISTUlDRESi/X9YkLhNKnJF9wAAAABJRU5ErkJggg==\n",
      "text/plain": [
       "<matplotlib.figure.Figure at 0x111990320>"
      ]
     },
     "metadata": {},
     "output_type": "display_data"
    }
   ],
   "source": [
    "theoretical_effective_kernel_error_bound_list = from_p_eff_to_error_bound_2(flattened_p_eff_list,k,real_dim)\n",
    "\n",
    "\n",
    "fig, ax = plt.subplots()\n",
    "\n",
    "line = mlines.Line2D([0, 1], [0, 1], color='red')\n",
    "transform = ax.transAxes\n",
    "line.set_transform(transform)\n",
    "ax.add_line(line)\n",
    "\n",
    "plt.scatter(theoretical_effective_kernel_error_bound_list,effective_kernel_fro_list)\n",
    "plt.scatter(theoretical_effective_kernel_error_bound_list,volume_sampling_fro_list)\n",
    "plt.xlim(1, 5)\n",
    "plt.ylim(1, 5)\n",
    "#plt.scatter(border_array,border_array)\n",
    "plt.xlabel('Theoretical upper bound for effective kernel', fontsize=12)\n",
    "plt.ylabel('Expectations of approximation error using effective kernel ', fontsize=12)\n",
    "plt.show()"
   ]
  },
  {
   "cell_type": "markdown",
   "metadata": {},
   "source": [
    "### The case k = 3, smooth spectrum\n"
   ]
  },
  {
   "cell_type": "code",
   "execution_count": 529,
   "metadata": {
    "collapsed": true
   },
   "outputs": [],
   "source": [
    "T = 8 # The number of experiments\n",
    "versions_number = 3 \n",
    "k = 3\n",
    "emperical_results = np.zeros((versions_number*T,4))\n",
    "\n",
    "volume_sampling_fro_list = []\n",
    "projection_dpp_fro_list = []\n",
    "p_eff_list = []\n",
    "cardinal_list = []\n",
    "cov_1 = np.diag(np.concatenate(([100,10,1,0.1,0.1,0.1],cov_test)))\n",
    "static_list = list(range(10,21))\n"
   ]
  },
  {
   "cell_type": "code",
   "execution_count": 530,
   "metadata": {},
   "outputs": [
    {
     "name": "stdout",
     "output_type": "stream",
     "text": [
      "t\n",
      "0\n",
      "next\n",
      "t\n",
      "1\n",
      "next\n",
      "t\n",
      "2\n",
      "next\n",
      "t\n",
      "3\n",
      "next\n",
      "t\n",
      "4\n",
      "next\n",
      "t\n",
      "5\n",
      "next\n",
      "t\n",
      "6\n",
      "next\n",
      "t\n",
      "7\n",
      "next\n"
     ]
    }
   ],
   "source": [
    "volume_sampling_fro_list = []\n",
    "projection_dpp_fro_list = []\n",
    "effective_kernel_fro_list = []\n",
    "p_eff_list = []\n",
    "cardinal_list = []\n",
    "for t in range(T):\n",
    "    print(\"t\")\n",
    "    print(t)\n",
    "    random_cardinal_list = list(np.random.choice(static_list, 3))\n",
    "    NAL_1 = Numrerical_Analysis_DPP(N,real_dim,r,k,versions_number,mean,cov_1,lv_scores_vector,random_cardinal_list)\n",
    "\n",
    "\n",
    "    projection_DPP_res_fro_1 = NAL_1.get_expected_error_fro_for_projection_DPP()\n",
    "    volume_sampling_res_fro_1 = NAL_1.get_expected_error_fro_for_volume_sampling()\n",
    "    effective_kernel_sampling_res_fro_1 = NAL_1.get_expected_error_fro_for_effective_kernel_sampling()\n",
    "\n",
    "#    upper_tight_bound_projection_DPP_res_fro_1 = NAL_1.get_tight_upper_bound_error_fro_for_projection_DPP()\n",
    "\n",
    "#    alpha_sum_res_1 = NAL_1.get_alpha_sum_k_leverage_scores(1)\n",
    "\n",
    "\n",
    "#    sum_U_res_1 = NAL_1.get_sum_k_leverage_scores()\n",
    "    p_eff_res_1 = NAL_1.get_p_eff_leverage_scores()\n",
    "    \n",
    "    effective_kernel_fro_list.append(list(effective_kernel_sampling_res_fro_1))\n",
    "    \n",
    "    volume_sampling_fro_list.append(list(volume_sampling_res_fro_1))\n",
    "    projection_dpp_fro_list.append(list(projection_DPP_res_fro_1))\n",
    "    p_eff_list.append(list(p_eff_res_1))\n",
    "    cardinal_list.append(random_cardinal_list) \n",
    "    print(\"next\")\n"
   ]
  },
  {
   "cell_type": "code",
   "execution_count": 531,
   "metadata": {
    "collapsed": true
   },
   "outputs": [],
   "source": [
    "flattened_cardinal_list= [item for items in cardinal_list for item in items]\n",
    "flattened_p_eff_list= [item for items in p_eff_list for item in items]\n"
   ]
  },
  {
   "cell_type": "code",
   "execution_count": 532,
   "metadata": {},
   "outputs": [
    {
     "data": {
      "image/png": "iVBORw0KGgoAAAANSUhEUgAAAY0AAAFsCAYAAAAwv+X2AAAABHNCSVQICAgIfAhkiAAAAAlwSFlz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\n",
      "text/plain": [
       "<matplotlib.figure.Figure at 0x111a2a240>"
      ]
     },
     "metadata": {},
     "output_type": "display_data"
    }
   ],
   "source": [
    "theoretical_projection_DPP_error_bound_list = from_p_eff_to_error_bound(flattened_cardinal_list,k,real_dim)\n",
    "\n",
    "\n",
    "\n",
    "fig, ax = plt.subplots()\n",
    "\n",
    "line = mlines.Line2D([0, 1], [0, 1], color='red')\n",
    "transform = ax.transAxes\n",
    "line.set_transform(transform)\n",
    "ax.add_line(line)\n",
    "\n",
    "plt.xlim(1, 5)\n",
    "plt.ylim(1, 5)\n",
    "\n",
    "\n",
    "plt.scatter(theoretical_projection_DPP_error_bound_list,projection_dpp_fro_list )\n",
    "plt.scatter(theoretical_projection_DPP_error_bound_list,volume_sampling_fro_list)\n",
    "#plt.scatter(border_array,border_array)\n",
    "plt.xlabel('Theoretical upper bound for projection DPP', fontsize=12)\n",
    "plt.ylabel('Expectations of approximation error using projection DPP ', fontsize=12)\n",
    "plt.show()\n"
   ]
  },
  {
   "cell_type": "code",
   "execution_count": 534,
   "metadata": {},
   "outputs": [
    {
     "data": {
      "image/png": "iVBORw0KGgoAAAANSUhEUgAAAY0AAAFyCAYAAAAJY4YdAAAABHNCSVQICAgIfAhkiAAAAAlwSFlz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\nAAAAAElFTkSuQmCC\n",
      "text/plain": [
       "<matplotlib.figure.Figure at 0x11190fcf8>"
      ]
     },
     "metadata": {},
     "output_type": "display_data"
    }
   ],
   "source": [
    "theoretical_effective_kernel_error_bound_list = from_p_eff_to_error_bound_2(flattened_p_eff_list,k,real_dim)\n",
    "\n",
    "\n",
    "fig, ax = plt.subplots()\n",
    "\n",
    "line = mlines.Line2D([0, 1], [0, 1], color='red')\n",
    "transform = ax.transAxes\n",
    "line.set_transform(transform)\n",
    "ax.add_line(line)\n",
    "\n",
    "plt.scatter(theoretical_effective_kernel_error_bound_list,effective_kernel_fro_list)\n",
    "plt.scatter(theoretical_effective_kernel_error_bound_list,volume_sampling_fro_list)\n",
    "plt.xlim(1, 5)\n",
    "plt.ylim(1, 5)\n",
    "#plt.scatter(border_array,border_array)\n",
    "plt.xlabel('Theoretical upper bound for effective kernel', fontsize=12)\n",
    "plt.ylabel('Expectations of approximation error using effective kernel ', fontsize=12)\n",
    "plt.show()"
   ]
  },
  {
   "cell_type": "code",
   "execution_count": null,
   "metadata": {
    "collapsed": true
   },
   "outputs": [],
   "source": []
  },
  {
   "cell_type": "markdown",
   "metadata": {},
   "source": [
    "### The case k = 3, ultra smooth spectrum\n"
   ]
  },
  {
   "cell_type": "code",
   "execution_count": 503,
   "metadata": {
    "collapsed": true
   },
   "outputs": [],
   "source": [
    "T = 8 # The number of experiments\n",
    "versions_number = 3 \n",
    "k = 3\n",
    "emperical_results = np.zeros((versions_number*T,4))\n",
    "\n",
    "volume_sampling_fro_list = []\n",
    "projection_dpp_fro_list = []\n",
    "p_eff_list = []\n",
    "cardinal_list = []\n",
    "cov_1 = np.diag(np.concatenate(([0.1,0.1,0.1,0.1,0.1,0.1],cov_test)))\n",
    "static_list = list(range(10,21))\n"
   ]
  },
  {
   "cell_type": "code",
   "execution_count": 504,
   "metadata": {},
   "outputs": [
    {
     "name": "stdout",
     "output_type": "stream",
     "text": [
      "t\n",
      "0\n",
      "next\n",
      "t\n",
      "1\n",
      "next\n",
      "t\n",
      "2\n",
      "next\n",
      "t\n",
      "3\n",
      "next\n",
      "t\n",
      "4\n",
      "next\n",
      "t\n",
      "5\n",
      "next\n",
      "t\n",
      "6\n",
      "next\n",
      "t\n",
      "7\n",
      "next\n"
     ]
    }
   ],
   "source": [
    "volume_sampling_fro_list = []\n",
    "projection_dpp_fro_list = []\n",
    "effective_kernel_fro_list = []\n",
    "p_eff_list = []\n",
    "cardinal_list = []\n",
    "for t in range(T):\n",
    "    print(\"t\")\n",
    "    print(t)\n",
    "    random_cardinal_list = list(np.random.choice(static_list, 3))\n",
    "    NAL_1 = Numrerical_Analysis_DPP(N,real_dim,r,k,versions_number,mean,cov_1,lv_scores_vector,random_cardinal_list)\n",
    "\n",
    "\n",
    "    projection_DPP_res_fro_1 = NAL_1.get_expected_error_fro_for_projection_DPP()\n",
    "    volume_sampling_res_fro_1 = NAL_1.get_expected_error_fro_for_volume_sampling()\n",
    "    effective_kernel_sampling_res_fro_1 = NAL_1.get_expected_error_fro_for_effective_kernel_sampling()\n",
    "\n",
    "#    upper_tight_bound_projection_DPP_res_fro_1 = NAL_1.get_tight_upper_bound_error_fro_for_projection_DPP()\n",
    "\n",
    "#    alpha_sum_res_1 = NAL_1.get_alpha_sum_k_leverage_scores(1)\n",
    "\n",
    "\n",
    "#    sum_U_res_1 = NAL_1.get_sum_k_leverage_scores()\n",
    "    p_eff_res_1 = NAL_1.get_p_eff_leverage_scores()\n",
    "    \n",
    "    effective_kernel_fro_list.append(list(effective_kernel_sampling_res_fro_1))\n",
    "    \n",
    "    volume_sampling_fro_list.append(list(volume_sampling_res_fro_1))\n",
    "    projection_dpp_fro_list.append(list(projection_DPP_res_fro_1))\n",
    "    p_eff_list.append(list(p_eff_res_1))\n",
    "    cardinal_list.append(random_cardinal_list) \n",
    "    print(\"next\")\n"
   ]
  },
  {
   "cell_type": "code",
   "execution_count": 505,
   "metadata": {
    "collapsed": true
   },
   "outputs": [],
   "source": [
    "flattened_cardinal_list= [item for items in cardinal_list for item in items]\n",
    "flattened_p_eff_list= [item for items in p_eff_list for item in items]\n"
   ]
  },
  {
   "cell_type": "code",
   "execution_count": 506,
   "metadata": {},
   "outputs": [
    {
     "data": {
      "image/png": "iVBORw0KGgoAAAANSUhEUgAAAY0AAAFsCAYAAAAwv+X2AAAABHNCSVQICAgIfAhkiAAAAAlwSFlz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\nAQ6Vgpp7VcecAAAAAElFTkSuQmCC\n",
      "text/plain": [
       "<matplotlib.figure.Figure at 0x11190a278>"
      ]
     },
     "metadata": {},
     "output_type": "display_data"
    }
   ],
   "source": [
    "theoretical_projection_DPP_error_bound_list = from_p_eff_to_error_bound(flattened_cardinal_list,k,real_dim)\n",
    "\n",
    "\n",
    "\n",
    "fig, ax = plt.subplots()\n",
    "\n",
    "line = mlines.Line2D([0, 1], [0, 1], color='red')\n",
    "transform = ax.transAxes\n",
    "line.set_transform(transform)\n",
    "ax.add_line(line)\n",
    "\n",
    "plt.xlim(1, 5)\n",
    "plt.ylim(1, 5)\n",
    "\n",
    "\n",
    "plt.scatter(theoretical_projection_DPP_error_bound_list,projection_dpp_fro_list )\n",
    "#plt.scatter(border_array,border_array)\n",
    "plt.xlabel('Theoretical upper bound for projection DPP', fontsize=12)\n",
    "plt.ylabel('Expectations of approximation error using projection DPP ', fontsize=12)\n",
    "plt.show()\n"
   ]
  },
  {
   "cell_type": "code",
   "execution_count": 507,
   "metadata": {},
   "outputs": [
    {
     "data": {
      "image/png": "iVBORw0KGgoAAAANSUhEUgAAAY0AAAFyCAYAAAAJY4YdAAAABHNCSVQICAgIfAhkiAAAAAlwSFlz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\n",
      "text/plain": [
       "<matplotlib.figure.Figure at 0x111965828>"
      ]
     },
     "metadata": {},
     "output_type": "display_data"
    }
   ],
   "source": [
    "theoretical_effective_kernel_error_bound_list = from_p_eff_to_error_bound_2(flattened_p_eff_list,k,real_dim)\n",
    "\n",
    "\n",
    "fig, ax = plt.subplots()\n",
    "\n",
    "line = mlines.Line2D([0, 1], [0, 1], color='red')\n",
    "transform = ax.transAxes\n",
    "line.set_transform(transform)\n",
    "ax.add_line(line)\n",
    "\n",
    "plt.scatter(theoretical_effective_kernel_error_bound_list,effective_kernel_fro_list)\n",
    "plt.xlim(1, 5)\n",
    "plt.ylim(1, 5)\n",
    "#plt.scatter(border_array,border_array)\n",
    "plt.xlabel('Theoretical upper bound for effective kernel', fontsize=12)\n",
    "plt.ylabel('Expectations of approximation error using effective kernel ', fontsize=12)\n",
    "plt.show()"
   ]
  },
  {
   "cell_type": "markdown",
   "metadata": {},
   "source": [
    "### The case k = 4, projection spectrum"
   ]
  },
  {
   "cell_type": "code",
   "execution_count": 535,
   "metadata": {
    "collapsed": true
   },
   "outputs": [],
   "source": [
    "T = 4 # The number of experiments\n",
    "versions_number = 3 \n",
    "k = 4\n",
    "emperical_results = np.zeros((versions_number*T,4))\n",
    "\n",
    "volume_sampling_fro_list = []\n",
    "projection_dpp_fro_list = []\n",
    "p_eff_list = []\n",
    "cardinal_list = []\n",
    "cov_1 = np.diag(np.concatenate(([100,100,100,100,0.1,0.1],cov_test)))\n",
    "static_list = list(range(10,21))\n"
   ]
  },
  {
   "cell_type": "code",
   "execution_count": 536,
   "metadata": {},
   "outputs": [
    {
     "name": "stdout",
     "output_type": "stream",
     "text": [
      "t\n",
      "0\n",
      "next\n",
      "t\n",
      "1\n",
      "next\n",
      "t\n",
      "2\n",
      "next\n",
      "t\n",
      "3\n",
      "next\n"
     ]
    }
   ],
   "source": [
    "volume_sampling_fro_list = []\n",
    "projection_dpp_fro_list = []\n",
    "effective_kernel_fro_list = []\n",
    "p_eff_list = []\n",
    "cardinal_list = []\n",
    "for t in range(T):\n",
    "    print(\"t\")\n",
    "    print(t)\n",
    "    random_cardinal_list = list(np.random.choice(static_list, 3))\n",
    "    NAL_1 = Numrerical_Analysis_DPP(N,real_dim,r,k,versions_number,mean,cov_1,lv_scores_vector,random_cardinal_list)\n",
    "\n",
    "\n",
    "    projection_DPP_res_fro_1 = NAL_1.get_expected_error_fro_for_projection_DPP()\n",
    "    volume_sampling_res_fro_1 = NAL_1.get_expected_error_fro_for_volume_sampling()\n",
    "    effective_kernel_sampling_res_fro_1 = NAL_1.get_expected_error_fro_for_effective_kernel_sampling()\n",
    "\n",
    "#    upper_tight_bound_projection_DPP_res_fro_1 = NAL_1.get_tight_upper_bound_error_fro_for_projection_DPP()\n",
    "\n",
    "#    alpha_sum_res_1 = NAL_1.get_alpha_sum_k_leverage_scores(1)\n",
    "\n",
    "\n",
    "#    sum_U_res_1 = NAL_1.get_sum_k_leverage_scores()\n",
    "    p_eff_res_1 = NAL_1.get_p_eff_leverage_scores()\n",
    "    \n",
    "    effective_kernel_fro_list.append(list(effective_kernel_sampling_res_fro_1))\n",
    "    \n",
    "    volume_sampling_fro_list.append(list(volume_sampling_res_fro_1))\n",
    "    projection_dpp_fro_list.append(list(projection_DPP_res_fro_1))\n",
    "    p_eff_list.append(list(p_eff_res_1))\n",
    "    cardinal_list.append(random_cardinal_list) \n",
    "    print(\"next\")\n"
   ]
  },
  {
   "cell_type": "code",
   "execution_count": 537,
   "metadata": {
    "collapsed": true
   },
   "outputs": [],
   "source": [
    "flattened_cardinal_list= [item for items in cardinal_list for item in items]\n",
    "flattened_p_eff_list= [item for items in p_eff_list for item in items]\n"
   ]
  },
  {
   "cell_type": "code",
   "execution_count": 538,
   "metadata": {},
   "outputs": [
    {
     "data": {
      "image/png": "iVBORw0KGgoAAAANSUhEUgAAAX8AAAFsCAYAAAAkBrlSAAAABHNCSVQICAgIfAhkiAAAAAlwSFlz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\nQEYAAAAASUVORK5CYII=\n",
      "text/plain": [
       "<matplotlib.figure.Figure at 0x111a52828>"
      ]
     },
     "metadata": {},
     "output_type": "display_data"
    }
   ],
   "source": [
    "theoretical_projection_DPP_error_bound_list = from_p_eff_to_error_bound(flattened_cardinal_list,k,real_dim)\n",
    "\n",
    "\n",
    "\n",
    "fig, ax = plt.subplots()\n",
    "\n",
    "line = mlines.Line2D([0, 1], [0, 1], color='red')\n",
    "transform = ax.transAxes\n",
    "line.set_transform(transform)\n",
    "ax.add_line(line)\n",
    "\n",
    "plt.xlim(1, 6)\n",
    "plt.ylim(1, 6)\n",
    "\n",
    "\n",
    "plt.scatter(theoretical_projection_DPP_error_bound_list,projection_dpp_fro_list )\n",
    "plt.scatter(theoretical_projection_DPP_error_bound_list,volume_sampling_fro_list)\n",
    "#plt.scatter(border_array,border_array)\n",
    "plt.xlabel('Theoretical upper bound for projection DPP', fontsize=12)\n",
    "plt.ylabel('Expectations of approximation error using projection DPP ', fontsize=12)\n",
    "plt.show()\n"
   ]
  },
  {
   "cell_type": "code",
   "execution_count": 540,
   "metadata": {},
   "outputs": [
    {
     "data": {
      "image/png": "iVBORw0KGgoAAAANSUhEUgAAAX8AAAFyCAYAAAAd2tq5AAAABHNCSVQICAgIfAhkiAAAAAlwSFlz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\n/iIiZUjJX0SkDP0/1DZ7uPAVoYAAAAAASUVORK5CYII=\n",
      "text/plain": [
       "<matplotlib.figure.Figure at 0x1112ab7f0>"
      ]
     },
     "metadata": {},
     "output_type": "display_data"
    }
   ],
   "source": [
    "theoretical_effective_kernel_error_bound_list = from_p_eff_to_error_bound_2(flattened_p_eff_list,k,real_dim)\n",
    "\n",
    "\n",
    "fig, ax = plt.subplots()\n",
    "\n",
    "line = mlines.Line2D([0, 1], [0, 1], color='red')\n",
    "transform = ax.transAxes\n",
    "line.set_transform(transform)\n",
    "ax.add_line(line)\n",
    "\n",
    "plt.scatter(theoretical_effective_kernel_error_bound_list,effective_kernel_fro_list)\n",
    "plt.scatter(theoretical_effective_kernel_error_bound_list,volume_sampling_fro_list)\n",
    "plt.xlim(1, 6)\n",
    "plt.ylim(1, 6)\n",
    "#plt.scatter(border_array,border_array)\n",
    "plt.xlabel('Theoretical upper bound for effective kernel', fontsize=12)\n",
    "plt.ylabel('Expectations of approximation error using effective kernel ', fontsize=12)\n",
    "plt.show()"
   ]
  },
  {
   "cell_type": "markdown",
   "metadata": {},
   "source": [
    "### The case k = 4, smooth spectrum\n"
   ]
  },
  {
   "cell_type": "code",
   "execution_count": 541,
   "metadata": {
    "collapsed": true
   },
   "outputs": [],
   "source": [
    "T = 4 # The number of experiments\n",
    "versions_number = 3 \n",
    "k = 4\n",
    "emperical_results = np.zeros((versions_number*T,4))\n",
    "\n",
    "volume_sampling_fro_list = []\n",
    "projection_dpp_fro_list = []\n",
    "p_eff_list = []\n",
    "cardinal_list = []\n",
    "cov_1 = np.diag(np.concatenate(([1000,100,10,1,0.1,0.1],cov_test)))\n",
    "static_list = list(range(10,21))\n"
   ]
  },
  {
   "cell_type": "code",
   "execution_count": 542,
   "metadata": {},
   "outputs": [
    {
     "name": "stdout",
     "output_type": "stream",
     "text": [
      "t\n",
      "0\n",
      "next\n",
      "t\n",
      "1\n",
      "next\n",
      "t\n",
      "2\n",
      "next\n",
      "t\n",
      "3\n",
      "next\n"
     ]
    }
   ],
   "source": [
    "volume_sampling_fro_list = []\n",
    "projection_dpp_fro_list = []\n",
    "effective_kernel_fro_list = []\n",
    "p_eff_list = []\n",
    "cardinal_list = []\n",
    "for t in range(T):\n",
    "    print(\"t\")\n",
    "    print(t)\n",
    "    random_cardinal_list = list(np.random.choice(static_list, 3))\n",
    "    NAL_1 = Numrerical_Analysis_DPP(N,real_dim,r,k,versions_number,mean,cov_1,lv_scores_vector,random_cardinal_list)\n",
    "\n",
    "\n",
    "    projection_DPP_res_fro_1 = NAL_1.get_expected_error_fro_for_projection_DPP()\n",
    "    volume_sampling_res_fro_1 = NAL_1.get_expected_error_fro_for_volume_sampling()\n",
    "    effective_kernel_sampling_res_fro_1 = NAL_1.get_expected_error_fro_for_effective_kernel_sampling()\n",
    "\n",
    "#    upper_tight_bound_projection_DPP_res_fro_1 = NAL_1.get_tight_upper_bound_error_fro_for_projection_DPP()\n",
    "\n",
    "#    alpha_sum_res_1 = NAL_1.get_alpha_sum_k_leverage_scores(1)\n",
    "\n",
    "\n",
    "#    sum_U_res_1 = NAL_1.get_sum_k_leverage_scores()\n",
    "    p_eff_res_1 = NAL_1.get_p_eff_leverage_scores()\n",
    "    \n",
    "    effective_kernel_fro_list.append(list(effective_kernel_sampling_res_fro_1))\n",
    "    \n",
    "    volume_sampling_fro_list.append(list(volume_sampling_res_fro_1))\n",
    "    projection_dpp_fro_list.append(list(projection_DPP_res_fro_1))\n",
    "    p_eff_list.append(list(p_eff_res_1))\n",
    "    cardinal_list.append(random_cardinal_list) \n",
    "    print(\"next\")\n"
   ]
  },
  {
   "cell_type": "code",
   "execution_count": 543,
   "metadata": {
    "collapsed": true
   },
   "outputs": [],
   "source": [
    "flattened_cardinal_list= [item for items in cardinal_list for item in items]\n",
    "flattened_p_eff_list= [item for items in p_eff_list for item in items]\n"
   ]
  },
  {
   "cell_type": "code",
   "execution_count": 544,
   "metadata": {},
   "outputs": [
    {
     "data": {
      "image/png": "iVBORw0KGgoAAAANSUhEUgAAAX8AAAFsCAYAAAAkBrlSAAAABHNCSVQICAgIfAhkiAAAAAlwSFlz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\n",
      "text/plain": [
       "<matplotlib.figure.Figure at 0x11078ab38>"
      ]
     },
     "metadata": {},
     "output_type": "display_data"
    }
   ],
   "source": [
    "theoretical_projection_DPP_error_bound_list = from_p_eff_to_error_bound(flattened_cardinal_list,k,real_dim)\n",
    "\n",
    "\n",
    "\n",
    "fig, ax = plt.subplots()\n",
    "\n",
    "line = mlines.Line2D([0, 1], [0, 1], color='red')\n",
    "transform = ax.transAxes\n",
    "line.set_transform(transform)\n",
    "ax.add_line(line)\n",
    "\n",
    "plt.xlim(1, 6)\n",
    "plt.ylim(1, 6)\n",
    "\n",
    "\n",
    "plt.scatter(theoretical_projection_DPP_error_bound_list,projection_dpp_fro_list )\n",
    "plt.scatter(theoretical_projection_DPP_error_bound_list,volume_sampling_fro_list)\n",
    "#plt.scatter(border_array,border_array)\n",
    "plt.xlabel('Theoretical upper bound for projection DPP', fontsize=12)\n",
    "plt.ylabel('Expectations of approximation error using projection DPP ', fontsize=12)\n",
    "plt.show()\n"
   ]
  },
  {
   "cell_type": "code",
   "execution_count": 545,
   "metadata": {},
   "outputs": [
    {
     "data": {
      "image/png": "iVBORw0KGgoAAAANSUhEUgAAAX8AAAFyCAYAAAAd2tq5AAAABHNCSVQICAgIfAhkiAAAAAlwSFlz\nAAALEgAACxIB0t1+/AAAIABJREFUeJzt3XecVNX5x/HPI0WKBVBiAUGNEQUL/ETs3cRuTIw92MXe\nYomNYO8aNRpBwQZ2VFREEUVERYkgIgIWVJCmYgQVRKQ8vz/O3TCsW87szp2Z3fm+X6997Z07M/c+\nMzv77Nlzz3mOuTsiIlJaVip0ACIikn9K/iIiJUjJX0SkBCn5i4iUICV/EZESpOQvIlKClPxFREqQ\nkr+ISAlS8hcRKUFK/iIiJUjJX0SkBCn5i4iUoIaV3WFmV8YcwN3/kbtwREQkHypN/sB6eYtCRETy\nylTSWUSk9FTV8l+BmW0CHAKs5e5nmFkHYGV3/yC16EREJBVRF3zN7BDgDaANcHSye1Xg1pTiEhGR\nFEV1+5jZZOBwdx9vZnPdvaWZNQJmuXvr1KMUEZGcih3q+RugrHvHM77rgoGISB0Um/zHAt3L7Tsc\n+E9uwxERkXyI7fbZBHgZ+ALYFhgBbAz8wd0/TTNAERHJveihnmbWDNgfaA9MBwa7+/wUYxMRkZRo\nnL+ISAmKGudvZhsA1wCdgVUy73P3dinEJSIiKYqd5PUI8BlwHvBTeuGIiEg+xF7w/QFo4e7L0g9J\nRETSFjvUcyTQJc1AREQkf2K7faYCL5nZM8BXmXeopLOISN0Tm/ybA4OBRqxY6llDhURE6qBq+/zN\nbCVgV+Atd1+Uj6BERCRdsRd8f3T3VfMQj4iI5EH0BV8z2zbVSEREJG9i+/ynAS+a2bOE0g7/+3dB\nF3xFROqe2OTfFBiUbLdNKRYREckT1fYRESlBWsNXRKQEaQ1fEZESpDV8RURKkNbwFREpQVrDV0Sk\nBGkNXxGREqQ1fEVESlBsy39ndx9Zwf7j3f2+VCITEZHUxPb5DzCzrTJ3mNkpQM/chyQiImmLTf5H\nAk+b2aYAZnYWcD6wW1qBiYhIerLp898buBt4AvgTsIe7T08xNhERSUmlyd/MNqxg96HA2YQyD7MA\n3P3z1KITEZFUVJX8lxEmcVkFd5ftd3dvkF54IiKSBlX1FBEpQbEXfEVEpB5R8hcRKUFK/iIiJUjJ\nX0SkBEUnfzNrZGY7mdlhye3mZtY8vdBERCQtsbV9NgeeAxYBbd19FTPbFzjG3Q9LOUYREcmx2OT/\nJtDH3ftnrOTVHPjE3dukHqWIiORUbPKfC7Rydzez79y9VbL/f9siIlJ3xPb5TwXKV/XsBkzJdUAi\nIpK+hpGP6wm8YGa9gcZmdjFwCnBSapGJiEhqsqnq2YWQ7MtW8rrX3cemGJuIiKQkts9/TXf/Ng/x\niIhIHsT2+X9pZkPM7CiN7RcRqftik387YDBwKvCVmT1qZgeYWew1AxERKSJZl3Q2s/bAEYSlHddx\n99ZpBCYiIumpSW2f3wBrAWsC83IbjoiI5ENU8jezjmZ2lZlNAQYluw9y99+lF5qIiKQlmxm+TwGP\nAq+5+7K0AxMRkfTEJv/G7v5LHuIREZE8qHS0jpl1d/f+yc2/mlW0jju4+31pBCYiIumptOVvZkPc\nfd9k+7VKnu/uvntawYmISDqyHuopIiJ1X+xon3GV7B+T23BERCQfYsf5b1R+h4WLABvGnsjMWpjZ\nQDP7yMwmm9l2sc8VEZHcqrI8g5k9lGw2ztgusz4wMYtz3Q685O5/MbPGQLMsnisiIjlUXW2ezyrZ\nduAt4MmYk5jZ6sDOwLEAybBRDR0VESmQ2HH+e7n70BqfxKwzcA8wCdgSGAuc7e4Lyj2uB9ADoHnz\n5lttsskmNT2liEhpWLAApk6Fn39mLHwbW28tNvlfBLzq7u9m7OsG7OruN0Y8vyvwDrCDu482s9uB\nH9y9Z2XP6dq1q48Zo+vJIiIVWrAAevaE226DNm2gd29s//3HunvXmKfHXvA9m9BqzzQJOCfy+TOA\nGe4+Ork9EPi/yOeKiEim4cNhiy3gn/+Ek0+GiRNhv/2yOkRs8m8MLC637xegScyT3f0rYLqZdUh2\n7cGv/5iIiEhV5s2Dk06CPfaAlVaCESPg7rthtdWyPlRs8h8LnFZu3ynAe1mc60zgYTP7AOgMXJvF\nc0VESttzz0GnTnDffXDBBTB+POyyS40PF7sS17nAMDPrThj181tgbeD3sSdy9/eBqL4oERFJfPMN\nnHUWPP44bL45PPssdK19Ko1K/u4+0cw2BvYH1gOeBga7+/xaRyAiIr/mDo88AmefDT/+CFddBRde\nCI0b5+Tw0Wvwuvt8M3sLaOPu7+Tk7CIi8mvTp8Mpp8CQIbDtttCvH3TsmNNTxNb2aZck/o+AV5J9\nfzGzvjmNRkSklC1bFi7gduoULubedhu8+WbOEz/EX/DtA7wArMryUT/DyKLPX0REqvDpp7DbbnDa\nadCtG0yYELp8GjRI5XSxyb8bcH2yfKMDuPv3wOqpRCUiUiqWLIEbbwzj9sePD108w4bBhtF1M2sk\nts//a0Jlz0/KdphZR+DLNIISESkJ48fDCSfA2LFw0EFw112w7rp5OXVsy/9mYLCZHQc0NLMjgMeB\nG1KLTESkvlq0KJRm6No1XNx94gl4+um8JX6IH+p5n5n9FzgZmA4cDfR090FpBiciUu+8/XZo7U+e\nDEcfDbfeCmuskfcwqlrA/XF3PyzZPs7d7weezVtkIiL1yfz5cNllcMcd0LZtGMa5zz4FC6eqbp+9\nktW6ICzEIiIiNTFsWJide/vtYTTPxIkFTfxQdbfPG8DbZvYJ0KSClbwAcPejU4lMRKSumzsXzj8/\n1OPZeGMYORJ22qnQUQFVJ/9DgL8A7QnDOz+r4rEiIpLpmWdCK3/OHLjoIujVC5pEFULOi6qS/4nu\nfieAmXVy9yvyFJOISN319ddw5pnw5JPQuTO88AL8X/EtX1JVn/81Gdv7px2IiEid5g4PPQSbbhoq\nb15zDfznP0WZ+KHqlv/nZnYLMBFoZGbHV/Qgd78vlchEROqKadPCilpDh8L224dZukW+BnlVyf8w\n4ELgCKAR0L2Cxzig5C8ipamsENtFF4WW/x13wOmnh1W2ilylyd/dPwFOBDCzV919j7xFJSJS7D7+\nGE48MVTd/MMfoE8fWH/9QkcVLerPk7vvYWaNzGwnMyub+NXczJqnG56ISJFZvBiuvx623DKM13/g\nAXjppTqV+CGyvIOZbQY8DywC2hLq+uwCHEPoHhIRqf/GjQulGcaNg4MPhjvvhLXXLnRUNRLbMdUb\n+Ie7b8Lyev6vAzumEpWISDH5+We45BLYemuYNQsGDgxfdTTxQ3xJ507AgGS7rJ7/AjNrmkpUIiLF\n4q23Qmv/44/h2GPhllugVatCR1VrsS3/qcBWmTvMrBswJdcBiYgUhR9/DJO1dtoptPyHDoX7768X\niR/iW/49gRfMrDfQ2MwuBk4BTkotMhGRQhk6FHr0CLX2zzwzTNhaZZVCR5VTsaN9BgN7A60Jff3t\ngT+7+8spxiYikl/ffRe6dvbeG5o1gzfeCJU461nih/iWP+4+DjgtxVhERArnqafCBK1vv4VLLw21\n94uoEFuuRSd/EZF6afZsOOOMsIxily5hzH7nzoWOKnXFPwdZRCQN7uECbseOofLm9deHQmwlkPhB\nLX8RKUVTp4YLusOGhdE8994LHToUOqq8UstfRErH0qWh+Npmm4WF1O+6C0aMKLnED/HlHfqTTO4q\nZxEwAxjk7uNzGZiISE5NnhwKsY0aFUbz9OkD7doVOqqCiW35fw/8ETBCsjfgQGApsClhrV+t5Ssi\nxWfx4jBOv3Nn+OijsODKkCElnfghvs9/Y2Bfd3+rbIeZbQdc6e6/N7O9gduAChd5FxEpiLFj4fjj\n4YMP4NBDQ5fPWmsVOqqiENvy3wYYXW7fGKBbsj2UUO1TRKTwFi4MC6xssw18801YTP3xx5X4M8Qm\n//eBa8ysCUDy/SqgrJ9/A+C73IcnIpKlkSNDrf0bbgizdSdNgoMOKnRURSc2+R8D7AT8YGZfAT8A\nOyf7AVpRzexfM5tqZhPM7H0zG1PTgEVEKvTDD2GG7i67wJIl8Mor0LcvtGxZ6MiKUlSfv7tPBbY3\ns/WAdYHZ7v5lxv2xyXw3d/826yhFRKry4othAfUZM+Ccc+Dqq6G5FhqsSraTvBYBc4CGZrYhgLt/\nnvOoRERifPstnHsuDBgQZuqOGgXbblvoqOqEqG4fM9vbzGYCXxFq+Jd9fZrFuRx4xczGmlmPSs7T\nw8zGmNmYOXPmZHFoESkp7vDEEyHhP/YY9OwJ772nxJ+F2D7/uwgXeJu7+0oZXw2yONeO7t4Z2Ac4\n3cx2Lv8Ad7/H3bu6e9fWrVtncWgRKRmzZsGf/gSHHRbG6o8dC1deCSuvXOjI6pTY5N8S6OPuC2t6\nInefmXz/BniG5cNERUSq5w79+oXW/tChcNNN8M47sMUWhY6sTopN/v2A42p6EjNrbmarlm0DfwA+\nrOnxRKTEfP457LlnKM/QuTNMmADnnw8NVZuypmLfuW2Bs8zsIkK///+4+6+6byqwFvCMmZWd8xF3\nfymbQEWkBC1dCv/6V1hcpUED6N0bTjoJVlJNytqKTf59k68aSUYEbVnT54tICZo4EU44AUaPhv32\nC4m/rQoJ5ErsOP8H0w5ERASAX34JC6tcfTWstho8/DAccQSEngPJkUqTv5l1d/f+yfbxlT3O3e9L\nIzARKUHvvhta+xMmhIR/++2gkX+pqKrlfwTQP9nuXsljHFDyF5Ha+ekn6NULbr0V1lkHnnsODjig\n0FHVa5Umf3ffN2N7t/yEIyIlZ8SIcBF3ypSwtOKNN8Lqqxc6qnovdoZvazNbJdluYGbHmdnRZqZL\n7iJSM99/D6ecArvtFsbwDx8eVtdS4s+L2OQ9GPhdsn0tcD7wN+CWNIISkXpu8GDo1CksnH7eeWGx\nld3UwZBPscl/Y0JNf4CjCCUadgcOTyMoEamn5syBI48M/fktW4ZF1G++GZo1K3RkJSc2+S8FGpvZ\n5sD3STnnecAqqUUmIvWHOzz6aCjNMHAgXH55qMnTTVVeCiV2kteLwBPAGsBjyb6OwMw0gipJHzwB\nr14J38+A1dvCHv+ALQ6t3TEH/w3GPgC+FKwBbHUs7H+rjllMHjwQvnh9+e0NdoFjnitcPGmYMQNO\nPTV09XTrFurzbLZZoaMqebEt/xOBFwg1fq5L9q0JXJ5CTKXngyfg+bPg++mAh+/PnxX219Tgv8GY\nfiH5Qfg+pl/Yr2MWh/KJH8LtBw8sTDy5tmwZ3HNP6Nt/9dUwjHPUKCX+IhGV/N19UVJu+X53X5Ls\nG+Huj1X3XInw6pWwuFzB1MULw/6aGvtAdvt1zPwrn/ir21+XTJkCe+wRVtfaaqswaevcc0N9HikK\nUd0+ZtafMKHrV9z96JxGVIq+n5Hd/hhlrd7Y/Tqm5MKSJWFWbs+e0KhRGM1zwgkqzVCEYrt9pgCf\nZXwtIIz4+S6luErL6pUUq6psfwyrpIVV2X4dU2prwgTYfvtQannPPWHSpFCCWYm/KMV2+1xR7utU\nQvL/bbrhlYg9/gGNmq64r1HTsL+mtjo2u/06Zv5tsEt2+4vVokWhNMP//R9MnRqWVXz2WWjTptCR\nSRVqM0P3faCOfUqL1BaHwgF3wOrrARa+H3BH7Ub77H8rdD1heWvXGoTbtRnxUsrHTMMxz/060de1\n0T6jR4c+/SuvhMMPD639ww5Ta78OMPcKu/JXfJDZ7uV2NSNM8NrI3VNZMblr164+ZsyYNA4tIrW1\nYEHo17/tttDC79071NyXgjKzse7eNeaxseP8+5W7vYDQ8j8im8BEpB4YPjwUYvv88zB+//rrQ919\nqVNiF3PZIO1ARKTIzZsHF1wAffvCRhuFapy7qOe3rlJVThGp3rPPhtIM990HF14YCrEp8ddpSv4i\nUrlvvgkXcg86KKyoNXo03HADNG1a/XOlqCn5i8ivucOAAbDppvDMM3DVVTBmDHSNupYodUC1yd/M\nVjKz3c2scT4CEpECmz4d9t8funeHjTeGcePgssvCjF2pN6pN/u6+DHjW3X/JQzwiUijLlsHdd4dC\nbCNGhGGcb74Z+vql3ont9hlpZqmM5xeRIvDJJ2ElrdNOg222gQ8/hLPPViG2eix2nP804EUzexZI\n6g4H7l6LGgQiUlBLloRSy716QZMmYTTPscdqhm4JiE3+TYFByXZmtbHqpweLSHEaPx6OPx7eew/+\n9Ce46y5YZ51CRyV5EjvJ67i0AxGRPFm0CK6+OszMbdUKnnwSDj5Yrf0SE9vyx8x+Ryjn0IawfOOj\n7v5pWoGJSArefjvU1588GY4+OnT5rLFGoaOSAoi64GtmBwBjgU0INfw7AGPMrJ6sNydSz82fD+ec\nAzvsEIqyvfgiPPigEn8Ji235Xwv80d1fK9thZrsCdwJ1qP6sSAkaNgx69Ai19k8/Ha67DlZdtdBR\nSYHFDvVsC7xRbt+brHjxV0SKydy54YLuH/4AjRvDyJFw551K/ALEJ//3gfPK7ftbsl9Eis0zz4TJ\nWQ89BBdfHEb27LRToaOSIhLb7XMa8JyZnU0Y578e8BNwQFqBiUgNfPUVnHkmDBwInTvDCy+E5RVF\nyolN/h8DmwLbAusCs4DR7r44rcBEJAvu0L9/uKj7009w7bVhIXXV45FKVJv8zawBMB9o4e5vph+S\niGRl2jQ4+WQYOhS23x769YNNNil0VFLkYgq7LQU+AWo9JszMGpjZODMbXNtjiZS8ZcvCrNzNNgsF\n2P71L3jjDSV+iRLb7fMwMNjMbgdmsGJtn+FZnO9sYDKgBT9FauPjj8Nkrbfegr32gj59oH37Qkcl\ndUhs8j81+X55uf0ObBhzADNrC+wHXEMYKSQi2Vq8GG6+Ga64Apo1gwceCDN1VZpBshSb/DdKun9q\n4zbgQqDSQcZm1gPoAdCuXbtank6knhk3LrT2x42Dv/wldPOsvXaho5I6KmYlrwbAfDNbuaYnMbP9\ngW/cfWxVj3P3e9y9q7t3bd26dU1PJ1K//PwzXHIJbL01zJoFTz0VirEp8UstVNvyd/elZlZ2wXdW\nDc+zA3Cgme0LNAFWM7MB7v7XGh5PpDS89VZo7X/8MRx3HNxyC7RsWeiopB7IywVfd78YuBj+VxPo\nfCV+kSr8+GNo7d91V7iQO3RoKNMgkiN5u+ArIpGGDg2F2KZPD7N1r7kGVlml0FFJPRO7mMsGuTqh\nu48ARuTqeCL1xnffwbnnhno8m2wSxu5vv32ho5J6KrawG2bWyMx2MrPDktvNzax5eqGJlJCBA2HT\nTeGRR+DSS8OIHiV+SVHsYi6bE2b53gv0S3bvAtyXUlwipWH27LCE4iGHQNu28O67YYnFJk0KHZnU\nc7Et/7uBf7j7JkBZMbfXgR1TiUqkvnOH++8PZZdfeCGspzt6dKjEKZIHsRd8OwEDkm0HcPcFZtY0\nlahE6rMvvgiF2IYNCzX2+/aFjTcudFRSYmJb/lOBrTJ3mFk3YEquAxKpt5YuhTvuCIXY3n4b/v1v\nGDFCiV8KIrbl3xN4wcx6A43N7GLgFOCk1CITqU8mTw6Ttd5+G/bZB3r3BpUwkQKKavm7+2Bgb6A1\noa+/PfBnd385xdhE6r7Fi8M4/c6dwyzd/v1DH78SvxRYbMsfdx9HWM5RRGKMHRsWUP/gAzj00FCI\n7Te/KXRUIkAW4/xFJNLChXDRRbDNNjBnTlhM/fHHlfilqES3/EUkwsiRcOKJ8Omn4ftNN0GLFoWO\nSuRX1PIXyYUffoDTToNddoElS+CVV+Dee5X4pWgp+YvU1pAhYfhm796hNs+ECbDHHoWOSqRKUd0+\nZtYKOB/oDKxQXtDdd04hLpHi9+23IdkPGBBm6o4aBdtuW+ioRKLE9vk/AqwMPAH8lF44InWAe1hJ\n64wzYO5c+Mc/Qu39lWu82J1I3sUm/+2B1u6+KM1gRIrerFmhb//ZZ6Fr19C3v8UWhY5KJGuxff4f\nAG3TDESkqLmHGjwdO4bFVm66KczWVeKXOiq25T8ceMnM7ge+yrzD3VXWWeq3zz+Hk06C4cPDaJ6+\nfWGjjQodlUitxCb/nQhr9/6+3H5HNf2lviorxHbppdCwIfTpE8bur6RBclL3xS7juFvagYgUlYkT\nQyG20aNhv/3CMM626vmU+iN6hq+ZtQQOANoAM4Hn3X1uWoGJFMQvv4SFVa6+GlZfPSyrePjhYFbo\nyERyKnYZx+2AzwhlnLcATgY+S/aL1A/vvhtG8PTqFZZVnDQJjjhCiV/qpdiW/23Aae7+WNmOZCH3\nO4Ct0whMJG9++ikk/FtvhXXWgeeegwMOKHRUIqmKvXK1MWGCV6aBgIY8SN02YkQYrnnzzWFEz8SJ\nSvxSEmKT/6fA4eX2HULoChKpe77/Pqyju1sylmH48HBRd/XVCxuXSJ7EdvucAww2s7OAacD6wO+A\n/VOKSyQ9gwfDKafA7Nlw/vlwxRXQrFmhoxLJq9ihnqPM7LfAfsC6wPPAEHf/Ls3gRHJqzhw4+2x4\n9NFQhfPpp6Fbt0JHJVIQ2SzjOBcYkGIsIulwh8ceg7POCt09V1wRVtpq3LjQkYkUTKXJ38xecve9\nk+03CLN5f0UlnaWozZgBp54aunq22Qb69YNOnQodlUjBVdXyfyhju2/agYjk1LJlYSWtCy4IK2vd\nemto+TdoUOjIVjBo3ExuGvoxs+YtZN0WTblgrw4c1KVNocOSElBp8nf3RzJufuTuo8s/xszUYSrF\nZ8qUMGxzxAjYfffwR2DDDQsd1a8MGjeTi5+ewMLFSwGYOW8hFz89AUB/ACR1sUM9h1Wy/6VcBSJS\na0uWhPH6m28O770Xkv4rrxRl4ge4aejH/0v8ZRYuXspNQz8uUERSSqq84GtmKwEWNs2S7TK/BZak\nGJtIvAkTQiG2d9+FAw+Ef/8b2hR363nWvIVZ7RfJpepa/kuAX4BmyfbijK9JwL9TjU6kOosWhdIM\n//d/MHUqPP44DBpU9IkfYN0WTbPaL5JL1SX/DQgt/BnAhhlfGwCrufvlqUYnUpXRo2GrreDKK0Pl\nzcmT4dBD60whtgv26kDTRitegG7aqAEX7NWhQBFJKamy28fdpyWb7WtzEjNrAowkLALfEBjo7r1q\nc0wpYQsWQM+ecNttoYX/wguw776FjiprZRd1NdpHCiGbev4HArsAa5LR9+/uR0c8fRGwu7vPN7NG\nwJtm9qK7v5NtwFLiXn01jOT54oswfv/662G11QodVY0d1KWNkr0URGw9/15An+TxhwD/BfYC5sU8\n34P5yc1GyVeFk8ZEKjRvXkj6e+4ZllR8/fVwUbcOJ36RQood6nk88Ht3Pxf4Jfl+AKHAWxQza2Bm\n7wPfAMMqmTfQw8zGmNmYOXPmxB5a6rtnn4WOHeG+++DCC2H8eNi5fkwsHzRuJjtcP5wNLnqBHa4f\nzqBxMwsdkpSI2OTfwt0/TLZ/MbNG7v4fQjdQFHdf6u6dgbZANzPbrILH3OPuXd29a+vWrWMPLfXV\nN9+EC7kHHQStW4cLvDfcAE3rx2iYskleM+ctxFk+yUt/ACQfYpP/Z2ZWVhDlQ+BUM+sOZL2Gr7vP\nA14D9s72uVIi3GHAANh0U3jmmbCe7pgxYYnFekSTvKSQYi/4XgaskWxfDDwMrAKcFvNkM2sNLHb3\neWbWFPg9cEOWsUop+PLLUGv/xRdhu+1CIbZNNy10VKmYWclkrsr2i+RSbD3/IRnbo8l++cZ1gAfN\nrAHhv40n3H1wlseQ+mzZMujTJ/TpL1sGt98Op59edIXYcqmBGUv91+MeGtSReQpSt2Uz1LMZIemv\nkrnf3UdV91x3/wDoknV0Uho++QROPBHeeCOM5rnnHthgg0JHlbqKEn9V+0VyKSr5m9nRwJ2EUg+Z\n/5M60C6FuKQUlJVa7tULmjQJo3mOPbbOzNCtrTYtmlbYxdNG5R0kD2Iv+N4IHOzua7r7ehlfSvxS\nM+PHh8VV/v532GcfmDQJjjuuZBI/qLyDFFZs8v8FGJFiHFIqFi0KpRm6doWZM2HgwLCW7jrrFDqy\nvDuoSxuu+/PmtGnRFCO0+K/78+aa8St5Edvn3xO41cyucPdv0wxI6rFRo0LZ5Y8+gmOOCV0+rVoV\nOqqCUnkHKZTYlv8nwIHA12a2NPlaZmZLq3uiCPPnw9lnw447wk8/wUsvwQMPlHziFymk2JZ/f8Ka\nvo+z4gVfkaoNGwY9eoRa+2ecAddeC6uuWuioREpebPJfA/iHu8agSaS5c+G88+D++6FDhzCMc8cd\nCx2ViCRiu33uB7qnGYjUI888EwqxPfQQXHwxvP++Er9IkYlt+XcDzjCzS4GvM+9w9/pRXlFq76uv\n4Mwzwwiezp1hyBDoorl9IsUoNvnfm3yJ/Jp7aOWfe264oHvttXD++dCoUaEjE5FKxNb2eTDtQKSO\nmjYNTj4Zhg6FHXaAvn1hk00KHZWIVKPS5G9m3d29f7J9fGWPc/f70ghMityyZWElrYsuCrf/9S84\n7TRYKfYy0nKDxs3UOrYieVZVy/8IwhBPqPxirwNK/qXm44/DZK233oK99grVONu3r9GhyhY0Katr\nX7agCaA/ACIpqjT5u/u+Gdu75SccKWqLF8PNN8MVV0CzZvDgg9C9e63q8VS1oImSv0h6Yhdwr3BE\nj5kdkdtwpGiNGwfdusEll8ABB8DkyXD00bUuxDarkoVLKtsvIrkR20E70MxuMLNGAGbWwsweB65I\nLzQpCj//HMbqb711GMr51FPw5JOw1lo5Ofy6lZQvrmy/iORGbPLvnHy9a2YnABOAeWiBlvrtzTdh\nyy3h+utDK3/SJPjzn3N6irTKGg8aN5Mdrh/OBhe9wA7XD9ei6CLlRCV/d58FHJQ8/h7gRXc/2d0X\npBmcFMiPP4Y6PDvtBL/8Ai+/HBZaadky56dKo6xx2UXkmfMW4iy/iKw/ACLLWUy5HjPrDAwApgB9\ngduA/wCnufu8NALr2rWrjxkzJo1DS1WGDg2F2KZPh7POgquvhlVWqf55RWSH64dXukLWWxftXoCI\nRPLDzMYQ+R1OAAAa3ElEQVS6e9eYx8Z2+7wK/NPdD0oWXt+SUN1zQg1jlGLz3Xehxv7ee0Pz5mEY\n52231bnED7qILBIjtrzD1u7+edmNpLvnBDM7MJ2wJG/cw0Xc008PfwAuuyx8rbxyoSOrsXUrWRtX\nF5FFlovt8//czBqa2c5mdkTyvaG7P5d2gJKi2bPh4IPhkENgvfVgzBi46qo6nfhBa+OKxIgd578J\nMBl4BDgr+f5Rsl/qGvdQZ79jR3jxRbjhBnjnnTCypx44qEsbDt6qDQ2SOQgNzDh4Ky2XKJIpttvn\n34RRPjeXLehiZucDdwOa/VuXfPFFuKD7yiuw885w772w8cYFDSnXtX0GjZvJU2NnsjQZzLDUnafG\nzqRr+1b6AyCSyGac/63lVvK6LdkvdcHSpXDHHbDZZjB6NNx9N7z2WlEk/lwPy6yqZISIBLHJfxaw\nS7l9OyX7pdhNnhzG7J99NuyyC0ycCKecUqMKnLmWRqLWaB+R6sV2+1wCPGdmg4FpQHtgP+CvaQUm\nObB4cejPv+qqsGj6gAFw5JG1rseTS2kkao32Eale7Gif5wilHD4EVk2+b+Xuz6YYm9TG2LHQtSv0\n7Al/+lMozXDUUUWV+CGd2j4a7SNSvWpb/mbWgDDJay93vzr9kKRWFi6Eyy8PpZfXWgsGDYI//jFn\nh8/1xdkL9uqwQj1/qH2iLotHC8SIVK7a5O/uS81sA+KvD0ihjBwJJ54In34KJ50EN94ILVrk7PBp\nLLySVqI+qIuGdopUJbbP/wrgbjPrBcwgrOAFgLsvSyMwycIPP4TlFO++GzbcEF59FXbPfQ2btBZe\nUaIWyb/Y5N83+Z65nKMR/gg0+PXDJW+GDAkjd2bOhL/9Da68MtTmSYFG0YjUH7HJf4NUo5Dsffst\nnHtuGMHTsSOMGgXbbJPqKTWKRqT+iB3tM83dpwFfAj8BX2bsk3xyh8cfDwn/scegVy94773UEz9o\nFI1IfRJb26eFmfUHfga+BhaaWX8za5VqdLKiWbPgoIPg8MOhffuQ9C+/PG+F2NJYeEVECiO22+d+\nYCmhnEPZJK8rgPsIK3xVyczWAx4C1iJcJ7jH3W+vScAlyR369YPzzw8ra918c5it2zD2x5c7ujgr\nUj/EZo/dgbXdvazDd7KZHUt8eYclwHnu/p6ZrQqMNbNh7j4pu3BL0Oefh2Gbw4fDrruGQmwbbVTo\nqESkjotN/h8B6xPKOpdpB0QVYHH32cDsZPtHM5sMtAGU/CtTVojt0kuhUSPo0yeM4S9wPZ5cT/IS\nkcKITf6vAi8n/f7TgfUIdX36m9nxZQ9y9/uqO5CZrU8oFTG6gvt6AD0A2rVrFxlaPfThhyHRjx4N\n++8fxu+3bVvoqFKZ5CUihRG7gPtrEcdyd69yZpGZrQK8Dlzj7k9X9diSXMD9l1/guuvgmmtg9dVD\ny//ww2tcjyfXrXQtjC5S3LJZwD2q5e/utV6wxcwaAU8BD1eX+EvSu+/C8ceHVv+RR4bF01u3rvHh\n0mila5KXSP0R3YGcDPc8yswuSL63zOK5BvQDJrv7rTUJtN766acwimfbbWHuXHj+eXj44Volfkin\nTn4aFThFpDBix/nvDkwlrN+7NXAm8IWZ7RF5nh0IpSF2N7P3k699axBv/TJiBGyxBdxySxjRM3Fi\n6OPPgTRa6ZrkJVJ/xF7wvRPo4e5PlO0ws0OAu4BqF3F39zcJtYAE4Pvv4cIL4Z574Le/Dcsp7rpr\nTk+RRikGlUoWqT9ik/+6hP76TM8A9+Y2nBLw/PNw6qkwe3bo7rniCmjWLOenSaNOPmiSl0h9Edvn\n3x84vdy+UwmzdiXGnDnhQu6BB0KrVvDOO3DTTakkflApBhGpWmzLvwtwipldCMwkTND6DTDazEaW\nPcjdd859iHWcOzz6KJx1Vqi7f+WV8Pe/Q+PGhY5MREpYbPK/F3XxZG/GjNDFM3hwqLrZrx906pSX\nU2tClohUJXac/4NpB1KvLFsWavBccEEo0/DPf8KZZ0KD/K17k9aqWyJSP0SXhTSztYBuwJpkjNyJ\nKelQUqZMCcM2R4yAPfYII3o23DDvYWhClohUJSr5m9lBwADgU6ATMBHYDHiTUNZZliwJs3J79gz1\n9fv2DTN2a1iaoba06paIVCV2tM/VwHHu3gVYkHzvAYxNLbK65IMPYLvtQjfPXnvBpElwwgkFS/yg\nCVkiUrXY5N/O3Z8st+9B4Ogcx1O3LFoUllHcaiuYNi0sr/jMM7DuuoWOTEM9RaRKsX3+35jZWu7+\nNTDVzLYDvgXydwWz2LzzTmjdT5oE3buHi7prrFHoqFagCVkiUpnYlv+9wI7J9j+B14DxwL/TCKqo\nLVgAf/sbbL89/PgjDBkCDz1UdIlfRKQqsUM9b8jYfsjMRgDN3X1y5c+qh159NYzk+eILOO20UHt/\ntdUKHZWISNZqtCagu39ZUol/3ryQ9PfcMyya/vrrcNddSvwiUmdFj/MvWc8+G2bpfvNNKMvQqxc0\nzf1wSa2NKyL5pORfma+/DvV4nngCttwyVOPcaqtUTqVSDCKSb5V2+5jZgRnbjfITThFwhwEDoGNH\nGDQorKf77rupJX5IZ9UtEZGqVNXnPyBj+79pB1IUvvwS9tsvDN3s0AHefx8uuQQapfu3T6UYRCTf\nqur2+crMzgAmAQ3NbDcqWI3L3YenFVzeLFsGffqE1bXc4Y47wmiePBViUykGEcm3qpL/scCVwNlA\nYyqu4eNA/quW5dInn8CJJ8Ibb8Dvfx8Ksa2/fl5DSGvVLRGRylSa/N19FLAngJlNcfeN8hZVPixZ\nEhZOLxu9c//9cMwxBanHo7VxRSTfYid5bQRgZu0Iq3jNcPfpaQaWqvHjQ8XN996DP/85jNlfe+2C\nhqRSDCKST1GTvMxsbTN7HZgCPA18ZmYjzazwFcyy8fPPcNll0LUrzJwJAwfCU08VPPGLiORb7Azf\n3oRaPi3dfR2gJTAu2V83jBoFXbqEoZtHHRUKsh18cKGjEhEpiNhJXjsC67j7YgB3X5CxmHtxmz8f\nLr0U/vUvWG89eOmlUHNfRKSExbb85wIdy+3rAMzLbTg59vLLsNlmIfGffjp8+KESv4gI8S3/G4FX\nzKwfMA1oDxwH9EwrsFqZOzeUXX7ggTBZ6403YIcdCh2ViEjRiB3tc6+ZfQYcCWwBzAKOdPdX0wyu\nRp5+OrTy58wJs3N79oQmTQodlYhIUYku7JbM5C3e2bxffQVnnBFG73TpAi++CJ07FzoqEZGiVKN6\n/kXFHR58MBRiGzw4LLAyerQSv4hIFep2Sedp0+Dkk2HoUNhxR+jbN/Txi4hIlepmy3/ZMrjzTujU\nCd56K2y//roSv4hIpBq1/M2sKbDM3RflOJ7qffRRKMT21luw997Quze0b5/3MERE6rLY8g43m1m3\nZHs/4DtgrpkdkGZwK1i8GK69NqyqNXkyPPQQDBmixC8iUgOx3T5HAR8m2/8A/gocCFybRlC/Mm4c\ndOsWZur+8Y+hNEP37gWpwCkiUh/EJv9m7v6Tma0BbOjuT7n7K4TJXtUys/vM7Bsz+7D6R2f4+We4\n+GLYeuswlPPpp8OaumutldVhRERkRbF9/p+Y2VHARsAwADNbE4hdZ/AB4E7goejI5s8PXTyffBLK\nL998M7RsGf10ERGpXGzyPw24HfgFOCHZtxfwcsyT3X2kma2fVWQffxxW1Bo2DPbcM6uniohI1czd\n83OikPwHu/tmVTymB9AjubkZy68zlLo1gW8LHUQR0PuwnN6L5fReLNfB3VeNeWD0UE8z6wBsCayS\nud/dK1rbt0bc/R7gnuR8Y9y9a66OXZfpvQj0Piyn92I5vRfLmdmY2MdGJX8zu4Qwymc88FPGXU7F\nC7uLiEgRi235nwN0c/cP0gxGRETyI3ao50Lgo5qexMweBd4GOpjZDDM7obrnkHT/CKD3oozeh+X0\nXiyn92K56Pci6oKvmR0N7ABcDnydeZ+7L8syOBERKbDY5F+W4DMfbIC7e4M0AhMRkfTE9vlvkGoU\nIiKSV1F9/u4+zd2nAdMJE72mZ+zLqRqXgqhnzGw9M3vNzCaZ2UQzO7vQMRWKmTUxs/+Y2fjkvbii\n0DEVmpk1MLNxZja40LEUkplNNbMJZvZ+NsMc6yMza2FmA83sIzObbGbbVfX42Kqeq5nZQ8DPwExg\noZk9aGar5yDm8h4A9k7huHXNEuA8d+8IbAucbmYdCxxToSwCdnf3LYHOwN5mtm2BYyq0s4HJhQ6i\nSOzm7p011p/bgZfcfRPCnKwqPx+xo33uAJoTZt02BTYHmiX7c8rdRxJKRpc0d5/t7u8l2z8SfpBt\nChtVYXgwP7nZKPnKz9T0ImRmbYH9gL6FjkWKQ9IQ3xnoB+Duv7j7vKqeE5v89wa6u/sn7r7I3T8B\njkMt9LxISmN0AUYXNpLCSbo53ge+AYa5e8m+F8BtwIWARtqFRsArZjY2KQ9TqjYA5gD3J92Bfc2s\neVVPiE3+PwOty+1bk/DvuKTIzFYBngLOcfcfCh1Pobj7UnfvDLQFuplZpTWi6jMz2x/4xt3HFjqW\nIrFj8rnYh9A1unOhAyqQhsD/AXe7exdgAXBRVU+ITf59gWFmdoqZ7WNmpwBD0eSKVJlZI0Lif9jd\nny50PMUg+Vf2NUr3v84dgAPNbCrwGLC7mQ0obEiF4+4zk+/fAM8A3QobUcHMAGZk/Ec8kPDHoFKx\nyf8a4HrgL8Atyfcbk/2SAjMzQv/dZHe/tdDxFJKZtTazFsl2U+D31GLGeV3m7he7e1t3Xx84HBju\n7n8tcFgFYWbNzWzVsm3gD5RoJWB3/wqYnhTgBNgDmFTVc6LG+XuYCXYfeSjilpSC2BVY08xmAL3c\nvV/a5y1COwDdgQlJXzfAJe4+pIAxFco6wINm1oDQYHnC3Ut6iKMAsBbwTGgn0RB4xN1fKmxIBXUm\n8LCZNQY+J1yXrVSlM3zNrLu790+2j6/sALks6SwiIvlRVfIf4u77JtuvVfJ8d/fd0wpORETSkbeV\nvEREpHjEzvAdV8n+kp5OLSJSV8WO9tmo/I5kNMqGuQ1HRETyocrRPkk9H4DGGdtl1gcmphGUiIik\nq7qW/2fJV+b2Z8AU4GHgj+mFVjeY2eXFOsnGzNqZ2fxkiGRtjjPCzE7MVVz5YmbHmtmbhY4DwMzc\nzH71H3Ry31pmNtLMfjSzW/IQyw5m9mny2TgozfMnVVh3zfEx10/ez9iS9Kmpq78bUE3L392vADCz\nd9x9aH5CKi5mNj/jZjNCSYulye2T8x9R5ZJZnye6+ysA7v4lsEpBg5IYPYBvgdU8PyMwrgTudPfb\nAcysZy7Ob2YPEGaZXla2z9071TJWSUnsJK+hycSBDoSaPpZx3/CUYisK7v6/5Fk+uSb7Ls9HHGbW\n0N2X5ONcdVEdf3/aA5Nqknhr+Lrbs2KXbY3PX5cl1y2tZJeidfdqv4AdgdmEUstLku+Lgc9jnl9f\nvoCpwJ7l9l0OPAE8BPxI+KXqmnH/uoT6PHOAL4CzMu5bmVChcVbydRuwcnLfroR6HX8HvgL6J/v3\nB94H5gGjgC2S/f0JVR4XAvMJVR/XJ1Q9bJg8phVwf3KuucCgZH9LYHAS49xku21GnCMIf/Qqek8e\nAK7OuL0rofWX+Z5dTJhqPjc5f5Nyr/ESQstzKnBUuffnZuBLwtrRvYGmVb0/5WI7FngLuBP4nlAS\nYo9yP5vnks/zFOCkLF/X+cAHybEfL3tdyf0XEH5nZgHHJz+HjSp5/xYTFkmaD+xJDT4XFRz3eEIZ\n8LmEOlztk/2fseLn5NEKzr8SoSjYZ8B/CZ/vVuXywSjCZ3B68j73KHec5zN/Z5L3emG543RJfu6N\nqoq5gte2Pit+rg9OzrNZcnvbjPjGA7uW+yxfk3wuFhIGs4wArkr2/Qi8DKyZ8Zzqjlfh70axf8Um\nvXeBc5Ptucn3fwDnF/oF5PXNqjz5/wzsCzQArgPeSe5bCRibvFeNCaOjPgf2Su6/EngH+A2hauoo\n4Krkvl0Jf2hvICSDpskvyzfANsm5jkliWrmi+Cr4JXmBkKRaEmri75LsXyP5BWoGrAo8SfKHwav5\ngBOXJD8E1iP88Xmr7PEZr/HW5DXuQqhG2CG5/5+E5Nwqiet54LrK3p8KYjs2ecy5yes9jJCoWyX3\njwT+DTQhLBIzh7BoTOzr+g8hqbUiJK1Tkvv2Jvyx2oywDsYjVJL8KzlXVp+LCo73R8Ifs00J/91f\nBoyq7HNcwfnPTs7fNjlHH+DR5L72hAR5RPKergF0rug45c8FDGfFP7A3Ab1jYi53zPWT97MhoYTB\nlLL3lrDmxX8Jv48rEepA/RdonfFZ/hLolDy/UbLvM2Bjwu/ZCOD6LI5Xr5P/98BKyXZZ8m8MzCz0\nC8jrm1V58n8l43ZHYGGyvQ3wZbnHXwzcn2x/Buybcd9ewNRke1dCKyqzNXk3SRLI2Pcxy5N4+V/q\nzF+SdQgtvpYRr7Nz2c85uV3pB7z8LzwVJ8lTMm7vC3yW8dglQPOM+58AehK6FhcAv824bzvgi8re\nnwpiO5bQcraMff8h1Exaj3DtZtWM+64DHsjidf014/aNLE9k95Ekj+T2xmSX/LP6XFRwvBeBEzJu\nrwT8xPLWf/nPSfnzT2bF/5DWIbTqGxI+v8/EvI7y5wJOJBSiI/n5Tgd2jom53DHXT97P8wn/UWb+\nl/p3yv03RPgv4piMz/KV5e4fAVyWcfs0wopYscerk8k/dpz/98BqyfbsZDnBluhiYpmvMrZ/Apok\nIxHaA+ua2byyL0IXx1rJY9cFMtdBnpbsKzPH3X/OuN0eOK/c8dYr95zKrAd85+5zy99hZs3MrI+Z\nTTOzHwgt4ha1HSWUYXrGdvnXONfdF1Rwf2vCfyJjM17rS6y4rkT596ciMz35LS13/HUJ78eP5e7L\nZrW08j/3st+Hdfn1a85Gtp+L8toDt2e8b98Rkm3sa2tPKJhW9vzJhD+UaxE+R59V9eQqPAVsZ2br\nEFadWga8UYuYLwDucvcZ5WI/pNzvyI6EP2BlMn82ZSr7WcYcr06KHSr1NKHF9gihVfMaoSUwMKW4\n6ovphJbq7yq5fxYrXnxrl+wr4+UePx24xt0rK6Vd/vHln9vKzFr4r5d3O49wMX8bd//KzDoD48i4\nsF+FBYQkXWbtCh6zXsZ2+dfY0syaZ/wBaEfoJvqW0CfbyZOa7RWo6vWWaWNmlvEHoB2hK2kW4f1Y\nNeMPQDvCGtWxr6sys/n1a85Gtp+L8so+Jw9ned7M5x/v7m+Vv8PMplN5zfwq43L3uWb2MqH7bVPg\nsYyfS01i/gPwkpl95e5PZRynv7ufVFUoWZwj5nh1UlTL393PcfdHku2bCf3DJxH+jZPK/Qf40cz+\nbmZNk6UINzOzrZP7HwUuS+rVr0m4NlDVnIF7gVPMbBsLmpvZfmU1zQn9zBXOunb32YR/rf9tZi3N\nrJEtX/VoVUKinWdmrYBeWbzG94F9zayVma0NnFPBY043s7bJsS8lXHfIdIWZNTaznQgXtJ/0MALj\nXuCfZvYbADNrY2Z7ZREbhH7zs5LXewgh6Qxx9+mEvvTrzKyJmW0BnMDy9z/mdVXmCeBYM+toZs3I\n7v2E7D8X5fUGLjazThDWd01eezbPv8bM2ifPb21mZXN6Hgb2NLNDzayhma2RNBagis9fhkeAowlr\ngjxSy5gnEq6v3GVmByb7BgAHmNleye9bEzPb1cK6xzWR6+MVjdjaPiss1O7ub7r7i4QLclIJd19K\nSGadCSN9viWsirZ68pCrgTGEESMTgPeSfZUdbwzhj+6dhBERUwj92mWuIySNeWZ2fgWH6E74j+0j\nwoXjsoR2G+FC17eEC33Z1ETvTxgBMZUwSqJ8YofwS/4y4WL3Z6z4Gr9KXsssQmI5xd3LFmr5e/Ia\n30m6o14h/IeSjdHA7wiv7RrgL+7+3+S+Iwj9x7MIq0D18uXDeGNeV4WS343bCBc4pyTfs5HV56KC\n8z9DuCD8WPK+fUhY5jDW7YT/jl42sx8Jn4ltkmN/SegFOI/QNfM+sGXyvH5Ax+TzN6iSYz9H+Hl8\n5e7jaxtzcoz9gXvNbJ/kj/ofCd2rcwgt9wuIL2VT/vg5PV4xiarqaWY/uPtqFez/r7uvkUpkUi9U\nNDci475dgQHuXudbUSJ1TXW1fcoWcWlov17QZUNCa0pEROqY6i74dk++N87YhnDB5GvCOHMREalj\nYrt9rvaMeh0iIlK3xV60GGlmG2fuMLMOZvb7FGISEZGUxSb/uwhTujP9mOwXEZE6Jrbb53t3X73c\nPgO+r2gUkIiIFLfYlv/nZrZ7uX27Esaui4hIHRNb3uFy4Gkz60eYpPNbQjW941KKS0REUhTV7QNg\nZt0I9bbXI8xy6+fu76YYm4iIpCQ6+YuISP0RW9tnZTO7xsw+N7Pvk31/MLMz0g1PRETSEHvB95+E\nVYmOYnk51InAqWkEJSIi6Yod6jmbsArRAjP7zt1bJfvnuXuLtIMUEZHcim35/0K5kUFm1pqwlqWI\niNQxscn/SeBBM9sAIFmG7U7gsbQCExGR9MQm/0sIE7omAC2ATwkLYFyRUlwiIpKirId6Jt0937rG\niIqI1FnZTPL6HXAosC6h1f+Eu3+aYmwiIpKS2HH+RwLjgC2ABcDmwHvJfhERqWNih3p+Dhzr7iMz\n9u0E9Hf39dMLT0RE0hCb/OcA67r74ox9jYBZ7t46xfhERCQFsaN9bgWuNbMmAGbWFLgm2S8iInVM\nbMt/OrA2obTDXKAlYMDszMe5e7sUYhQRkRyLref/11SjEBGRvKpVSWcza5R5HUBEROqG2KGew5KS\nDpn7tgDGpBKViIikKvaC73vAeDM71IKLgBHA3alFJiIiqclmhu9OwEOEC72zgKPdfUqKsYmISEpi\nW/4AGwCrAXOA5kCTVCISEZHUxfb5DyRU9tzb3bcG7gFGmtkFaQYnIiLpiG35fwN0cfd3Adz9LmBb\n4C9pBSYiIump7VDPBu6+NIfxiIhIHlTZ8jezO8rdPqHcQ57IeUQiIpK6Klv+ZvaDu6+Wcft/i7dX\ndL+IiNQN1fX5WzW3RUSkDqou+Zf/t0BLN4qI1APVFXZraGa7sbzFX/52g9QiExGR1FTX5z+Valr7\n7r5BjmMSEZGU1Wqop4iI1E3ZlHcQEZF6QslfRKQEKfmLiJQgJX8RkRKk5C8iUoL+Hyx5avzSDaLD\nAAAAAElFTkSuQmCC\n",
      "text/plain": [
       "<matplotlib.figure.Figure at 0x11080b940>"
      ]
     },
     "metadata": {},
     "output_type": "display_data"
    }
   ],
   "source": [
    "theoretical_effective_kernel_error_bound_list = from_p_eff_to_error_bound_2(flattened_p_eff_list,k,real_dim)\n",
    "\n",
    "\n",
    "fig, ax = plt.subplots()\n",
    "\n",
    "line = mlines.Line2D([0, 1], [0, 1], color='red')\n",
    "transform = ax.transAxes\n",
    "line.set_transform(transform)\n",
    "ax.add_line(line)\n",
    "\n",
    "plt.scatter(theoretical_effective_kernel_error_bound_list,effective_kernel_fro_list)\n",
    "plt.scatter(theoretical_effective_kernel_error_bound_list,volume_sampling_fro_list)\n",
    "plt.xlim(1, 6)\n",
    "plt.ylim(1, 6)\n",
    "#plt.scatter(border_array,border_array)\n",
    "plt.xlabel('Theoretical upper bound for effective kernel', fontsize=12)\n",
    "plt.ylabel('Expectations of approximation error using effective kernel ', fontsize=12)\n",
    "plt.show()"
   ]
  },
  {
   "cell_type": "code",
   "execution_count": null,
   "metadata": {
    "collapsed": true
   },
   "outputs": [],
   "source": []
  },
  {
   "cell_type": "markdown",
   "metadata": {},
   "source": [
    "### The case k = 4, projection spectrum, full cardinal"
   ]
  },
  {
   "cell_type": "code",
   "execution_count": 553,
   "metadata": {
    "collapsed": true
   },
   "outputs": [],
   "source": [
    "T = 3 # The number of experiments\n",
    "versions_number = 3 \n",
    "k = 4\n",
    "emperical_results = np.zeros((versions_number*T,4))\n",
    "\n",
    "volume_sampling_fro_list = []\n",
    "projection_dpp_fro_list = []\n",
    "p_eff_list = []\n",
    "cardinal_list = []\n",
    "cov_1 = np.diag(np.concatenate(([100,100,100,100,0.1,0.1],cov_test)))\n",
    "static_list = list(range(21,21))\n"
   ]
  },
  {
   "cell_type": "code",
   "execution_count": 554,
   "metadata": {},
   "outputs": [
    {
     "name": "stdout",
     "output_type": "stream",
     "text": [
      "t\n",
      "0\n",
      "next\n",
      "t\n",
      "1\n",
      "next\n",
      "t\n",
      "2\n",
      "next\n"
     ]
    }
   ],
   "source": [
    "volume_sampling_fro_list = []\n",
    "projection_dpp_fro_list = []\n",
    "effective_kernel_fro_list = []\n",
    "p_eff_list = []\n",
    "cardinal_list = []\n",
    "for t in range(T):\n",
    "    print(\"t\")\n",
    "    print(t)\n",
    "    random_cardinal_list = [20,20,20]\n",
    "    NAL_1 = Numrerical_Analysis_DPP(N,real_dim,r,k,versions_number,mean,cov_1,lv_scores_vector,random_cardinal_list)\n",
    "\n",
    "\n",
    "    projection_DPP_res_fro_1 = NAL_1.get_expected_error_fro_for_projection_DPP()\n",
    "    volume_sampling_res_fro_1 = NAL_1.get_expected_error_fro_for_volume_sampling()\n",
    "    effective_kernel_sampling_res_fro_1 = NAL_1.get_expected_error_fro_for_effective_kernel_sampling()\n",
    "\n",
    "#    upper_tight_bound_projection_DPP_res_fro_1 = NAL_1.get_tight_upper_bound_error_fro_for_projection_DPP()\n",
    "\n",
    "#    alpha_sum_res_1 = NAL_1.get_alpha_sum_k_leverage_scores(1)\n",
    "\n",
    "\n",
    "#    sum_U_res_1 = NAL_1.get_sum_k_leverage_scores()\n",
    "    p_eff_res_1 = NAL_1.get_p_eff_leverage_scores()\n",
    "    \n",
    "    effective_kernel_fro_list.append(list(effective_kernel_sampling_res_fro_1))\n",
    "    \n",
    "    volume_sampling_fro_list.append(list(volume_sampling_res_fro_1))\n",
    "    projection_dpp_fro_list.append(list(projection_DPP_res_fro_1))\n",
    "    p_eff_list.append(list(p_eff_res_1))\n",
    "    cardinal_list.append(random_cardinal_list) \n",
    "    print(\"next\")\n"
   ]
  },
  {
   "cell_type": "code",
   "execution_count": 555,
   "metadata": {
    "collapsed": true
   },
   "outputs": [],
   "source": [
    "flattened_cardinal_list= [item for items in cardinal_list for item in items]\n",
    "flattened_p_eff_list= [item for items in p_eff_list for item in items]\n"
   ]
  },
  {
   "cell_type": "code",
   "execution_count": 556,
   "metadata": {},
   "outputs": [
    {
     "data": {
      "image/png": "iVBORw0KGgoAAAANSUhEUgAAAX8AAAFsCAYAAAAkBrlSAAAABHNCSVQICAgIfAhkiAAAAAlwSFlz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\nAElFTkSuQmCC\n",
      "text/plain": [
       "<matplotlib.figure.Figure at 0x11160ad68>"
      ]
     },
     "metadata": {},
     "output_type": "display_data"
    }
   ],
   "source": [
    "theoretical_projection_DPP_error_bound_list = from_p_eff_to_error_bound(flattened_cardinal_list,k,real_dim)\n",
    "\n",
    "\n",
    "\n",
    "fig, ax = plt.subplots()\n",
    "\n",
    "line = mlines.Line2D([0, 1], [0, 1], color='red')\n",
    "transform = ax.transAxes\n",
    "line.set_transform(transform)\n",
    "ax.add_line(line)\n",
    "\n",
    "plt.xlim(1, 6)\n",
    "plt.ylim(1, 6)\n",
    "\n",
    "\n",
    "plt.scatter(theoretical_projection_DPP_error_bound_list,projection_dpp_fro_list )\n",
    "plt.scatter(theoretical_projection_DPP_error_bound_list,volume_sampling_fro_list)\n",
    "#plt.scatter(border_array,border_array)\n",
    "plt.xlabel('Theoretical upper bound for projection DPP', fontsize=12)\n",
    "plt.ylabel('Expectations of approximation error using projection DPP ', fontsize=12)\n",
    "plt.show()\n"
   ]
  },
  {
   "cell_type": "code",
   "execution_count": 557,
   "metadata": {
    "scrolled": true
   },
   "outputs": [
    {
     "data": {
      "image/png": "iVBORw0KGgoAAAANSUhEUgAAAX8AAAFyCAYAAAAd2tq5AAAABHNCSVQICAgIfAhkiAAAAAlwSFlz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\n",
      "text/plain": [
       "<matplotlib.figure.Figure at 0x111291be0>"
      ]
     },
     "metadata": {},
     "output_type": "display_data"
    }
   ],
   "source": [
    "theoretical_effective_kernel_error_bound_list = from_p_eff_to_error_bound_2(flattened_p_eff_list,k,real_dim)\n",
    "\n",
    "\n",
    "fig, ax = plt.subplots()\n",
    "\n",
    "line = mlines.Line2D([0, 1], [0, 1], color='red')\n",
    "transform = ax.transAxes\n",
    "line.set_transform(transform)\n",
    "ax.add_line(line)\n",
    "\n",
    "plt.scatter(theoretical_effective_kernel_error_bound_list,effective_kernel_fro_list)\n",
    "plt.scatter(theoretical_effective_kernel_error_bound_list,volume_sampling_fro_list)\n",
    "plt.xlim(1, 6)\n",
    "plt.ylim(1, 6)\n",
    "#plt.scatter(border_array,border_array)\n",
    "plt.xlabel('Theoretical upper bound for effective kernel', fontsize=12)\n",
    "plt.ylabel('Expectations of approximation error using effective kernel ', fontsize=12)\n",
    "plt.show()"
   ]
  },
  {
   "cell_type": "code",
   "execution_count": null,
   "metadata": {
    "collapsed": true
   },
   "outputs": [],
   "source": []
  },
  {
   "cell_type": "markdown",
   "metadata": {},
   "source": [
    "### The case k = 2, projection spectrum, non constant spectrum after k+1"
   ]
  },
  {
   "cell_type": "code",
   "execution_count": 567,
   "metadata": {
    "collapsed": true
   },
   "outputs": [],
   "source": [
    "T = 8 # The number of experiments\n",
    "versions_number = 3 \n",
    "k = 2\n",
    "emperical_results = np.zeros((versions_number*T,4))\n",
    "\n",
    "volume_sampling_fro_list = []\n",
    "projection_dpp_fro_list = []\n",
    "p_eff_list = []\n",
    "cardinal_list = []\n",
    "cov_1 = np.diag(np.concatenate(([100,100,1,1,0.1,0.1],cov_test)))\n",
    "static_list = list(range(10,21))\n"
   ]
  },
  {
   "cell_type": "code",
   "execution_count": 568,
   "metadata": {},
   "outputs": [
    {
     "name": "stdout",
     "output_type": "stream",
     "text": [
      "t\n",
      "0\n",
      "next\n",
      "t\n",
      "1\n",
      "next\n",
      "t\n",
      "2\n",
      "next\n",
      "t\n",
      "3\n",
      "next\n",
      "t\n",
      "4\n",
      "next\n",
      "t\n",
      "5\n",
      "next\n",
      "t\n",
      "6\n",
      "next\n",
      "t\n",
      "7\n",
      "next\n"
     ]
    }
   ],
   "source": [
    "volume_sampling_fro_list = []\n",
    "projection_dpp_fro_list = []\n",
    "effective_kernel_fro_list = []\n",
    "p_eff_list = []\n",
    "cardinal_list = []\n",
    "for t in range(T):\n",
    "    print(\"t\")\n",
    "    print(t)\n",
    "    random_cardinal_list = list(np.random.choice(static_list, 3))\n",
    "    NAL_1 = Numrerical_Analysis_DPP(N,real_dim,r,k,versions_number,mean,cov_1,lv_scores_vector,random_cardinal_list)\n",
    "\n",
    "\n",
    "    projection_DPP_res_fro_1 = NAL_1.get_expected_error_fro_for_projection_DPP()\n",
    "    volume_sampling_res_fro_1 = NAL_1.get_expected_error_fro_for_volume_sampling()\n",
    "    effective_kernel_sampling_res_fro_1 = NAL_1.get_expected_error_fro_for_effective_kernel_sampling()\n",
    "\n",
    "#    upper_tight_bound_projection_DPP_res_fro_1 = NAL_1.get_tight_upper_bound_error_fro_for_projection_DPP()\n",
    "\n",
    "#    alpha_sum_res_1 = NAL_1.get_alpha_sum_k_leverage_scores(1)\n",
    "\n",
    "\n",
    "#    sum_U_res_1 = NAL_1.get_sum_k_leverage_scores()\n",
    "    p_eff_res_1 = NAL_1.get_p_eff_leverage_scores()\n",
    "    \n",
    "    effective_kernel_fro_list.append(list(effective_kernel_sampling_res_fro_1))\n",
    "    \n",
    "    volume_sampling_fro_list.append(list(volume_sampling_res_fro_1))\n",
    "    projection_dpp_fro_list.append(list(projection_DPP_res_fro_1))\n",
    "    p_eff_list.append(list(p_eff_res_1))\n",
    "    cardinal_list.append(random_cardinal_list) \n",
    "    print(\"next\")\n"
   ]
  },
  {
   "cell_type": "code",
   "execution_count": 569,
   "metadata": {
    "collapsed": true
   },
   "outputs": [],
   "source": [
    "flattened_cardinal_list= [item for items in cardinal_list for item in items]\n",
    "flattened_p_eff_list= [item for items in p_eff_list for item in items]\n"
   ]
  },
  {
   "cell_type": "code",
   "execution_count": 570,
   "metadata": {},
   "outputs": [
    {
     "data": {
      "image/png": "iVBORw0KGgoAAAANSUhEUgAAAY0AAAFsCAYAAAAwv+X2AAAABHNCSVQICAgIfAhkiAAAAAlwSFlz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\n",
      "text/plain": [
       "<matplotlib.figure.Figure at 0x1110daf28>"
      ]
     },
     "metadata": {},
     "output_type": "display_data"
    }
   ],
   "source": [
    "theoretical_projection_DPP_error_bound_list = from_p_eff_to_error_bound(flattened_cardinal_list,k,real_dim)\n",
    "\n",
    "\n",
    "\n",
    "fig, ax = plt.subplots()\n",
    "\n",
    "line = mlines.Line2D([0, 1], [0, 1], color='red')\n",
    "transform = ax.transAxes\n",
    "line.set_transform(transform)\n",
    "ax.add_line(line)\n",
    "\n",
    "plt.xlim(1, 4)\n",
    "plt.ylim(1, 4)\n",
    "\n",
    "\n",
    "plt.scatter(theoretical_projection_DPP_error_bound_list,projection_dpp_fro_list )\n",
    "plt.scatter(theoretical_projection_DPP_error_bound_list,volume_sampling_fro_list)\n",
    "#plt.scatter(border_array,border_array)\n",
    "plt.xlabel('Theoretical upper bound for projection DPP', fontsize=12)\n",
    "plt.ylabel('Expectations of approximation error using projection DPP ', fontsize=12)\n",
    "plt.show()\n"
   ]
  },
  {
   "cell_type": "code",
   "execution_count": 571,
   "metadata": {
    "scrolled": false
   },
   "outputs": [
    {
     "data": {
      "image/png": "iVBORw0KGgoAAAANSUhEUgAAAY0AAAFyCAYAAAAJY4YdAAAABHNCSVQICAgIfAhkiAAAAAlwSFlz\nAAALEgAACxIB0t1+/AAAIABJREFUeJzs3XecVNX5x/HPIy6KFRGiAoKa2LBhJIqaKGJibz+7STQq\nStDYoliwYIkttthQBMGCYkEEEVCsBEtEQUAQLIhYABUVUBSR8vz+OHdlGHZ2zwzTdvf7fr3mtTP3\n3pn77N3Zeebec85zzN0RERGJsUqpAxARkdpDSUNERKIpaYiISDQlDRERiaakISIi0ZQ0REQkmpKG\niIhEU9IQEZFoShoiIhJNSUNERKIpaYiISDQlDRERibZqphVmdlXMC7h79/yFIyIi5Sxj0gA2LloU\nIiJSK5hKo4uISKzqzjSWY2ZbAUcBG7j7GWa2JbCau79TsOhERKSsRDWEm9lRwCtAC+CEZPHawC0F\niktERMpQ1OUpM5sCHOvuE8xsjruvZ2YVwEx3b1bwKEVEpCzEdrn9FVB5GcpTfqpBRESkHolNGmOB\n49OWHQu8md9wRESknMVentoKeA74GGgPjAS2APZx9w8LGaCIiJSP6C63ZrYGcBDQGvgMGOru8wsY\nm4iIlBmN0xARkWhR4zTMbFPgGqAtsFbqOndvVYC4RESkDMUO7usPfAScB/xYuHBERKScxTaEfwc0\ndvelhQ9JRETKVWyX21HAjoUMREREyl/s5anpwLNmNgj4InWFSqOLiNQfsUljTWAoUMHyJdPV9UpE\npB6psU3DzFYBOgCvufvCYgQlIiLlKbYh/Ht3X7sI8YiISBmLbgg3s/YFjURERMpebJvGJ8AzZvYU\noYTIL6cnaggXEak/YpNGI2Bwcr9lgWIREZEyp9pTIiISTXOEi4hINM0RLiIi0TRHuIiIRNMc4SIi\nEk1zhIuISDTNES4iItE0R7iIiESLPdPYw91HVbH8ZHfvW5DIRESk7MS2aTxkZjulLjCzLsBl+Q9J\nRETKVWzS+DPwpJltDWBmZwFdgb0KFZiIiJSfbNo09gPuBh4H/g/Y290/K2BsIiJSZjImDTPbrIrF\nRwNnE8qJzARw92kFi05ERMpKdUljKWHwnlWxunK5u3uDwoUnIiLlRFVuRUQkWmxDuIiIiJKGiIjE\nU9IQEZFoShoiIhItOmmYWYWZ/cHMjkker2lmaxYuNBERKTextae2A4YAC4GW7r6WmR0A/M3djylw\njCIiUiZik8arwD3u3i9l5r41gQ/cvUXBoxQRkbIQmzTmAE3c3c3sW3dvkiz/5b6IiNR9sW0a04H0\nKrc7A1PzHZCIiJSvVSO3uwwYZmY9gYZm1g3oApxasMhERKTsZFPldkdCkqicua+3u48tYGwiIlJm\nYts0mrr710WIR0REylhsm8anZjbczP6isRkiIvVXbNJoBQwFTgO+MLNHzOxgM4ttExERkTog69Lo\nZtYaOI4wBexG7t6sEIGJiEj5yaX21K+ADYCmwNz8hiMiIuUsKmmYWRsz+5eZTQUGJ4sPc/fNCxea\niIiUm2xGhA8EHgFedvelhQ5MRETKT2zSaOjuPxchHhERKWMZez+Z2fHu3i95+Fczq3I7d+9biMBE\nRKT8ZDzTMLPh7n5Acv/lDM93d+9YqOBERKS8ZN3lVkRE6q/Y3lPjMiwfk99wRESknMWO0/hN+gIL\njRybxe7IzKab2UQzG19VsrHgdjObambvmNlvY19bRESKo9oyIGb2YHK3Ycr9SpsA72a5v72qKXy4\nP7B5ctsFuDv5KSIiZaKm2lEfZbjvwGvAgDzGcijwoIdGljfMrLGZbeTus/K4DxERWQnVJg13vxLA\nzN5w9xEruS8HXjCzJYT5xnulrW9BmKej0ufJsuWShpl1BjoDrLnmmjtttdVWKxmWiEg98OWXMGMG\nmDF26dKvc60bGFuldsdkPvC3Khck0712cPcbIl/j9+4+w8x+BTxvZu+5+6hsA06STS+Adu3a+Zgx\naosXEclo0iTo1Ak+/xwOPhjuvhtr2fKTXF8utiH8bGBy2rLJwDmxO3L3GcnPr4BBwM5pm8wANk55\n3DJZJiIi2fr5Z7jySvjtb2HaNHjkEXjqKWjRYqVeNjZpNAQWpYcErB7zZDNb08zWrrwP7ANMStts\nCHBC0ouqPTBP7RkiIjl4803YaSe44go46iiYMgWOPRYyVPbIRmzSGAucnrasC/B25PM3AF41swnA\nm8Awd3/WzLqYWZdkm+HANGAq0LuK/YmISHV+/BG6doVdd4U5c+Dpp+Hhh6Fp07ztIrZN45+Edojj\nCb2ofg1sCPwp5snuPg3YoYrlPVPuO/CPyHhERCTVyy/DKaeES1FdusD118O66+Z9N1FJw93fNbMt\ngIMI7Q5PAkPdfX7eIxIRkXjz5sH550Pv3vCb38DIkbDnngXbXfQc3+4+38xeA1q4+xsFi0hEROI8\n/XQ4q/jii5A4rrgC1lijoLuMrT3VKkkY7wEvJMuONLN7CxmciIhUYfZsOO44OOQQWH99GD0abrih\n4AkD4hvC7wGGAWuzrBfV80S2aYiISB64Q//+sPXWMHAgXHUVjBkD7doVLYTYy1M7Awe6+1IzcwB3\nn2dm+W9lERGRFX32GZx2GgwbBu3bw733wjbbFD2M2DONL0mrdGtmbYBP8x6RiIgss3Qp9OwZEsTL\nL8Ott8Krr5YkYUB80rgJGGpmJwGrmtlxwGPAvwsWmYhIfffhh9CxYzjD2HlnmDgRzj4bGjQoWUix\nXW77mtk3wN8JRQVPAC5z98GFDE5EpF5avBj+8x/o3h1WWw369IGTTsrLiO6VlTFpmNlj7n5Mcv8k\nd78PeKpokYmI1EfvvBMKDI4ZA4ceCnfdBc2blzqqX1R3eWrfZHY+gNuKEYyISL21cGE4s9hpJ/j0\nU3j8cRg0qKwSBlR/eeoV4H9m9gGwehUz9wHg7icUJDIRkfrijTfC2cXkyXD88eHS1PrrlzqqKlWX\nNI4CjgRaEyZQ+qiabUVEJFs//ACXXgq33QYtW8Lw4bD//qWOqlrVJY1T3P1OADPbpnIWPxERyYMX\nXoBTT4Xp0+Ef/4DrroO11y51VDWqrk3jmpT7BxU6EBGRemHu3HAp6k9/gooKGDUK7ryzViQMqP5M\nY5qZ3Qy8C1SY2clVbeTufQsSmYhIXTN4MJx+Onz1FVx0UWj4btSo1FFlpbqkcQxwAXAcUAEcX8U2\nDihpiIhU58sv4cwzYcAA2GGHUJ12p51KHVVOMiYNd/8AOAXAzF50972LFpWISF3gDg89BOecA/Pn\nwzXXhBLmFRWljixnsSPC9zazCqA90NzdH0vm+sbdfyhkgCIitdKnn8Lf/w7PPgu77RZGdW+1Vamj\nWmmx82lsC3xAmLu7T7J4T7K8NGVmDcxsnJkNrWJdBzObZ2bjk1v3bF5bRKQsLF0KPXqEgoKvvAK3\n3x5+1oGEAfGl0XsC3d29n5nNSZb9l5BEsnE2MAVYJ8P6V9xdPbVEpHZ6//0wT/err4beUb16wSab\nlDqqvIqtcrsN8FByv3I+jR+A6GZ/M2sJHAhotj8RqVsWL4brrw+N3JMmwX33wYgRdS5hQHzSmA4s\n19RvZjsDU7PY162E3lhLq9lmNzN7x8yeMbMqi8WbWWczG2NmY2bPnp3F7kVECmD8eNhlF+jWDQ48\nEKZMgRNPLIuKtIUQmzQuA4aZ2ZVAQzPrBgwALo15spkdBHzl7mOr2extoJW7bw/cAVRZdt3de7l7\nO3dv16xZs8jwRUTy7Kef4JJLwlSrM2bAE0+EKVg33LDUkRVUVNJw96HAfkAzQltGa+Bwd38ucj+7\nA4eY2XTgUaCjmT2UuoG7f+fu85P7wwkDCptGvr6ISPG89hq0bQvXXhsKDE6eDEccUeqoiiK2IRx3\nHwecnstO3L0b0A1CLymgq7v/NXUbM9sQ+NLdPbn0tQrwTS77ExEpiPnz4eKLQ9mPVq1Cu8U++5Q6\nqqKKThqFYGZdANy9J6Gi7mlmthhYABzr7l7K+EREfvHcc9C5cxh/ccYZ4SxjrbVKHVXRFT1puPtI\nYGRyv2fK8juBO4sdj4hItb79Fs47D+6/H7bcMoy52H33UkdVMrEN4SIi9c/AgdCmDfTrFy5LjR9f\nrxMGlPjylIhIWfrii3AJauBA2HHHUAqkbdtSR1UWopKGmfUjGdSXZiHwOTDY3SfkMzARkaJzhwce\ngH/+ExYsCAP2zjsPVtX360qxl6fmAYcCRkgSBhwCLAG2JswlrrnCRaT2mj4d9t0XTjoJtt0WJkyA\nCy9UwkgTezS2AA5w99cqF5jZrsBV7v4nM9uPMOL7wQLEKCJSOJUFBrt1C6O4e/SALl1gFTX5ViU2\naewCjE5bNgbYObk/AmiZr6BERIpiypRQYPD112G//aBnT2jdutRRlbXYVDoeuMbMVgdIfv4LqGzH\n2BT4Nv/hiYgUwKJFYZxF27bw3nvw4IMwfLgSRoTYM42/Af2B78zsW6AJ4UzjL8n6JuQ4WlxEpKje\nfhtOPjm0WRx9dJjvYoMNSh1VrRE7c990QgXajYHmwCx3/zRl/ZjChCcikicLFsCVV8JNN0GzZjBo\nEBx2WKmjqnWy7RawEJgNrGpmmwG4+7S8RyUikk+vvBLaLj74ADp1ghtvhPXWK3VUtVLsOI39CNO8\nbpS2yoEG+Q5KRCQvvv8eLroI7rorTIj0/PPwxz+WOqpaLbYhvAeh4XtNd18l5aaEISLl6Zlnwjzd\nd98N55wTZtRTwlhpsZen1gPuUdVZESl733wTRnT36wdbbx3mvth111JHVWfEnmn0AU4qZCAiIivF\nHQYMCAUGH3kELrsMxo1Twsiz2DON9sBZZnYR8EXqCnffI+9RiYhkY+ZM+Mc/YPBg2Gmn0Hax/fal\njqpOik0a9yY3EZHy4Q59+4aiggsXwg03hEtTqhdVMLHjNB4odCAiIlmZNi3MpPfii7DHHnDvvbD5\n5qWOqs7LmDTM7Hh375fcPznTdu7etxCBiYhUackSuOMOuOQSaNAg9I7q3FkFBoukujON44B+yf3j\nM2zjQHTSMLMGhPIjM9z9oLR1BtwGHAD8CJzo7m/HvraI1AOTJ4fBeW+8AQccEAoMbrxxqaOqVzIm\nDXc/IOX+Xnna39nAFGCdKtbtD2ye3HYB7k5+ikh99/PP8O9/w9VXw9prw8MPw3HHhVLmUlRR53Nm\n1szM1kruNzCzk8zsBDOLPh80s5bAgWRuUD8UeNCDN4DGZpY+Al1E6pu33oJ27aB7dzj88FDO/M9/\nVsIokdgP/aGEMwCAa4GuwLnAzVns61bgAmBphvUtgM9SHn+eLFuOmXU2szFmNmb27NlZ7F5EapUf\nf4QLLoD27cOAvaeeCuMvmjUrdWT1WmzS2IIwpwaEcuj7Ax2BY2OebGYHAV+5+9isI0zj7r3cvZ27\nt2umN49I3fTf/8IOO4TCgp06hbaMQw4pdVRCfNJYAjQ0s+2AeUlZ9LnAWpHP3x04xMymA48CHc3s\nobRtZgCpLVotk2UiUl989x2cdhp06BCmYX3xRejVC9Zdt9SRSSI2aTwDPE5onH40WdaGyA91d+/m\n7i3dfRPC2clL7v7XtM2GACdY0J6QnGZFxicitd2wYaHAYK9ecO65MHEidOxY6qgkTeywyVMIs/ct\nYlk33KbAFSuzczPrAuDuPYHhhO62UwldblXrSqQ+mD07VKHt3z8kjSeegF3UcbJcWW0uXNuuXTsf\nM0aTBorUSu7w2GNw5pkwb14YrNetGzRsWOrI6jwzG+vu7XJ5buwkTP0IA/lW4O4n5LJjEanHZswI\nbRdPPw077wx9+sC225Y6KokQ26YxFfgo5fYDoQfVtwWKS0TqInfo3TuUL3/hBbj5Znj9dSWMWiS2\nYOGV6cvMrA9wed4jEpG66aOP4NRT4eWXYa+9QvL49a9LHZVkaWUqfI0H9sxXICJSRy1ZEs4ottsO\nxo4NvaNefFEJo5aKbdNI7/e2BqHr7OS8RyQidcekSXDyyaEUyMEHh4q0LVYo9CC1SGyX2z5pj38g\nnGkcl99wRKRO+PlnuPbacGvcGB59FI4+WvWi6oDYNo1NCx2IiNQRb74Zzi7efRf+8he49VZo2rTU\nUUmeaNYSEcmPH38M067uumsYdzF0KDz0kBJGHaOJdEVk5b38MpxySpiCtUuXMPfFOlVNmyO1nc40\nRCR3c+eGqVY7dgzTrY4cGRq7lTDqrBqThpmtYmYdzUxj+0VkmSFDQq2oPn3CvBfvvAN7qhd+XVdj\n0nD3pcBT7v5zEeIRkXL31Vdw7LFw6KGw/vowenS4HNWoUakjkyKIvTw1KilXLiL1lXuYm7tNGxg0\nCP71LxgzJkzFKvVGbEP4J8AzZvYUYUrWX4oXunv3QgQmImXks89CgcFhw8L0q336hOQh9U5s0mgE\nDE7ut0xZXnvrqotIzZYuDWU/LrgglAO59VY44wxo0KDUkUmJxA7u04RIIvXNhx+GbrSjRsEf/xiS\nx6Ya51vfRY/TMLPNCWVDWhCmeX3E3T8sVGAiUiKLF8Mtt8Dll8Nqq4VLUSedpBIgAkQ2hJvZwcBY\nYCvCHBpbAmPM7JACxiYixTZhQmizuPBC2G8/mDw5lARRwpBE7JnGtcCh7v5y5QIz6wDcCQyp6clm\ntjowClgt2ecT7n552jYdgKeAj5NFT7r7VZHxicjKWLgQrr4arr8emjSBxx+HI49UspAVxCaNlsAr\nacteZflG8eosBDq6+3wzqwBeNbNn3P2NtO1ecfeDIl9TRPLhf/+DTp1gyhQ44YRwaWr99UsdlZSp\n2HEa44Hz0padmyyvkQfzk4cVyU09r0RKaf58OOcc2H33cH/4cHjgASUMqVZs0jgdOMXMZprZaDOb\nCXQGTovdkZk1MLPxwFfA8+4+uorNdjOzd8zsGTPbJsPrdDazMWY2Zvbs2bG7F5FUzz8fZtK77TY4\n/fRQxnz//UsdldQCsZen3ge2BtoDzYGZwGh3XxS7I3dfArQ1s8bAIDPb1t0npWzyNtAquYR1AGFc\nyOZVvE4voBdAu3btdLYiko05c6BrV+jbF7bYInSn/cMfSh2V1CIxBQsbEGbqa+Dur7r748nP6ISR\nyt3nAi8D+6Ut/67yEpa7DwcqzEyF+EXyZdCgMIr7gQfgootCTyklDMlSTMHCJcAHQM4XOs2sWXKG\ngZk1Av4EvJe2zYZmoauGme2cxPZNrvsUkcSXX4apVg8/HDbcMMysd911sPrqpY5MaqHYy1MPA0PN\n7Dbgc5avPfVSxPM3Ah5IzlpWAR5396Fm1iV5jZ7AkcBpZrYYWAAc6+66/CSSK3fo1y80dv/wA1xz\nDZx/PlRUlDoyqcUs5nPZzD7OsMrdfbP8hhSvXbt2PmbMmFLtXqR8ffJJmEHv2Wdht93CqO6ttip1\nVFImzGysu+dUnjj2TOM3yWUqESlnS5eGmfMuuiicadxxR+gdtYom6ZT8qDFpJJeU5ptZY3dfWISY\nRCQX778fCgy++irssw/ccw9sskmpo5I6pigN4SJSQIsWhfIfO+wQxlvcf3+4LKWEIQVQrIZwESmE\nceNCCZBx4+CII+DOO0MPKZECiU0alSO/r0hb7kDJGsJF6q2ffgrTrf7739C0KTzxREgaIgUWOwmT\nZl4RKRevvRbOLt5/H048EW6+OVSmFSmC6C4VZlZhZn8ws2OSx2ua2ZqFC01ElvP993DmmWEU908/\nwYgRcN99ShhSVLGTMG1HaAzvDfRJFu8J9C1QXCKSasQI2HZb6NEjJI5Jk0IPKZEiiz3TuBvo7u5b\nAZU1p/4L/L4gUYlI8O234RLUfvvBGmvAK6+EyrRrrVXqyKSeik0a2wAPJfcdwN1/ABoVIigRAQYO\nDAUGH3oILrkk9JDaffdSRyX1XGzSmA7slLogKSo4Nd8BidR7s2aFnlBHHgnNm8OYMWEqVhUYlDIQ\nmzQuA4aZ2ZVAQzPrBgwALi1YZCL1jXsYmNemDQwbFgbsvfkmtG1b6shEfhGVNNx9KGH+i2aEtozW\nwOHu/lwBYxOpP6ZPh333hZNOCjPqTZgAF14Iq8YOpRIpjuh3pLuPI0z7KiL5smRJ6BF18cVgFu53\n6aICg1K29DVGpFSmTAkFBl9/PfSOuuceaNWq1FGJVEtfZ0SKbdGiMCFS27bw3nvw4IMwfLgShtQK\nOtMQKaa334aTTw5tFkcfDbffDhtsUOqoRKLpTEOkGBYsCBMj7bxzmLN70CB47DElDKl1os40zKwJ\n0BVoCyw3FNXd94h4/urAKGC1ZJ9PuPvladsYcBtwAPAjcKK7vx0Tn0hZGzUqtF18+GEoNHjjjbDe\neqWOSiQnsZen+hM+8B8nfKBnayHQ0d3nm1kF8KqZPePub6Rssz+weXLbhVC6ZJcc9pV/7zwOL14F\n8z6HdVvC3t1h+6Nrft7Qc2Hs/eBLwBrATifCQbfU/Lw7d4Gv31v2uOlWcMbomp9301Ywf9ayx2tt\nBF3fy7x9pQcOgY//u+zxpnvC34bU/Lwrm4IvWvbYKuDyr2t+Xq7Hs7b57jvo1g3uugs23RReeAH2\n3rvUUYmslNjLU7sB+7n73e7+QOot5skezE8eViQ3T9vsUODBZNs3gMZmtlFkfIXzzuPw9Fkw7zPA\nw8+nzwrLqzP0XBjTJyQMCD/H9AnLq5OeMCA8vrOG/JmeMCA8vmmr6p+XnjAgPH7gkOqfl54wIDy+\nsmn1z8v1eNY2zzwTCgzefTeccw5MnKiEIXVCbNJ4B2i5MjsyswZmNh74Cnje3dO/OrcAPkt5/Hmy\nrLRevAoWLVh+2aIFYXl1xt6f3fJK6QmjpuWV0hNGTcsrpSeMmpZXSk8YNS2vlOvxrC2++QZOOAEO\nOADWXjt0p/3Pf2BNzSIgdUPs5amXgGfN7D7gi9QV7h5VHj2Za7ytmTUGBpnZtu4+KatoATPrDHQG\naFWMLorzPs9ueaXKM4zY5fVFrsez3LnDgAFwxhkwZw5cdlkoMrjaaqWOTCSvYpPGHwjf/P+UttzJ\nck4Nd59rZi8TypKkJo0ZwMYpj1smy9Kf3wvoBdCuXbv0S1z5t27L5FJKFcurYw2qThDWID9x1Va5\nHs9yNnMmnH46PPUU7LRTaLvYfvtSRyVSELG1p/bKcOsY83wza5acYWBmjQjJJ/16yxDgBAvaA/Pc\nvYZrK0Wwd3eoSKsAX9EoLK/OTidmt7xS0wxtEJmWV1orQ/NPpuWVNt0zu+WVrCK75ZVyPZ7lyB36\n9AkFBkeMCL2i3nhDCUPqtGyme13PzE4ws27Jz2z6DG4EvGxm7wBvEdo0hppZFzPrkmwzHJhGKLfe\nm3Kpc7X90XDw7bDuxoCFnwffXnNvn4NugXadlp1ZWIPwuKbeU2eMXjFBxPSe6vreigkipvfU34as\nmCBiek9d/vWKCSKm91Sux7PcTJsGf/xj6Erbtm1o6O7aVQUGpc4z95qv8JjZrsAwwtnBJ0ArYGvg\nQHf/X0EjrEa7du18zJgxpdq91EdLlsAdd4T2igYNwtnFqaeqwKDUKmY21t3b5fLc2K9FtwKnu/uj\nKTs9Brgd+F0uOxapdd59NwzOGz0aDjwQevaElrW4LUYkB7Ffj7YgDOxL9QTwm/yGI1KGfv4ZrroK\ndtwRpk6Fhx+Gp59WwpB6KTZpfAgcm7bsKOCj/IYjUmbeegvatYPLLw/Tr06ZAn/+c5j7QqQeir08\ndQ4w1MzOIrRpbEIo93FQgeISKa0ffwyJ4pZbYKONYMgQOPjgUkclUnJRScPdXzezXwMHAs2Bp4Hh\n7v5tIYMTKYmRI0Pj9tSp0Lkz3HADrLtuqaMSKQvZTPc6B3iogLGIlNa8eWFe7nvugV//Gl56Cfba\nq9RRiZSVjEnDzJ519/2S+6+wYoFBIK40ukjZGzYM/v53mDULzjsvNHyvsUapoxIpO9WdaTyYcv/e\nQgciUhKzZ4cqtP37h6q0Tz4ZJkoSkSplTBru3j/l4XtVVKXFzPTfJbWTOzz6KJx1VrgsdcUVYe6L\nhg1LHZlIWYvtcvt8huXP5isQkaL5/HM45JDQdXazzcK83ZdfroQhEqHapGFmq5hZg3DXLHlcedsc\nWFycMEXyYOlS6NULttkGXnwxdKd9/fVwWUpEotTUe2oxyxrA0xPEUuCavEckUghTp4ZutCNHhh5R\nvXuHHlIikpWaksamgAH/BVJ7STkw290XVPkskXKxZAncemuYFKmiIiSLTp00olskR9UmDXf/JLnb\nugixiOTXxIkhQbz1VhjNfffd0KL0MwiL1GbRg/vM7BBgT6Ap4ewDAHc/oQBxieRu4UK49tpwW2+9\n0Evq6KN1diGSB1G9p8zscuCeZPujgG+AfYG5hQtNJAejR4cpV6+6Co49FiZPhmOOUcIQyZPYLrcn\nA39y938CPyc/DyYULhQpvR9+gHPPhV13DeMuhg6Ffv2gadNSRyZSp8Renmrs7pOS+z+bWYW7v2lm\nNUwkLVIEL70UekZNmwannQbXXw/rrFPqqETqpNgzjY/MbJvk/iTgNDM7HphTmLBEIsydG5LF3nuH\n6VZHjoS77lLCECmg2KRxKbB+cr8bcBZwI3BuzJPNbGMze9nMJpvZu2Z2dhXbdDCzeWY2Prl1j4xN\n6qOnnoI2baBvX7jgAnjnHdhTJ74ihRY7n8bwlPujyX6a18XAee7+tpmtDYw1s+fdfXLadq+4uyZ2\nksy++irUi3rsMdh++zA5Urt2pY5KpN7IpsvtGoRksVbqcnd/vabnuvssYFZy/3szmwK0ANKThkjV\n3MPc3GefDfPnw7/+Fea+qKgodWQi9UpU0jCzE4A7gZ+B1FHgDrTKZodmtgmwI7BC1VxgNzN7B5gB\ndHX3d6t4fmegM0CrVlntWmqrzz6DLl1g+HBo3x769AmXpkSk6GLbNG4AjnD3pu6+ccot24SxFjAQ\nOMfdv0tb/TbQyt23B+4ABlf1Gu7ey93buXu7Zs2aZbN7qW2WLg2juLfZJjRy33orvPqqEoZICcUm\njZ+BkSuzIzOrICSMh939yfT17v6du89P7g8HKsxMnezrqw8+CIUFTz8ddtkFJk0Kl6YaNCh1ZCL1\nWmzSuAxrM9SFAAAgAElEQVS4JdcPcTMzoA8wxd1vybDNhsl2lZM7rUIYeS71yeLFcMMNsMMOMGFC\nuBT13HOw6aaljkxEiG8I/wC4CjjdlpVjMMDdPear3+7A8cBEMxufLLuYpD3E3XsCRxLGfywmtJsc\n6+5VzksuddSECXDyyWFSpMMOgx49oHnzUkclIilik0Y/wpzhj7F8Q3gUd3+VlCKHGba5k9DYLvXN\nwoVw9dVhJHeTJjBgABxxhOpFiZSh2KSxPtBd3/wlHwaPm8GNI95n5twF/GneNG4acQfrfPwhnHBC\nmE1v/fVrfhERKYnYpHEf4fLSgwWMReqBweNm0O3JidgP87lsVD9OHPs0X6zTjEl39GO3M/5a6vBE\npAaxSWNn4AwzuwT4MnWFu+9R9VNEVnTjiPfZ6YMxXDfiTjae9yUP/PZAbtjjbzSevz6vlTo4EalR\nbNLondxEfpF6mal540acv++WHLZjNTPjzZnD2f2v4+iJL/BRkxYc9efreWvjbQH4ca5mDhapDWJr\nTz1Q6ECkdhk8bgbnD5jAoqWhmWvG3AWcP2ACQNWJY9AgOP10Dv/qK3q0P4rbdz+Ohas2/GV188aN\nihK3iKycjEnDzI53937J/ZMzbefufQsRmJS3K4a8+0vCqLRoqXPFkHeXTxpffAFnnglPPAFt2/LK\nzfdx5xRYuGjJL5s0qmjA+ftuWazQRWQlVHemcRyhqy2ERvCqOKCkUQ/NXbCo+uXuYea8c86BH38M\n83V37cpeFRVcl+1lLREpGxmThrsfkHJ/r+KEI3XCJ5/A3/8OI0bAbruFUd1bbfXL6sN2bKEkIVJL\nRZURMbMqe0iZ2XH5DUdqi/XWWLEkuflS/j7xGdh221BY8I474JVXlksYIlK7xdaeesLM/p0UHcTM\nGpvZY8CVhQtNytnlB29DRYNlI7Y3++ZzBvS/iG7De4Szi0mT4IwzwjSsIlJnxP5Ht01ub5lZJ2Ai\nMJcwL4bUQ4ft2IIbj9yBVmtXcPr/HueZ+89k++9mwP33w7PPwiablDpEESmA2C63M83sMMLESb2A\nPu7+94JGJmXvML7isIEXwbhxcOSR4XLUhhuWOiwRKaDYNo22wFvANOBQoKOZ9TezxoUMTsrUTz/B\nxRfD734HM2fCwIGhyKAShkidF3t56kXgP+5+mLsPBXYgVLudWLDIpDy99hq0bQvXXRcKDE6ZAocf\nXuqoRKRIYsuI/M7dp1U+cPcfgE5mdkhhwpKy8/334eyiRw9o1QpGjGBws2248Z5xGm8hUo9EnWm4\n+zQzW9XM9jCz45Kfq7r7kEIHKGVgxIjQjbZHjzC6e9IkBjfbhm5PTmTG3AU4oYxItycnMnjcjFJH\nKyIFFNumsRUwBegPnJX8fC9ZLnXVt9/C3/4G++0Ha6wRxl7cdhustRY3jnifBSmlQAAWLFrCjSPe\nL1GwIlIMsW0adxF6TW3s7ru6e0ugJ3B3wSKT0nriCdh6a+jfHy65JPSQ2m23X1bPzFCVNtNyEakb\nshmncUvazH23JstrZGYbm9nLZjbZzN41s7Or2MbM7HYzm2pm75jZbyNjk3yaNStMtXrUUdCyJbz1\nVpiKdfXVl9ssU1VaVasVqdtik8ZMYM+0ZX9IlsdYDJzn7m2A9sA/zKxN2jb7A5snt87oLKa43OG+\n+6BNGxg2LMzXPXp06ClVhfP33ZJGFQ2WW6ZqtSJ1X2zvqYuBIWY2FPgEaA0cCETNz+nus4BZyf3v\nzWwK0AKYnLLZocCDydnMG0mpko2S50ohffwxdO4ML7wAf/gD3HsvbLFFtU+p7CWlarUi9UvsiPAh\nZrYjcAzQHJgEdHf3D7LdoZltQig/MjptVQvgs5THnyfLlksaZtaZcCZCq1atst29pFqyJPSI6tYt\n1Ijq0QO6dImuF6VqtSL1T41Jw8waEAb37evuV6/MzsxsLWAgcI67f5fLa7h7L0KjPO3atfMaNpdM\npkyBTp3gf/+D/feHnj3D+AsRkWrU+JXS3ZcAm8ZsW52kQu5A4GF3f7KKTWYAG6c8bpksk3xatAiu\nuSa0Vbz/fpgoadgwJQwRiRKbCK4E7jaz1mbWwMxWqbzFPNnMDOgDTHH3WzJsNgQ4IelF1R6Yp/aM\nPBs7Ftq1g0svhcMOC2cbf/0rmNX8XBER4hvC701+pk77aoTpXhusuPkKdk+eO9HMxifLLgZaAbh7\nT2A4cAAwFfgROCkyNqnJggVwxRVw883wq1/BoEEhaaykwZq2VaTeiU0am67MTtz9VUKSqW4bB/6x\nMvuRKowaBaecAh9+GNowbroJGi9fnDiXD//B42bQ7cmJv4wKrywjAihxiNRhsbWnPnH3T4BPCWcB\nn6Ysk3L03Xdw+umw556weHHoTnvvvVUmjFxqSKmMiEj9FNsm0djM+gE/AV8CC8ysn5k1KWh0kpvh\nw0OBwZ494Z//hIkTYe+9q9w01w9/lRERqZ9iG8LvAxoRyoasRRhnsRrQt0BxSS6+/hqOPx4OPBDW\nXhtefx1uuQXWXDPjU3L98FcZEZH6KTZpdASOd/cp7v6ju08BTgQ6FCowyYI7PP54KAHy6KPQvTu8\n/Ta0b1/jU3P98N9rq2ZZLReRuiE2abwHbJK2rBWgC9ilNnMm/N//wTHHQOvWoVvtlVfCaqtFPT3X\nD/+X35ud1XIRqRtie0+9CDyXtGt8RhiE91egn5mdXLmRu+tyVbG4Q58+0LUrLFwIN94I55wDq8b+\nSYNcP/xnZLh8lWm5iNQNsZ8wuxLGT+ya3AA+AnZLbhDGbChpFMO0aXDqqfDSS6F31L33wm9+k9NL\n5dqm0cCMJb5iFZcGGigoUqfFFizcq9CByDIZx00sWQK33x4mRVp1VbjnnjAGIykwmMt4i+aNG1V5\ndlBTm0ZVCaO65SJSN0TXk0q63f7FzM5Pfq5XyMDqq0zjJl584iXYfXc491zo2BEmTw7lzFMSRi7j\nLc7fd0sqVln+7KBiFatxXoz11qjIarmI1A2x4zQ6AtMJ84P/DjgT+NjMqu78LzlLHzdRsWQRp458\niD2O3Rc++ihMv/r002FWvWqeB1kMtku/ohRxhSnTCYVONETqttg2jTuBzu7+eOUCMzsK6AFsVYjA\n6qvUtoTtZ33ADcNvY6uvP+Gprffk0P8OgGZV92rKtW3ixhHvs2jJ8p/0i5Y4N454v9pLW/MWLMpq\nuYjUDbGXp5oTypqnGgRsmN9wpHnjRqy+6CcufqkPg/p1Zd2f5tPpiMu44YTuGRNG5fOyWV5Jg/tE\nJBuxSaMfKxYTPA14ML/hyMmLp/Ns3zPp/NYgHt1hH/Y55S5e/M0uNY6byHXO7lw//HNtCxGR2i32\n8tSOQBczu4AwMVIL4FfAaDMbVbmRu++R/xDriXnz4IIL6NSrF9Mbb8Rxx17L/1pv/8vqmsZN5Dpn\n9/n7brlctVqISzZATm0hIlK7xSaN3slNCmHo0DA396xZ9Nr5cG75/Z/5qWL15TaJKQSYy5zduSab\nXNtCRKR2ix2n8UChA6mXZs+Gs8+GRx4JVWmffJIHXprPTzmMm4DcJ0XKJdmoyq1I/RRdc8LMNgB2\nBpqSciFCpUNy4B4SxVlnhXkvrrwSLroIGjbk/IoZOV0uGjxuBucPmMCipeHb/4y5Czh/wASgMJMi\n5TooUERqt9hxGocRyoZcBdxDGKdxD8tP/yoxPv8cDjkE/vIX+PWvQzXa7t2hYUMgfMBfd/h2tGjc\nCANaNG7EdYdvV+MH/xVD3v0lYVRatNS5Ysi7Bfk1cm14F5HaLfZM42rgJHcfYGZz3H1HMzsJ2Cbm\nyWbWFzgI+Mrdt61ifQfgKeDjZNGT7n5VZGy1w9Kl0Ls3nH9+mEnvllvCmUaDFadYz+Vy0dwM4yMy\nLV9ZubaFiEjtFps0Wrn7gLRlDwBfAF0jnn8/YYBgdV10X3H3gyLjqV2mTg0FBkeODCVAeveGzTbL\nuHmubRPFlktyE5HaLXacxldJmwbAdDPbFfg1sOLX5Cq4+yjg2xziq90WL4abboLttguXoXr3DnN1\n15AwcqkhpVpQIlIMsUmjN/D75P5/gJeBCcBdeYxlNzN7x8yeMbOMl73MrLOZjTGzMbNnl/GEPxMn\nwm67hctR++wTCgyecgrUUDo81xpSlx+8DRUN0gbbNTAuPzjqCqKISJTYLrf/Trn/oJmNBNZMpn3N\nh7cJl8Dmm9kBwGBg8wyx9AJ6AbRr1678yuMtXAjXXhtu660Xpl89+ugak0WlXLuyqo1BRIohujR6\nKnf/NI8JA3f/zt3nJ/eHAxVm1jRfr180b7wBv/0tXHUVHHtsOLs45pjohAGq6SQi5S2npJFvZrah\nWfhkNbOdCXF9U9qosvDDD2Gei912C+Muhg2Dfv0Y/NlCdr/+JTa9aBi7X/9Sje0SkHtX1lzbQkRE\nspHdhNI5MrNHgA5AUzP7HLgcqABw957AkcBpZrYYWAAc615LZmZ48cXQM+rjj+G00+D662GddX75\nEK9sn6j8EIfqB9utTFmPTG0hukQlIvmSMWmY2SHuPiS5X+HuOXf4d/fjalh/J6FLbu0xd25o5L73\nXth8c/jvf2GPZfUaV+ZDXGU9RKRcVXd56qGU+7XnUlExPPUUtGkDffvCBRfAhAnLJQwo/oe42kJE\npBiqSxpfmNkZyVSvq5rZXmbWMf1WrEDLwpdfhobtww4LEyKNHg3//jc0WvGDudgf4prfQkSKobo2\njRMJtabOBhoCVRUmdCDzSLW6wh0efjhUpJ0/H/71L7jwQqjIPHBupeapyJXmtxCRAst4puHur7v7\nH919c2C6u29axa3uJ4xPP4UDD4Tjj4ctt4Rx4+DSS6tNGBDaJY7YqQUNku62Dcw4YqfCld2obn4L\nEZF8iepy6+6/ATCzVma2q5ltXNiwysDSpXD33bDNNqGR+7bb4JVXQltGhMHjZjBw7AyWJJ3Alrgz\ncOyMgnWBVUO4iBRDbGn0Dc3sv8BU4EngIzMbZWbNCxpdqXzwAXToAKefDu3bw6RJGSvSZpJrOZBc\nqSFcRIohdnBfT0KtqfXcfSNgPWBcsrzuWLwYbrgBdtgh1I7q2xeeew423TTrlyr2N3/NbyEixRA7\nuO/3wEaVYzXc/QczuwCoO8ONJ0yAk08O1Wj/7/+gRw/YaKOcX67YM9up9pSIFENs0pgDtCGcbVTa\nEpib94iK7aef4OqrQ9fZJk1gwAA44ois6kVVpRS9pzS/hYgUWmzSuAF4wcz6AJ8ArYGTgMsKFVhR\nvP46dOoE770Hf/sb3HwzrL9+Xl5a3/xFpC6KLY3e28w+Av4MbA/MBP7s7i8WMriCmT8fLrkE7rgD\nNt4Ynn0W9t0377vJ9Zt/bZm5T0Tqn+iChe7+EvBSAWMpjuefh86dYfp0OOOMMO/F2muXOqpf5Fro\nUESkGMqiNHpRzJkTGrr32QdWWy2MubjjjrJKGFD8rroiItmoH0njySfDoLwHH4Ru3WD8ePj972t+\nXglokJ6IlLOizKdRMl98ES5BDRwIbduGyZF++9usX6aYbQzF7qorIpKNnM40zKyRma2W72Dyxh0e\neCCcXQwdGtot3nwz54RRzBnxNEhPRMpZbBmRm5JpWDGzA4FvgTlmdnAhg8vJJ5/A/vvDiSeGpDF+\nfLgkVUOBwUyK3cZw2I4tuO7w7WjRuBEGtGjciOsO306N4CJSFmIvT/0F6J7c7w78FZgH/Ad4ugBx\nZW/pUrjrLrjoovD4jjtC7ahVVq7ZphRtDBqkJyLlKvYTdQ13/9HM1gc2c/eB7v4CYZBfjcysr5l9\nZWaTMqw3M7vdzKaa2Ttmlt11pPfeCzPnnXlmaOB+993QlrGSCQNUCFBEJFXsp+oHZvYX4AzgeQAz\nawrEft2+H9ivmvX7A5snt87A3VGv6h7aK3bYASZPhvvvh2eegdZRuSyK2hhERJaJvTx1OnAb8DPQ\nKVm2L/BczJPdfZSZbVLNJocCD7q7A2+YWWMz28jdZ1X7wlOmhJHdRx4ZLkdtuGFMOFlRORARkWXM\n3WveKh87CkljqLtvW8W6ocD17v5q8vhF4EJ3H1PFtp0JZyMA2wJVXvIqM02Br0sdRATFmV+1Ic7a\nECMoznzb0t1zGtkcPU7DzLYEdgDWSl3u7lXNHV4w7t4L6JXENMbd2xVz/7lQnPmlOPOnNsQIijPf\nzGyFL+SxopKGmV1M6DU1AfgxZZUD+UgaM4DUKWRbUpfm6hARqSNizzTOAXZ293cKFMcQ4AwzexTY\nBZhXY3uGiIgUXWzSWAC8l+tOzOwRoAPQ1Mw+By4HKgDcvScwHDiAMAf5j4S5OmL0yjWmIlOc+aU4\n86c2xAiKM99yjjOqIdzMTgB2B64Avkxd5+5Lc925iIjULrFJozIxpG5sgLt7gyqeIiIidVDs5alN\nCxqFiIjUClEjwt39E3f/BPiMMMDvs5RlBVXwEiR5EhFnBzObZ2bjk1v3qrYrNDPb2MxeNrPJZvau\nmZ1dxTYlP6aRcZb0mJrZ6mb2pplNSGK8soptyuFYxsRZFu/PJJYGZjYuGb+Vvq7kxzMlluriLIvj\naWbTzWxiEkNV496yP57uXuMNWAd4kJAwlgILgQeAdWOevzI3YA/gt8CkDOsPAJ4hXC5rD4wudEw5\nxtmBMLix6LGlxbER8Nvk/trAB0CbcjumkXGW9Jgmx2et5H4FMBpoX4bHMibOsnh/JrGcC/SvKp5y\nOJ6RcZbF8QSmA02rWZ/18YytPXU7sCZhBHYjYDtgjWR5Qbn7KEIp9kx+KUHi7m8Ajc1so0LHlS4i\nzrLg7rPc/e3k/vfAFCC9JkrJj2lknCWVHJ/5ycOK5JbeSFgOxzImzrJgZi2BA4F7M2xS8uMJUXHW\nFlkfz9iksR9wvLt/4O4L3f0DQrfY6ooQFksLwmWzSp9TZh8uKXZLTgGfMbNtSh1MUtplR8I3z1Rl\ndUyriRNKfEyTSxTjga+A5929LI9lRJxQHu/PW4ELCFc0qlIWx5Oa44TyOJ4OvGBmYy2UYEqX9fGM\nTRo/Ac3SljUlXKaSOG8Drdx9e+AOYHApgzGztYCBwDnu/l0pY6lODXGW/Ji6+xJ3b0uoYrCzma1Q\nW60cRMRZ8mNpZgcBX7n72GLvOxuRcZb8eCZ+n/zd9wf+YWZ7rOwLxiaNe4HnzayLme1vZl2AEZTH\nQJZaUYLE3b+rvETg7sOBCgvl5YvOzCoIH8QPu/uTVWxSFse0pjjL6Zi6+1zgZVY8+y6LY1kpU5xl\ncix3Bw4xs+nAo0BHM3sobZtyOJ41xlkmxxN3n5H8/AoYBOyctkn2xzOyMcWAk4EXgMnJz04k4zyK\n0JizCZkbmA9k+YacN4sRUw5xblh5vJI/3KfFOn5V/C0fBG6tZpuSH9PIOEt6TAln342T+42AV4CD\nyvBYxsRZFu/PlHg6UHUDc8mPZ2ScJT+ehHbotVPuvw7st7LHM2qchodX70t+ihNmxQpXgqTYcR4J\nnGZmiwllWY5Njmux7Q4cD0xMrnEDXAy0Som1HI5pTJylPqYbAQ+YWQPCWfvj7j40ORMvp2MZE2ep\nj2VGZXg8q1SGx3MDYJCZQRiT19/dn13Z45lxRLiZHe/u/ZL7J2d6AS9yaXQRESmd6pLGcHc/ILn/\ncobnu7t3LFRwIiJSXoo2c5+IiNR+Ub2nzGxchuU5z/4kIiK1T2yX29+kL7DQurJZfsMREZFyVm3v\nKTN7MLnbMOV+pU2AdwsRlIiIlKeazjQ+Sm6p9z8idM96mFC3RGpgZldUMUipLJhZKzObn3THXJnX\nGWlmp+QrrmIxsxPN7NVSxwFgZm5mK5zVJ+s2MLNRZva9md1chFh2N7MPk/fGYYXcv4XKux3y/Jqb\nJMczdvqHgqmt/xuZVHtA3f1KADN7w91HFCek2sfM5qc8XINQXmVJ8vjvxY8os2QU6ynu/gKAu38K\nrFXSoCRGZ+BrYJ0i9fe/CrjT3W8DMLPL8rF/M7sf+NzdL61c5u4lr8Mm8WIH940ws4bAloSaU5ay\n7qUCxVZruPsvH7rpH8rJsiuKEYeZrerui4uxr9qolh+f1sDkXD6wc/y9W7P85eec91+bJW235prW\nepnI4ei/B2YRSn8vTn4uAqYVc1h8bbgR6tf/MW3ZFcDjhLIY3xP+GdulrG9OqLE0G/gYOCtl3WqE\nipozk9utwGrJug6EqpQXAl8A/ZLlBwHjgbmE0gHbJ8v7EapyLgDmE6p0bkKohLlqsk0T4L5kX3OA\nwcny9YChSYxzkvstU+IcSUiWVR2T+4GrUx53IHzbTD1m3QglauYk+1897Xe8mPBNdzrwl7TjcxOh\nTMOXQE+gUXXHJy22E4HXgDuBecB7wN5pf5shyXt+KnBqlr9XV+Cd5LUfq/y9kvXnE/6vZhLK9Djw\nmwzHbxFhPpv5wB/J4X1RxeueTCg5P4dQS651svwjln+fPFLF/lcBLkq2/Ybw/m6S9pnxOuE9+Fly\nnDunvc7Tqf8zybFekPY6OyZ/94rqYq7id9uE5d/XRyT72TZ53D4lvglAh7T38jXJ+2IBoSPQSOBf\nybLvgedImaci4vWq/N+ojbfYD8K3gH8m9+ckP7sDXUv9C5TbjcxJ4yfCcP0GwHXAG8m6VYCxyfFs\nSOiRNg3YN1l/FfAG8CtCDaHXgX8l6zoQkvi/CR8ijZJ/sq+AXZJ9/S2JabWq4qvin2sY4cNtPUIZ\nlD2T5esn/3hrECZFGkCSUJL1Gf8xiPtwnUQonNYk+ce8Ou13vCX5HfcEfgC2TNb/h/Ch3iSJ62ng\nukzHp4rYTky2+Wfy+x5D+IBvkqwfBdwFrA60JSTNjln8Xm8SPgybED7suiTr9iMkuW0JdYH6kyFp\nZNhXVu+LKl7vUEIS3JpwxeFS4PVM7+Mq9n92sv+WyT7uAR5J1rUmfLAelxzT9YG2Vb1O+r6Al1g+\nMd8I9IyJOe01N0mO56qE0hhTK48tofT3N4T/x1WAPyWPm6W8lz8FtkmeX5Es+wjYgvB/NhK4PovX\nq3dJYx6wSnK/Mmk0BGaU+hcot1v6P1uy7ArghZTHbYAFyf1dgE/Ttu8G3Jfc/wg4IGXdvsD05H4H\nwre21G+vd5N8eKQse59lH/7pHwap/1wbEb5hrhfxe7atfC8kjzP+Y6R/UFD1h2uXlMcHAB+lbLsY\nWDNl/ePAZYTLpD8Av05ZtyvwcabjU0VsJxK+qVvKsjcJda82JrRNrZ2y7jrg/ix+r7+mPL6BZR+A\nfUk+dJLHW5Bd0sjqfVHF6z0DdEp5vAqh9lDrDO+T9P1PYfkzso0IZxGrEt6/g2J+j/R9AacALyX3\njXCWskdMzGmvuUlyPLsSzmBTz4ovJO3si3DW8reU9/JVaetHApemPD4deDaL16szSSN2nMY8wpSv\nALPMrA3hm6gaUON9kXL/R2D1pGdHa6C5mc2tvBEuxWyQbNscSJ2L/ZNkWaXZ7v5TyuPWwHlpr7dx\n2nMy2Rj41t3npK8wszXM7B4z+8TMviN8A2+8sr2uUqROBJP+O85x9x+qWN+McOYzNuV3fZbl535J\nPz5VmeHJf3fa6zcnHI/v09ZlM+lP+t+98n+mOSv+ztnI9n2RrjVwW8px+5bwIR37u7UmFMOrfP4U\nQoLdgPA++qi6J1djILCrhdnj9iB8iXllJWI+H+jh7p+nxX5U2v/I7wmJr1Lq36ZSpr9lzOvVGbHd\n0Z4kfPvrT/iG9DLhW8UTBYqrPvmM8M148wzrZ7J8o2SrZFklT9v+M+Aad78mw+ulb5/+3CZm1tjD\nvAupziN0hNjF3b8ws7bAOFI6RVTjB8KHe6UNq9gmtaZ/+u+4npmtmZI4WhEuZ31NuOa8jSfzBlSh\nut+3Ugszs5TE0YpwyWsm4XisnZI4WrFsvoGY3yuTWaz4O2cj2/dFusr3ycNZ7jf1+Se7+2vpK8zs\nM1actyEqLnefY2bPES4Tbg08mvJ3ySXmfYBnzewLdx+Y8jr93P3U6kLJYh8xr1dnRJ1puPs57t4/\nuX8T4dr2qYRTSVk5bwLfm9mFZtbIwrSc25rZ75L1jwCXmlmzZBKX7kB1Yz56A13MbBcL1jSzA81s\n7WT9l2QYye/uswiXAO4ys/XMrMKWzfS1NuEDeq6ZNSGUfo81HjjAzJqY2YbAOVVs8w8za5m89iWE\ndpVUV5pZQzP7A6Ghf4CHHi29gf+Y2a8AzKyFme2bRWwQ2gXOSn7fowgfVsPd/TNCW8F1Zra6mW1P\nmEem8vjH/F6ZPA6caGZtzGwNsjuekP37Il1PoJsl05Ca2brJ757N868xs9bJ85uZWeW4rYeBP5rZ\n0Wa2qpmtn3zJgGrefyn6AycQyov3X8mY3yW0H/Uws0OSZQ8BB5vZvsn/2+pm1sHCvN+5yPfrlbXY\n2lO3pz5291fd/RlCI6SsBHdfQvgQbEvoOfU1YabEdZNNrgbGEHrgTCRMI3l1Na83hpDQ7yT0MJlK\nuG5f6TrCh81cM+taxUscTziLfI/QoF75QXgroQHwa0ID6LNZ/Jr9CD1KphN6naQnBAgfDs8ROgF8\nxPK/4xfJ7zKT8IHUxd3fS9ZdmPyObySXzV4gnBFlYzSwOeF3uwY40t2/SdYdR7g+PpMw89nlvqw7\ndczvVaXk/+dWQsPv1ORnNrJ6X1Sx/0GEhvJHk+M2iTAlaKzbCGdjz5nZ94T3xC7Ja39KuDJxHuES\n0nhgh+R5fYA2yfsv0xSoQwh/jy/cfcLKxpy8xkFAbzPbP/kycCjhMvBswpnC+cSXVUp//by+XrmL\nqnJrZt+5+zpVLP/G3dcvSGRSb1Q1tiVlXQfgIXevk9/aRGqbmmpPVU6+tKqtOBHTZoRvZiIiUk/U\n1BB+fPKzYcp9CI1EXxLGAIiISD0Re3nqak+pFSMiIvVTbEPNKDPbInWBmW1pZn8qQEwiIlKmYpNG\nD0JZgFTfJ8tFRKSeiL08Nc/d101bZsC8qnpViYhI3RR7pjHNzDqmLetAGFcgIiL1RGwZkSuAJ82s\nDy8Dho0AAAKSSURBVGHg1a8JlSNPKlBcIiJShqIuTwGY2c6EWvYbE0Y89nH3twoYm4iIlJnopCEi\nIhJbe2o1M7vGzKaZ2bxk2T5mdkZhwxMRkXIS2xD+H8IMY39hWcngd4HTChGUiIiUp9gut7MIM4r9\nYGbfunuTZPlcd29c6CBFRKQ8xJ5p/ExaTysza0aYB1dEROqJ2KQxAHjAzDYFSKZivBN4tFCBiYhI\n+YlNGhcTBvJNBBoDHxImpbmyQHGJiEgZyrrLbXJZ6mtXX10RkXonm8F9mwNHA80JZxmPu/uHBYxN\nRETKTOw4jT8D44DtgR+A7YC3k+UiIlJPxHa5nQac6O6jUpb9Aejn7psULjwRESknsUljNtDc3Rel\nLKsAZrp7swLGJyIiZSS299QtwLVmtjqAmTUCrkmWi4hIPRF7pvEZsCGhhMgcYD3AgFmp27l7qwLE\nKCIiZSJ2Po2/FjQKERGpFVaqNLqZVaS2c4iISN0W2+X2+aR0SOqy7YExBYlKRETKUmxD+NvABDM7\n2oKLgJHA3QWLTEREyk42I8L/ADxIaACfCZzg7lMLGJuIiJSZ2DMNgE2BdYDZwJrA6gWJSEREylZs\nm8YThEq3+7n774BewCgzO7+QwYmISHmJPdP4CtjR3d8CcPceQHvgyEIFJiIi5Wdlu9w2cPcleYxH\nRETKWLVnGmZ2e9rjTmmbPJ73iEREpGxVe6ZhZt+5+zopj7919yaZ1ouISN1WU5uG1fBYRETqkZqS\nRvppiKZ4FRGpx2oqWLiqme3FsjOM9McNChaZiIiUnZraNKZTw9mFu2+a55hERKRMrVSXWxERqV+y\nKSMiIiL1nJKGiIhE+//26kAAAAAAQJC/9QoDlETSAGCTBgCbNADYAlz6maSIpB6rAAAAAElFTkSu\nQmCC\n",
      "text/plain": [
       "<matplotlib.figure.Figure at 0x1118bdac8>"
      ]
     },
     "metadata": {},
     "output_type": "display_data"
    }
   ],
   "source": [
    "theoretical_effective_kernel_error_bound_list = from_p_eff_to_error_bound_2(flattened_p_eff_list,k,real_dim)\n",
    "\n",
    "\n",
    "fig, ax = plt.subplots()\n",
    "\n",
    "line = mlines.Line2D([0, 1], [0, 1], color='red')\n",
    "transform = ax.transAxes\n",
    "line.set_transform(transform)\n",
    "ax.add_line(line)\n",
    "\n",
    "plt.scatter(theoretical_effective_kernel_error_bound_list,effective_kernel_fro_list)\n",
    "plt.scatter(theoretical_effective_kernel_error_bound_list,volume_sampling_fro_list)\n",
    "plt.xlim(1, 5)\n",
    "plt.ylim(1, 5)\n",
    "#plt.scatter(border_array,border_array)\n",
    "plt.xlabel('Theoretical upper bound for effective kernel', fontsize=12)\n",
    "plt.ylabel('Expectations of approximation error using effective kernel ', fontsize=12)\n",
    "plt.show()"
   ]
  },
  {
   "cell_type": "code",
   "execution_count": null,
   "metadata": {
    "collapsed": true
   },
   "outputs": [],
   "source": []
  },
  {
   "cell_type": "markdown",
   "metadata": {},
   "source": [
    "### The case k = 3, projection spectrum, non constant spectrum after k+1"
   ]
  },
  {
   "cell_type": "code",
   "execution_count": 573,
   "metadata": {
    "collapsed": true
   },
   "outputs": [],
   "source": [
    "T = 8 # The number of experiments\n",
    "versions_number = 3 \n",
    "k = 3\n",
    "emperical_results = np.zeros((versions_number*T,4))\n",
    "\n",
    "volume_sampling_fro_list = []\n",
    "projection_dpp_fro_list = []\n",
    "p_eff_list = []\n",
    "cardinal_list = []\n",
    "cov_1 = np.diag(np.concatenate(([100,100,100,10,5,1],cov_test)))\n",
    "static_list = list(range(10,21))\n"
   ]
  },
  {
   "cell_type": "code",
   "execution_count": 574,
   "metadata": {},
   "outputs": [
    {
     "name": "stdout",
     "output_type": "stream",
     "text": [
      "t\n",
      "0\n",
      "next\n",
      "t\n",
      "1\n",
      "next\n",
      "t\n",
      "2\n",
      "next\n",
      "t\n",
      "3\n",
      "next\n",
      "t\n",
      "4\n",
      "next\n",
      "t\n",
      "5\n",
      "next\n",
      "t\n",
      "6\n",
      "next\n",
      "t\n",
      "7\n",
      "next\n"
     ]
    }
   ],
   "source": [
    "volume_sampling_fro_list = []\n",
    "projection_dpp_fro_list = []\n",
    "effective_kernel_fro_list = []\n",
    "p_eff_list = []\n",
    "cardinal_list = []\n",
    "for t in range(T):\n",
    "    print(\"t\")\n",
    "    print(t)\n",
    "    random_cardinal_list = list(np.random.choice(static_list, 3))\n",
    "    NAL_1 = Numrerical_Analysis_DPP(N,real_dim,r,k,versions_number,mean,cov_1,lv_scores_vector,random_cardinal_list)\n",
    "\n",
    "\n",
    "    projection_DPP_res_fro_1 = NAL_1.get_expected_error_fro_for_projection_DPP()\n",
    "    volume_sampling_res_fro_1 = NAL_1.get_expected_error_fro_for_volume_sampling()\n",
    "    effective_kernel_sampling_res_fro_1 = NAL_1.get_expected_error_fro_for_effective_kernel_sampling()\n",
    "\n",
    "#    upper_tight_bound_projection_DPP_res_fro_1 = NAL_1.get_tight_upper_bound_error_fro_for_projection_DPP()\n",
    "\n",
    "#    alpha_sum_res_1 = NAL_1.get_alpha_sum_k_leverage_scores(1)\n",
    "\n",
    "\n",
    "#    sum_U_res_1 = NAL_1.get_sum_k_leverage_scores()\n",
    "    p_eff_res_1 = NAL_1.get_p_eff_leverage_scores()\n",
    "    \n",
    "    effective_kernel_fro_list.append(list(effective_kernel_sampling_res_fro_1))\n",
    "    \n",
    "    volume_sampling_fro_list.append(list(volume_sampling_res_fro_1))\n",
    "    projection_dpp_fro_list.append(list(projection_DPP_res_fro_1))\n",
    "    p_eff_list.append(list(p_eff_res_1))\n",
    "    cardinal_list.append(random_cardinal_list) \n",
    "    print(\"next\")\n"
   ]
  },
  {
   "cell_type": "code",
   "execution_count": 575,
   "metadata": {
    "collapsed": true
   },
   "outputs": [],
   "source": [
    "flattened_cardinal_list= [item for items in cardinal_list for item in items]\n",
    "flattened_p_eff_list= [item for items in p_eff_list for item in items]\n"
   ]
  },
  {
   "cell_type": "code",
   "execution_count": 577,
   "metadata": {},
   "outputs": [
    {
     "data": {
      "image/png": "iVBORw0KGgoAAAANSUhEUgAAAY0AAAFsCAYAAAAwv+X2AAAABHNCSVQICAgIfAhkiAAAAAlwSFlz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\niEg0FRoiIhJNhYaIiERToSEiItH+H6api0brCYB2AAAAAElFTkSuQmCC\n",
      "text/plain": [
       "<matplotlib.figure.Figure at 0x1112f40b8>"
      ]
     },
     "metadata": {},
     "output_type": "display_data"
    }
   ],
   "source": [
    "theoretical_projection_DPP_error_bound_list = from_p_eff_to_error_bound(flattened_cardinal_list,k,real_dim)\n",
    "\n",
    "\n",
    "\n",
    "fig, ax = plt.subplots()\n",
    "\n",
    "line = mlines.Line2D([0, 1], [0, 1], color='red')\n",
    "transform = ax.transAxes\n",
    "line.set_transform(transform)\n",
    "ax.add_line(line)\n",
    "\n",
    "plt.xlim(1, 5)\n",
    "plt.ylim(1, 5)\n",
    "\n",
    "\n",
    "plt.scatter(theoretical_projection_DPP_error_bound_list,projection_dpp_fro_list )\n",
    "plt.scatter(theoretical_projection_DPP_error_bound_list,volume_sampling_fro_list)\n",
    "#plt.scatter(border_array,border_array)\n",
    "plt.xlabel('Theoretical upper bound for projection DPP', fontsize=12)\n",
    "plt.ylabel('Expectations of approximation error using projection DPP ', fontsize=12)\n",
    "plt.show()\n"
   ]
  },
  {
   "cell_type": "code",
   "execution_count": 578,
   "metadata": {
    "scrolled": false
   },
   "outputs": [
    {
     "data": {
      "image/png": "iVBORw0KGgoAAAANSUhEUgAAAY0AAAFyCAYAAAAJY4YdAAAABHNCSVQICAgIfAhkiAAAAAlwSFlz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\ngg==\n",
      "text/plain": [
       "<matplotlib.figure.Figure at 0x1110ae7b8>"
      ]
     },
     "metadata": {},
     "output_type": "display_data"
    }
   ],
   "source": [
    "theoretical_effective_kernel_error_bound_list = from_p_eff_to_error_bound_2(flattened_p_eff_list,k,real_dim)\n",
    "\n",
    "\n",
    "fig, ax = plt.subplots()\n",
    "\n",
    "line = mlines.Line2D([0, 1], [0, 1], color='red')\n",
    "transform = ax.transAxes\n",
    "line.set_transform(transform)\n",
    "ax.add_line(line)\n",
    "\n",
    "plt.scatter(theoretical_effective_kernel_error_bound_list,effective_kernel_fro_list)\n",
    "plt.scatter(theoretical_effective_kernel_error_bound_list,volume_sampling_fro_list)\n",
    "plt.xlim(1, 5)\n",
    "plt.ylim(1, 5)\n",
    "#plt.scatter(border_array,border_array)\n",
    "plt.xlabel('Theoretical upper bound for effective kernel', fontsize=12)\n",
    "plt.ylabel('Expectations of approximation error using effective kernel ', fontsize=12)\n",
    "plt.show()"
   ]
  },
  {
   "cell_type": "code",
   "execution_count": null,
   "metadata": {
    "collapsed": true
   },
   "outputs": [],
   "source": []
  }
 ],
 "metadata": {
  "kernelspec": {
   "display_name": "Python [default]",
   "language": "python",
   "name": "python3"
  },
  "language_info": {
   "codemirror_mode": {
    "name": "ipython",
    "version": 3
   },
   "file_extension": ".py",
   "mimetype": "text/x-python",
   "name": "python",
   "nbconvert_exporter": "python",
   "pygments_lexer": "ipython3",
   "version": "3.5.2"
  }
 },
 "nbformat": 4,
 "nbformat_minor": 2
}
